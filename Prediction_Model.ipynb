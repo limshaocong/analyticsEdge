{
  "nbformat": 4,
  "nbformat_minor": 0,
  "metadata": {
    "colab": {
      "name": "Prediction Model.ipynb",
      "provenance": [],
      "collapsed_sections": [],
      "machine_shape": "hm",
      "authorship_tag": "ABX9TyP/LbLK28onXsjsAwu04zet",
      "include_colab_link": true
    },
    "kernelspec": {
      "name": "ir",
      "display_name": "R"
    },
    "language_info": {
      "name": "R"
    }
  },
  "cells": [
    {
      "cell_type": "markdown",
      "metadata": {
        "id": "view-in-github",
        "colab_type": "text"
      },
      "source": [
        "<a href=\"https://colab.research.google.com/github/limshaocong/analyticsEdge/blob/main/Prediction_Model.ipynb\" target=\"_parent\"><img src=\"https://colab.research.google.com/assets/colab-badge.svg\" alt=\"Open In Colab\"/></a>"
      ]
    },
    {
      "cell_type": "code",
      "metadata": {
        "id": "rGZtp4YpTych",
        "colab": {
          "base_uri": "https://localhost:8080/"
        },
        "outputId": "1dc43d47-0c9d-4ffe-9c87-a8040bd8f9fa"
      },
      "source": [
        "suppressMessages(library(tidyverse)) # generic must have package\n",
        "library(dplyr)\n",
        "library(ggplot2) # plotting package\n",
        "library(lubridate) # easy comprehension of dates from string to correct datetime format\n",
        "library(data.table)\n",
        "library(purrr) # reduce\n",
        "if(\"caret\" %in% rownames(installed.packages()) == FALSE) {install.packages(\"caret\")}\n",
        "library(caret)\n",
        "if(\"psych\" %in% rownames(installed.packages()) == FALSE) {install.packages(\"psych\")}\n",
        "library(psych) # unscaling\n",
        "if(\"padr\" %in% rownames(installed.packages()) == FALSE) {install.packages(\"padr\")}\n",
        "library(padr)\n",
        "if(\"janitor\" %in% rownames(installed.packages()) == FALSE) {install.packages(\"janitor\")}\n",
        "library(janitor)\n",
        "\n",
        "options(repr.plot.width = 9,\n",
        "        repr.plot.height = 6,\n",
        "        repr.plot.pointsize = 20)"
      ],
      "execution_count": 121,
      "outputs": [
        {
          "output_type": "stream",
          "name": "stderr",
          "text": [
            "Installing package into ‘/usr/local/lib/R/site-library’\n",
            "(as ‘lib’ is unspecified)\n",
            "\n",
            "also installing the dependencies ‘listenv’, ‘parallelly’, ‘future’, ‘globals’, ‘future.apply’, ‘progressr’, ‘numDeriv’, ‘SQUAREM’, ‘lava’, ‘prodlim’, ‘proxy’, ‘iterators’, ‘gower’, ‘ipred’, ‘timeDate’, ‘e1071’, ‘foreach’, ‘ModelMetrics’, ‘plyr’, ‘pROC’, ‘recipes’, ‘reshape2’\n",
            "\n",
            "\n",
            "Loading required package: lattice\n",
            "\n",
            "\n",
            "Attaching package: ‘caret’\n",
            "\n",
            "\n",
            "The following object is masked from ‘package:purrr’:\n",
            "\n",
            "    lift\n",
            "\n",
            "\n"
          ]
        }
      ]
    },
    {
      "cell_type": "code",
      "metadata": {
        "id": "NpQJnH0ya850"
      },
      "source": [
        "# Functions to pull data\n",
        "\n",
        "git.path = \"https://raw.githubusercontent.com/limshaocong/analyticsEdge/main/Datasets/\"\n",
        "\n",
        "# Prices\n",
        "# Source: CRSP\n",
        "\n",
        "price.path = \"CRSP_WRDS/crsp_daily_stock_price_2020.csv\"\n",
        "\n",
        "get.prices <- function(tickerlist) {\n",
        "\n",
        "  path = paste0(git.path, price.path)\n",
        "\n",
        "  df = read.csv(path) %>%\n",
        "    filter(ticker %in% tickerlist) %>%\n",
        "    mutate(date = ymd(date)) %>%\n",
        "    rename(low = BIDLO,\n",
        "          high = ASKHI,\n",
        "          open = OPENPRC,\n",
        "          close = PRC,\n",
        "          vol = VOL,\n",
        "          Ntrades = NUMTRD) %>%\n",
        "    select(ticker, date, open, close, high, low, vol, Ntrades) %>%\n",
        "    mutate(change = close - open,\n",
        "          dayspread = high - low,\n",
        "          averagetrade = vol/Ntrades)\n",
        "}\n",
        "\n",
        "# Twitter Sentiment Analysis\n",
        "# Source: Open source\n",
        "# Scrapped by snscrape\n",
        "# Sentiment Analysis by BERT - zer0-shot, multilingual, sentiment model\n",
        "\n",
        "twtr.path = \"Imputed/twitter_sa.csv\"\n",
        "\n",
        "get.twitter.sa <- function (tickerlist){\n",
        "  path = paste0(git.path, twtr.path)\n",
        "  \n",
        "  df = read.csv(path) %>%\n",
        "    filter(ticker %in% tickerlist) %>%\n",
        "    mutate(date = as.Date(date, format = \"%m/%d/%y\")) %>%\n",
        "    rename(twtrmentions = mentions)\n",
        "}\n",
        "\n",
        "# r/wsb Sentiment Analysis\n",
        "# Source: Quiver Quant\n",
        "# Sentiment based on VADER sentiment\n",
        "\n",
        "wsb.path = \"Imputed/wsb_imputed_min0.csv\"\n",
        "\n",
        "get.wsb.sa <- function(tickerlist){\n",
        "\n",
        "  path = paste0(git.path, wsb.path)\n",
        "\n",
        "  df = read.csv(path) %>%\n",
        "    filter(Ticker %in% tickerlist) %>%\n",
        "    mutate(date = ymd(Date)) %>%\n",
        "    pad(start_val = as.Date('2020-01-01'), end_val = as.Date('2020-12-31')) %>%\n",
        "    select(Ticker, Date, Mentions, log10Mentions, Sentiment) %>%\n",
        "    rename(wsbsentiment = Sentiment,\n",
        "          wsbmentions = Mentions,\n",
        "          wsblog10mentions = log10Mentions) %>%\n",
        "    rename_with(tolower)\n",
        "}\n",
        "\n",
        "# News Sentiment - Dow Jones + Global Press\n",
        "\n",
        "pr.path = \"Imputed/rp_imputed_min1000.csv\"\n",
        "\n",
        "get.news.sa <- function(tickerlist){\n",
        "\n",
        "  path = paste0(git.path, pr.path)\n",
        "\n",
        "  df = read.csv(path) %>%\n",
        "    filter(Date >= as.Date(\"2020-01-01\") & Date <= as.Date(\"2020-12-31\")) %>%\n",
        "    filter(ticker %in% tickerlist) %>%\n",
        "    mutate(date = ymd(Date)) %>%\n",
        "    rowwise() %>%\n",
        "    mutate(newssentiment = mean(DJ_mean_ess * DJ_news_instance, PR_mean_ess * PR_news_instance)/All_news_instance) %>%\n",
        "    replace(is.na(.), 0) %>%\n",
        "    mutate(newssentiment = (newssentiment-50)/100) %>%\n",
        "    select(ticker, Date, All_news_instance, newssentiment, log10Allmentions) %>%\n",
        "    rename(newsmentions = All_news_instance,\n",
        "          newslog10mentions = log10Allmentions) %>%\n",
        "    rename_with(tolower)\n",
        "}\n",
        "\n",
        "# Compile all data\n",
        "# Left join to prices df retaining only trading days\n",
        "\n",
        "get.all.data <- function(tickerlist) {\n",
        "\n",
        "  prices = get.prices(tickerlist)\n",
        "  prices$date = as.Date(prices$date)\n",
        "\n",
        "  wsb.sa = get.wsb.sa(tickerlist)\n",
        "  wsb.sa$date = as.Date(wsb.sa$date)\n",
        "\n",
        "  news.sa = get.news.sa(tickerlist)\n",
        "  news.sa$date = as.Date(news.sa$date)\n",
        "\n",
        "  twitter.sa = get.twitter.sa(tickerlist)\n",
        "  twitter.sa$date = as.Date(twitter.sa$date)\n",
        "\n",
        "  df = list(prices, wsb.sa, news.sa, twitter.sa) %>%\n",
        "            reduce(left_join, by = c(\"ticker\", \"date\"))\n",
        "}"
      ],
      "execution_count": 5,
      "outputs": []
    },
    {
      "cell_type": "code",
      "metadata": {
        "colab": {
          "base_uri": "https://localhost:8080/"
        },
        "id": "TOrrajOTA0KY",
        "outputId": "ab26b523-9cd0-483e-f81c-e65f453ec3b2"
      },
      "source": [
        "tickerlist = list(\"AAPL\", \"TSLA\", \"MSFT\")\n",
        "\n",
        "imported_df = get.all.data(tickerlist) %>%\n",
        "  arrange(ticker, date)"
      ],
      "execution_count": 128,
      "outputs": [
        {
          "output_type": "stream",
          "name": "stderr",
          "text": [
            "pad applied on the interval: day\n",
            "\n"
          ]
        }
      ]
    },
    {
      "cell_type": "markdown",
      "metadata": {
        "id": "POZ2u8ip_cAx"
      },
      "source": [
        "# **(Slight) Feature Engineering**"
      ]
    },
    {
      "cell_type": "code",
      "metadata": {
        "id": "hS7NpoSl0R_-"
      },
      "source": [
        "# Add in target variable\n",
        "\n",
        "df = imported_df %>%\n",
        "  group_by(ticker) %>%\n",
        "  mutate(target = lead(close, n = 1, default = NA)) %>% # target using by taking the $close of the next period\n",
        "  mutate(prevclose1 = lag(close, n = 1, default = NA), # additional variables by lagging earlier $close\n",
        "         prevclose2 = lag(close, n = 2, default = NA), # in log2 scale, kaggle trick\n",
        "         prevclose4 = lag(close, n = 4, default = NA),\n",
        "         prevclose8 = lag(close, n = 8, default = NA)) %>%\n",
        "  mutate(prevwsbsentiment1 = lag(wsbsentiment, n = 1, default = NA), # additional variables by lagging earlier $wsbsentiment\n",
        "         prevwsbsentiment2 = lag(wsbsentiment, n = 2, default = NA), # in log2 scale, kaggle trick\n",
        "         prevwsbsentiment4 = lag(wsbsentiment, n = 4, default = NA),\n",
        "         prevwsbsentiment8 = lag(wsbsentiment, n = 8, default = NA)) %>%\n",
        "  mutate(prevnewssentiment1 = lag(newssentiment, n = 1, default = NA), # additional variables by lagging earlier $newssentiment\n",
        "         prevnewssentiment2 = lag(newssentiment, n = 2, default = NA), # in log2 scale, kaggle trick\n",
        "         prevnewssentiment4 = lag(newssentiment, n = 4, default = NA),\n",
        "         prevnewssentiment8 = lag(newssentiment, n = 8, default = NA)) %>%\n",
        "  mutate(prevtwtrsentiment1 = lag(twtrsentiment, n = 1, default = NA), # additional variables by lagging earlier $twtrsentiment\n",
        "         prevtwtrsentiment2 = lag(twtrsentiment, n = 2, default = NA), # in log2 scale, kaggle trick\n",
        "         prevtwtrsentiment4 = lag(twtrsentiment, n = 4, default = NA),\n",
        "         prevtwtrsentiment8 = lag(twtrsentiment, n = 8, default = NA)) %>%\n",
        "  na.omit %>%\n",
        "  as.data.frame()"
      ],
      "execution_count": 129,
      "outputs": []
    },
    {
      "cell_type": "code",
      "metadata": {
        "id": "jHztBLqs_-BZ"
      },
      "source": [
        "# Do scaling of all variables\n",
        "# Retain means and sd for unscaling of data\n",
        "\n",
        "scaling.mean = colMeans(df[sapply(df, is.numeric)])\n",
        "scaling.sd = sapply(df[sapply(df, is.numeric)], sd)\n",
        "\n",
        "df[map_lgl(df, is.numeric)] = df %>%\n",
        "                              select(is.numeric) %>%\n",
        "                              scale(center = scaling.mean, scale = scaling.sd)"
      ],
      "execution_count": 130,
      "outputs": []
    },
    {
      "cell_type": "code",
      "metadata": {
        "id": "eZ_fcw8dtFDp"
      },
      "source": [
        "# One-hot encoding for ticker\n",
        "\n",
        "dummy = dummyVars(\" ~ .\", data = df)\n",
        "df = data.frame(predict(dummy, newdata = df))"
      ],
      "execution_count": 131,
      "outputs": []
    },
    {
      "cell_type": "markdown",
      "metadata": {
        "id": "D3Fxot2M_iYD"
      },
      "source": [
        "# **Train-Test Split**\n",
        "\n",
        "\n",
        "*   Rework with sliding window or expanding window\n",
        "\n"
      ]
    },
    {
      "cell_type": "code",
      "metadata": {
        "id": "_Au4rwfU9cOq"
      },
      "source": [
        "# Train-test split\n",
        "split = sort(sample(nrow(df), nrow(df)*.8))\n",
        "train = df[split,]\n",
        "test = df[-split,]"
      ],
      "execution_count": 138,
      "outputs": []
    },
    {
      "cell_type": "markdown",
      "metadata": {
        "id": "Vbh1sg88FzNq"
      },
      "source": [
        "# **Model Building and Selection**"
      ]
    },
    {
      "cell_type": "code",
      "metadata": {
        "id": "P2sTcfd9_w02",
        "outputId": "3088a826-4d5f-4df1-b779-3023b2d7ff98",
        "colab": {
          "base_uri": "https://localhost:8080/"
        }
      },
      "source": [
        "library(rpart)\n",
        "if(\"rpart.plot\" %in% rownames(installed.packages()) == FALSE) {install.packages(\"rpart.plot\")}\n",
        "library(rpart.plot)\n",
        "if(\"Metrics\" %in% rownames(installed.packages()) == FALSE) {install.packages(\"Metrics\")}\n",
        "library(Metrics)"
      ],
      "execution_count": 151,
      "outputs": [
        {
          "output_type": "stream",
          "name": "stderr",
          "text": [
            "Installing package into ‘/usr/local/lib/R/site-library’\n",
            "(as ‘lib’ is unspecified)\n",
            "\n",
            "\n",
            "Attaching package: ‘Metrics’\n",
            "\n",
            "\n",
            "The following objects are masked from ‘package:caret’:\n",
            "\n",
            "    precision, recall\n",
            "\n",
            "\n"
          ]
        }
      ]
    },
    {
      "cell_type": "code",
      "metadata": {
        "id": "u36QhAbA_9d_",
        "outputId": "86a33572-26ce-4f22-c7a8-d9ba3a95d855",
        "colab": {
          "base_uri": "https://localhost:8080/",
          "height": 377
        }
      },
      "source": [
        "cart.mod = rpart(target ~ . - date,\n",
        "                data = train,\n",
        "                cp = 0.0000000001)\n",
        "prp(cart.mod, digits = 3, tweak = 1)"
      ],
      "execution_count": 145,
      "outputs": [
        {
          "output_type": "display_data",
          "data": {
            "image/png": "[encoded data removed]",
            "text/plain": [
              "plot without title"
            ]
          },
          "metadata": {
            "image/png": {
              "width": 540,
              "height": 360
            }
          }
        }
      ]
    },
    {
      "cell_type": "code",
      "metadata": {
        "id": "AYNVWtb_A0Cz",
        "outputId": "c8e002a6-9296-430b-bb3e-3907a6f5ce3d",
        "colab": {
          "base_uri": "https://localhost:8080/",
          "height": 34
        }
      },
      "source": [
        "test$pred = predict(object = cart.mod, newdata = test)\n",
        "\n",
        "\n",
        "rmse(test$pred, test$target)"
      ],
      "execution_count": 152,
      "outputs": [
        {
          "output_type": "display_data",
          "data": {
            "text/plain": [
              "[1] 0.09501733"
            ],
            "text/latex": "0.0950173281232538",
            "text/markdown": "0.0950173281232538",
            "text/html": [
              "0.0950173281232538"
            ]
          },
          "metadata": {}
        }
      ]
    }
  ]
}