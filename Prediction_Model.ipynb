{
  "nbformat": 4,
  "nbformat_minor": 0,
  "metadata": {
    "colab": {
      "name": "Prediction Model.ipynb",
      "provenance": [],
      "collapsed_sections": [],
      "machine_shape": "hm",
      "authorship_tag": "ABX9TyPxuSU9ibOc2aoFyPI8rGHm",
      "include_colab_link": true
    },
    "kernelspec": {
      "name": "ir",
      "display_name": "R"
    },
    "language_info": {
      "name": "R"
    }
  },
  "cells": [
    {
      "cell_type": "markdown",
      "metadata": {
        "id": "view-in-github",
        "colab_type": "text"
      },
      "source": [
        "<a href=\"https://colab.research.google.com/github/limshaocong/analyticsEdge/blob/main/Prediction_Model.ipynb\" target=\"_parent\"><img src=\"https://colab.research.google.com/assets/colab-badge.svg\" alt=\"Open In Colab\"/></a>"
      ]
    },
    {
      "cell_type": "markdown",
      "metadata": {
        "id": "MccVkK9lL0gk"
      },
      "source": [
        "# **Libraries & Data Import Functions**"
      ]
    },
    {
      "cell_type": "code",
      "metadata": {
        "id": "rGZtp4YpTych"
      },
      "source": [
        "suppressMessages(library(tidyverse)) # generic must have package\n",
        "library(dplyr)\n",
        "library(ggplot2) # plotting package\n",
        "library(lubridate) # easy comprehension of dates from string to correct datetime format\n",
        "library(data.table)\n",
        "library(purrr) # reduce\n",
        "if(\"caret\" %in% rownames(installed.packages()) == FALSE) {install.packages(\"caret\")}\n",
        "library(caret)\n",
        "if(\"psych\" %in% rownames(installed.packages()) == FALSE) {install.packages(\"psych\")}\n",
        "library(psych) # unscaling\n",
        "if(\"padr\" %in% rownames(installed.packages()) == FALSE) {install.packages(\"padr\")}\n",
        "library(padr)\n",
        "if(\"janitor\" %in% rownames(installed.packages()) == FALSE) {install.packages(\"janitor\")}\n",
        "library(janitor)\n",
        "\n",
        "options(repr.plot.width = 9,\n",
        "        repr.plot.height = 6,\n",
        "        repr.plot.pointsize = 20)"
      ],
      "execution_count": 270,
      "outputs": []
    },
    {
      "cell_type": "markdown",
      "metadata": {
        "id": "ObbT3AdLPSAK"
      },
      "source": [
        "Using the following functions to extract the daily trading data, twitter sentiment analysis, r/wsb sentiment analysis and news sentiment analysis. Thereafter, left-joining the data to daily trading data by ticker-date pairs to reduce the entire dataset down to trading days only."
      ]
    },
    {
      "cell_type": "code",
      "metadata": {
        "id": "NpQJnH0ya850"
      },
      "source": [
        "git.path = \"https://raw.githubusercontent.com/limshaocong/analyticsEdge/main/Datasets/\"\n",
        "\n",
        "# Prices\n",
        "# Source: CRSP\n",
        "\n",
        "price.path = \"CRSP_WRDS/crsp_daily_stock_price_2020.csv\"\n",
        "\n",
        "get.prices <- function(tickerlist) {\n",
        "\n",
        "  path = paste0(git.path, price.path)\n",
        "\n",
        "  df = read.csv(path) %>%\n",
        "    filter(ticker %in% tickerlist) %>%\n",
        "    mutate(date = ymd(date)) %>%\n",
        "    rename(low = BIDLO,\n",
        "          high = ASKHI,\n",
        "          open = OPENPRC,\n",
        "          close = PRC,\n",
        "          vol = VOL,\n",
        "          Ntrades = NUMTRD) %>%\n",
        "    select(ticker, date, open, close, high, low, vol) %>%\n",
        "    mutate(change = close - open,\n",
        "          dayspread = high - low)\n",
        "}\n",
        "\n",
        "# Twitter Sentiment Analysis\n",
        "# Source: Open source\n",
        "# Scrapped by snscrape\n",
        "# Sentiment Analysis by BERT - zer0-shot, multilingual, sentiment model\n",
        "\n",
        "twtr.path = \"Imputed/twitter_sa.csv\"\n",
        "\n",
        "get.twitter.sa <- function (tickerlist){\n",
        "  path = paste0(git.path, twtr.path)\n",
        "  \n",
        "  df = read.csv(path) %>%\n",
        "    filter(ticker %in% tickerlist) %>%\n",
        "    mutate(date = as.Date(date, format = \"%m/%d/%y\")) %>%\n",
        "    rename(twtrmentions = mentions)\n",
        "}\n",
        "\n",
        "# r/wsb Sentiment Analysis\n",
        "# Source: Quiver Quant\n",
        "# Sentiment based on VADER sentiment\n",
        "\n",
        "wsb.path = \"Imputed/wsb_imputed_min0.csv\"\n",
        "\n",
        "get.wsb.sa <- function(tickerlist){\n",
        "\n",
        "  path = paste0(git.path, wsb.path)\n",
        "\n",
        "  df = read.csv(path) %>%\n",
        "    filter(Ticker %in% tickerlist) %>%\n",
        "    mutate(date = ymd(Date)) %>%\n",
        "    pad(start_val = as.Date('2020-01-01'), end_val = as.Date('2020-12-31')) %>%\n",
        "    select(Ticker, Date, Mentions, log10Mentions, Sentiment) %>%\n",
        "    rename(wsbsentiment = Sentiment,\n",
        "          wsbmentions = Mentions,\n",
        "          wsblog10mentions = log10Mentions) %>%\n",
        "    rename_with(tolower)\n",
        "}\n",
        "\n",
        "# News Sentiment - Dow Jones + Global Press\n",
        "\n",
        "pr.path = \"Imputed/rp_imputed_min500.csv\"\n",
        "\n",
        "get.news.sa <- function(tickerlist){\n",
        "\n",
        "  path = paste0(git.path, pr.path)\n",
        "\n",
        "  df = read.csv(path) %>%\n",
        "    filter(Date >= as.Date(\"2020-01-01\") & Date <= as.Date(\"2020-12-31\")) %>%\n",
        "    filter(ticker %in% tickerlist) %>%\n",
        "    mutate(date = ymd(Date)) %>%\n",
        "    rowwise() %>%\n",
        "    mutate(newssentiment = mean(DJ_mean_ess * DJ_news_instance, PR_mean_ess * PR_news_instance)/All_news_instance) %>%\n",
        "    replace(is.na(.), 0) %>%\n",
        "    mutate(newssentiment = (newssentiment-50)/100) %>%\n",
        "    select(ticker, Date, All_news_instance, newssentiment, log10Allmentions) %>%\n",
        "    rename(newsmentions = All_news_instance,\n",
        "          newslog10mentions = log10Allmentions) %>%\n",
        "    rename_with(tolower)\n",
        "}\n",
        "\n",
        "# Compile all data\n",
        "# Left join to prices df retaining only trading days\n",
        "\n",
        "get.all.data <- function(tickerlist) {\n",
        "\n",
        "  prices = get.prices(tickerlist)\n",
        "  prices$date = as.Date(prices$date)\n",
        "\n",
        "  wsb.sa = get.wsb.sa(tickerlist)\n",
        "  wsb.sa$date = as.Date(wsb.sa$date)\n",
        "\n",
        "  news.sa = get.news.sa(tickerlist)\n",
        "  news.sa$date = as.Date(news.sa$date)\n",
        "\n",
        "  twitter.sa = get.twitter.sa(tickerlist)\n",
        "  twitter.sa$date = as.Date(twitter.sa$date)\n",
        "\n",
        "  df = list(prices, wsb.sa, news.sa, twitter.sa) %>%\n",
        "            reduce(left_join, by = c(\"ticker\", \"date\"))\n",
        "}\n",
        "\n",
        "check.missing.data <- function(df) {\n",
        "  complete.row = sum(complete.cases(df))\n",
        "  actual.row = dim(df)[1]\n",
        "\n",
        "  if(complete.row == actual.row) {\n",
        "    print(\"No missing data\")\n",
        "  } else {\n",
        "    print(\"Missing data present\")\n",
        "  }\n",
        "}"
      ],
      "execution_count": 386,
      "outputs": []
    },
    {
      "cell_type": "code",
      "metadata": {
        "colab": {
          "base_uri": "https://localhost:8080/"
        },
        "id": "TOrrajOTA0KY",
        "outputId": "312d6f12-6f08-4927-bf43-5edf48ea1139"
      },
      "source": [
        "tickerlist = list(\"TSLA\", \"AAPL\")\n",
        "\n",
        "imported_df = get.all.data(tickerlist) %>%\n",
        "  arrange(ticker, date)\n",
        "\n",
        "ticker.count = length(unique(imported_df[[\"ticker\"]]))\n",
        "\n",
        "check.missing.data(imported_df)"
      ],
      "execution_count": 466,
      "outputs": [
        {
          "output_type": "stream",
          "name": "stderr",
          "text": [
            "pad applied on the interval: day\n",
            "\n"
          ]
        },
        {
          "output_type": "stream",
          "name": "stdout",
          "text": [
            "[1] \"No missing data\"\n"
          ]
        }
      ]
    },
    {
      "cell_type": "markdown",
      "metadata": {
        "id": "POZ2u8ip_cAx"
      },
      "source": [
        "# **(Slight) Feature Engineering**"
      ]
    },
    {
      "cell_type": "code",
      "metadata": {
        "id": "hS7NpoSl0R_-"
      },
      "source": [
        "# Add in target variable\n",
        "\n",
        "df = imported_df %>%\n",
        "  group_by(ticker) %>%\n",
        "  mutate(target = lead(close, n = 1, default = NA)) %>% # target using by taking the $close of the next period\n",
        "  mutate(prevclose1 = lag(close, n = 1, default = NA), # additional variables by lagging earlier $close\n",
        "         prevclose2 = lag(close, n = 2, default = NA), # in log2 scale, kaggle trick\n",
        "         prevclose4 = lag(close, n = 4, default = NA),\n",
        "         prevclose8 = lag(close, n = 8, default = NA)) %>%\n",
        "  mutate(prevwsbsentiment1 = lag(wsbsentiment, n = 1, default = NA), # additional variables by lagging earlier $wsbsentiment\n",
        "         prevwsbsentiment2 = lag(wsbsentiment, n = 2, default = NA), # in log2 scale, kaggle trick\n",
        "         prevwsbsentiment4 = lag(wsbsentiment, n = 4, default = NA),\n",
        "         prevwsbsentiment8 = lag(wsbsentiment, n = 8, default = NA)) %>%\n",
        "  mutate(prevnewssentiment1 = lag(newssentiment, n = 1, default = NA), # additional variables by lagging earlier $newssentiment\n",
        "         prevnewssentiment2 = lag(newssentiment, n = 2, default = NA), # in log2 scale, kaggle trick\n",
        "         prevnewssentiment4 = lag(newssentiment, n = 4, default = NA),\n",
        "         prevnewssentiment8 = lag(newssentiment, n = 8, default = NA)) %>%\n",
        "  mutate(prevtwtrsentiment1 = lag(twtrsentiment, n = 1, default = NA), # additional variables by lagging earlier $twtrsentiment\n",
        "         prevtwtrsentiment2 = lag(twtrsentiment, n = 2, default = NA), # in log2 scale, kaggle trick\n",
        "         prevtwtrsentiment4 = lag(twtrsentiment, n = 4, default = NA),\n",
        "         prevtwtrsentiment8 = lag(twtrsentiment, n = 8, default = NA)) %>%\n",
        "  na.omit %>%\n",
        "  as.data.frame()"
      ],
      "execution_count": 467,
      "outputs": []
    },
    {
      "cell_type": "code",
      "metadata": {
        "id": "jHztBLqs_-BZ"
      },
      "source": [
        "# Do scaling of all variables\n",
        "# Retain means and sd for unscaling of data\n",
        "\n",
        "scaling.mean = colMeans(df[sapply(df, is.numeric)])\n",
        "scaling.sd = sapply(df[sapply(df, is.numeric)], sd)\n",
        "\n",
        "df[map_lgl(df, is.numeric)] = df %>%\n",
        "                              select(is.numeric) %>%\n",
        "                              scale(center = scaling.mean, scale = scaling.sd)"
      ],
      "execution_count": 468,
      "outputs": []
    },
    {
      "cell_type": "code",
      "metadata": {
        "id": "eZ_fcw8dtFDp"
      },
      "source": [
        "# One-hot encoding for ticker\n",
        "\n",
        "if (ticker.count > 1){\n",
        "  dummy = dummyVars(\" ~ .\", data = df)\n",
        "  df = data.frame(predict(dummy, newdata = df))\n",
        "} "
      ],
      "execution_count": 469,
      "outputs": []
    },
    {
      "cell_type": "markdown",
      "metadata": {
        "id": "dRiFPSb3V1YY"
      },
      "source": [
        "Final check for missing data before model training"
      ]
    },
    {
      "cell_type": "code",
      "metadata": {
        "id": "qUC1pO6tVNvV",
        "outputId": "92cfc07b-1e11-4360-a8b6-fc6d72b5f05d",
        "colab": {
          "base_uri": "https://localhost:8080/"
        }
      },
      "source": [
        "check.missing.data(df)"
      ],
      "execution_count": 471,
      "outputs": [
        {
          "output_type": "stream",
          "name": "stdout",
          "text": [
            "[1] \"No missing data\"\n"
          ]
        }
      ]
    },
    {
      "cell_type": "markdown",
      "metadata": {
        "id": "D3Fxot2M_iYD"
      },
      "source": [
        "# **Train-Validate-Test Split**\n",
        "\n"
      ]
    },
    {
      "cell_type": "code",
      "metadata": {
        "colab": {
          "base_uri": "https://localhost:8080/"
        },
        "id": "_Au4rwfU9cOq",
        "outputId": "b0ad9346-302d-4437-aeb5-b3eaf373bcb7"
      },
      "source": [
        "split = unclass(as.Date(\"2020-09-30\"))\n",
        "\n",
        "# Train-test split\n",
        "train = df %>% filter(date <= split)\n",
        "test = df %>% filter(date > split)\n",
        "\n",
        "train.days = dim(train)[1]/ticker.count\n",
        "test.days = dim(test)[1]/ticker.count\n",
        "\n",
        "train.prop = train.days/(train.days + test.days)\n",
        "\n",
        "print(\"% of Training Data\")\n",
        "print(train.prop)\n",
        "print(train.days)"
      ],
      "execution_count": 472,
      "outputs": [
        {
          "output_type": "stream",
          "name": "stdout",
          "text": [
            "[1] \"% of Training Data\"\n",
            "[1] 0.7418033\n",
            "[1] 181\n"
          ]
        }
      ]
    },
    {
      "cell_type": "markdown",
      "metadata": {
        "id": "_Z4wEDjBRkzW"
      },
      "source": [
        "This splitting of train-validate only serves as an illustration. The real splitting is embedded in the training process as per normal CV. However, as normal k-fold CV does not work on time series data due to the emphasis its temporal features, a sliding window approach is used (see Section 4.3 of https://topepo.github.io/caret/data-splitting.html#time)"
      ]
    },
    {
      "cell_type": "code",
      "metadata": {
        "colab": {
          "base_uri": "https://localhost:8080/",
          "height": 113
        },
        "id": "N-apAr1DSvEb",
        "outputId": "e38b1004-1e04-4fca-e438-ecd1b9166001"
      },
      "source": [
        "# In this instance, with 181 days worh of data, there are 22 folds based on the chosen parameters\n",
        "\n",
        "index = 1:train.days\n",
        "folds = createTimeSlices(index, initialWindow = 120, horizon = 40, fixedWindow = TRUE)\n",
        "lapply(folds, length)"
      ],
      "execution_count": 473,
      "outputs": [
        {
          "output_type": "display_data",
          "data": {
            "text/plain": [
              "$train\n",
              "[1] 22\n",
              "\n",
              "$test\n",
              "[1] 22\n"
            ],
            "text/latex": "\\begin{description}\n\\item[\\$train] 22\n\\item[\\$test] 22\n\\end{description}\n",
            "text/markdown": "$train\n:   22\n$test\n:   22\n\n\n",
            "text/html": [
              "<dl>\n",
              "\t<dt>$train</dt>\n",
              "\t\t<dd>22</dd>\n",
              "\t<dt>$test</dt>\n",
              "\t\t<dd>22</dd>\n",
              "</dl>\n"
            ]
          },
          "metadata": {}
        }
      ]
    },
    {
      "cell_type": "markdown",
      "metadata": {
        "id": "g_1RO5hYT0pJ"
      },
      "source": [
        "Sample of how the folds are constructed is as follows."
      ]
    },
    {
      "cell_type": "code",
      "metadata": {
        "colab": {
          "base_uri": "https://localhost:8080/"
        },
        "id": "oJ6HunJBTREV",
        "outputId": "375198c4-e423-4b59-ed40-baf0a8d78aec"
      },
      "source": [
        "print(\"Training fold 1\")\n",
        "print(folds$train$Training120)\n",
        "\n",
        "print(\"Validation fold 1\")\n",
        "print(folds$test$Testing120)"
      ],
      "execution_count": 474,
      "outputs": [
        {
          "output_type": "stream",
          "name": "stdout",
          "text": [
            "[1] \"Training fold 1\"\n",
            "  [1]   1   2   3   4   5   6   7   8   9  10  11  12  13  14  15  16  17  18\n",
            " [19]  19  20  21  22  23  24  25  26  27  28  29  30  31  32  33  34  35  36\n",
            " [37]  37  38  39  40  41  42  43  44  45  46  47  48  49  50  51  52  53  54\n",
            " [55]  55  56  57  58  59  60  61  62  63  64  65  66  67  68  69  70  71  72\n",
            " [73]  73  74  75  76  77  78  79  80  81  82  83  84  85  86  87  88  89  90\n",
            " [91]  91  92  93  94  95  96  97  98  99 100 101 102 103 104 105 106 107 108\n",
            "[109] 109 110 111 112 113 114 115 116 117 118 119 120\n",
            "[1] \"Validation fold 1\"\n",
            " [1] 121 122 123 124 125 126 127 128 129 130 131 132 133 134 135 136 137 138 139\n",
            "[20] 140 141 142 143 144 145 146 147 148 149 150 151 152 153 154 155 156 157 158\n",
            "[39] 159 160\n"
          ]
        }
      ]
    },
    {
      "cell_type": "markdown",
      "metadata": {
        "id": "Vbh1sg88FzNq"
      },
      "source": [
        "# **Model Building and Selection**"
      ]
    },
    {
      "cell_type": "code",
      "metadata": {
        "id": "P2sTcfd9_w02"
      },
      "source": [
        "library(rpart)\n",
        "if(\"rpart.plot\" %in% rownames(installed.packages()) == FALSE) {install.packages(\"rpart.plot\")}\n",
        "library(rpart.plot)\n",
        "if(\"Metrics\" %in% rownames(installed.packages()) == FALSE) {install.packages(\"Metrics\")}\n",
        "library(Metrics)"
      ],
      "execution_count": 475,
      "outputs": []
    },
    {
      "cell_type": "code",
      "metadata": {
        "id": "Z7TcsaweMYkp"
      },
      "source": [
        "# Takes a vector input and returns unscaled predictions\n",
        "# Both the original target and \n",
        "\n",
        "unscale_Y <- function(vec){\n",
        "  unscaled = vec * scaling.sd[[\"target\"]] + scaling.mean[[\"target\"]] \n",
        "}"
      ],
      "execution_count": 476,
      "outputs": []
    },
    {
      "cell_type": "markdown",
      "metadata": {
        "id": "SXUWX0Piag8Y"
      },
      "source": [
        "## **Naive Model - Random Walk**"
      ]
    },
    {
      "cell_type": "code",
      "metadata": {
        "id": "mylY3MyXafW1",
        "outputId": "f8e81358-efb5-4ef0-cb0d-37248bf85dc3",
        "colab": {
          "base_uri": "https://localhost:8080/",
          "height": 34
        }
      },
      "source": [
        "rw.df = test\n",
        "rw.df$pred = rw.df$close\n",
        "\n",
        "mape(unscale_Y(rw.df$target), unscale_Y(rw.df$pred))"
      ],
      "execution_count": 477,
      "outputs": [
        {
          "output_type": "display_data",
          "data": {
            "text/plain": [
              "[1] 0.02262463"
            ],
            "text/latex": "0.0226246341209063",
            "text/markdown": "0.0226246341209063",
            "text/html": [
              "0.0226246341209063"
            ]
          },
          "metadata": {}
        }
      ]
    },
    {
      "cell_type": "markdown",
      "metadata": {
        "id": "FGcqzDfyYgL3"
      },
      "source": [
        "##**CART**"
      ]
    },
    {
      "cell_type": "code",
      "metadata": {
        "id": "TMeNVE5WMYhw",
        "colab": {
          "base_uri": "https://localhost:8080/"
        },
        "outputId": "e982fe10-8a34-4292-9aa2-ff119f3cfa65"
      },
      "source": [
        "train.control = trainControl(method = \"timeslice\",\n",
        "                            initialWindow = 120,\n",
        "                            horizon = 40,\n",
        "                            fixedWindow = TRUE)\n",
        "\n",
        "cpVals = data.frame(.cp = seq(0.00000000001, 0.0000000003, by = 0.00000000001))\n",
        "\n",
        "mod = train(target ~ . - date,\n",
        "            data = train,\n",
        "            method = \"rpart\",\n",
        "            trControl = train.control,\n",
        "            tuneGrid = cpVals)"
      ],
      "execution_count": 478,
      "outputs": [
        {
          "output_type": "stream",
          "name": "stderr",
          "text": [
            "Warning message in nominalTrainWorkflow(x = x, y = y, wts = weights, info = trainInfo, :\n",
            "“There were missing values in resampled performance measures.”\n"
          ]
        }
      ]
    },
    {
      "cell_type": "code",
      "metadata": {
        "id": "ec6rQ2HZVLJk",
        "outputId": "b97df2c3-0fd8-4133-cd45-85d612f5b82c",
        "colab": {
          "base_uri": "https://localhost:8080/",
          "height": 179
        }
      },
      "source": [
        "mod$modelType\n",
        "mod$bestTune"
      ],
      "execution_count": 407,
      "outputs": [
        {
          "output_type": "display_data",
          "data": {
            "text/plain": [
              "[1] \"Regression\""
            ],
            "text/latex": "'Regression'",
            "text/markdown": "'Regression'",
            "text/html": [
              "'Regression'"
            ]
          },
          "metadata": {}
        },
        {
          "output_type": "display_data",
          "data": {
            "text/plain": [
              "   cp   \n",
              "30 3e-10"
            ],
            "text/latex": "A data.frame: 1 × 1\n\\begin{tabular}{r|l}\n  & cp\\\\\n  & <dbl>\\\\\n\\hline\n\t30 & 3e-10\\\\\n\\end{tabular}\n",
            "text/markdown": "\nA data.frame: 1 × 1\n\n| <!--/--> | cp &lt;dbl&gt; |\n|---|---|\n| 30 | 3e-10 |\n\n",
            "text/html": [
              "<table class=\"dataframe\">\n",
              "<caption>A data.frame: 1 × 1</caption>\n",
              "<thead>\n",
              "\t<tr><th></th><th scope=col>cp</th></tr>\n",
              "\t<tr><th></th><th scope=col>&lt;dbl&gt;</th></tr>\n",
              "</thead>\n",
              "<tbody>\n",
              "\t<tr><th scope=row>30</th><td>3e-10</td></tr>\n",
              "</tbody>\n",
              "</table>\n"
            ]
          },
          "metadata": {}
        }
      ]
    },
    {
      "cell_type": "code",
      "metadata": {
        "id": "AYNVWtb_A0Cz"
      },
      "source": [
        "train$pred = predict(object = mod$finalModel, newdata = train)\n",
        "test$pred = predict(object = mod$finalModel, newdata = test)"
      ],
      "execution_count": 479,
      "outputs": []
    },
    {
      "cell_type": "code",
      "metadata": {
        "colab": {
          "base_uri": "https://localhost:8080/"
        },
        "id": "O8-mnF8oHenG",
        "outputId": "ed29aeed-7d11-4deb-9c20-3bd558007ee8"
      },
      "source": [
        "train.pred = unscale_Y(train$pred)\n",
        "train.target = unscale_Y(train$target)\n",
        "\n",
        "test.pred = unscale_Y(test$pred)\n",
        "test.target = unscale_Y(test$target)\n",
        "\n",
        "print(\"train\")\n",
        "print(mape(train.target, train.pred))\n",
        "print(\"test\")\n",
        "print(mape(test.target, test.pred))"
      ],
      "execution_count": 482,
      "outputs": [
        {
          "output_type": "stream",
          "name": "stdout",
          "text": [
            "[1] \"train\"\n",
            "[1] 0.04383136\n",
            "[1] \"test\"\n",
            "[1] 0.05404993\n"
          ]
        }
      ]
    },
    {
      "cell_type": "code",
      "metadata": {
        "colab": {
          "base_uri": "https://localhost:8080/",
          "height": 377
        },
        "id": "mlQpUbFnKkFG",
        "outputId": "300c562f-56fa-4205-d409-61b6852f7637"
      },
      "source": [
        "ggplot() +\n",
        "geom_point(aes(x = test.target, y = test.pred))"
      ],
      "execution_count": 481,
      "outputs": [
        {
          "output_type": "display_data",
          "data": {
            "image/png": "[encoded data removed]",
            "text/plain": [
              "plot without title"
            ]
          },
          "metadata": {
            "image/png": {
              "width": 540,
              "height": 360
            }
          }
        }
      ]
    }
  ]
}