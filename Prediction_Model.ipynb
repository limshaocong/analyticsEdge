{
  "nbformat": 4,
  "nbformat_minor": 0,
  "metadata": {
    "colab": {
      "name": "Prediction Model.ipynb",
      "provenance": [],
      "collapsed_sections": [],
      "machine_shape": "hm",
      "authorship_tag": "ABX9TyM8YXRkc9F8r68qmI2uOavG",
      "include_colab_link": true
    },
    "kernelspec": {
      "name": "ir",
      "display_name": "R"
    },
    "language_info": {
      "name": "R"
    }
  },
  "cells": [
    {
      "cell_type": "markdown",
      "metadata": {
        "id": "view-in-github",
        "colab_type": "text"
      },
      "source": [
        "<a href=\"https://colab.research.google.com/github/limshaocong/analyticsEdge/blob/main/Prediction_Model.ipynb\" target=\"_parent\"><img src=\"https://colab.research.google.com/assets/colab-badge.svg\" alt=\"Open In Colab\"/></a>"
      ]
    },
    {
      "cell_type": "code",
      "metadata": {
        "id": "rGZtp4YpTych"
      },
      "source": [
        "suppressMessages(library(tidyverse)) # generic must have package\n",
        "library(dplyr)\n",
        "library(ggplot2) # plotting package\n",
        "library(lubridate) # easy comprehension of dates from string to correct datetime format\n",
        "library(data.table)\n",
        "library(purrr) # reduce\n",
        "if(\"padr\" %in% rownames(installed.packages()) == FALSE) {install.packages(\"padr\")}\n",
        "library(padr)\n",
        "if(\"janitor\" %in% rownames(installed.packages()) == FALSE) {install.packages(\"janitor\")}\n",
        "library(janitor)\n",
        "\n",
        "options(repr.plot.width = 9,\n",
        "        repr.plot.height = 6,\n",
        "        repr.plot.pointsize = 20)"
      ],
      "execution_count": 24,
      "outputs": []
    },
    {
      "cell_type": "code",
      "metadata": {
        "id": "NpQJnH0ya850"
      },
      "source": [
        "# Functions to pull data\n",
        "\n",
        "git.path = \"https://raw.githubusercontent.com/limshaocong/analyticsEdge/main/Datasets/\"\n",
        "\n",
        "# Prices\n",
        "# Source: CRSP\n",
        "\n",
        "price.path = \"CRSP_WRDS/crsp_daily_stock_price_2020.csv\"\n",
        "\n",
        "get.prices <- function(tickerlist) {\n",
        "\n",
        "  path = paste0(git.path, price.path)\n",
        "\n",
        "  df = read.csv(path) %>%\n",
        "    filter(ticker %in% tickerlist) %>%\n",
        "    mutate(date = ymd(date)) %>%\n",
        "    rename(low = BIDLO,\n",
        "          high = ASKHI,\n",
        "          open = OPENPRC,\n",
        "          close = PRC,\n",
        "          vol = VOL,\n",
        "          Ntrades = NUMTRD) %>%\n",
        "    select(ticker, date, open, close, high, low, vol, Ntrades) %>%\n",
        "    mutate(change = close - open,\n",
        "          dayspread = high - low,\n",
        "          averagetrade = vol/Ntrades)\n",
        "}\n",
        "\n",
        "# Twitter Sentiment Analysis\n",
        "# Source: Open source\n",
        "# Scrapped by snscrape\n",
        "# Sentiment Analysis by BERT - zer0-shot, multilingual, sentiment model\n",
        "\n",
        "twtr.path = \"Imputed/twitter_sa.csv\"\n",
        "\n",
        "get.twitter.sa <- function (tickerlist){\n",
        "  path = paste0(git.path, twtr.path)\n",
        "  \n",
        "  df = read.csv(path) %>%\n",
        "    filter(ticker %in% tickerlist) %>%\n",
        "    mutate(date = as.Date(date, format = \"%m/%d/%y\")) %>%\n",
        "    rename(twtrmentions = mentions)\n",
        "}\n",
        "\n",
        "# r/wsb Sentiment Analysis\n",
        "# Source: Quiver Quant\n",
        "# Sentiment based on VADER sentiment\n",
        "\n",
        "wsb.path = \"Imputed/wsb_imputed_min0.csv\"\n",
        "\n",
        "get.wsb.sa <- function(tickerlist){\n",
        "\n",
        "  path = paste0(git.path, wsb.path)\n",
        "\n",
        "  df = read.csv(path) %>%\n",
        "    filter(Ticker %in% tickerlist) %>%\n",
        "    mutate(date = ymd(Date)) %>%\n",
        "    pad(start_val = as.Date('2020-01-01'), end_val = as.Date('2020-12-31')) %>%\n",
        "    select(Ticker, Date, Mentions, log10Mentions, Sentiment) %>%\n",
        "    rename(wsbsentiment = Sentiment,\n",
        "          wsbmentions = Mentions,\n",
        "          wsblog10mentions = log10Mentions) %>%\n",
        "    rename_with(tolower)\n",
        "}\n",
        "\n",
        "# News Sentiment - Dow Jones + Global Press\n",
        "\n",
        "pr.path = \"Imputed/rp_imputed_min1000.csv\"\n",
        "\n",
        "get.news.sa <- function(tickerlist){\n",
        "\n",
        "  path = paste0(git.path, pr.path)\n",
        "\n",
        "  df = read.csv(path) %>%\n",
        "    filter(Date >= as.Date(\"2020-01-01\") & Date <= as.Date(\"2020-12-31\")) %>%\n",
        "    filter(ticker %in% tickerlist) %>%\n",
        "    mutate(date = ymd(Date)) %>%\n",
        "    rowwise() %>%\n",
        "    mutate(newssentiment = mean(DJ_mean_ess * DJ_news_instance, PR_mean_ess * PR_news_instance)/All_news_instance) %>%\n",
        "    replace(is.na(.), 0) %>%\n",
        "    mutate(newssentiment = (newssentiment-50)/100) %>%\n",
        "    select(ticker, Date, All_news_instance, newssentiment, log10Allmentions) %>%\n",
        "    rename(newsmentions = All_news_instance,\n",
        "          newslog10mentions = log10Allmentions) %>%\n",
        "    rename_with(tolower)\n",
        "}\n",
        "\n",
        "get.all.data <- function(tickerlist) {\n",
        "\n",
        "  prices = get.prices(tickerlist)\n",
        "  prices$date = as.Date(prices$date)\n",
        "\n",
        "  wsb.sa = get.wsb.sa(tickerlist)\n",
        "  wsb.sa$date = as.Date(wsb.sa$date)\n",
        "\n",
        "  news.sa = get.news.sa(tickerlist)\n",
        "  news.sa$date = as.Date(news.sa$date)\n",
        "\n",
        "  twitter.sa = get.twitter.sa(tickerlist)\n",
        "  twitter.sa$date = as.Date(twitter.sa$date)\n",
        "\n",
        "  df = list(prices, wsb.sa, news.sa, twitter.sa) %>%\n",
        "            reduce(left_join, by = c(\"ticker\", \"date\"))\n",
        "}"
      ],
      "execution_count": 66,
      "outputs": []
    },
    {
      "cell_type": "code",
      "metadata": {
        "colab": {
          "base_uri": "https://localhost:8080/"
        },
        "id": "TOrrajOTA0KY",
        "outputId": "103c0542-8c4b-4650-f5a4-a76c96d3fd90"
      },
      "source": [
        "tickerlist = list(\"AAPL\", \"TSLA\", \"MSFT\")\n",
        "\n",
        "df = get.all.data(tickerlist)"
      ],
      "execution_count": 67,
      "outputs": [
        {
          "output_type": "stream",
          "name": "stderr",
          "text": [
            "pad applied on the interval: day\n",
            "\n"
          ]
        }
      ]
    },
    {
      "cell_type": "code",
      "metadata": {
        "colab": {
          "base_uri": "https://localhost:8080/",
          "height": 283
        },
        "id": "5YEXp81c_-Fe",
        "outputId": "6bab12e1-48e0-41c9-e680-8e125b2fc53e"
      },
      "source": [
        "head(df)"
      ],
      "execution_count": 68,
      "outputs": [
        {
          "output_type": "display_data",
          "data": {
            "text/plain": [
              "  ticker date       open    close  high    low      vol      Ntrades change  \n",
              "1 MSFT   2020-01-02 158.780 160.62 160.730 158.3300 22610236 177688   1.84000\n",
              "2 MSFT   2020-01-03 158.320 158.62 159.945 158.0600 21099013 168785   0.29999\n",
              "3 MSFT   2020-01-06 157.080 159.03 159.100 156.5100 21156101 151702   1.95000\n",
              "4 MSFT   2020-01-07 159.320 157.58 159.670 157.3200 21844325 169629  -1.74001\n",
              "5 MSFT   2020-01-08 158.930 160.09 160.800 157.9491 27722052 201189   1.16001\n",
              "6 MSFT   2020-01-09 161.835 162.09 162.215 161.0300 21375474 163170   0.25499\n",
              "  dayspread averagetrade wsbmentions wsblog10mentions wsbsentiment newsmentions\n",
              "1 2.40000   127.2468     37          1.579784          0.058202703  0          \n",
              "2 1.88501   125.0053     37          1.579784         -0.009467568  0          \n",
              "3 2.59002   139.4583     16          1.230449         -0.070725000  2          \n",
              "4 2.34999   128.7771     41          1.623249         -0.090526829  2          \n",
              "5 2.85090   137.7911     43          1.643453         -0.111018605  2          \n",
              "6 1.18500   131.0013     37          1.579784          0.065070270 11          \n",
              "  newssentiment newslog10mentions twtrmentions twtrsentiment\n",
              "1 -0.50000000   0.0000000         362          0.3895028    \n",
              "2 -0.50000000   0.0000000         235          0.4085106    \n",
              "3 -0.50000000   0.4771213         238          0.3781513    \n",
              "4 -0.50000000   0.4771213         275          0.2218182    \n",
              "5  0.35000000   0.4771213         345          0.4231884    \n",
              "6  0.02272727   1.0791812         407          0.2948403    "
            ],
            "text/latex": "A data.frame: 6 × 19\n\\begin{tabular}{r|lllllllllllllllllll}\n  & ticker & date & open & close & high & low & vol & Ntrades & change & dayspread & averagetrade & wsbmentions & wsblog10mentions & wsbsentiment & newsmentions & newssentiment & newslog10mentions & twtrmentions & twtrsentiment\\\\\n  & <chr> & <date> & <dbl> & <dbl> & <dbl> & <dbl> & <int> & <int> & <dbl> & <dbl> & <dbl> & <int> & <dbl> & <dbl> & <int> & <dbl> & <dbl> & <int> & <dbl>\\\\\n\\hline\n\t1 & MSFT & 2020-01-02 & 158.780 & 160.62 & 160.730 & 158.3300 & 22610236 & 177688 &  1.84000 & 2.40000 & 127.2468 & 37 & 1.579784 &  0.058202703 &  0 & -0.50000000 & 0.0000000 & 362 & 0.3895028\\\\\n\t2 & MSFT & 2020-01-03 & 158.320 & 158.62 & 159.945 & 158.0600 & 21099013 & 168785 &  0.29999 & 1.88501 & 125.0053 & 37 & 1.579784 & -0.009467568 &  0 & -0.50000000 & 0.0000000 & 235 & 0.4085106\\\\\n\t3 & MSFT & 2020-01-06 & 157.080 & 159.03 & 159.100 & 156.5100 & 21156101 & 151702 &  1.95000 & 2.59002 & 139.4583 & 16 & 1.230449 & -0.070725000 &  2 & -0.50000000 & 0.4771213 & 238 & 0.3781513\\\\\n\t4 & MSFT & 2020-01-07 & 159.320 & 157.58 & 159.670 & 157.3200 & 21844325 & 169629 & -1.74001 & 2.34999 & 128.7771 & 41 & 1.623249 & -0.090526829 &  2 & -0.50000000 & 0.4771213 & 275 & 0.2218182\\\\\n\t5 & MSFT & 2020-01-08 & 158.930 & 160.09 & 160.800 & 157.9491 & 27722052 & 201189 &  1.16001 & 2.85090 & 137.7911 & 43 & 1.643453 & -0.111018605 &  2 &  0.35000000 & 0.4771213 & 345 & 0.4231884\\\\\n\t6 & MSFT & 2020-01-09 & 161.835 & 162.09 & 162.215 & 161.0300 & 21375474 & 163170 &  0.25499 & 1.18500 & 131.0013 & 37 & 1.579784 &  0.065070270 & 11 &  0.02272727 & 1.0791812 & 407 & 0.2948403\\\\\n\\end{tabular}\n",
            "text/markdown": "\nA data.frame: 6 × 19\n\n| <!--/--> | ticker &lt;chr&gt; | date &lt;date&gt; | open &lt;dbl&gt; | close &lt;dbl&gt; | high &lt;dbl&gt; | low &lt;dbl&gt; | vol &lt;int&gt; | Ntrades &lt;int&gt; | change &lt;dbl&gt; | dayspread &lt;dbl&gt; | averagetrade &lt;dbl&gt; | wsbmentions &lt;int&gt; | wsblog10mentions &lt;dbl&gt; | wsbsentiment &lt;dbl&gt; | newsmentions &lt;int&gt; | newssentiment &lt;dbl&gt; | newslog10mentions &lt;dbl&gt; | twtrmentions &lt;int&gt; | twtrsentiment &lt;dbl&gt; |\n|---|---|---|---|---|---|---|---|---|---|---|---|---|---|---|---|---|---|---|---|\n| 1 | MSFT | 2020-01-02 | 158.780 | 160.62 | 160.730 | 158.3300 | 22610236 | 177688 |  1.84000 | 2.40000 | 127.2468 | 37 | 1.579784 |  0.058202703 |  0 | -0.50000000 | 0.0000000 | 362 | 0.3895028 |\n| 2 | MSFT | 2020-01-03 | 158.320 | 158.62 | 159.945 | 158.0600 | 21099013 | 168785 |  0.29999 | 1.88501 | 125.0053 | 37 | 1.579784 | -0.009467568 |  0 | -0.50000000 | 0.0000000 | 235 | 0.4085106 |\n| 3 | MSFT | 2020-01-06 | 157.080 | 159.03 | 159.100 | 156.5100 | 21156101 | 151702 |  1.95000 | 2.59002 | 139.4583 | 16 | 1.230449 | -0.070725000 |  2 | -0.50000000 | 0.4771213 | 238 | 0.3781513 |\n| 4 | MSFT | 2020-01-07 | 159.320 | 157.58 | 159.670 | 157.3200 | 21844325 | 169629 | -1.74001 | 2.34999 | 128.7771 | 41 | 1.623249 | -0.090526829 |  2 | -0.50000000 | 0.4771213 | 275 | 0.2218182 |\n| 5 | MSFT | 2020-01-08 | 158.930 | 160.09 | 160.800 | 157.9491 | 27722052 | 201189 |  1.16001 | 2.85090 | 137.7911 | 43 | 1.643453 | -0.111018605 |  2 |  0.35000000 | 0.4771213 | 345 | 0.4231884 |\n| 6 | MSFT | 2020-01-09 | 161.835 | 162.09 | 162.215 | 161.0300 | 21375474 | 163170 |  0.25499 | 1.18500 | 131.0013 | 37 | 1.579784 |  0.065070270 | 11 |  0.02272727 | 1.0791812 | 407 | 0.2948403 |\n\n",
            "text/html": [
              "<table class=\"dataframe\">\n",
              "<caption>A data.frame: 6 × 19</caption>\n",
              "<thead>\n",
              "\t<tr><th></th><th scope=col>ticker</th><th scope=col>date</th><th scope=col>open</th><th scope=col>close</th><th scope=col>high</th><th scope=col>low</th><th scope=col>vol</th><th scope=col>Ntrades</th><th scope=col>change</th><th scope=col>dayspread</th><th scope=col>averagetrade</th><th scope=col>wsbmentions</th><th scope=col>wsblog10mentions</th><th scope=col>wsbsentiment</th><th scope=col>newsmentions</th><th scope=col>newssentiment</th><th scope=col>newslog10mentions</th><th scope=col>twtrmentions</th><th scope=col>twtrsentiment</th></tr>\n",
              "\t<tr><th></th><th scope=col>&lt;chr&gt;</th><th scope=col>&lt;date&gt;</th><th scope=col>&lt;dbl&gt;</th><th scope=col>&lt;dbl&gt;</th><th scope=col>&lt;dbl&gt;</th><th scope=col>&lt;dbl&gt;</th><th scope=col>&lt;int&gt;</th><th scope=col>&lt;int&gt;</th><th scope=col>&lt;dbl&gt;</th><th scope=col>&lt;dbl&gt;</th><th scope=col>&lt;dbl&gt;</th><th scope=col>&lt;int&gt;</th><th scope=col>&lt;dbl&gt;</th><th scope=col>&lt;dbl&gt;</th><th scope=col>&lt;int&gt;</th><th scope=col>&lt;dbl&gt;</th><th scope=col>&lt;dbl&gt;</th><th scope=col>&lt;int&gt;</th><th scope=col>&lt;dbl&gt;</th></tr>\n",
              "</thead>\n",
              "<tbody>\n",
              "\t<tr><th scope=row>1</th><td>MSFT</td><td>2020-01-02</td><td>158.780</td><td>160.62</td><td>160.730</td><td>158.3300</td><td>22610236</td><td>177688</td><td> 1.84000</td><td>2.40000</td><td>127.2468</td><td>37</td><td>1.579784</td><td> 0.058202703</td><td> 0</td><td>-0.50000000</td><td>0.0000000</td><td>362</td><td>0.3895028</td></tr>\n",
              "\t<tr><th scope=row>2</th><td>MSFT</td><td>2020-01-03</td><td>158.320</td><td>158.62</td><td>159.945</td><td>158.0600</td><td>21099013</td><td>168785</td><td> 0.29999</td><td>1.88501</td><td>125.0053</td><td>37</td><td>1.579784</td><td>-0.009467568</td><td> 0</td><td>-0.50000000</td><td>0.0000000</td><td>235</td><td>0.4085106</td></tr>\n",
              "\t<tr><th scope=row>3</th><td>MSFT</td><td>2020-01-06</td><td>157.080</td><td>159.03</td><td>159.100</td><td>156.5100</td><td>21156101</td><td>151702</td><td> 1.95000</td><td>2.59002</td><td>139.4583</td><td>16</td><td>1.230449</td><td>-0.070725000</td><td> 2</td><td>-0.50000000</td><td>0.4771213</td><td>238</td><td>0.3781513</td></tr>\n",
              "\t<tr><th scope=row>4</th><td>MSFT</td><td>2020-01-07</td><td>159.320</td><td>157.58</td><td>159.670</td><td>157.3200</td><td>21844325</td><td>169629</td><td>-1.74001</td><td>2.34999</td><td>128.7771</td><td>41</td><td>1.623249</td><td>-0.090526829</td><td> 2</td><td>-0.50000000</td><td>0.4771213</td><td>275</td><td>0.2218182</td></tr>\n",
              "\t<tr><th scope=row>5</th><td>MSFT</td><td>2020-01-08</td><td>158.930</td><td>160.09</td><td>160.800</td><td>157.9491</td><td>27722052</td><td>201189</td><td> 1.16001</td><td>2.85090</td><td>137.7911</td><td>43</td><td>1.643453</td><td>-0.111018605</td><td> 2</td><td> 0.35000000</td><td>0.4771213</td><td>345</td><td>0.4231884</td></tr>\n",
              "\t<tr><th scope=row>6</th><td>MSFT</td><td>2020-01-09</td><td>161.835</td><td>162.09</td><td>162.215</td><td>161.0300</td><td>21375474</td><td>163170</td><td> 0.25499</td><td>1.18500</td><td>131.0013</td><td>37</td><td>1.579784</td><td> 0.065070270</td><td>11</td><td> 0.02272727</td><td>1.0791812</td><td>407</td><td>0.2948403</td></tr>\n",
              "</tbody>\n",
              "</table>\n"
            ]
          },
          "metadata": {}
        }
      ]
    },
    {
      "cell_type": "code",
      "metadata": {
        "id": "jHztBLqs_-BZ"
      },
      "source": [
        ""
      ],
      "execution_count": null,
      "outputs": []
    }
  ]
}