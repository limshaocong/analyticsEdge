{
  "nbformat": 4,
  "nbformat_minor": 0,
  "metadata": {
    "colab": {
      "name": "FAANG Volume Prediction.ipynb",
      "provenance": [],
      "collapsed_sections": [
        "re0kLUG1aPQN"
      ],
      "authorship_tag": "ABX9TyOUPLp6hQl+f4aJMatBbqAc",
      "include_colab_link": true
    },
    "kernelspec": {
      "name": "ir",
      "display_name": "R"
    },
    "language_info": {
      "name": "R"
    }
  },
  "cells": [
    {
      "cell_type": "markdown",
      "metadata": {
        "id": "view-in-github",
        "colab_type": "text"
      },
      "source": [
        "<a href=\"https://colab.research.google.com/github/limshaocong/analyticsEdge/blob/main/FAANG_Volume_Prediction_caa%2024Nov21.ipynb\" target=\"_parent\"><img src=\"https://colab.research.google.com/assets/colab-badge.svg\" alt=\"Open In Colab\"/></a>"
      ]
    },
    {
      "cell_type": "markdown",
      "metadata": {
        "id": "FG9fd9ROT2LV"
      },
      "source": [
        "# **Preliminaries**"
      ]
    },
    {
      "cell_type": "code",
      "metadata": {
        "id": "cALQFUXPSRWz"
      },
      "source": [
        "suppressMessages(library(tidyverse)) # generic must have package\n",
        "suppressMessages(library(dplyr))\n",
        "suppressMessages(library(ggplot2)) # plotting package\n",
        "suppressMessages(library(lubridate)) # easy comprehension of dates from string to correct datetime format\n",
        "suppressMessages(library(data.table))\n",
        "suppressMessages(library(purrr)) # reduce\n",
        "if(\"patchwork\" %in% rownames(installed.packages()) == FALSE) {install.packages(\"patchwork\")}\n",
        "suppressMessages(library(patchwork))\n",
        "if(\"caret\" %in% rownames(installed.packages()) == FALSE) {install.packages(\"caret\")}\n",
        "suppressMessages(library(caret))\n",
        "\n",
        "options(repr.plot.width = 10,\n",
        "        repr.plot.height = 9,\n",
        "        repr.plot.pointsize = 20)"
      ],
      "execution_count": 5,
      "outputs": []
    },
    {
      "cell_type": "markdown",
      "metadata": {
        "id": "kb4Q2CZ2T-Hl"
      },
      "source": [
        "Import data and check for any NA within the file"
      ]
    },
    {
      "cell_type": "code",
      "metadata": {
        "id": "RxrUXYyWScZU",
        "colab": {
          "base_uri": "https://localhost:8080/"
        },
        "outputId": "0908fcdc-cfb2-4373-9b86-d1316da9f2d2"
      },
      "source": [
        "path = \"https://raw.githubusercontent.com/limshaocong/analyticsEdge/main/Datasets/FAANG/altdata.csv\"\n",
        "df = read.csv(path) %>% mutate(date = ymd(date)) %>% select(- open, - close, - high, - low)\n",
        "\n",
        "if (dim(df)[1] == dim(na.omit(df))[1]) {\n",
        "  print(\"No missing data.\")\n",
        "} else {\n",
        "  print(\"Missing data\")\n",
        "}"
      ],
      "execution_count": 8,
      "outputs": [
        {
          "output_type": "stream",
          "name": "stdout",
          "text": [
            "[1] \"No missing data.\"\n"
          ]
        }
      ]
    },
    {
      "cell_type": "markdown",
      "metadata": {
        "id": "nta6GvSXUg4L"
      },
      "source": [
        "# **Exploratory Analysis**"
      ]
    },
    {
      "cell_type": "markdown",
      "metadata": {
        "id": "RkWg0bVmUEfY"
      },
      "source": [
        "Overview of Data"
      ]
    },
    {
      "cell_type": "code",
      "metadata": {
        "id": "34ebE0sfUJ26",
        "colab": {
          "base_uri": "https://localhost:8080/",
          "height": 255
        },
        "outputId": "0ab726bb-c719-4ac7-a387-88b61968a34c"
      },
      "source": [
        "head(df, 5)"
      ],
      "execution_count": 9,
      "outputs": [
        {
          "output_type": "display_data",
          "data": {
            "text/plain": [
              "  date       ticker vol      newssentiment newsmentions twtrmentions\n",
              "1 2019-01-08 FB     26252863 63.0          2            569         \n",
              "2 2019-01-09 FB     22203279 50.0          0            489         \n",
              "3 2019-01-10 FB     16111304 50.5          2            464         \n",
              "4 2019-01-11 FB     12907031 50.0          0            368         \n",
              "5 2019-01-14 FB     20515678 50.0          0            399         \n",
              "  twtrsentiment wsbsentiment wsbmentions retailvol ⋯ twtrmentions5MA\n",
              "1 0.26889279     0.3528667   1           11163579  ⋯ 473.6          \n",
              "2 0.09406953    -0.3818000   1            9658300  ⋯ 461.0          \n",
              "3 0.17456897     0.3246000   1            6779001  ⋯ 457.8          \n",
              "4 0.17663043    -0.0799400   1            5398647  ⋯ 467.2          \n",
              "5 0.23809524    -0.1558800   1            9170878  ⋯ 462.0          \n",
              "  wsbmentions5MA newsmentions5MA twtrmentions10MA wsbmentions10MA\n",
              "1 1              0.8             487.8            1              \n",
              "2 1              0.8             473.5            1              \n",
              "3 1              0.8             469.0            1              \n",
              "4 1              0.4             487.2            1              \n",
              "5 1              0.4             495.3            1              \n",
              "  newsmentions10MA retailvollag1 retailvollag2 retailvollag4 target \n",
              "1 0.6              11163579      10410940      8964350       9658300\n",
              "2 0.4               9658300       8218650      8249882       6779001\n",
              "3 0.5               6779001       6088824      7751706       5398647\n",
              "4 0.6               5398647       7284762      7707233       9170878\n",
              "5 0.6               9170878       9325642      7777200       9480406"
            ],
            "text/latex": "A data.frame: 5 × 40\n\\begin{tabular}{r|lllllllllllllllllllll}\n  & date & ticker & vol & newssentiment & newsmentions & twtrmentions & twtrsentiment & wsbsentiment & wsbmentions & retailvol & ⋯ & twtrmentions5MA & wsbmentions5MA & newsmentions5MA & twtrmentions10MA & wsbmentions10MA & newsmentions10MA & retailvollag1 & retailvollag2 & retailvollag4 & target\\\\\n  & <date> & <chr> & <int> & <dbl> & <int> & <int> & <dbl> & <dbl> & <int> & <int> & ⋯ & <dbl> & <dbl> & <dbl> & <dbl> & <dbl> & <dbl> & <int> & <dbl> & <dbl> & <int>\\\\\n\\hline\n\t1 & 2019-01-08 & FB & 26252863 & 63.0 & 2 & 569 & 0.26889279 &  0.3528667 & 1 & 11163579 & ⋯ & 473.6 & 1 & 0.8 & 487.8 & 1 & 0.6 & 11163579 & 10410940 & 8964350 & 9658300\\\\\n\t2 & 2019-01-09 & FB & 22203279 & 50.0 & 0 & 489 & 0.09406953 & -0.3818000 & 1 &  9658300 & ⋯ & 461.0 & 1 & 0.8 & 473.5 & 1 & 0.4 &  9658300 &  8218650 & 8249882 & 6779001\\\\\n\t3 & 2019-01-10 & FB & 16111304 & 50.5 & 2 & 464 & 0.17456897 &  0.3246000 & 1 &  6779001 & ⋯ & 457.8 & 1 & 0.8 & 469.0 & 1 & 0.5 &  6779001 &  6088824 & 7751706 & 5398647\\\\\n\t4 & 2019-01-11 & FB & 12907031 & 50.0 & 0 & 368 & 0.17663043 & -0.0799400 & 1 &  5398647 & ⋯ & 467.2 & 1 & 0.4 & 487.2 & 1 & 0.6 &  5398647 &  7284762 & 7707233 & 9170878\\\\\n\t5 & 2019-01-14 & FB & 20515678 & 50.0 & 0 & 399 & 0.23809524 & -0.1558800 & 1 &  9170878 & ⋯ & 462.0 & 1 & 0.4 & 495.3 & 1 & 0.6 &  9170878 &  9325642 & 7777200 & 9480406\\\\\n\\end{tabular}\n",
            "text/markdown": "\nA data.frame: 5 × 40\n\n| <!--/--> | date &lt;date&gt; | ticker &lt;chr&gt; | vol &lt;int&gt; | newssentiment &lt;dbl&gt; | newsmentions &lt;int&gt; | twtrmentions &lt;int&gt; | twtrsentiment &lt;dbl&gt; | wsbsentiment &lt;dbl&gt; | wsbmentions &lt;int&gt; | retailvol &lt;int&gt; | ⋯ ⋯ | twtrmentions5MA &lt;dbl&gt; | wsbmentions5MA &lt;dbl&gt; | newsmentions5MA &lt;dbl&gt; | twtrmentions10MA &lt;dbl&gt; | wsbmentions10MA &lt;dbl&gt; | newsmentions10MA &lt;dbl&gt; | retailvollag1 &lt;int&gt; | retailvollag2 &lt;dbl&gt; | retailvollag4 &lt;dbl&gt; | target &lt;int&gt; |\n|---|---|---|---|---|---|---|---|---|---|---|---|---|---|---|---|---|---|---|---|---|---|\n| 1 | 2019-01-08 | FB | 26252863 | 63.0 | 2 | 569 | 0.26889279 |  0.3528667 | 1 | 11163579 | ⋯ | 473.6 | 1 | 0.8 | 487.8 | 1 | 0.6 | 11163579 | 10410940 | 8964350 | 9658300 |\n| 2 | 2019-01-09 | FB | 22203279 | 50.0 | 0 | 489 | 0.09406953 | -0.3818000 | 1 |  9658300 | ⋯ | 461.0 | 1 | 0.8 | 473.5 | 1 | 0.4 |  9658300 |  8218650 | 8249882 | 6779001 |\n| 3 | 2019-01-10 | FB | 16111304 | 50.5 | 2 | 464 | 0.17456897 |  0.3246000 | 1 |  6779001 | ⋯ | 457.8 | 1 | 0.8 | 469.0 | 1 | 0.5 |  6779001 |  6088824 | 7751706 | 5398647 |\n| 4 | 2019-01-11 | FB | 12907031 | 50.0 | 0 | 368 | 0.17663043 | -0.0799400 | 1 |  5398647 | ⋯ | 467.2 | 1 | 0.4 | 487.2 | 1 | 0.6 |  5398647 |  7284762 | 7707233 | 9170878 |\n| 5 | 2019-01-14 | FB | 20515678 | 50.0 | 0 | 399 | 0.23809524 | -0.1558800 | 1 |  9170878 | ⋯ | 462.0 | 1 | 0.4 | 495.3 | 1 | 0.6 |  9170878 |  9325642 | 7777200 | 9480406 |\n\n",
            "text/html": [
              "<table class=\"dataframe\">\n",
              "<caption>A data.frame: 5 × 40</caption>\n",
              "<thead>\n",
              "\t<tr><th></th><th scope=col>date</th><th scope=col>ticker</th><th scope=col>vol</th><th scope=col>newssentiment</th><th scope=col>newsmentions</th><th scope=col>twtrmentions</th><th scope=col>twtrsentiment</th><th scope=col>wsbsentiment</th><th scope=col>wsbmentions</th><th scope=col>retailvol</th><th scope=col>⋯</th><th scope=col>twtrmentions5MA</th><th scope=col>wsbmentions5MA</th><th scope=col>newsmentions5MA</th><th scope=col>twtrmentions10MA</th><th scope=col>wsbmentions10MA</th><th scope=col>newsmentions10MA</th><th scope=col>retailvollag1</th><th scope=col>retailvollag2</th><th scope=col>retailvollag4</th><th scope=col>target</th></tr>\n",
              "\t<tr><th></th><th scope=col>&lt;date&gt;</th><th scope=col>&lt;chr&gt;</th><th scope=col>&lt;int&gt;</th><th scope=col>&lt;dbl&gt;</th><th scope=col>&lt;int&gt;</th><th scope=col>&lt;int&gt;</th><th scope=col>&lt;dbl&gt;</th><th scope=col>&lt;dbl&gt;</th><th scope=col>&lt;int&gt;</th><th scope=col>&lt;int&gt;</th><th scope=col>⋯</th><th scope=col>&lt;dbl&gt;</th><th scope=col>&lt;dbl&gt;</th><th scope=col>&lt;dbl&gt;</th><th scope=col>&lt;dbl&gt;</th><th scope=col>&lt;dbl&gt;</th><th scope=col>&lt;dbl&gt;</th><th scope=col>&lt;int&gt;</th><th scope=col>&lt;dbl&gt;</th><th scope=col>&lt;dbl&gt;</th><th scope=col>&lt;int&gt;</th></tr>\n",
              "</thead>\n",
              "<tbody>\n",
              "\t<tr><th scope=row>1</th><td>2019-01-08</td><td>FB</td><td>26252863</td><td>63.0</td><td>2</td><td>569</td><td>0.26889279</td><td> 0.3528667</td><td>1</td><td>11163579</td><td>⋯</td><td>473.6</td><td>1</td><td>0.8</td><td>487.8</td><td>1</td><td>0.6</td><td>11163579</td><td>10410940</td><td>8964350</td><td>9658300</td></tr>\n",
              "\t<tr><th scope=row>2</th><td>2019-01-09</td><td>FB</td><td>22203279</td><td>50.0</td><td>0</td><td>489</td><td>0.09406953</td><td>-0.3818000</td><td>1</td><td> 9658300</td><td>⋯</td><td>461.0</td><td>1</td><td>0.8</td><td>473.5</td><td>1</td><td>0.4</td><td> 9658300</td><td> 8218650</td><td>8249882</td><td>6779001</td></tr>\n",
              "\t<tr><th scope=row>3</th><td>2019-01-10</td><td>FB</td><td>16111304</td><td>50.5</td><td>2</td><td>464</td><td>0.17456897</td><td> 0.3246000</td><td>1</td><td> 6779001</td><td>⋯</td><td>457.8</td><td>1</td><td>0.8</td><td>469.0</td><td>1</td><td>0.5</td><td> 6779001</td><td> 6088824</td><td>7751706</td><td>5398647</td></tr>\n",
              "\t<tr><th scope=row>4</th><td>2019-01-11</td><td>FB</td><td>12907031</td><td>50.0</td><td>0</td><td>368</td><td>0.17663043</td><td>-0.0799400</td><td>1</td><td> 5398647</td><td>⋯</td><td>467.2</td><td>1</td><td>0.4</td><td>487.2</td><td>1</td><td>0.6</td><td> 5398647</td><td> 7284762</td><td>7707233</td><td>9170878</td></tr>\n",
              "\t<tr><th scope=row>5</th><td>2019-01-14</td><td>FB</td><td>20515678</td><td>50.0</td><td>0</td><td>399</td><td>0.23809524</td><td>-0.1558800</td><td>1</td><td> 9170878</td><td>⋯</td><td>462.0</td><td>1</td><td>0.4</td><td>495.3</td><td>1</td><td>0.6</td><td> 9170878</td><td> 9325642</td><td>7777200</td><td>9480406</td></tr>\n",
              "</tbody>\n",
              "</table>\n"
            ]
          },
          "metadata": {}
        }
      ]
    },
    {
      "cell_type": "code",
      "metadata": {
        "colab": {
          "base_uri": "https://localhost:8080/"
        },
        "id": "umXIuK1pa0kG",
        "outputId": "7a102e19-f85c-445a-cb2c-0e92b64f947d"
      },
      "source": [
        "str(df)"
      ],
      "execution_count": 10,
      "outputs": [
        {
          "output_type": "stream",
          "name": "stdout",
          "text": [
            "'data.frame':\t3310 obs. of  40 variables:\n",
            " $ date             : Date, format: \"2019-01-08\" \"2019-01-09\" ...\n",
            " $ ticker           : chr  \"FB\" \"FB\" \"FB\" \"FB\" ...\n",
            " $ vol              : int  26252863 22203279 16111304 12907031 20515678 24065513 18060414 15787914 32309412 22393694 ...\n",
            " $ newssentiment    : num  63 50 50.5 50 50 50 50 37 40 50 ...\n",
            " $ newsmentions     : int  2 0 2 0 0 0 0 1 1 0 ...\n",
            " $ twtrmentions     : int  569 489 464 368 399 616 463 476 613 496 ...\n",
            " $ twtrsentiment    : num  0.2689 0.0941 0.1746 0.1766 0.2381 ...\n",
            " $ wsbsentiment     : num  0.3529 -0.3818 0.3246 -0.0799 -0.1559 ...\n",
            " $ wsbmentions      : int  1 1 1 1 1 1 1 1 1 1 ...\n",
            " $ retailvol        : int  11163579 9658300 6779001 5398647 9170878 9480406 7058870 5805217 11946377 8903335 ...\n",
            " $ instvol          : int  15100214 12547579 9346003 7509384 11349400 14588416 10966844 9982697 19083235 13475359 ...\n",
            " $ retailperc       : num  0.425 0.435 0.42 0.418 0.447 ...\n",
            " $ newssentimentlag1: num  50 63 50 50.5 50 50 50 50 37 40 ...\n",
            " $ newsmentionslag1 : int  0 2 0 2 0 0 0 0 1 1 ...\n",
            " $ twtrmentionslag1 : int  415 569 489 464 368 399 616 463 476 613 ...\n",
            " $ twtrsentimentlag1: num  0.2024 0.2689 0.0941 0.1746 0.1766 ...\n",
            " $ wsbsentimentlag1 : num  -0.2222 0.3529 -0.3818 0.3246 -0.0799 ...\n",
            " $ wsbmentionslag1  : int  1 1 1 1 1 1 1 1 1 1 ...\n",
            " $ newssentimentlag2: num  50 50 63 50 50.5 50 50 50 50 37 ...\n",
            " $ newsmentionslag2 : int  0 0 2 0 2 0 0 0 0 1 ...\n",
            " $ twtrmentionslag2 : int  431 415 569 489 464 368 399 616 463 476 ...\n",
            " $ twtrsentimentlag2: num  0.058 0.2024 0.2689 0.0941 0.1746 ...\n",
            " $ wsbsentimentlag2 : num  -0.0623 -0.2222 0.3529 -0.3818 0.3246 ...\n",
            " $ wsbmentionslag2  : int  1 1 1 1 1 1 1 1 1 1 ...\n",
            " $ newssentimentlag4: num  50 50 50 50 63 50 50.5 50 50 50 ...\n",
            " $ newsmentionslag4 : int  2 0 0 0 2 0 2 0 0 0 ...\n",
            " $ twtrmentionslag4 : int  606 521 431 415 569 489 464 368 399 616 ...\n",
            " $ twtrsentimentlag4: num  0.1172 0.0307 0.058 0.2024 0.2689 ...\n",
            " $ wsbsentimentlag4 : num  0.1815 -0.1377 -0.0623 -0.2222 0.3529 ...\n",
            " $ wsbmentionslag4  : int  1 1 1 1 1 1 1 1 1 1 ...\n",
            " $ twtrmentions5MA  : num  474 461 458 467 462 ...\n",
            " $ wsbmentions5MA   : num  1 1 1 1 1 1 1 1 1 1 ...\n",
            " $ newsmentions5MA  : num  0.8 0.8 0.8 0.4 0.4 0.2 0.4 0.4 0.6 1.2 ...\n",
            " $ twtrmentions10MA : num  488 474 469 487 495 ...\n",
            " $ wsbmentions10MA  : num  1 1 1 1 1 1 1 1 1 1 ...\n",
            " $ newsmentions10MA : num  0.6 0.4 0.5 0.6 0.6 0.5 0.8 0.6 0.8 1.1 ...\n",
            " $ retailvollag1    : int  11163579 9658300 6779001 5398647 9170878 9480406 7058870 5805217 11946377 8903335 ...\n",
            " $ retailvollag2    : num  10410940 8218650 6088824 7284762 9325642 ...\n",
            " $ retailvollag4    : num  8964350 8249882 7751706 7707233 7777200 ...\n",
            " $ target           : int  9658300 6779001 5398647 9170878 9480406 7058870 5805217 11946377 8903335 7344744 ...\n"
          ]
        }
      ]
    },
    {
      "cell_type": "markdown",
      "metadata": {
        "id": "1wOvv24EUY8F"
      },
      "source": [
        "662 trading days worth of training data from Jan 8, 2019 to Aug 30, 2021."
      ]
    },
    {
      "cell_type": "code",
      "metadata": {
        "id": "Jc7NYXaOUMIZ",
        "colab": {
          "base_uri": "https://localhost:8080/",
          "height": 255
        },
        "outputId": "39ba405a-81a5-4092-a68c-2c45de1265b3"
      },
      "source": [
        "df %>%\n",
        "  group_by(ticker) %>%\n",
        "  summarise(n())"
      ],
      "execution_count": 11,
      "outputs": [
        {
          "output_type": "display_data",
          "data": {
            "text/plain": [
              "  ticker n()\n",
              "1 AAPL   662\n",
              "2 AMZN   662\n",
              "3 FB     662\n",
              "4 GOOGL  662\n",
              "5 NFLX   662"
            ],
            "text/latex": "A tibble: 5 × 2\n\\begin{tabular}{ll}\n ticker & n()\\\\\n <chr> & <int>\\\\\n\\hline\n\t AAPL  & 662\\\\\n\t AMZN  & 662\\\\\n\t FB    & 662\\\\\n\t GOOGL & 662\\\\\n\t NFLX  & 662\\\\\n\\end{tabular}\n",
            "text/markdown": "\nA tibble: 5 × 2\n\n| ticker &lt;chr&gt; | n() &lt;int&gt; |\n|---|---|\n| AAPL  | 662 |\n| AMZN  | 662 |\n| FB    | 662 |\n| GOOGL | 662 |\n| NFLX  | 662 |\n\n",
            "text/html": [
              "<table class=\"dataframe\">\n",
              "<caption>A tibble: 5 × 2</caption>\n",
              "<thead>\n",
              "\t<tr><th scope=col>ticker</th><th scope=col>n()</th></tr>\n",
              "\t<tr><th scope=col>&lt;chr&gt;</th><th scope=col>&lt;int&gt;</th></tr>\n",
              "</thead>\n",
              "<tbody>\n",
              "\t<tr><td>AAPL </td><td>662</td></tr>\n",
              "\t<tr><td>AMZN </td><td>662</td></tr>\n",
              "\t<tr><td>FB   </td><td>662</td></tr>\n",
              "\t<tr><td>GOOGL</td><td>662</td></tr>\n",
              "\t<tr><td>NFLX </td><td>662</td></tr>\n",
              "</tbody>\n",
              "</table>\n"
            ]
          },
          "metadata": {}
        }
      ]
    },
    {
      "cell_type": "markdown",
      "metadata": {
        "id": "re0kLUG1aPQN"
      },
      "source": [
        "# **Data Preparation**"
      ]
    },
    {
      "cell_type": "markdown",
      "metadata": {
        "id": "gz-fVbpKbSe9"
      },
      "source": [
        "Train-test split"
      ]
    },
    {
      "cell_type": "code",
      "metadata": {
        "id": "FzUiyc3naO72",
        "colab": {
          "base_uri": "https://localhost:8080/",
          "height": 34
        },
        "outputId": "dd0de144-d2ee-4aa5-8f95-5e4d89d3832d"
      },
      "source": [
        "split = as.Date(\"2020-11-24\")\n",
        "\n",
        "# Train-test split\n",
        "train = df %>% filter(date < split)\n",
        "test = df %>% filter(date >= split)\n",
        "\n",
        "train_days = dim(train)[1]/5\n",
        "test_days = dim(test)[1]/5\n",
        "\n",
        "train_prop = train_days / (train_days + test_days)\n",
        "\n",
        "paste0(\"Training data proportion: \", round(train_prop * 100, 1), \"%. Total training days = \", train_days)"
      ],
      "execution_count": 25,
      "outputs": [
        {
          "output_type": "display_data",
          "data": {
            "text/plain": [
              "[1] \"Training data proportion: 71.8%. Total training days = 475\""
            ],
            "text/latex": "'Training data proportion: 71.8\\%. Total training days = 475'",
            "text/markdown": "'Training data proportion: 71.8%. Total training days = 475'",
            "text/html": [
              "'Training data proportion: 71.8%. Total training days = 475'"
            ]
          },
          "metadata": {}
        }
      ]
    },
    {
      "cell_type": "markdown",
      "metadata": {
        "id": "VV8sndrrdZ6R"
      },
      "source": [
        "Train-validate Split - as normal k-fold CV does not work on time series, an expanding window approach is used (see Section 4.3 of https://topepo.github.io/caret/data-splitting.html#time). With these parameters, CV-error will be run on 5 different validation sets."
      ]
    },
    {
      "cell_type": "code",
      "metadata": {
        "id": "E00-DFtJbbxi",
        "colab": {
          "base_uri": "https://localhost:8080/",
          "height": 114
        },
        "outputId": "b078fe7d-dc10-4311-f5c1-2677d5ba1a61"
      },
      "source": [
        "index = 1:train_days\n",
        "slices = createTimeSlices(index, initialWindow = 230, horizon = 100, fixedWindow = FALSE, skip = 28)\n",
        "\n",
        "trainslices = slices[[1]] # specific slices callable by df[trainslices[[i]],]\n",
        "testslices = slices[[2]]\n",
        "\n",
        "lapply(slices, length)"
      ],
      "execution_count": 26,
      "outputs": [
        {
          "output_type": "display_data",
          "data": {
            "text/plain": [
              "$train\n",
              "[1] 6\n",
              "\n",
              "$test\n",
              "[1] 6\n"
            ],
            "text/latex": "\\begin{description}\n\\item[\\$train] 6\n\\item[\\$test] 6\n\\end{description}\n",
            "text/markdown": "$train\n:   6\n$test\n:   6\n\n\n",
            "text/html": [
              "<dl>\n",
              "\t<dt>$train</dt>\n",
              "\t\t<dd>6</dd>\n",
              "\t<dt>$test</dt>\n",
              "\t\t<dd>6</dd>\n",
              "</dl>\n"
            ]
          },
          "metadata": {}
        }
      ]
    },
    {
      "cell_type": "code",
      "metadata": {
        "colab": {
          "base_uri": "https://localhost:8080/"
        },
        "id": "60-GzaA4Qghx",
        "outputId": "93c12bad-5e3e-497c-efdc-7927e346c3f2"
      },
      "source": [
        "for (fold in 1:6) {\n",
        "  trainN = length(slices$train[[fold]])\n",
        "  testN = length(slices$test[[fold]])\n",
        "  trainperc = round(trainN / (trainN + testN), 2) * 100\n",
        "\n",
        "  print(paste0(\"Fold \", fold, \": \", trainN, \" train data. 100 test data. \", trainperc, \"%\"))\n",
        "}"
      ],
      "execution_count": 28,
      "outputs": [
        {
          "output_type": "stream",
          "name": "stdout",
          "text": [
            "[1] \"Fold 1: 230 train data. 100 test data. 70%\"\n",
            "[1] \"Fold 2: 259 train data. 100 test data. 72%\"\n",
            "[1] \"Fold 3: 288 train data. 100 test data. 74%\"\n",
            "[1] \"Fold 4: 317 train data. 100 test data. 76%\"\n",
            "[1] \"Fold 5: 346 train data. 100 test data. 78%\"\n",
            "[1] \"Fold 6: 375 train data. 100 test data. 79%\"\n"
          ]
        }
      ]
    },
    {
      "cell_type": "code",
      "metadata": {
        "colab": {
          "base_uri": "https://localhost:8080/",
          "height": 962
        },
        "id": "rlDdwgfEPJ8c",
        "outputId": "22a43b40-d0ab-481d-b9c2-b85f6f5de6ab"
      },
      "source": [
        "slices$train\n",
        "slices$test"
      ],
      "execution_count": 29,
      "outputs": [
        {
          "output_type": "display_data",
          "data": {
            "text/plain": [
              "$Training230\n",
              "  [1]   1   2   3   4   5   6   7   8   9  10  11  12  13  14  15  16  17  18\n",
              " [19]  19  20  21  22  23  24  25  26  27  28  29  30  31  32  33  34  35  36\n",
              " [37]  37  38  39  40  41  42  43  44  45  46  47  48  49  50  51  52  53  54\n",
              " [55]  55  56  57  58  59  60  61  62  63  64  65  66  67  68  69  70  71  72\n",
              " [73]  73  74  75  76  77  78  79  80  81  82  83  84  85  86  87  88  89  90\n",
              " [91]  91  92  93  94  95  96  97  98  99 100 101 102 103 104 105 106 107 108\n",
              "[109] 109 110 111 112 113 114 115 116 117 118 119 120 121 122 123 124 125 126\n",
              "[127] 127 128 129 130 131 132 133 134 135 136 137 138 139 140 141 142 143 144\n",
              "[145] 145 146 147 148 149 150 151 152 153 154 155 156 157 158 159 160 161 162\n",
              "[163] 163 164 165 166 167 168 169 170 171 172 173 174 175 176 177 178 179 180\n",
              "[181] 181 182 183 184 185 186 187 188 189 190 191 192 193 194 195 196 197 198\n",
              "[199] 199 200 201 202 203 204 205 206 207 208 209 210 211 212 213 214 215 216\n",
              "[217] 217 218 219 220 221 222 223 224 225 226 227 228 229 230\n",
              "\n",
              "$Training259\n",
              "  [1]   1   2   3   4   5   6   7   8   9  10  11  12  13  14  15  16  17  18\n",
              " [19]  19  20  21  22  23  24  25  26  27  28  29  30  31  32  33  34  35  36\n",
              " [37]  37  38  39  40  41  42  43  44  45  46  47  48  49  50  51  52  53  54\n",
              " [55]  55  56  57  58  59  60  61  62  63  64  65  66  67  68  69  70  71  72\n",
              " [73]  73  74  75  76  77  78  79  80  81  82  83  84  85  86  87  88  89  90\n",
              " [91]  91  92  93  94  95  96  97  98  99 100 101 102 103 104 105 106 107 108\n",
              "[109] 109 110 111 112 113 114 115 116 117 118 119 120 121 122 123 124 125 126\n",
              "[127] 127 128 129 130 131 132 133 134 135 136 137 138 139 140 141 142 143 144\n",
              "[145] 145 146 147 148 149 150 151 152 153 154 155 156 157 158 159 160 161 162\n",
              "[163] 163 164 165 166 167 168 169 170 171 172 173 174 175 176 177 178 179 180\n",
              "[181] 181 182 183 184 185 186 187 188 189 190 191 192 193 194 195 196 197 198\n",
              "[199] 199 200 201 202 203 204 205 206 207 208 209 210 211 212 213 214 215 216\n",
              "[217] 217 218 219 220 221 222 223 224 225 226 227 228 229 230 231 232 233 234\n",
              "[235] 235 236 237 238 239 240 241 242 243 244 245 246 247 248 249 250 251 252\n",
              "[253] 253 254 255 256 257 258 259\n",
              "\n",
              "$Training288\n",
              "  [1]   1   2   3   4   5   6   7   8   9  10  11  12  13  14  15  16  17  18\n",
              " [19]  19  20  21  22  23  24  25  26  27  28  29  30  31  32  33  34  35  36\n",
              " [37]  37  38  39  40  41  42  43  44  45  46  47  48  49  50  51  52  53  54\n",
              " [55]  55  56  57  58  59  60  61  62  63  64  65  66  67  68  69  70  71  72\n",
              " [73]  73  74  75  76  77  78  79  80  81  82  83  84  85  86  87  88  89  90\n",
              " [91]  91  92  93  94  95  96  97  98  99 100 101 102 103 104 105 106 107 108\n",
              "[109] 109 110 111 112 113 114 115 116 117 118 119 120 121 122 123 124 125 126\n",
              "[127] 127 128 129 130 131 132 133 134 135 136 137 138 139 140 141 142 143 144\n",
              "[145] 145 146 147 148 149 150 151 152 153 154 155 156 157 158 159 160 161 162\n",
              "[163] 163 164 165 166 167 168 169 170 171 172 173 174 175 176 177 178 179 180\n",
              "[181] 181 182 183 184 185 186 187 188 189 190 191 192 193 194 195 196 197 198\n",
              "[199] 199 200 201 202 203 204 205 206 207 208 209 210 211 212 213 214 215 216\n",
              "[217] 217 218 219 220 221 222 223 224 225 226 227 228 229 230 231 232 233 234\n",
              "[235] 235 236 237 238 239 240 241 242 243 244 245 246 247 248 249 250 251 252\n",
              "[253] 253 254 255 256 257 258 259 260 261 262 263 264 265 266 267 268 269 270\n",
              "[271] 271 272 273 274 275 276 277 278 279 280 281 282 283 284 285 286 287 288\n",
              "\n",
              "$Training317\n",
              "  [1]   1   2   3   4   5   6   7   8   9  10  11  12  13  14  15  16  17  18\n",
              " [19]  19  20  21  22  23  24  25  26  27  28  29  30  31  32  33  34  35  36\n",
              " [37]  37  38  39  40  41  42  43  44  45  46  47  48  49  50  51  52  53  54\n",
              " [55]  55  56  57  58  59  60  61  62  63  64  65  66  67  68  69  70  71  72\n",
              " [73]  73  74  75  76  77  78  79  80  81  82  83  84  85  86  87  88  89  90\n",
              " [91]  91  92  93  94  95  96  97  98  99 100 101 102 103 104 105 106 107 108\n",
              "[109] 109 110 111 112 113 114 115 116 117 118 119 120 121 122 123 124 125 126\n",
              "[127] 127 128 129 130 131 132 133 134 135 136 137 138 139 140 141 142 143 144\n",
              "[145] 145 146 147 148 149 150 151 152 153 154 155 156 157 158 159 160 161 162\n",
              "[163] 163 164 165 166 167 168 169 170 171 172 173 174 175 176 177 178 179 180\n",
              "[181] 181 182 183 184 185 186 187 188 189 190 191 192 193 194 195 196 197 198\n",
              "[199] 199 200 201 202 203 204 205 206 207 208 209 210 211 212 213 214 215 216\n",
              "[217] 217 218 219 220 221 222 223 224 225 226 227 228 229 230 231 232 233 234\n",
              "[235] 235 236 237 238 239 240 241 242 243 244 245 246 247 248 249 250 251 252\n",
              "[253] 253 254 255 256 257 258 259 260 261 262 263 264 265 266 267 268 269 270\n",
              "[271] 271 272 273 274 275 276 277 278 279 280 281 282 283 284 285 286 287 288\n",
              "[289] 289 290 291 292 293 294 295 296 297 298 299 300 301 302 303 304 305 306\n",
              "[307] 307 308 309 310 311 312 313 314 315 316 317\n",
              "\n",
              "$Training346\n",
              "  [1]   1   2   3   4   5   6   7   8   9  10  11  12  13  14  15  16  17  18\n",
              " [19]  19  20  21  22  23  24  25  26  27  28  29  30  31  32  33  34  35  36\n",
              " [37]  37  38  39  40  41  42  43  44  45  46  47  48  49  50  51  52  53  54\n",
              " [55]  55  56  57  58  59  60  61  62  63  64  65  66  67  68  69  70  71  72\n",
              " [73]  73  74  75  76  77  78  79  80  81  82  83  84  85  86  87  88  89  90\n",
              " [91]  91  92  93  94  95  96  97  98  99 100 101 102 103 104 105 106 107 108\n",
              "[109] 109 110 111 112 113 114 115 116 117 118 119 120 121 122 123 124 125 126\n",
              "[127] 127 128 129 130 131 132 133 134 135 136 137 138 139 140 141 142 143 144\n",
              "[145] 145 146 147 148 149 150 151 152 153 154 155 156 157 158 159 160 161 162\n",
              "[163] 163 164 165 166 167 168 169 170 171 172 173 174 175 176 177 178 179 180\n",
              "[181] 181 182 183 184 185 186 187 188 189 190 191 192 193 194 195 196 197 198\n",
              "[199] 199 200 201 202 203 204 205 206 207 208 209 210 211 212 213 214 215 216\n",
              "[217] 217 218 219 220 221 222 223 224 225 226 227 228 229 230 231 232 233 234\n",
              "[235] 235 236 237 238 239 240 241 242 243 244 245 246 247 248 249 250 251 252\n",
              "[253] 253 254 255 256 257 258 259 260 261 262 263 264 265 266 267 268 269 270\n",
              "[271] 271 272 273 274 275 276 277 278 279 280 281 282 283 284 285 286 287 288\n",
              "[289] 289 290 291 292 293 294 295 296 297 298 299 300 301 302 303 304 305 306\n",
              "[307] 307 308 309 310 311 312 313 314 315 316 317 318 319 320 321 322 323 324\n",
              "[325] 325 326 327 328 329 330 331 332 333 334 335 336 337 338 339 340 341 342\n",
              "[343] 343 344 345 346\n",
              "\n",
              "$Training375\n",
              "  [1]   1   2   3   4   5   6   7   8   9  10  11  12  13  14  15  16  17  18\n",
              " [19]  19  20  21  22  23  24  25  26  27  28  29  30  31  32  33  34  35  36\n",
              " [37]  37  38  39  40  41  42  43  44  45  46  47  48  49  50  51  52  53  54\n",
              " [55]  55  56  57  58  59  60  61  62  63  64  65  66  67  68  69  70  71  72\n",
              " [73]  73  74  75  76  77  78  79  80  81  82  83  84  85  86  87  88  89  90\n",
              " [91]  91  92  93  94  95  96  97  98  99 100 101 102 103 104 105 106 107 108\n",
              "[109] 109 110 111 112 113 114 115 116 117 118 119 120 121 122 123 124 125 126\n",
              "[127] 127 128 129 130 131 132 133 134 135 136 137 138 139 140 141 142 143 144\n",
              "[145] 145 146 147 148 149 150 151 152 153 154 155 156 157 158 159 160 161 162\n",
              "[163] 163 164 165 166 167 168 169 170 171 172 173 174 175 176 177 178 179 180\n",
              "[181] 181 182 183 184 185 186 187 188 189 190 191 192 193 194 195 196 197 198\n",
              "[199] 199 200 201 202 203 204 205 206 207 208 209 210 211 212 213 214 215 216\n",
              "[217] 217 218 219 220 221 222 223 224 225 226 227 228 229 230 231 232 233 234\n",
              "[235] 235 236 237 238 239 240 241 242 243 244 245 246 247 248 249 250 251 252\n",
              "[253] 253 254 255 256 257 258 259 260 261 262 263 264 265 266 267 268 269 270\n",
              "[271] 271 272 273 274 275 276 277 278 279 280 281 282 283 284 285 286 287 288\n",
              "[289] 289 290 291 292 293 294 295 296 297 298 299 300 301 302 303 304 305 306\n",
              "[307] 307 308 309 310 311 312 313 314 315 316 317 318 319 320 321 322 323 324\n",
              "[325] 325 326 327 328 329 330 331 332 333 334 335 336 337 338 339 340 341 342\n",
              "[343] 343 344 345 346 347 348 349 350 351 352 353 354 355 356 357 358 359 360\n",
              "[361] 361 362 363 364 365 366 367 368 369 370 371 372 373 374 375\n"
            ],
            "text/latex": "\\begin{description}\n\\item[\\$Training230] \\begin{enumerate*}\n\\item 1\n\\item 2\n\\item 3\n\\item 4\n\\item 5\n\\item 6\n\\item 7\n\\item 8\n\\item 9\n\\item 10\n\\item 11\n\\item 12\n\\item 13\n\\item 14\n\\item 15\n\\item 16\n\\item 17\n\\item 18\n\\item 19\n\\item 20\n\\item 21\n\\item 22\n\\item 23\n\\item 24\n\\item 25\n\\item 26\n\\item 27\n\\item 28\n\\item 29\n\\item 30\n\\item 31\n\\item 32\n\\item 33\n\\item 34\n\\item 35\n\\item 36\n\\item 37\n\\item 38\n\\item 39\n\\item 40\n\\item 41\n\\item 42\n\\item 43\n\\item 44\n\\item 45\n\\item 46\n\\item 47\n\\item 48\n\\item 49\n\\item 50\n\\item 51\n\\item 52\n\\item 53\n\\item 54\n\\item 55\n\\item 56\n\\item 57\n\\item 58\n\\item 59\n\\item 60\n\\item 61\n\\item 62\n\\item 63\n\\item 64\n\\item 65\n\\item 66\n\\item 67\n\\item 68\n\\item 69\n\\item 70\n\\item 71\n\\item 72\n\\item 73\n\\item 74\n\\item 75\n\\item 76\n\\item 77\n\\item 78\n\\item 79\n\\item 80\n\\item 81\n\\item 82\n\\item 83\n\\item 84\n\\item 85\n\\item 86\n\\item 87\n\\item 88\n\\item 89\n\\item 90\n\\item 91\n\\item 92\n\\item 93\n\\item 94\n\\item 95\n\\item 96\n\\item 97\n\\item 98\n\\item 99\n\\item 100\n\\item 101\n\\item 102\n\\item 103\n\\item 104\n\\item 105\n\\item 106\n\\item 107\n\\item 108\n\\item 109\n\\item 110\n\\item 111\n\\item 112\n\\item 113\n\\item 114\n\\item 115\n\\item 116\n\\item 117\n\\item 118\n\\item 119\n\\item 120\n\\item 121\n\\item 122\n\\item 123\n\\item 124\n\\item 125\n\\item 126\n\\item 127\n\\item 128\n\\item 129\n\\item 130\n\\item 131\n\\item 132\n\\item 133\n\\item 134\n\\item 135\n\\item 136\n\\item 137\n\\item 138\n\\item 139\n\\item 140\n\\item 141\n\\item 142\n\\item 143\n\\item 144\n\\item 145\n\\item 146\n\\item 147\n\\item 148\n\\item 149\n\\item 150\n\\item 151\n\\item 152\n\\item 153\n\\item 154\n\\item 155\n\\item 156\n\\item 157\n\\item 158\n\\item 159\n\\item 160\n\\item 161\n\\item 162\n\\item 163\n\\item 164\n\\item 165\n\\item 166\n\\item 167\n\\item 168\n\\item 169\n\\item 170\n\\item 171\n\\item 172\n\\item 173\n\\item 174\n\\item 175\n\\item 176\n\\item 177\n\\item 178\n\\item 179\n\\item 180\n\\item 181\n\\item 182\n\\item 183\n\\item 184\n\\item 185\n\\item 186\n\\item 187\n\\item 188\n\\item 189\n\\item 190\n\\item 191\n\\item 192\n\\item 193\n\\item 194\n\\item 195\n\\item 196\n\\item 197\n\\item 198\n\\item 199\n\\item 200\n\\item 201\n\\item 202\n\\item 203\n\\item 204\n\\item 205\n\\item 206\n\\item 207\n\\item 208\n\\item 209\n\\item 210\n\\item 211\n\\item 212\n\\item 213\n\\item 214\n\\item 215\n\\item 216\n\\item 217\n\\item 218\n\\item 219\n\\item 220\n\\item 221\n\\item 222\n\\item 223\n\\item 224\n\\item 225\n\\item 226\n\\item 227\n\\item 228\n\\item 229\n\\item 230\n\\end{enumerate*}\n\n\\item[\\$Training259] \\begin{enumerate*}\n\\item 1\n\\item 2\n\\item 3\n\\item 4\n\\item 5\n\\item 6\n\\item 7\n\\item 8\n\\item 9\n\\item 10\n\\item 11\n\\item 12\n\\item 13\n\\item 14\n\\item 15\n\\item 16\n\\item 17\n\\item 18\n\\item 19\n\\item 20\n\\item 21\n\\item 22\n\\item 23\n\\item 24\n\\item 25\n\\item 26\n\\item 27\n\\item 28\n\\item 29\n\\item 30\n\\item 31\n\\item 32\n\\item 33\n\\item 34\n\\item 35\n\\item 36\n\\item 37\n\\item 38\n\\item 39\n\\item 40\n\\item 41\n\\item 42\n\\item 43\n\\item 44\n\\item 45\n\\item 46\n\\item 47\n\\item 48\n\\item 49\n\\item 50\n\\item 51\n\\item 52\n\\item 53\n\\item 54\n\\item 55\n\\item 56\n\\item 57\n\\item 58\n\\item 59\n\\item 60\n\\item 61\n\\item 62\n\\item 63\n\\item 64\n\\item 65\n\\item 66\n\\item 67\n\\item 68\n\\item 69\n\\item 70\n\\item 71\n\\item 72\n\\item 73\n\\item 74\n\\item 75\n\\item 76\n\\item 77\n\\item 78\n\\item 79\n\\item 80\n\\item 81\n\\item 82\n\\item 83\n\\item 84\n\\item 85\n\\item 86\n\\item 87\n\\item 88\n\\item 89\n\\item 90\n\\item 91\n\\item 92\n\\item 93\n\\item 94\n\\item 95\n\\item 96\n\\item 97\n\\item 98\n\\item 99\n\\item 100\n\\item 101\n\\item 102\n\\item 103\n\\item 104\n\\item 105\n\\item 106\n\\item 107\n\\item 108\n\\item 109\n\\item 110\n\\item 111\n\\item 112\n\\item 113\n\\item 114\n\\item 115\n\\item 116\n\\item 117\n\\item 118\n\\item 119\n\\item 120\n\\item 121\n\\item 122\n\\item 123\n\\item 124\n\\item 125\n\\item 126\n\\item 127\n\\item 128\n\\item 129\n\\item 130\n\\item 131\n\\item 132\n\\item 133\n\\item 134\n\\item 135\n\\item 136\n\\item 137\n\\item 138\n\\item 139\n\\item 140\n\\item 141\n\\item 142\n\\item 143\n\\item 144\n\\item 145\n\\item 146\n\\item 147\n\\item 148\n\\item 149\n\\item 150\n\\item 151\n\\item 152\n\\item 153\n\\item 154\n\\item 155\n\\item 156\n\\item 157\n\\item 158\n\\item 159\n\\item 160\n\\item 161\n\\item 162\n\\item 163\n\\item 164\n\\item 165\n\\item 166\n\\item 167\n\\item 168\n\\item 169\n\\item 170\n\\item 171\n\\item 172\n\\item 173\n\\item 174\n\\item 175\n\\item 176\n\\item 177\n\\item 178\n\\item 179\n\\item 180\n\\item 181\n\\item 182\n\\item 183\n\\item 184\n\\item 185\n\\item 186\n\\item 187\n\\item 188\n\\item 189\n\\item 190\n\\item 191\n\\item 192\n\\item 193\n\\item 194\n\\item 195\n\\item 196\n\\item 197\n\\item 198\n\\item 199\n\\item 200\n\\item 201\n\\item 202\n\\item 203\n\\item 204\n\\item 205\n\\item 206\n\\item 207\n\\item 208\n\\item 209\n\\item 210\n\\item 211\n\\item 212\n\\item 213\n\\item 214\n\\item 215\n\\item 216\n\\item 217\n\\item 218\n\\item 219\n\\item 220\n\\item 221\n\\item 222\n\\item 223\n\\item 224\n\\item 225\n\\item 226\n\\item 227\n\\item 228\n\\item 229\n\\item 230\n\\item 231\n\\item 232\n\\item 233\n\\item 234\n\\item 235\n\\item 236\n\\item 237\n\\item 238\n\\item 239\n\\item 240\n\\item 241\n\\item 242\n\\item 243\n\\item 244\n\\item 245\n\\item 246\n\\item 247\n\\item 248\n\\item 249\n\\item 250\n\\item 251\n\\item 252\n\\item 253\n\\item 254\n\\item 255\n\\item 256\n\\item 257\n\\item 258\n\\item 259\n\\end{enumerate*}\n\n\\item[\\$Training288] \\begin{enumerate*}\n\\item 1\n\\item 2\n\\item 3\n\\item 4\n\\item 5\n\\item 6\n\\item 7\n\\item 8\n\\item 9\n\\item 10\n\\item 11\n\\item 12\n\\item 13\n\\item 14\n\\item 15\n\\item 16\n\\item 17\n\\item 18\n\\item 19\n\\item 20\n\\item 21\n\\item 22\n\\item 23\n\\item 24\n\\item 25\n\\item 26\n\\item 27\n\\item 28\n\\item 29\n\\item 30\n\\item 31\n\\item 32\n\\item 33\n\\item 34\n\\item 35\n\\item 36\n\\item 37\n\\item 38\n\\item 39\n\\item 40\n\\item 41\n\\item 42\n\\item 43\n\\item 44\n\\item 45\n\\item 46\n\\item 47\n\\item 48\n\\item 49\n\\item 50\n\\item 51\n\\item 52\n\\item 53\n\\item 54\n\\item 55\n\\item 56\n\\item 57\n\\item 58\n\\item 59\n\\item 60\n\\item 61\n\\item 62\n\\item 63\n\\item 64\n\\item 65\n\\item 66\n\\item 67\n\\item 68\n\\item 69\n\\item 70\n\\item 71\n\\item 72\n\\item 73\n\\item 74\n\\item 75\n\\item 76\n\\item 77\n\\item 78\n\\item 79\n\\item 80\n\\item 81\n\\item 82\n\\item 83\n\\item 84\n\\item 85\n\\item 86\n\\item 87\n\\item 88\n\\item 89\n\\item 90\n\\item 91\n\\item 92\n\\item 93\n\\item 94\n\\item 95\n\\item 96\n\\item 97\n\\item 98\n\\item 99\n\\item 100\n\\item 101\n\\item 102\n\\item 103\n\\item 104\n\\item 105\n\\item 106\n\\item 107\n\\item 108\n\\item 109\n\\item 110\n\\item 111\n\\item 112\n\\item 113\n\\item 114\n\\item 115\n\\item 116\n\\item 117\n\\item 118\n\\item 119\n\\item 120\n\\item 121\n\\item 122\n\\item 123\n\\item 124\n\\item 125\n\\item 126\n\\item 127\n\\item 128\n\\item 129\n\\item 130\n\\item 131\n\\item 132\n\\item 133\n\\item 134\n\\item 135\n\\item 136\n\\item 137\n\\item 138\n\\item 139\n\\item 140\n\\item 141\n\\item 142\n\\item 143\n\\item 144\n\\item 145\n\\item 146\n\\item 147\n\\item 148\n\\item 149\n\\item 150\n\\item 151\n\\item 152\n\\item 153\n\\item 154\n\\item 155\n\\item 156\n\\item 157\n\\item 158\n\\item 159\n\\item 160\n\\item 161\n\\item 162\n\\item 163\n\\item 164\n\\item 165\n\\item 166\n\\item 167\n\\item 168\n\\item 169\n\\item 170\n\\item 171\n\\item 172\n\\item 173\n\\item 174\n\\item 175\n\\item 176\n\\item 177\n\\item 178\n\\item 179\n\\item 180\n\\item 181\n\\item 182\n\\item 183\n\\item 184\n\\item 185\n\\item 186\n\\item 187\n\\item 188\n\\item 189\n\\item 190\n\\item 191\n\\item 192\n\\item 193\n\\item 194\n\\item 195\n\\item 196\n\\item 197\n\\item 198\n\\item 199\n\\item 200\n\\item 201\n\\item 202\n\\item 203\n\\item 204\n\\item 205\n\\item 206\n\\item 207\n\\item 208\n\\item 209\n\\item 210\n\\item 211\n\\item 212\n\\item 213\n\\item 214\n\\item 215\n\\item 216\n\\item 217\n\\item 218\n\\item 219\n\\item 220\n\\item 221\n\\item 222\n\\item 223\n\\item 224\n\\item 225\n\\item 226\n\\item 227\n\\item 228\n\\item 229\n\\item 230\n\\item 231\n\\item 232\n\\item 233\n\\item 234\n\\item 235\n\\item 236\n\\item 237\n\\item 238\n\\item 239\n\\item 240\n\\item 241\n\\item 242\n\\item 243\n\\item 244\n\\item 245\n\\item 246\n\\item 247\n\\item 248\n\\item 249\n\\item 250\n\\item 251\n\\item 252\n\\item 253\n\\item 254\n\\item 255\n\\item 256\n\\item 257\n\\item 258\n\\item 259\n\\item 260\n\\item 261\n\\item 262\n\\item 263\n\\item 264\n\\item 265\n\\item 266\n\\item 267\n\\item 268\n\\item 269\n\\item 270\n\\item 271\n\\item 272\n\\item 273\n\\item 274\n\\item 275\n\\item 276\n\\item 277\n\\item 278\n\\item 279\n\\item 280\n\\item 281\n\\item 282\n\\item 283\n\\item 284\n\\item 285\n\\item 286\n\\item 287\n\\item 288\n\\end{enumerate*}\n\n\\item[\\$Training317] \\begin{enumerate*}\n\\item 1\n\\item 2\n\\item 3\n\\item 4\n\\item 5\n\\item 6\n\\item 7\n\\item 8\n\\item 9\n\\item 10\n\\item 11\n\\item 12\n\\item 13\n\\item 14\n\\item 15\n\\item 16\n\\item 17\n\\item 18\n\\item 19\n\\item 20\n\\item 21\n\\item 22\n\\item 23\n\\item 24\n\\item 25\n\\item 26\n\\item 27\n\\item 28\n\\item 29\n\\item 30\n\\item 31\n\\item 32\n\\item 33\n\\item 34\n\\item 35\n\\item 36\n\\item 37\n\\item 38\n\\item 39\n\\item 40\n\\item 41\n\\item 42\n\\item 43\n\\item 44\n\\item 45\n\\item 46\n\\item 47\n\\item 48\n\\item 49\n\\item 50\n\\item 51\n\\item 52\n\\item 53\n\\item 54\n\\item 55\n\\item 56\n\\item 57\n\\item 58\n\\item 59\n\\item 60\n\\item 61\n\\item 62\n\\item 63\n\\item 64\n\\item 65\n\\item 66\n\\item 67\n\\item 68\n\\item 69\n\\item 70\n\\item 71\n\\item 72\n\\item 73\n\\item 74\n\\item 75\n\\item 76\n\\item 77\n\\item 78\n\\item 79\n\\item 80\n\\item 81\n\\item 82\n\\item 83\n\\item 84\n\\item 85\n\\item 86\n\\item 87\n\\item 88\n\\item 89\n\\item 90\n\\item 91\n\\item 92\n\\item 93\n\\item 94\n\\item 95\n\\item 96\n\\item 97\n\\item 98\n\\item 99\n\\item 100\n\\item 101\n\\item 102\n\\item 103\n\\item 104\n\\item 105\n\\item 106\n\\item 107\n\\item 108\n\\item 109\n\\item 110\n\\item 111\n\\item 112\n\\item 113\n\\item 114\n\\item 115\n\\item 116\n\\item 117\n\\item 118\n\\item 119\n\\item 120\n\\item 121\n\\item 122\n\\item 123\n\\item 124\n\\item 125\n\\item 126\n\\item 127\n\\item 128\n\\item 129\n\\item 130\n\\item 131\n\\item 132\n\\item 133\n\\item 134\n\\item 135\n\\item 136\n\\item 137\n\\item 138\n\\item 139\n\\item 140\n\\item 141\n\\item 142\n\\item 143\n\\item 144\n\\item 145\n\\item 146\n\\item 147\n\\item 148\n\\item 149\n\\item 150\n\\item 151\n\\item 152\n\\item 153\n\\item 154\n\\item 155\n\\item 156\n\\item 157\n\\item 158\n\\item 159\n\\item 160\n\\item 161\n\\item 162\n\\item 163\n\\item 164\n\\item 165\n\\item 166\n\\item 167\n\\item 168\n\\item 169\n\\item 170\n\\item 171\n\\item 172\n\\item 173\n\\item 174\n\\item 175\n\\item 176\n\\item 177\n\\item 178\n\\item 179\n\\item 180\n\\item 181\n\\item 182\n\\item 183\n\\item 184\n\\item 185\n\\item 186\n\\item 187\n\\item 188\n\\item 189\n\\item 190\n\\item 191\n\\item 192\n\\item 193\n\\item 194\n\\item 195\n\\item 196\n\\item 197\n\\item 198\n\\item 199\n\\item 200\n\\item 201\n\\item 202\n\\item 203\n\\item 204\n\\item 205\n\\item 206\n\\item 207\n\\item 208\n\\item 209\n\\item 210\n\\item 211\n\\item 212\n\\item 213\n\\item 214\n\\item 215\n\\item 216\n\\item 217\n\\item 218\n\\item 219\n\\item 220\n\\item 221\n\\item 222\n\\item 223\n\\item 224\n\\item 225\n\\item 226\n\\item 227\n\\item 228\n\\item 229\n\\item 230\n\\item 231\n\\item 232\n\\item 233\n\\item 234\n\\item 235\n\\item 236\n\\item 237\n\\item 238\n\\item 239\n\\item 240\n\\item 241\n\\item 242\n\\item 243\n\\item 244\n\\item 245\n\\item 246\n\\item 247\n\\item 248\n\\item 249\n\\item 250\n\\item 251\n\\item 252\n\\item 253\n\\item 254\n\\item 255\n\\item 256\n\\item 257\n\\item 258\n\\item 259\n\\item 260\n\\item 261\n\\item 262\n\\item 263\n\\item 264\n\\item 265\n\\item 266\n\\item 267\n\\item 268\n\\item 269\n\\item 270\n\\item 271\n\\item 272\n\\item 273\n\\item 274\n\\item 275\n\\item 276\n\\item 277\n\\item 278\n\\item 279\n\\item 280\n\\item 281\n\\item 282\n\\item 283\n\\item 284\n\\item 285\n\\item 286\n\\item 287\n\\item 288\n\\item 289\n\\item 290\n\\item 291\n\\item 292\n\\item 293\n\\item 294\n\\item 295\n\\item 296\n\\item 297\n\\item 298\n\\item 299\n\\item 300\n\\item 301\n\\item 302\n\\item 303\n\\item 304\n\\item 305\n\\item 306\n\\item 307\n\\item 308\n\\item 309\n\\item 310\n\\item 311\n\\item 312\n\\item 313\n\\item 314\n\\item 315\n\\item 316\n\\item 317\n\\end{enumerate*}\n\n\\item[\\$Training346] \\begin{enumerate*}\n\\item 1\n\\item 2\n\\item 3\n\\item 4\n\\item 5\n\\item 6\n\\item 7\n\\item 8\n\\item 9\n\\item 10\n\\item 11\n\\item 12\n\\item 13\n\\item 14\n\\item 15\n\\item 16\n\\item 17\n\\item 18\n\\item 19\n\\item 20\n\\item 21\n\\item 22\n\\item 23\n\\item 24\n\\item 25\n\\item 26\n\\item 27\n\\item 28\n\\item 29\n\\item 30\n\\item 31\n\\item 32\n\\item 33\n\\item 34\n\\item 35\n\\item 36\n\\item 37\n\\item 38\n\\item 39\n\\item 40\n\\item 41\n\\item 42\n\\item 43\n\\item 44\n\\item 45\n\\item 46\n\\item 47\n\\item 48\n\\item 49\n\\item 50\n\\item 51\n\\item 52\n\\item 53\n\\item 54\n\\item 55\n\\item 56\n\\item 57\n\\item 58\n\\item 59\n\\item 60\n\\item 61\n\\item 62\n\\item 63\n\\item 64\n\\item 65\n\\item 66\n\\item 67\n\\item 68\n\\item 69\n\\item 70\n\\item 71\n\\item 72\n\\item 73\n\\item 74\n\\item 75\n\\item 76\n\\item 77\n\\item 78\n\\item 79\n\\item 80\n\\item 81\n\\item 82\n\\item 83\n\\item 84\n\\item 85\n\\item 86\n\\item 87\n\\item 88\n\\item 89\n\\item 90\n\\item 91\n\\item 92\n\\item 93\n\\item 94\n\\item 95\n\\item 96\n\\item 97\n\\item 98\n\\item 99\n\\item 100\n\\item 101\n\\item 102\n\\item 103\n\\item 104\n\\item 105\n\\item 106\n\\item 107\n\\item 108\n\\item 109\n\\item 110\n\\item 111\n\\item 112\n\\item 113\n\\item 114\n\\item 115\n\\item 116\n\\item 117\n\\item 118\n\\item 119\n\\item 120\n\\item 121\n\\item 122\n\\item 123\n\\item 124\n\\item 125\n\\item 126\n\\item 127\n\\item 128\n\\item 129\n\\item 130\n\\item 131\n\\item 132\n\\item 133\n\\item 134\n\\item 135\n\\item 136\n\\item 137\n\\item 138\n\\item 139\n\\item 140\n\\item 141\n\\item 142\n\\item 143\n\\item 144\n\\item 145\n\\item 146\n\\item 147\n\\item 148\n\\item 149\n\\item 150\n\\item 151\n\\item 152\n\\item 153\n\\item 154\n\\item 155\n\\item 156\n\\item 157\n\\item 158\n\\item 159\n\\item 160\n\\item 161\n\\item 162\n\\item 163\n\\item 164\n\\item 165\n\\item 166\n\\item 167\n\\item 168\n\\item 169\n\\item 170\n\\item 171\n\\item 172\n\\item 173\n\\item 174\n\\item 175\n\\item 176\n\\item 177\n\\item 178\n\\item 179\n\\item 180\n\\item 181\n\\item 182\n\\item 183\n\\item 184\n\\item 185\n\\item 186\n\\item 187\n\\item 188\n\\item 189\n\\item 190\n\\item 191\n\\item 192\n\\item 193\n\\item 194\n\\item 195\n\\item 196\n\\item 197\n\\item 198\n\\item 199\n\\item 200\n\\item 201\n\\item 202\n\\item 203\n\\item 204\n\\item 205\n\\item 206\n\\item 207\n\\item 208\n\\item 209\n\\item 210\n\\item 211\n\\item 212\n\\item 213\n\\item 214\n\\item 215\n\\item 216\n\\item 217\n\\item 218\n\\item 219\n\\item 220\n\\item 221\n\\item 222\n\\item 223\n\\item 224\n\\item 225\n\\item 226\n\\item 227\n\\item 228\n\\item 229\n\\item 230\n\\item 231\n\\item 232\n\\item 233\n\\item 234\n\\item 235\n\\item 236\n\\item 237\n\\item 238\n\\item 239\n\\item 240\n\\item 241\n\\item 242\n\\item 243\n\\item 244\n\\item 245\n\\item 246\n\\item 247\n\\item 248\n\\item 249\n\\item 250\n\\item 251\n\\item 252\n\\item 253\n\\item 254\n\\item 255\n\\item 256\n\\item 257\n\\item 258\n\\item 259\n\\item 260\n\\item 261\n\\item 262\n\\item 263\n\\item 264\n\\item 265\n\\item 266\n\\item 267\n\\item 268\n\\item 269\n\\item 270\n\\item 271\n\\item 272\n\\item 273\n\\item 274\n\\item 275\n\\item 276\n\\item 277\n\\item 278\n\\item 279\n\\item 280\n\\item 281\n\\item 282\n\\item 283\n\\item 284\n\\item 285\n\\item 286\n\\item 287\n\\item 288\n\\item 289\n\\item 290\n\\item 291\n\\item 292\n\\item 293\n\\item 294\n\\item 295\n\\item 296\n\\item 297\n\\item 298\n\\item 299\n\\item 300\n\\item 301\n\\item 302\n\\item 303\n\\item 304\n\\item 305\n\\item 306\n\\item 307\n\\item 308\n\\item 309\n\\item 310\n\\item 311\n\\item 312\n\\item 313\n\\item 314\n\\item 315\n\\item 316\n\\item 317\n\\item 318\n\\item 319\n\\item 320\n\\item 321\n\\item 322\n\\item 323\n\\item 324\n\\item 325\n\\item 326\n\\item 327\n\\item 328\n\\item 329\n\\item 330\n\\item 331\n\\item 332\n\\item 333\n\\item 334\n\\item 335\n\\item 336\n\\item 337\n\\item 338\n\\item 339\n\\item 340\n\\item 341\n\\item 342\n\\item 343\n\\item 344\n\\item 345\n\\item 346\n\\end{enumerate*}\n\n\\item[\\$Training375] \\begin{enumerate*}\n\\item 1\n\\item 2\n\\item 3\n\\item 4\n\\item 5\n\\item 6\n\\item 7\n\\item 8\n\\item 9\n\\item 10\n\\item 11\n\\item 12\n\\item 13\n\\item 14\n\\item 15\n\\item 16\n\\item 17\n\\item 18\n\\item 19\n\\item 20\n\\item 21\n\\item 22\n\\item 23\n\\item 24\n\\item 25\n\\item 26\n\\item 27\n\\item 28\n\\item 29\n\\item 30\n\\item 31\n\\item 32\n\\item 33\n\\item 34\n\\item 35\n\\item 36\n\\item 37\n\\item 38\n\\item 39\n\\item 40\n\\item 41\n\\item 42\n\\item 43\n\\item 44\n\\item 45\n\\item 46\n\\item 47\n\\item 48\n\\item 49\n\\item 50\n\\item 51\n\\item 52\n\\item 53\n\\item 54\n\\item 55\n\\item 56\n\\item 57\n\\item 58\n\\item 59\n\\item 60\n\\item 61\n\\item 62\n\\item 63\n\\item 64\n\\item 65\n\\item 66\n\\item 67\n\\item 68\n\\item 69\n\\item 70\n\\item 71\n\\item 72\n\\item 73\n\\item 74\n\\item 75\n\\item 76\n\\item 77\n\\item 78\n\\item 79\n\\item 80\n\\item 81\n\\item 82\n\\item 83\n\\item 84\n\\item 85\n\\item 86\n\\item 87\n\\item 88\n\\item 89\n\\item 90\n\\item 91\n\\item 92\n\\item 93\n\\item 94\n\\item 95\n\\item 96\n\\item 97\n\\item 98\n\\item 99\n\\item 100\n\\item 101\n\\item 102\n\\item 103\n\\item 104\n\\item 105\n\\item 106\n\\item 107\n\\item 108\n\\item 109\n\\item 110\n\\item 111\n\\item 112\n\\item 113\n\\item 114\n\\item 115\n\\item 116\n\\item 117\n\\item 118\n\\item 119\n\\item 120\n\\item 121\n\\item 122\n\\item 123\n\\item 124\n\\item 125\n\\item 126\n\\item 127\n\\item 128\n\\item 129\n\\item 130\n\\item 131\n\\item 132\n\\item 133\n\\item 134\n\\item 135\n\\item 136\n\\item 137\n\\item 138\n\\item 139\n\\item 140\n\\item 141\n\\item 142\n\\item 143\n\\item 144\n\\item 145\n\\item 146\n\\item 147\n\\item 148\n\\item 149\n\\item 150\n\\item 151\n\\item 152\n\\item 153\n\\item 154\n\\item 155\n\\item 156\n\\item 157\n\\item 158\n\\item 159\n\\item 160\n\\item 161\n\\item 162\n\\item 163\n\\item 164\n\\item 165\n\\item 166\n\\item 167\n\\item 168\n\\item 169\n\\item 170\n\\item 171\n\\item 172\n\\item 173\n\\item 174\n\\item 175\n\\item 176\n\\item 177\n\\item 178\n\\item 179\n\\item 180\n\\item 181\n\\item 182\n\\item 183\n\\item 184\n\\item 185\n\\item 186\n\\item 187\n\\item 188\n\\item 189\n\\item 190\n\\item 191\n\\item 192\n\\item 193\n\\item 194\n\\item 195\n\\item 196\n\\item 197\n\\item 198\n\\item 199\n\\item 200\n\\item 201\n\\item 202\n\\item 203\n\\item 204\n\\item 205\n\\item 206\n\\item 207\n\\item 208\n\\item 209\n\\item 210\n\\item 211\n\\item 212\n\\item 213\n\\item 214\n\\item 215\n\\item 216\n\\item 217\n\\item 218\n\\item 219\n\\item 220\n\\item 221\n\\item 222\n\\item 223\n\\item 224\n\\item 225\n\\item 226\n\\item 227\n\\item 228\n\\item 229\n\\item 230\n\\item 231\n\\item 232\n\\item 233\n\\item 234\n\\item 235\n\\item 236\n\\item 237\n\\item 238\n\\item 239\n\\item 240\n\\item 241\n\\item 242\n\\item 243\n\\item 244\n\\item 245\n\\item 246\n\\item 247\n\\item 248\n\\item 249\n\\item 250\n\\item 251\n\\item 252\n\\item 253\n\\item 254\n\\item 255\n\\item 256\n\\item 257\n\\item 258\n\\item 259\n\\item 260\n\\item 261\n\\item 262\n\\item 263\n\\item 264\n\\item 265\n\\item 266\n\\item 267\n\\item 268\n\\item 269\n\\item 270\n\\item 271\n\\item 272\n\\item 273\n\\item 274\n\\item 275\n\\item 276\n\\item 277\n\\item 278\n\\item 279\n\\item 280\n\\item 281\n\\item 282\n\\item 283\n\\item 284\n\\item 285\n\\item 286\n\\item 287\n\\item 288\n\\item 289\n\\item 290\n\\item 291\n\\item 292\n\\item 293\n\\item 294\n\\item 295\n\\item 296\n\\item 297\n\\item 298\n\\item 299\n\\item 300\n\\item 301\n\\item 302\n\\item 303\n\\item 304\n\\item 305\n\\item 306\n\\item 307\n\\item 308\n\\item 309\n\\item 310\n\\item 311\n\\item 312\n\\item 313\n\\item 314\n\\item 315\n\\item 316\n\\item 317\n\\item 318\n\\item 319\n\\item 320\n\\item 321\n\\item 322\n\\item 323\n\\item 324\n\\item 325\n\\item 326\n\\item 327\n\\item 328\n\\item 329\n\\item 330\n\\item 331\n\\item 332\n\\item 333\n\\item 334\n\\item 335\n\\item 336\n\\item 337\n\\item 338\n\\item 339\n\\item 340\n\\item 341\n\\item 342\n\\item 343\n\\item 344\n\\item 345\n\\item 346\n\\item 347\n\\item 348\n\\item 349\n\\item 350\n\\item 351\n\\item 352\n\\item 353\n\\item 354\n\\item 355\n\\item 356\n\\item 357\n\\item 358\n\\item 359\n\\item 360\n\\item 361\n\\item 362\n\\item 363\n\\item 364\n\\item 365\n\\item 366\n\\item 367\n\\item 368\n\\item 369\n\\item 370\n\\item 371\n\\item 372\n\\item 373\n\\item 374\n\\item 375\n\\end{enumerate*}\n\n\\end{description}\n",
            "text/markdown": "$Training230\n:   1. 1\n2. 2\n3. 3\n4. 4\n5. 5\n6. 6\n7. 7\n8. 8\n9. 9\n10. 10\n11. 11\n12. 12\n13. 13\n14. 14\n15. 15\n16. 16\n17. 17\n18. 18\n19. 19\n20. 20\n21. 21\n22. 22\n23. 23\n24. 24\n25. 25\n26. 26\n27. 27\n28. 28\n29. 29\n30. 30\n31. 31\n32. 32\n33. 33\n34. 34\n35. 35\n36. 36\n37. 37\n38. 38\n39. 39\n40. 40\n41. 41\n42. 42\n43. 43\n44. 44\n45. 45\n46. 46\n47. 47\n48. 48\n49. 49\n50. 50\n51. 51\n52. 52\n53. 53\n54. 54\n55. 55\n56. 56\n57. 57\n58. 58\n59. 59\n60. 60\n61. 61\n62. 62\n63. 63\n64. 64\n65. 65\n66. 66\n67. 67\n68. 68\n69. 69\n70. 70\n71. 71\n72. 72\n73. 73\n74. 74\n75. 75\n76. 76\n77. 77\n78. 78\n79. 79\n80. 80\n81. 81\n82. 82\n83. 83\n84. 84\n85. 85\n86. 86\n87. 87\n88. 88\n89. 89\n90. 90\n91. 91\n92. 92\n93. 93\n94. 94\n95. 95\n96. 96\n97. 97\n98. 98\n99. 99\n100. 100\n101. 101\n102. 102\n103. 103\n104. 104\n105. 105\n106. 106\n107. 107\n108. 108\n109. 109\n110. 110\n111. 111\n112. 112\n113. 113\n114. 114\n115. 115\n116. 116\n117. 117\n118. 118\n119. 119\n120. 120\n121. 121\n122. 122\n123. 123\n124. 124\n125. 125\n126. 126\n127. 127\n128. 128\n129. 129\n130. 130\n131. 131\n132. 132\n133. 133\n134. 134\n135. 135\n136. 136\n137. 137\n138. 138\n139. 139\n140. 140\n141. 141\n142. 142\n143. 143\n144. 144\n145. 145\n146. 146\n147. 147\n148. 148\n149. 149\n150. 150\n151. 151\n152. 152\n153. 153\n154. 154\n155. 155\n156. 156\n157. 157\n158. 158\n159. 159\n160. 160\n161. 161\n162. 162\n163. 163\n164. 164\n165. 165\n166. 166\n167. 167\n168. 168\n169. 169\n170. 170\n171. 171\n172. 172\n173. 173\n174. 174\n175. 175\n176. 176\n177. 177\n178. 178\n179. 179\n180. 180\n181. 181\n182. 182\n183. 183\n184. 184\n185. 185\n186. 186\n187. 187\n188. 188\n189. 189\n190. 190\n191. 191\n192. 192\n193. 193\n194. 194\n195. 195\n196. 196\n197. 197\n198. 198\n199. 199\n200. 200\n201. 201\n202. 202\n203. 203\n204. 204\n205. 205\n206. 206\n207. 207\n208. 208\n209. 209\n210. 210\n211. 211\n212. 212\n213. 213\n214. 214\n215. 215\n216. 216\n217. 217\n218. 218\n219. 219\n220. 220\n221. 221\n222. 222\n223. 223\n224. 224\n225. 225\n226. 226\n227. 227\n228. 228\n229. 229\n230. 230\n\n\n\n$Training259\n:   1. 1\n2. 2\n3. 3\n4. 4\n5. 5\n6. 6\n7. 7\n8. 8\n9. 9\n10. 10\n11. 11\n12. 12\n13. 13\n14. 14\n15. 15\n16. 16\n17. 17\n18. 18\n19. 19\n20. 20\n21. 21\n22. 22\n23. 23\n24. 24\n25. 25\n26. 26\n27. 27\n28. 28\n29. 29\n30. 30\n31. 31\n32. 32\n33. 33\n34. 34\n35. 35\n36. 36\n37. 37\n38. 38\n39. 39\n40. 40\n41. 41\n42. 42\n43. 43\n44. 44\n45. 45\n46. 46\n47. 47\n48. 48\n49. 49\n50. 50\n51. 51\n52. 52\n53. 53\n54. 54\n55. 55\n56. 56\n57. 57\n58. 58\n59. 59\n60. 60\n61. 61\n62. 62\n63. 63\n64. 64\n65. 65\n66. 66\n67. 67\n68. 68\n69. 69\n70. 70\n71. 71\n72. 72\n73. 73\n74. 74\n75. 75\n76. 76\n77. 77\n78. 78\n79. 79\n80. 80\n81. 81\n82. 82\n83. 83\n84. 84\n85. 85\n86. 86\n87. 87\n88. 88\n89. 89\n90. 90\n91. 91\n92. 92\n93. 93\n94. 94\n95. 95\n96. 96\n97. 97\n98. 98\n99. 99\n100. 100\n101. 101\n102. 102\n103. 103\n104. 104\n105. 105\n106. 106\n107. 107\n108. 108\n109. 109\n110. 110\n111. 111\n112. 112\n113. 113\n114. 114\n115. 115\n116. 116\n117. 117\n118. 118\n119. 119\n120. 120\n121. 121\n122. 122\n123. 123\n124. 124\n125. 125\n126. 126\n127. 127\n128. 128\n129. 129\n130. 130\n131. 131\n132. 132\n133. 133\n134. 134\n135. 135\n136. 136\n137. 137\n138. 138\n139. 139\n140. 140\n141. 141\n142. 142\n143. 143\n144. 144\n145. 145\n146. 146\n147. 147\n148. 148\n149. 149\n150. 150\n151. 151\n152. 152\n153. 153\n154. 154\n155. 155\n156. 156\n157. 157\n158. 158\n159. 159\n160. 160\n161. 161\n162. 162\n163. 163\n164. 164\n165. 165\n166. 166\n167. 167\n168. 168\n169. 169\n170. 170\n171. 171\n172. 172\n173. 173\n174. 174\n175. 175\n176. 176\n177. 177\n178. 178\n179. 179\n180. 180\n181. 181\n182. 182\n183. 183\n184. 184\n185. 185\n186. 186\n187. 187\n188. 188\n189. 189\n190. 190\n191. 191\n192. 192\n193. 193\n194. 194\n195. 195\n196. 196\n197. 197\n198. 198\n199. 199\n200. 200\n201. 201\n202. 202\n203. 203\n204. 204\n205. 205\n206. 206\n207. 207\n208. 208\n209. 209\n210. 210\n211. 211\n212. 212\n213. 213\n214. 214\n215. 215\n216. 216\n217. 217\n218. 218\n219. 219\n220. 220\n221. 221\n222. 222\n223. 223\n224. 224\n225. 225\n226. 226\n227. 227\n228. 228\n229. 229\n230. 230\n231. 231\n232. 232\n233. 233\n234. 234\n235. 235\n236. 236\n237. 237\n238. 238\n239. 239\n240. 240\n241. 241\n242. 242\n243. 243\n244. 244\n245. 245\n246. 246\n247. 247\n248. 248\n249. 249\n250. 250\n251. 251\n252. 252\n253. 253\n254. 254\n255. 255\n256. 256\n257. 257\n258. 258\n259. 259\n\n\n\n$Training288\n:   1. 1\n2. 2\n3. 3\n4. 4\n5. 5\n6. 6\n7. 7\n8. 8\n9. 9\n10. 10\n11. 11\n12. 12\n13. 13\n14. 14\n15. 15\n16. 16\n17. 17\n18. 18\n19. 19\n20. 20\n21. 21\n22. 22\n23. 23\n24. 24\n25. 25\n26. 26\n27. 27\n28. 28\n29. 29\n30. 30\n31. 31\n32. 32\n33. 33\n34. 34\n35. 35\n36. 36\n37. 37\n38. 38\n39. 39\n40. 40\n41. 41\n42. 42\n43. 43\n44. 44\n45. 45\n46. 46\n47. 47\n48. 48\n49. 49\n50. 50\n51. 51\n52. 52\n53. 53\n54. 54\n55. 55\n56. 56\n57. 57\n58. 58\n59. 59\n60. 60\n61. 61\n62. 62\n63. 63\n64. 64\n65. 65\n66. 66\n67. 67\n68. 68\n69. 69\n70. 70\n71. 71\n72. 72\n73. 73\n74. 74\n75. 75\n76. 76\n77. 77\n78. 78\n79. 79\n80. 80\n81. 81\n82. 82\n83. 83\n84. 84\n85. 85\n86. 86\n87. 87\n88. 88\n89. 89\n90. 90\n91. 91\n92. 92\n93. 93\n94. 94\n95. 95\n96. 96\n97. 97\n98. 98\n99. 99\n100. 100\n101. 101\n102. 102\n103. 103\n104. 104\n105. 105\n106. 106\n107. 107\n108. 108\n109. 109\n110. 110\n111. 111\n112. 112\n113. 113\n114. 114\n115. 115\n116. 116\n117. 117\n118. 118\n119. 119\n120. 120\n121. 121\n122. 122\n123. 123\n124. 124\n125. 125\n126. 126\n127. 127\n128. 128\n129. 129\n130. 130\n131. 131\n132. 132\n133. 133\n134. 134\n135. 135\n136. 136\n137. 137\n138. 138\n139. 139\n140. 140\n141. 141\n142. 142\n143. 143\n144. 144\n145. 145\n146. 146\n147. 147\n148. 148\n149. 149\n150. 150\n151. 151\n152. 152\n153. 153\n154. 154\n155. 155\n156. 156\n157. 157\n158. 158\n159. 159\n160. 160\n161. 161\n162. 162\n163. 163\n164. 164\n165. 165\n166. 166\n167. 167\n168. 168\n169. 169\n170. 170\n171. 171\n172. 172\n173. 173\n174. 174\n175. 175\n176. 176\n177. 177\n178. 178\n179. 179\n180. 180\n181. 181\n182. 182\n183. 183\n184. 184\n185. 185\n186. 186\n187. 187\n188. 188\n189. 189\n190. 190\n191. 191\n192. 192\n193. 193\n194. 194\n195. 195\n196. 196\n197. 197\n198. 198\n199. 199\n200. 200\n201. 201\n202. 202\n203. 203\n204. 204\n205. 205\n206. 206\n207. 207\n208. 208\n209. 209\n210. 210\n211. 211\n212. 212\n213. 213\n214. 214\n215. 215\n216. 216\n217. 217\n218. 218\n219. 219\n220. 220\n221. 221\n222. 222\n223. 223\n224. 224\n225. 225\n226. 226\n227. 227\n228. 228\n229. 229\n230. 230\n231. 231\n232. 232\n233. 233\n234. 234\n235. 235\n236. 236\n237. 237\n238. 238\n239. 239\n240. 240\n241. 241\n242. 242\n243. 243\n244. 244\n245. 245\n246. 246\n247. 247\n248. 248\n249. 249\n250. 250\n251. 251\n252. 252\n253. 253\n254. 254\n255. 255\n256. 256\n257. 257\n258. 258\n259. 259\n260. 260\n261. 261\n262. 262\n263. 263\n264. 264\n265. 265\n266. 266\n267. 267\n268. 268\n269. 269\n270. 270\n271. 271\n272. 272\n273. 273\n274. 274\n275. 275\n276. 276\n277. 277\n278. 278\n279. 279\n280. 280\n281. 281\n282. 282\n283. 283\n284. 284\n285. 285\n286. 286\n287. 287\n288. 288\n\n\n\n$Training317\n:   1. 1\n2. 2\n3. 3\n4. 4\n5. 5\n6. 6\n7. 7\n8. 8\n9. 9\n10. 10\n11. 11\n12. 12\n13. 13\n14. 14\n15. 15\n16. 16\n17. 17\n18. 18\n19. 19\n20. 20\n21. 21\n22. 22\n23. 23\n24. 24\n25. 25\n26. 26\n27. 27\n28. 28\n29. 29\n30. 30\n31. 31\n32. 32\n33. 33\n34. 34\n35. 35\n36. 36\n37. 37\n38. 38\n39. 39\n40. 40\n41. 41\n42. 42\n43. 43\n44. 44\n45. 45\n46. 46\n47. 47\n48. 48\n49. 49\n50. 50\n51. 51\n52. 52\n53. 53\n54. 54\n55. 55\n56. 56\n57. 57\n58. 58\n59. 59\n60. 60\n61. 61\n62. 62\n63. 63\n64. 64\n65. 65\n66. 66\n67. 67\n68. 68\n69. 69\n70. 70\n71. 71\n72. 72\n73. 73\n74. 74\n75. 75\n76. 76\n77. 77\n78. 78\n79. 79\n80. 80\n81. 81\n82. 82\n83. 83\n84. 84\n85. 85\n86. 86\n87. 87\n88. 88\n89. 89\n90. 90\n91. 91\n92. 92\n93. 93\n94. 94\n95. 95\n96. 96\n97. 97\n98. 98\n99. 99\n100. 100\n101. 101\n102. 102\n103. 103\n104. 104\n105. 105\n106. 106\n107. 107\n108. 108\n109. 109\n110. 110\n111. 111\n112. 112\n113. 113\n114. 114\n115. 115\n116. 116\n117. 117\n118. 118\n119. 119\n120. 120\n121. 121\n122. 122\n123. 123\n124. 124\n125. 125\n126. 126\n127. 127\n128. 128\n129. 129\n130. 130\n131. 131\n132. 132\n133. 133\n134. 134\n135. 135\n136. 136\n137. 137\n138. 138\n139. 139\n140. 140\n141. 141\n142. 142\n143. 143\n144. 144\n145. 145\n146. 146\n147. 147\n148. 148\n149. 149\n150. 150\n151. 151\n152. 152\n153. 153\n154. 154\n155. 155\n156. 156\n157. 157\n158. 158\n159. 159\n160. 160\n161. 161\n162. 162\n163. 163\n164. 164\n165. 165\n166. 166\n167. 167\n168. 168\n169. 169\n170. 170\n171. 171\n172. 172\n173. 173\n174. 174\n175. 175\n176. 176\n177. 177\n178. 178\n179. 179\n180. 180\n181. 181\n182. 182\n183. 183\n184. 184\n185. 185\n186. 186\n187. 187\n188. 188\n189. 189\n190. 190\n191. 191\n192. 192\n193. 193\n194. 194\n195. 195\n196. 196\n197. 197\n198. 198\n199. 199\n200. 200\n201. 201\n202. 202\n203. 203\n204. 204\n205. 205\n206. 206\n207. 207\n208. 208\n209. 209\n210. 210\n211. 211\n212. 212\n213. 213\n214. 214\n215. 215\n216. 216\n217. 217\n218. 218\n219. 219\n220. 220\n221. 221\n222. 222\n223. 223\n224. 224\n225. 225\n226. 226\n227. 227\n228. 228\n229. 229\n230. 230\n231. 231\n232. 232\n233. 233\n234. 234\n235. 235\n236. 236\n237. 237\n238. 238\n239. 239\n240. 240\n241. 241\n242. 242\n243. 243\n244. 244\n245. 245\n246. 246\n247. 247\n248. 248\n249. 249\n250. 250\n251. 251\n252. 252\n253. 253\n254. 254\n255. 255\n256. 256\n257. 257\n258. 258\n259. 259\n260. 260\n261. 261\n262. 262\n263. 263\n264. 264\n265. 265\n266. 266\n267. 267\n268. 268\n269. 269\n270. 270\n271. 271\n272. 272\n273. 273\n274. 274\n275. 275\n276. 276\n277. 277\n278. 278\n279. 279\n280. 280\n281. 281\n282. 282\n283. 283\n284. 284\n285. 285\n286. 286\n287. 287\n288. 288\n289. 289\n290. 290\n291. 291\n292. 292\n293. 293\n294. 294\n295. 295\n296. 296\n297. 297\n298. 298\n299. 299\n300. 300\n301. 301\n302. 302\n303. 303\n304. 304\n305. 305\n306. 306\n307. 307\n308. 308\n309. 309\n310. 310\n311. 311\n312. 312\n313. 313\n314. 314\n315. 315\n316. 316\n317. 317\n\n\n\n$Training346\n:   1. 1\n2. 2\n3. 3\n4. 4\n5. 5\n6. 6\n7. 7\n8. 8\n9. 9\n10. 10\n11. 11\n12. 12\n13. 13\n14. 14\n15. 15\n16. 16\n17. 17\n18. 18\n19. 19\n20. 20\n21. 21\n22. 22\n23. 23\n24. 24\n25. 25\n26. 26\n27. 27\n28. 28\n29. 29\n30. 30\n31. 31\n32. 32\n33. 33\n34. 34\n35. 35\n36. 36\n37. 37\n38. 38\n39. 39\n40. 40\n41. 41\n42. 42\n43. 43\n44. 44\n45. 45\n46. 46\n47. 47\n48. 48\n49. 49\n50. 50\n51. 51\n52. 52\n53. 53\n54. 54\n55. 55\n56. 56\n57. 57\n58. 58\n59. 59\n60. 60\n61. 61\n62. 62\n63. 63\n64. 64\n65. 65\n66. 66\n67. 67\n68. 68\n69. 69\n70. 70\n71. 71\n72. 72\n73. 73\n74. 74\n75. 75\n76. 76\n77. 77\n78. 78\n79. 79\n80. 80\n81. 81\n82. 82\n83. 83\n84. 84\n85. 85\n86. 86\n87. 87\n88. 88\n89. 89\n90. 90\n91. 91\n92. 92\n93. 93\n94. 94\n95. 95\n96. 96\n97. 97\n98. 98\n99. 99\n100. 100\n101. 101\n102. 102\n103. 103\n104. 104\n105. 105\n106. 106\n107. 107\n108. 108\n109. 109\n110. 110\n111. 111\n112. 112\n113. 113\n114. 114\n115. 115\n116. 116\n117. 117\n118. 118\n119. 119\n120. 120\n121. 121\n122. 122\n123. 123\n124. 124\n125. 125\n126. 126\n127. 127\n128. 128\n129. 129\n130. 130\n131. 131\n132. 132\n133. 133\n134. 134\n135. 135\n136. 136\n137. 137\n138. 138\n139. 139\n140. 140\n141. 141\n142. 142\n143. 143\n144. 144\n145. 145\n146. 146\n147. 147\n148. 148\n149. 149\n150. 150\n151. 151\n152. 152\n153. 153\n154. 154\n155. 155\n156. 156\n157. 157\n158. 158\n159. 159\n160. 160\n161. 161\n162. 162\n163. 163\n164. 164\n165. 165\n166. 166\n167. 167\n168. 168\n169. 169\n170. 170\n171. 171\n172. 172\n173. 173\n174. 174\n175. 175\n176. 176\n177. 177\n178. 178\n179. 179\n180. 180\n181. 181\n182. 182\n183. 183\n184. 184\n185. 185\n186. 186\n187. 187\n188. 188\n189. 189\n190. 190\n191. 191\n192. 192\n193. 193\n194. 194\n195. 195\n196. 196\n197. 197\n198. 198\n199. 199\n200. 200\n201. 201\n202. 202\n203. 203\n204. 204\n205. 205\n206. 206\n207. 207\n208. 208\n209. 209\n210. 210\n211. 211\n212. 212\n213. 213\n214. 214\n215. 215\n216. 216\n217. 217\n218. 218\n219. 219\n220. 220\n221. 221\n222. 222\n223. 223\n224. 224\n225. 225\n226. 226\n227. 227\n228. 228\n229. 229\n230. 230\n231. 231\n232. 232\n233. 233\n234. 234\n235. 235\n236. 236\n237. 237\n238. 238\n239. 239\n240. 240\n241. 241\n242. 242\n243. 243\n244. 244\n245. 245\n246. 246\n247. 247\n248. 248\n249. 249\n250. 250\n251. 251\n252. 252\n253. 253\n254. 254\n255. 255\n256. 256\n257. 257\n258. 258\n259. 259\n260. 260\n261. 261\n262. 262\n263. 263\n264. 264\n265. 265\n266. 266\n267. 267\n268. 268\n269. 269\n270. 270\n271. 271\n272. 272\n273. 273\n274. 274\n275. 275\n276. 276\n277. 277\n278. 278\n279. 279\n280. 280\n281. 281\n282. 282\n283. 283\n284. 284\n285. 285\n286. 286\n287. 287\n288. 288\n289. 289\n290. 290\n291. 291\n292. 292\n293. 293\n294. 294\n295. 295\n296. 296\n297. 297\n298. 298\n299. 299\n300. 300\n301. 301\n302. 302\n303. 303\n304. 304\n305. 305\n306. 306\n307. 307\n308. 308\n309. 309\n310. 310\n311. 311\n312. 312\n313. 313\n314. 314\n315. 315\n316. 316\n317. 317\n318. 318\n319. 319\n320. 320\n321. 321\n322. 322\n323. 323\n324. 324\n325. 325\n326. 326\n327. 327\n328. 328\n329. 329\n330. 330\n331. 331\n332. 332\n333. 333\n334. 334\n335. 335\n336. 336\n337. 337\n338. 338\n339. 339\n340. 340\n341. 341\n342. 342\n343. 343\n344. 344\n345. 345\n346. 346\n\n\n\n$Training375\n:   1. 1\n2. 2\n3. 3\n4. 4\n5. 5\n6. 6\n7. 7\n8. 8\n9. 9\n10. 10\n11. 11\n12. 12\n13. 13\n14. 14\n15. 15\n16. 16\n17. 17\n18. 18\n19. 19\n20. 20\n21. 21\n22. 22\n23. 23\n24. 24\n25. 25\n26. 26\n27. 27\n28. 28\n29. 29\n30. 30\n31. 31\n32. 32\n33. 33\n34. 34\n35. 35\n36. 36\n37. 37\n38. 38\n39. 39\n40. 40\n41. 41\n42. 42\n43. 43\n44. 44\n45. 45\n46. 46\n47. 47\n48. 48\n49. 49\n50. 50\n51. 51\n52. 52\n53. 53\n54. 54\n55. 55\n56. 56\n57. 57\n58. 58\n59. 59\n60. 60\n61. 61\n62. 62\n63. 63\n64. 64\n65. 65\n66. 66\n67. 67\n68. 68\n69. 69\n70. 70\n71. 71\n72. 72\n73. 73\n74. 74\n75. 75\n76. 76\n77. 77\n78. 78\n79. 79\n80. 80\n81. 81\n82. 82\n83. 83\n84. 84\n85. 85\n86. 86\n87. 87\n88. 88\n89. 89\n90. 90\n91. 91\n92. 92\n93. 93\n94. 94\n95. 95\n96. 96\n97. 97\n98. 98\n99. 99\n100. 100\n101. 101\n102. 102\n103. 103\n104. 104\n105. 105\n106. 106\n107. 107\n108. 108\n109. 109\n110. 110\n111. 111\n112. 112\n113. 113\n114. 114\n115. 115\n116. 116\n117. 117\n118. 118\n119. 119\n120. 120\n121. 121\n122. 122\n123. 123\n124. 124\n125. 125\n126. 126\n127. 127\n128. 128\n129. 129\n130. 130\n131. 131\n132. 132\n133. 133\n134. 134\n135. 135\n136. 136\n137. 137\n138. 138\n139. 139\n140. 140\n141. 141\n142. 142\n143. 143\n144. 144\n145. 145\n146. 146\n147. 147\n148. 148\n149. 149\n150. 150\n151. 151\n152. 152\n153. 153\n154. 154\n155. 155\n156. 156\n157. 157\n158. 158\n159. 159\n160. 160\n161. 161\n162. 162\n163. 163\n164. 164\n165. 165\n166. 166\n167. 167\n168. 168\n169. 169\n170. 170\n171. 171\n172. 172\n173. 173\n174. 174\n175. 175\n176. 176\n177. 177\n178. 178\n179. 179\n180. 180\n181. 181\n182. 182\n183. 183\n184. 184\n185. 185\n186. 186\n187. 187\n188. 188\n189. 189\n190. 190\n191. 191\n192. 192\n193. 193\n194. 194\n195. 195\n196. 196\n197. 197\n198. 198\n199. 199\n200. 200\n201. 201\n202. 202\n203. 203\n204. 204\n205. 205\n206. 206\n207. 207\n208. 208\n209. 209\n210. 210\n211. 211\n212. 212\n213. 213\n214. 214\n215. 215\n216. 216\n217. 217\n218. 218\n219. 219\n220. 220\n221. 221\n222. 222\n223. 223\n224. 224\n225. 225\n226. 226\n227. 227\n228. 228\n229. 229\n230. 230\n231. 231\n232. 232\n233. 233\n234. 234\n235. 235\n236. 236\n237. 237\n238. 238\n239. 239\n240. 240\n241. 241\n242. 242\n243. 243\n244. 244\n245. 245\n246. 246\n247. 247\n248. 248\n249. 249\n250. 250\n251. 251\n252. 252\n253. 253\n254. 254\n255. 255\n256. 256\n257. 257\n258. 258\n259. 259\n260. 260\n261. 261\n262. 262\n263. 263\n264. 264\n265. 265\n266. 266\n267. 267\n268. 268\n269. 269\n270. 270\n271. 271\n272. 272\n273. 273\n274. 274\n275. 275\n276. 276\n277. 277\n278. 278\n279. 279\n280. 280\n281. 281\n282. 282\n283. 283\n284. 284\n285. 285\n286. 286\n287. 287\n288. 288\n289. 289\n290. 290\n291. 291\n292. 292\n293. 293\n294. 294\n295. 295\n296. 296\n297. 297\n298. 298\n299. 299\n300. 300\n301. 301\n302. 302\n303. 303\n304. 304\n305. 305\n306. 306\n307. 307\n308. 308\n309. 309\n310. 310\n311. 311\n312. 312\n313. 313\n314. 314\n315. 315\n316. 316\n317. 317\n318. 318\n319. 319\n320. 320\n321. 321\n322. 322\n323. 323\n324. 324\n325. 325\n326. 326\n327. 327\n328. 328\n329. 329\n330. 330\n331. 331\n332. 332\n333. 333\n334. 334\n335. 335\n336. 336\n337. 337\n338. 338\n339. 339\n340. 340\n341. 341\n342. 342\n343. 343\n344. 344\n345. 345\n346. 346\n347. 347\n348. 348\n349. 349\n350. 350\n351. 351\n352. 352\n353. 353\n354. 354\n355. 355\n356. 356\n357. 357\n358. 358\n359. 359\n360. 360\n361. 361\n362. 362\n363. 363\n364. 364\n365. 365\n366. 366\n367. 367\n368. 368\n369. 369\n370. 370\n371. 371\n372. 372\n373. 373\n374. 374\n375. 375\n\n\n\n\n\n",
            "text/html": [
              "<dl>\n",
              "\t<dt>$Training230</dt>\n",
              "\t\t<dd><style>\n",
              ".list-inline {list-style: none; margin:0; padding: 0}\n",
              ".list-inline>li {display: inline-block}\n",
              ".list-inline>li:not(:last-child)::after {content: \"\\00b7\"; padding: 0 .5ex}\n",
              "</style>\n",
              "<ol class=list-inline><li>1</li><li>2</li><li>3</li><li>4</li><li>5</li><li>6</li><li>7</li><li>8</li><li>9</li><li>10</li><li>11</li><li>12</li><li>13</li><li>14</li><li>15</li><li>16</li><li>17</li><li>18</li><li>19</li><li>20</li><li>21</li><li>22</li><li>23</li><li>24</li><li>25</li><li>26</li><li>27</li><li>28</li><li>29</li><li>30</li><li>31</li><li>32</li><li>33</li><li>34</li><li>35</li><li>36</li><li>37</li><li>38</li><li>39</li><li>40</li><li>41</li><li>42</li><li>43</li><li>44</li><li>45</li><li>46</li><li>47</li><li>48</li><li>49</li><li>50</li><li>51</li><li>52</li><li>53</li><li>54</li><li>55</li><li>56</li><li>57</li><li>58</li><li>59</li><li>60</li><li>61</li><li>62</li><li>63</li><li>64</li><li>65</li><li>66</li><li>67</li><li>68</li><li>69</li><li>70</li><li>71</li><li>72</li><li>73</li><li>74</li><li>75</li><li>76</li><li>77</li><li>78</li><li>79</li><li>80</li><li>81</li><li>82</li><li>83</li><li>84</li><li>85</li><li>86</li><li>87</li><li>88</li><li>89</li><li>90</li><li>91</li><li>92</li><li>93</li><li>94</li><li>95</li><li>96</li><li>97</li><li>98</li><li>99</li><li>100</li><li>101</li><li>102</li><li>103</li><li>104</li><li>105</li><li>106</li><li>107</li><li>108</li><li>109</li><li>110</li><li>111</li><li>112</li><li>113</li><li>114</li><li>115</li><li>116</li><li>117</li><li>118</li><li>119</li><li>120</li><li>121</li><li>122</li><li>123</li><li>124</li><li>125</li><li>126</li><li>127</li><li>128</li><li>129</li><li>130</li><li>131</li><li>132</li><li>133</li><li>134</li><li>135</li><li>136</li><li>137</li><li>138</li><li>139</li><li>140</li><li>141</li><li>142</li><li>143</li><li>144</li><li>145</li><li>146</li><li>147</li><li>148</li><li>149</li><li>150</li><li>151</li><li>152</li><li>153</li><li>154</li><li>155</li><li>156</li><li>157</li><li>158</li><li>159</li><li>160</li><li>161</li><li>162</li><li>163</li><li>164</li><li>165</li><li>166</li><li>167</li><li>168</li><li>169</li><li>170</li><li>171</li><li>172</li><li>173</li><li>174</li><li>175</li><li>176</li><li>177</li><li>178</li><li>179</li><li>180</li><li>181</li><li>182</li><li>183</li><li>184</li><li>185</li><li>186</li><li>187</li><li>188</li><li>189</li><li>190</li><li>191</li><li>192</li><li>193</li><li>194</li><li>195</li><li>196</li><li>197</li><li>198</li><li>199</li><li>200</li><li>201</li><li>202</li><li>203</li><li>204</li><li>205</li><li>206</li><li>207</li><li>208</li><li>209</li><li>210</li><li>211</li><li>212</li><li>213</li><li>214</li><li>215</li><li>216</li><li>217</li><li>218</li><li>219</li><li>220</li><li>221</li><li>222</li><li>223</li><li>224</li><li>225</li><li>226</li><li>227</li><li>228</li><li>229</li><li>230</li></ol>\n",
              "</dd>\n",
              "\t<dt>$Training259</dt>\n",
              "\t\t<dd><style>\n",
              ".list-inline {list-style: none; margin:0; padding: 0}\n",
              ".list-inline>li {display: inline-block}\n",
              ".list-inline>li:not(:last-child)::after {content: \"\\00b7\"; padding: 0 .5ex}\n",
              "</style>\n",
              "<ol class=list-inline><li>1</li><li>2</li><li>3</li><li>4</li><li>5</li><li>6</li><li>7</li><li>8</li><li>9</li><li>10</li><li>11</li><li>12</li><li>13</li><li>14</li><li>15</li><li>16</li><li>17</li><li>18</li><li>19</li><li>20</li><li>21</li><li>22</li><li>23</li><li>24</li><li>25</li><li>26</li><li>27</li><li>28</li><li>29</li><li>30</li><li>31</li><li>32</li><li>33</li><li>34</li><li>35</li><li>36</li><li>37</li><li>38</li><li>39</li><li>40</li><li>41</li><li>42</li><li>43</li><li>44</li><li>45</li><li>46</li><li>47</li><li>48</li><li>49</li><li>50</li><li>51</li><li>52</li><li>53</li><li>54</li><li>55</li><li>56</li><li>57</li><li>58</li><li>59</li><li>60</li><li>61</li><li>62</li><li>63</li><li>64</li><li>65</li><li>66</li><li>67</li><li>68</li><li>69</li><li>70</li><li>71</li><li>72</li><li>73</li><li>74</li><li>75</li><li>76</li><li>77</li><li>78</li><li>79</li><li>80</li><li>81</li><li>82</li><li>83</li><li>84</li><li>85</li><li>86</li><li>87</li><li>88</li><li>89</li><li>90</li><li>91</li><li>92</li><li>93</li><li>94</li><li>95</li><li>96</li><li>97</li><li>98</li><li>99</li><li>100</li><li>101</li><li>102</li><li>103</li><li>104</li><li>105</li><li>106</li><li>107</li><li>108</li><li>109</li><li>110</li><li>111</li><li>112</li><li>113</li><li>114</li><li>115</li><li>116</li><li>117</li><li>118</li><li>119</li><li>120</li><li>121</li><li>122</li><li>123</li><li>124</li><li>125</li><li>126</li><li>127</li><li>128</li><li>129</li><li>130</li><li>131</li><li>132</li><li>133</li><li>134</li><li>135</li><li>136</li><li>137</li><li>138</li><li>139</li><li>140</li><li>141</li><li>142</li><li>143</li><li>144</li><li>145</li><li>146</li><li>147</li><li>148</li><li>149</li><li>150</li><li>151</li><li>152</li><li>153</li><li>154</li><li>155</li><li>156</li><li>157</li><li>158</li><li>159</li><li>160</li><li>161</li><li>162</li><li>163</li><li>164</li><li>165</li><li>166</li><li>167</li><li>168</li><li>169</li><li>170</li><li>171</li><li>172</li><li>173</li><li>174</li><li>175</li><li>176</li><li>177</li><li>178</li><li>179</li><li>180</li><li>181</li><li>182</li><li>183</li><li>184</li><li>185</li><li>186</li><li>187</li><li>188</li><li>189</li><li>190</li><li>191</li><li>192</li><li>193</li><li>194</li><li>195</li><li>196</li><li>197</li><li>198</li><li>199</li><li>200</li><li>201</li><li>202</li><li>203</li><li>204</li><li>205</li><li>206</li><li>207</li><li>208</li><li>209</li><li>210</li><li>211</li><li>212</li><li>213</li><li>214</li><li>215</li><li>216</li><li>217</li><li>218</li><li>219</li><li>220</li><li>221</li><li>222</li><li>223</li><li>224</li><li>225</li><li>226</li><li>227</li><li>228</li><li>229</li><li>230</li><li>231</li><li>232</li><li>233</li><li>234</li><li>235</li><li>236</li><li>237</li><li>238</li><li>239</li><li>240</li><li>241</li><li>242</li><li>243</li><li>244</li><li>245</li><li>246</li><li>247</li><li>248</li><li>249</li><li>250</li><li>251</li><li>252</li><li>253</li><li>254</li><li>255</li><li>256</li><li>257</li><li>258</li><li>259</li></ol>\n",
              "</dd>\n",
              "\t<dt>$Training288</dt>\n",
              "\t\t<dd><style>\n",
              ".list-inline {list-style: none; margin:0; padding: 0}\n",
              ".list-inline>li {display: inline-block}\n",
              ".list-inline>li:not(:last-child)::after {content: \"\\00b7\"; padding: 0 .5ex}\n",
              "</style>\n",
              "<ol class=list-inline><li>1</li><li>2</li><li>3</li><li>4</li><li>5</li><li>6</li><li>7</li><li>8</li><li>9</li><li>10</li><li>11</li><li>12</li><li>13</li><li>14</li><li>15</li><li>16</li><li>17</li><li>18</li><li>19</li><li>20</li><li>21</li><li>22</li><li>23</li><li>24</li><li>25</li><li>26</li><li>27</li><li>28</li><li>29</li><li>30</li><li>31</li><li>32</li><li>33</li><li>34</li><li>35</li><li>36</li><li>37</li><li>38</li><li>39</li><li>40</li><li>41</li><li>42</li><li>43</li><li>44</li><li>45</li><li>46</li><li>47</li><li>48</li><li>49</li><li>50</li><li>51</li><li>52</li><li>53</li><li>54</li><li>55</li><li>56</li><li>57</li><li>58</li><li>59</li><li>60</li><li>61</li><li>62</li><li>63</li><li>64</li><li>65</li><li>66</li><li>67</li><li>68</li><li>69</li><li>70</li><li>71</li><li>72</li><li>73</li><li>74</li><li>75</li><li>76</li><li>77</li><li>78</li><li>79</li><li>80</li><li>81</li><li>82</li><li>83</li><li>84</li><li>85</li><li>86</li><li>87</li><li>88</li><li>89</li><li>90</li><li>91</li><li>92</li><li>93</li><li>94</li><li>95</li><li>96</li><li>97</li><li>98</li><li>99</li><li>100</li><li>101</li><li>102</li><li>103</li><li>104</li><li>105</li><li>106</li><li>107</li><li>108</li><li>109</li><li>110</li><li>111</li><li>112</li><li>113</li><li>114</li><li>115</li><li>116</li><li>117</li><li>118</li><li>119</li><li>120</li><li>121</li><li>122</li><li>123</li><li>124</li><li>125</li><li>126</li><li>127</li><li>128</li><li>129</li><li>130</li><li>131</li><li>132</li><li>133</li><li>134</li><li>135</li><li>136</li><li>137</li><li>138</li><li>139</li><li>140</li><li>141</li><li>142</li><li>143</li><li>144</li><li>145</li><li>146</li><li>147</li><li>148</li><li>149</li><li>150</li><li>151</li><li>152</li><li>153</li><li>154</li><li>155</li><li>156</li><li>157</li><li>158</li><li>159</li><li>160</li><li>161</li><li>162</li><li>163</li><li>164</li><li>165</li><li>166</li><li>167</li><li>168</li><li>169</li><li>170</li><li>171</li><li>172</li><li>173</li><li>174</li><li>175</li><li>176</li><li>177</li><li>178</li><li>179</li><li>180</li><li>181</li><li>182</li><li>183</li><li>184</li><li>185</li><li>186</li><li>187</li><li>188</li><li>189</li><li>190</li><li>191</li><li>192</li><li>193</li><li>194</li><li>195</li><li>196</li><li>197</li><li>198</li><li>199</li><li>200</li><li>201</li><li>202</li><li>203</li><li>204</li><li>205</li><li>206</li><li>207</li><li>208</li><li>209</li><li>210</li><li>211</li><li>212</li><li>213</li><li>214</li><li>215</li><li>216</li><li>217</li><li>218</li><li>219</li><li>220</li><li>221</li><li>222</li><li>223</li><li>224</li><li>225</li><li>226</li><li>227</li><li>228</li><li>229</li><li>230</li><li>231</li><li>232</li><li>233</li><li>234</li><li>235</li><li>236</li><li>237</li><li>238</li><li>239</li><li>240</li><li>241</li><li>242</li><li>243</li><li>244</li><li>245</li><li>246</li><li>247</li><li>248</li><li>249</li><li>250</li><li>251</li><li>252</li><li>253</li><li>254</li><li>255</li><li>256</li><li>257</li><li>258</li><li>259</li><li>260</li><li>261</li><li>262</li><li>263</li><li>264</li><li>265</li><li>266</li><li>267</li><li>268</li><li>269</li><li>270</li><li>271</li><li>272</li><li>273</li><li>274</li><li>275</li><li>276</li><li>277</li><li>278</li><li>279</li><li>280</li><li>281</li><li>282</li><li>283</li><li>284</li><li>285</li><li>286</li><li>287</li><li>288</li></ol>\n",
              "</dd>\n",
              "\t<dt>$Training317</dt>\n",
              "\t\t<dd><style>\n",
              ".list-inline {list-style: none; margin:0; padding: 0}\n",
              ".list-inline>li {display: inline-block}\n",
              ".list-inline>li:not(:last-child)::after {content: \"\\00b7\"; padding: 0 .5ex}\n",
              "</style>\n",
              "<ol class=list-inline><li>1</li><li>2</li><li>3</li><li>4</li><li>5</li><li>6</li><li>7</li><li>8</li><li>9</li><li>10</li><li>11</li><li>12</li><li>13</li><li>14</li><li>15</li><li>16</li><li>17</li><li>18</li><li>19</li><li>20</li><li>21</li><li>22</li><li>23</li><li>24</li><li>25</li><li>26</li><li>27</li><li>28</li><li>29</li><li>30</li><li>31</li><li>32</li><li>33</li><li>34</li><li>35</li><li>36</li><li>37</li><li>38</li><li>39</li><li>40</li><li>41</li><li>42</li><li>43</li><li>44</li><li>45</li><li>46</li><li>47</li><li>48</li><li>49</li><li>50</li><li>51</li><li>52</li><li>53</li><li>54</li><li>55</li><li>56</li><li>57</li><li>58</li><li>59</li><li>60</li><li>61</li><li>62</li><li>63</li><li>64</li><li>65</li><li>66</li><li>67</li><li>68</li><li>69</li><li>70</li><li>71</li><li>72</li><li>73</li><li>74</li><li>75</li><li>76</li><li>77</li><li>78</li><li>79</li><li>80</li><li>81</li><li>82</li><li>83</li><li>84</li><li>85</li><li>86</li><li>87</li><li>88</li><li>89</li><li>90</li><li>91</li><li>92</li><li>93</li><li>94</li><li>95</li><li>96</li><li>97</li><li>98</li><li>99</li><li>100</li><li>101</li><li>102</li><li>103</li><li>104</li><li>105</li><li>106</li><li>107</li><li>108</li><li>109</li><li>110</li><li>111</li><li>112</li><li>113</li><li>114</li><li>115</li><li>116</li><li>117</li><li>118</li><li>119</li><li>120</li><li>121</li><li>122</li><li>123</li><li>124</li><li>125</li><li>126</li><li>127</li><li>128</li><li>129</li><li>130</li><li>131</li><li>132</li><li>133</li><li>134</li><li>135</li><li>136</li><li>137</li><li>138</li><li>139</li><li>140</li><li>141</li><li>142</li><li>143</li><li>144</li><li>145</li><li>146</li><li>147</li><li>148</li><li>149</li><li>150</li><li>151</li><li>152</li><li>153</li><li>154</li><li>155</li><li>156</li><li>157</li><li>158</li><li>159</li><li>160</li><li>161</li><li>162</li><li>163</li><li>164</li><li>165</li><li>166</li><li>167</li><li>168</li><li>169</li><li>170</li><li>171</li><li>172</li><li>173</li><li>174</li><li>175</li><li>176</li><li>177</li><li>178</li><li>179</li><li>180</li><li>181</li><li>182</li><li>183</li><li>184</li><li>185</li><li>186</li><li>187</li><li>188</li><li>189</li><li>190</li><li>191</li><li>192</li><li>193</li><li>194</li><li>195</li><li>196</li><li>197</li><li>198</li><li>199</li><li>200</li><li>201</li><li>202</li><li>203</li><li>204</li><li>205</li><li>206</li><li>207</li><li>208</li><li>209</li><li>210</li><li>211</li><li>212</li><li>213</li><li>214</li><li>215</li><li>216</li><li>217</li><li>218</li><li>219</li><li>220</li><li>221</li><li>222</li><li>223</li><li>224</li><li>225</li><li>226</li><li>227</li><li>228</li><li>229</li><li>230</li><li>231</li><li>232</li><li>233</li><li>234</li><li>235</li><li>236</li><li>237</li><li>238</li><li>239</li><li>240</li><li>241</li><li>242</li><li>243</li><li>244</li><li>245</li><li>246</li><li>247</li><li>248</li><li>249</li><li>250</li><li>251</li><li>252</li><li>253</li><li>254</li><li>255</li><li>256</li><li>257</li><li>258</li><li>259</li><li>260</li><li>261</li><li>262</li><li>263</li><li>264</li><li>265</li><li>266</li><li>267</li><li>268</li><li>269</li><li>270</li><li>271</li><li>272</li><li>273</li><li>274</li><li>275</li><li>276</li><li>277</li><li>278</li><li>279</li><li>280</li><li>281</li><li>282</li><li>283</li><li>284</li><li>285</li><li>286</li><li>287</li><li>288</li><li>289</li><li>290</li><li>291</li><li>292</li><li>293</li><li>294</li><li>295</li><li>296</li><li>297</li><li>298</li><li>299</li><li>300</li><li>301</li><li>302</li><li>303</li><li>304</li><li>305</li><li>306</li><li>307</li><li>308</li><li>309</li><li>310</li><li>311</li><li>312</li><li>313</li><li>314</li><li>315</li><li>316</li><li>317</li></ol>\n",
              "</dd>\n",
              "\t<dt>$Training346</dt>\n",
              "\t\t<dd><style>\n",
              ".list-inline {list-style: none; margin:0; padding: 0}\n",
              ".list-inline>li {display: inline-block}\n",
              ".list-inline>li:not(:last-child)::after {content: \"\\00b7\"; padding: 0 .5ex}\n",
              "</style>\n",
              "<ol class=list-inline><li>1</li><li>2</li><li>3</li><li>4</li><li>5</li><li>6</li><li>7</li><li>8</li><li>9</li><li>10</li><li>11</li><li>12</li><li>13</li><li>14</li><li>15</li><li>16</li><li>17</li><li>18</li><li>19</li><li>20</li><li>21</li><li>22</li><li>23</li><li>24</li><li>25</li><li>26</li><li>27</li><li>28</li><li>29</li><li>30</li><li>31</li><li>32</li><li>33</li><li>34</li><li>35</li><li>36</li><li>37</li><li>38</li><li>39</li><li>40</li><li>41</li><li>42</li><li>43</li><li>44</li><li>45</li><li>46</li><li>47</li><li>48</li><li>49</li><li>50</li><li>51</li><li>52</li><li>53</li><li>54</li><li>55</li><li>56</li><li>57</li><li>58</li><li>59</li><li>60</li><li>61</li><li>62</li><li>63</li><li>64</li><li>65</li><li>66</li><li>67</li><li>68</li><li>69</li><li>70</li><li>71</li><li>72</li><li>73</li><li>74</li><li>75</li><li>76</li><li>77</li><li>78</li><li>79</li><li>80</li><li>81</li><li>82</li><li>83</li><li>84</li><li>85</li><li>86</li><li>87</li><li>88</li><li>89</li><li>90</li><li>91</li><li>92</li><li>93</li><li>94</li><li>95</li><li>96</li><li>97</li><li>98</li><li>99</li><li>100</li><li>101</li><li>102</li><li>103</li><li>104</li><li>105</li><li>106</li><li>107</li><li>108</li><li>109</li><li>110</li><li>111</li><li>112</li><li>113</li><li>114</li><li>115</li><li>116</li><li>117</li><li>118</li><li>119</li><li>120</li><li>121</li><li>122</li><li>123</li><li>124</li><li>125</li><li>126</li><li>127</li><li>128</li><li>129</li><li>130</li><li>131</li><li>132</li><li>133</li><li>134</li><li>135</li><li>136</li><li>137</li><li>138</li><li>139</li><li>140</li><li>141</li><li>142</li><li>143</li><li>144</li><li>145</li><li>146</li><li>147</li><li>148</li><li>149</li><li>150</li><li>151</li><li>152</li><li>153</li><li>154</li><li>155</li><li>156</li><li>157</li><li>158</li><li>159</li><li>160</li><li>161</li><li>162</li><li>163</li><li>164</li><li>165</li><li>166</li><li>167</li><li>168</li><li>169</li><li>170</li><li>171</li><li>172</li><li>173</li><li>174</li><li>175</li><li>176</li><li>177</li><li>178</li><li>179</li><li>180</li><li>181</li><li>182</li><li>183</li><li>184</li><li>185</li><li>186</li><li>187</li><li>188</li><li>189</li><li>190</li><li>191</li><li>192</li><li>193</li><li>194</li><li>195</li><li>196</li><li>197</li><li>198</li><li>199</li><li>200</li><li>201</li><li>202</li><li>203</li><li>204</li><li>205</li><li>206</li><li>207</li><li>208</li><li>209</li><li>210</li><li>211</li><li>212</li><li>213</li><li>214</li><li>215</li><li>216</li><li>217</li><li>218</li><li>219</li><li>220</li><li>221</li><li>222</li><li>223</li><li>224</li><li>225</li><li>226</li><li>227</li><li>228</li><li>229</li><li>230</li><li>231</li><li>232</li><li>233</li><li>234</li><li>235</li><li>236</li><li>237</li><li>238</li><li>239</li><li>240</li><li>241</li><li>242</li><li>243</li><li>244</li><li>245</li><li>246</li><li>247</li><li>248</li><li>249</li><li>250</li><li>251</li><li>252</li><li>253</li><li>254</li><li>255</li><li>256</li><li>257</li><li>258</li><li>259</li><li>260</li><li>261</li><li>262</li><li>263</li><li>264</li><li>265</li><li>266</li><li>267</li><li>268</li><li>269</li><li>270</li><li>271</li><li>272</li><li>273</li><li>274</li><li>275</li><li>276</li><li>277</li><li>278</li><li>279</li><li>280</li><li>281</li><li>282</li><li>283</li><li>284</li><li>285</li><li>286</li><li>287</li><li>288</li><li>289</li><li>290</li><li>291</li><li>292</li><li>293</li><li>294</li><li>295</li><li>296</li><li>297</li><li>298</li><li>299</li><li>300</li><li>301</li><li>302</li><li>303</li><li>304</li><li>305</li><li>306</li><li>307</li><li>308</li><li>309</li><li>310</li><li>311</li><li>312</li><li>313</li><li>314</li><li>315</li><li>316</li><li>317</li><li>318</li><li>319</li><li>320</li><li>321</li><li>322</li><li>323</li><li>324</li><li>325</li><li>326</li><li>327</li><li>328</li><li>329</li><li>330</li><li>331</li><li>332</li><li>333</li><li>334</li><li>335</li><li>336</li><li>337</li><li>338</li><li>339</li><li>340</li><li>341</li><li>342</li><li>343</li><li>344</li><li>345</li><li>346</li></ol>\n",
              "</dd>\n",
              "\t<dt>$Training375</dt>\n",
              "\t\t<dd><style>\n",
              ".list-inline {list-style: none; margin:0; padding: 0}\n",
              ".list-inline>li {display: inline-block}\n",
              ".list-inline>li:not(:last-child)::after {content: \"\\00b7\"; padding: 0 .5ex}\n",
              "</style>\n",
              "<ol class=list-inline><li>1</li><li>2</li><li>3</li><li>4</li><li>5</li><li>6</li><li>7</li><li>8</li><li>9</li><li>10</li><li>11</li><li>12</li><li>13</li><li>14</li><li>15</li><li>16</li><li>17</li><li>18</li><li>19</li><li>20</li><li>21</li><li>22</li><li>23</li><li>24</li><li>25</li><li>26</li><li>27</li><li>28</li><li>29</li><li>30</li><li>31</li><li>32</li><li>33</li><li>34</li><li>35</li><li>36</li><li>37</li><li>38</li><li>39</li><li>40</li><li>41</li><li>42</li><li>43</li><li>44</li><li>45</li><li>46</li><li>47</li><li>48</li><li>49</li><li>50</li><li>51</li><li>52</li><li>53</li><li>54</li><li>55</li><li>56</li><li>57</li><li>58</li><li>59</li><li>60</li><li>61</li><li>62</li><li>63</li><li>64</li><li>65</li><li>66</li><li>67</li><li>68</li><li>69</li><li>70</li><li>71</li><li>72</li><li>73</li><li>74</li><li>75</li><li>76</li><li>77</li><li>78</li><li>79</li><li>80</li><li>81</li><li>82</li><li>83</li><li>84</li><li>85</li><li>86</li><li>87</li><li>88</li><li>89</li><li>90</li><li>91</li><li>92</li><li>93</li><li>94</li><li>95</li><li>96</li><li>97</li><li>98</li><li>99</li><li>100</li><li>101</li><li>102</li><li>103</li><li>104</li><li>105</li><li>106</li><li>107</li><li>108</li><li>109</li><li>110</li><li>111</li><li>112</li><li>113</li><li>114</li><li>115</li><li>116</li><li>117</li><li>118</li><li>119</li><li>120</li><li>121</li><li>122</li><li>123</li><li>124</li><li>125</li><li>126</li><li>127</li><li>128</li><li>129</li><li>130</li><li>131</li><li>132</li><li>133</li><li>134</li><li>135</li><li>136</li><li>137</li><li>138</li><li>139</li><li>140</li><li>141</li><li>142</li><li>143</li><li>144</li><li>145</li><li>146</li><li>147</li><li>148</li><li>149</li><li>150</li><li>151</li><li>152</li><li>153</li><li>154</li><li>155</li><li>156</li><li>157</li><li>158</li><li>159</li><li>160</li><li>161</li><li>162</li><li>163</li><li>164</li><li>165</li><li>166</li><li>167</li><li>168</li><li>169</li><li>170</li><li>171</li><li>172</li><li>173</li><li>174</li><li>175</li><li>176</li><li>177</li><li>178</li><li>179</li><li>180</li><li>181</li><li>182</li><li>183</li><li>184</li><li>185</li><li>186</li><li>187</li><li>188</li><li>189</li><li>190</li><li>191</li><li>192</li><li>193</li><li>194</li><li>195</li><li>196</li><li>197</li><li>198</li><li>199</li><li>200</li><li>201</li><li>202</li><li>203</li><li>204</li><li>205</li><li>206</li><li>207</li><li>208</li><li>209</li><li>210</li><li>211</li><li>212</li><li>213</li><li>214</li><li>215</li><li>216</li><li>217</li><li>218</li><li>219</li><li>220</li><li>221</li><li>222</li><li>223</li><li>224</li><li>225</li><li>226</li><li>227</li><li>228</li><li>229</li><li>230</li><li>231</li><li>232</li><li>233</li><li>234</li><li>235</li><li>236</li><li>237</li><li>238</li><li>239</li><li>240</li><li>241</li><li>242</li><li>243</li><li>244</li><li>245</li><li>246</li><li>247</li><li>248</li><li>249</li><li>250</li><li>251</li><li>252</li><li>253</li><li>254</li><li>255</li><li>256</li><li>257</li><li>258</li><li>259</li><li>260</li><li>261</li><li>262</li><li>263</li><li>264</li><li>265</li><li>266</li><li>267</li><li>268</li><li>269</li><li>270</li><li>271</li><li>272</li><li>273</li><li>274</li><li>275</li><li>276</li><li>277</li><li>278</li><li>279</li><li>280</li><li>281</li><li>282</li><li>283</li><li>284</li><li>285</li><li>286</li><li>287</li><li>288</li><li>289</li><li>290</li><li>291</li><li>292</li><li>293</li><li>294</li><li>295</li><li>296</li><li>297</li><li>298</li><li>299</li><li>300</li><li>301</li><li>302</li><li>303</li><li>304</li><li>305</li><li>306</li><li>307</li><li>308</li><li>309</li><li>310</li><li>311</li><li>312</li><li>313</li><li>314</li><li>315</li><li>316</li><li>317</li><li>318</li><li>319</li><li>320</li><li>321</li><li>322</li><li>323</li><li>324</li><li>325</li><li>326</li><li>327</li><li>328</li><li>329</li><li>330</li><li>331</li><li>332</li><li>333</li><li>334</li><li>335</li><li>336</li><li>337</li><li>338</li><li>339</li><li>340</li><li>341</li><li>342</li><li>343</li><li>344</li><li>345</li><li>346</li><li>347</li><li>348</li><li>349</li><li>350</li><li>351</li><li>352</li><li>353</li><li>354</li><li>355</li><li>356</li><li>357</li><li>358</li><li>359</li><li>360</li><li>361</li><li>362</li><li>363</li><li>364</li><li>365</li><li>366</li><li>367</li><li>368</li><li>369</li><li>370</li><li>371</li><li>372</li><li>373</li><li>374</li><li>375</li></ol>\n",
              "</dd>\n",
              "</dl>\n"
            ]
          },
          "metadata": {}
        },
        {
          "output_type": "display_data",
          "data": {
            "text/plain": [
              "$Testing230\n",
              "  [1] 231 232 233 234 235 236 237 238 239 240 241 242 243 244 245 246 247 248\n",
              " [19] 249 250 251 252 253 254 255 256 257 258 259 260 261 262 263 264 265 266\n",
              " [37] 267 268 269 270 271 272 273 274 275 276 277 278 279 280 281 282 283 284\n",
              " [55] 285 286 287 288 289 290 291 292 293 294 295 296 297 298 299 300 301 302\n",
              " [73] 303 304 305 306 307 308 309 310 311 312 313 314 315 316 317 318 319 320\n",
              " [91] 321 322 323 324 325 326 327 328 329 330\n",
              "\n",
              "$Testing259\n",
              "  [1] 260 261 262 263 264 265 266 267 268 269 270 271 272 273 274 275 276 277\n",
              " [19] 278 279 280 281 282 283 284 285 286 287 288 289 290 291 292 293 294 295\n",
              " [37] 296 297 298 299 300 301 302 303 304 305 306 307 308 309 310 311 312 313\n",
              " [55] 314 315 316 317 318 319 320 321 322 323 324 325 326 327 328 329 330 331\n",
              " [73] 332 333 334 335 336 337 338 339 340 341 342 343 344 345 346 347 348 349\n",
              " [91] 350 351 352 353 354 355 356 357 358 359\n",
              "\n",
              "$Testing288\n",
              "  [1] 289 290 291 292 293 294 295 296 297 298 299 300 301 302 303 304 305 306\n",
              " [19] 307 308 309 310 311 312 313 314 315 316 317 318 319 320 321 322 323 324\n",
              " [37] 325 326 327 328 329 330 331 332 333 334 335 336 337 338 339 340 341 342\n",
              " [55] 343 344 345 346 347 348 349 350 351 352 353 354 355 356 357 358 359 360\n",
              " [73] 361 362 363 364 365 366 367 368 369 370 371 372 373 374 375 376 377 378\n",
              " [91] 379 380 381 382 383 384 385 386 387 388\n",
              "\n",
              "$Testing317\n",
              "  [1] 318 319 320 321 322 323 324 325 326 327 328 329 330 331 332 333 334 335\n",
              " [19] 336 337 338 339 340 341 342 343 344 345 346 347 348 349 350 351 352 353\n",
              " [37] 354 355 356 357 358 359 360 361 362 363 364 365 366 367 368 369 370 371\n",
              " [55] 372 373 374 375 376 377 378 379 380 381 382 383 384 385 386 387 388 389\n",
              " [73] 390 391 392 393 394 395 396 397 398 399 400 401 402 403 404 405 406 407\n",
              " [91] 408 409 410 411 412 413 414 415 416 417\n",
              "\n",
              "$Testing346\n",
              "  [1] 347 348 349 350 351 352 353 354 355 356 357 358 359 360 361 362 363 364\n",
              " [19] 365 366 367 368 369 370 371 372 373 374 375 376 377 378 379 380 381 382\n",
              " [37] 383 384 385 386 387 388 389 390 391 392 393 394 395 396 397 398 399 400\n",
              " [55] 401 402 403 404 405 406 407 408 409 410 411 412 413 414 415 416 417 418\n",
              " [73] 419 420 421 422 423 424 425 426 427 428 429 430 431 432 433 434 435 436\n",
              " [91] 437 438 439 440 441 442 443 444 445 446\n",
              "\n",
              "$Testing375\n",
              "  [1] 376 377 378 379 380 381 382 383 384 385 386 387 388 389 390 391 392 393\n",
              " [19] 394 395 396 397 398 399 400 401 402 403 404 405 406 407 408 409 410 411\n",
              " [37] 412 413 414 415 416 417 418 419 420 421 422 423 424 425 426 427 428 429\n",
              " [55] 430 431 432 433 434 435 436 437 438 439 440 441 442 443 444 445 446 447\n",
              " [73] 448 449 450 451 452 453 454 455 456 457 458 459 460 461 462 463 464 465\n",
              " [91] 466 467 468 469 470 471 472 473 474 475\n"
            ],
            "text/latex": "\\begin{description}\n\\item[\\$Testing230] \\begin{enumerate*}\n\\item 231\n\\item 232\n\\item 233\n\\item 234\n\\item 235\n\\item 236\n\\item 237\n\\item 238\n\\item 239\n\\item 240\n\\item 241\n\\item 242\n\\item 243\n\\item 244\n\\item 245\n\\item 246\n\\item 247\n\\item 248\n\\item 249\n\\item 250\n\\item 251\n\\item 252\n\\item 253\n\\item 254\n\\item 255\n\\item 256\n\\item 257\n\\item 258\n\\item 259\n\\item 260\n\\item 261\n\\item 262\n\\item 263\n\\item 264\n\\item 265\n\\item 266\n\\item 267\n\\item 268\n\\item 269\n\\item 270\n\\item 271\n\\item 272\n\\item 273\n\\item 274\n\\item 275\n\\item 276\n\\item 277\n\\item 278\n\\item 279\n\\item 280\n\\item 281\n\\item 282\n\\item 283\n\\item 284\n\\item 285\n\\item 286\n\\item 287\n\\item 288\n\\item 289\n\\item 290\n\\item 291\n\\item 292\n\\item 293\n\\item 294\n\\item 295\n\\item 296\n\\item 297\n\\item 298\n\\item 299\n\\item 300\n\\item 301\n\\item 302\n\\item 303\n\\item 304\n\\item 305\n\\item 306\n\\item 307\n\\item 308\n\\item 309\n\\item 310\n\\item 311\n\\item 312\n\\item 313\n\\item 314\n\\item 315\n\\item 316\n\\item 317\n\\item 318\n\\item 319\n\\item 320\n\\item 321\n\\item 322\n\\item 323\n\\item 324\n\\item 325\n\\item 326\n\\item 327\n\\item 328\n\\item 329\n\\item 330\n\\end{enumerate*}\n\n\\item[\\$Testing259] \\begin{enumerate*}\n\\item 260\n\\item 261\n\\item 262\n\\item 263\n\\item 264\n\\item 265\n\\item 266\n\\item 267\n\\item 268\n\\item 269\n\\item 270\n\\item 271\n\\item 272\n\\item 273\n\\item 274\n\\item 275\n\\item 276\n\\item 277\n\\item 278\n\\item 279\n\\item 280\n\\item 281\n\\item 282\n\\item 283\n\\item 284\n\\item 285\n\\item 286\n\\item 287\n\\item 288\n\\item 289\n\\item 290\n\\item 291\n\\item 292\n\\item 293\n\\item 294\n\\item 295\n\\item 296\n\\item 297\n\\item 298\n\\item 299\n\\item 300\n\\item 301\n\\item 302\n\\item 303\n\\item 304\n\\item 305\n\\item 306\n\\item 307\n\\item 308\n\\item 309\n\\item 310\n\\item 311\n\\item 312\n\\item 313\n\\item 314\n\\item 315\n\\item 316\n\\item 317\n\\item 318\n\\item 319\n\\item 320\n\\item 321\n\\item 322\n\\item 323\n\\item 324\n\\item 325\n\\item 326\n\\item 327\n\\item 328\n\\item 329\n\\item 330\n\\item 331\n\\item 332\n\\item 333\n\\item 334\n\\item 335\n\\item 336\n\\item 337\n\\item 338\n\\item 339\n\\item 340\n\\item 341\n\\item 342\n\\item 343\n\\item 344\n\\item 345\n\\item 346\n\\item 347\n\\item 348\n\\item 349\n\\item 350\n\\item 351\n\\item 352\n\\item 353\n\\item 354\n\\item 355\n\\item 356\n\\item 357\n\\item 358\n\\item 359\n\\end{enumerate*}\n\n\\item[\\$Testing288] \\begin{enumerate*}\n\\item 289\n\\item 290\n\\item 291\n\\item 292\n\\item 293\n\\item 294\n\\item 295\n\\item 296\n\\item 297\n\\item 298\n\\item 299\n\\item 300\n\\item 301\n\\item 302\n\\item 303\n\\item 304\n\\item 305\n\\item 306\n\\item 307\n\\item 308\n\\item 309\n\\item 310\n\\item 311\n\\item 312\n\\item 313\n\\item 314\n\\item 315\n\\item 316\n\\item 317\n\\item 318\n\\item 319\n\\item 320\n\\item 321\n\\item 322\n\\item 323\n\\item 324\n\\item 325\n\\item 326\n\\item 327\n\\item 328\n\\item 329\n\\item 330\n\\item 331\n\\item 332\n\\item 333\n\\item 334\n\\item 335\n\\item 336\n\\item 337\n\\item 338\n\\item 339\n\\item 340\n\\item 341\n\\item 342\n\\item 343\n\\item 344\n\\item 345\n\\item 346\n\\item 347\n\\item 348\n\\item 349\n\\item 350\n\\item 351\n\\item 352\n\\item 353\n\\item 354\n\\item 355\n\\item 356\n\\item 357\n\\item 358\n\\item 359\n\\item 360\n\\item 361\n\\item 362\n\\item 363\n\\item 364\n\\item 365\n\\item 366\n\\item 367\n\\item 368\n\\item 369\n\\item 370\n\\item 371\n\\item 372\n\\item 373\n\\item 374\n\\item 375\n\\item 376\n\\item 377\n\\item 378\n\\item 379\n\\item 380\n\\item 381\n\\item 382\n\\item 383\n\\item 384\n\\item 385\n\\item 386\n\\item 387\n\\item 388\n\\end{enumerate*}\n\n\\item[\\$Testing317] \\begin{enumerate*}\n\\item 318\n\\item 319\n\\item 320\n\\item 321\n\\item 322\n\\item 323\n\\item 324\n\\item 325\n\\item 326\n\\item 327\n\\item 328\n\\item 329\n\\item 330\n\\item 331\n\\item 332\n\\item 333\n\\item 334\n\\item 335\n\\item 336\n\\item 337\n\\item 338\n\\item 339\n\\item 340\n\\item 341\n\\item 342\n\\item 343\n\\item 344\n\\item 345\n\\item 346\n\\item 347\n\\item 348\n\\item 349\n\\item 350\n\\item 351\n\\item 352\n\\item 353\n\\item 354\n\\item 355\n\\item 356\n\\item 357\n\\item 358\n\\item 359\n\\item 360\n\\item 361\n\\item 362\n\\item 363\n\\item 364\n\\item 365\n\\item 366\n\\item 367\n\\item 368\n\\item 369\n\\item 370\n\\item 371\n\\item 372\n\\item 373\n\\item 374\n\\item 375\n\\item 376\n\\item 377\n\\item 378\n\\item 379\n\\item 380\n\\item 381\n\\item 382\n\\item 383\n\\item 384\n\\item 385\n\\item 386\n\\item 387\n\\item 388\n\\item 389\n\\item 390\n\\item 391\n\\item 392\n\\item 393\n\\item 394\n\\item 395\n\\item 396\n\\item 397\n\\item 398\n\\item 399\n\\item 400\n\\item 401\n\\item 402\n\\item 403\n\\item 404\n\\item 405\n\\item 406\n\\item 407\n\\item 408\n\\item 409\n\\item 410\n\\item 411\n\\item 412\n\\item 413\n\\item 414\n\\item 415\n\\item 416\n\\item 417\n\\end{enumerate*}\n\n\\item[\\$Testing346] \\begin{enumerate*}\n\\item 347\n\\item 348\n\\item 349\n\\item 350\n\\item 351\n\\item 352\n\\item 353\n\\item 354\n\\item 355\n\\item 356\n\\item 357\n\\item 358\n\\item 359\n\\item 360\n\\item 361\n\\item 362\n\\item 363\n\\item 364\n\\item 365\n\\item 366\n\\item 367\n\\item 368\n\\item 369\n\\item 370\n\\item 371\n\\item 372\n\\item 373\n\\item 374\n\\item 375\n\\item 376\n\\item 377\n\\item 378\n\\item 379\n\\item 380\n\\item 381\n\\item 382\n\\item 383\n\\item 384\n\\item 385\n\\item 386\n\\item 387\n\\item 388\n\\item 389\n\\item 390\n\\item 391\n\\item 392\n\\item 393\n\\item 394\n\\item 395\n\\item 396\n\\item 397\n\\item 398\n\\item 399\n\\item 400\n\\item 401\n\\item 402\n\\item 403\n\\item 404\n\\item 405\n\\item 406\n\\item 407\n\\item 408\n\\item 409\n\\item 410\n\\item 411\n\\item 412\n\\item 413\n\\item 414\n\\item 415\n\\item 416\n\\item 417\n\\item 418\n\\item 419\n\\item 420\n\\item 421\n\\item 422\n\\item 423\n\\item 424\n\\item 425\n\\item 426\n\\item 427\n\\item 428\n\\item 429\n\\item 430\n\\item 431\n\\item 432\n\\item 433\n\\item 434\n\\item 435\n\\item 436\n\\item 437\n\\item 438\n\\item 439\n\\item 440\n\\item 441\n\\item 442\n\\item 443\n\\item 444\n\\item 445\n\\item 446\n\\end{enumerate*}\n\n\\item[\\$Testing375] \\begin{enumerate*}\n\\item 376\n\\item 377\n\\item 378\n\\item 379\n\\item 380\n\\item 381\n\\item 382\n\\item 383\n\\item 384\n\\item 385\n\\item 386\n\\item 387\n\\item 388\n\\item 389\n\\item 390\n\\item 391\n\\item 392\n\\item 393\n\\item 394\n\\item 395\n\\item 396\n\\item 397\n\\item 398\n\\item 399\n\\item 400\n\\item 401\n\\item 402\n\\item 403\n\\item 404\n\\item 405\n\\item 406\n\\item 407\n\\item 408\n\\item 409\n\\item 410\n\\item 411\n\\item 412\n\\item 413\n\\item 414\n\\item 415\n\\item 416\n\\item 417\n\\item 418\n\\item 419\n\\item 420\n\\item 421\n\\item 422\n\\item 423\n\\item 424\n\\item 425\n\\item 426\n\\item 427\n\\item 428\n\\item 429\n\\item 430\n\\item 431\n\\item 432\n\\item 433\n\\item 434\n\\item 435\n\\item 436\n\\item 437\n\\item 438\n\\item 439\n\\item 440\n\\item 441\n\\item 442\n\\item 443\n\\item 444\n\\item 445\n\\item 446\n\\item 447\n\\item 448\n\\item 449\n\\item 450\n\\item 451\n\\item 452\n\\item 453\n\\item 454\n\\item 455\n\\item 456\n\\item 457\n\\item 458\n\\item 459\n\\item 460\n\\item 461\n\\item 462\n\\item 463\n\\item 464\n\\item 465\n\\item 466\n\\item 467\n\\item 468\n\\item 469\n\\item 470\n\\item 471\n\\item 472\n\\item 473\n\\item 474\n\\item 475\n\\end{enumerate*}\n\n\\end{description}\n",
            "text/markdown": "$Testing230\n:   1. 231\n2. 232\n3. 233\n4. 234\n5. 235\n6. 236\n7. 237\n8. 238\n9. 239\n10. 240\n11. 241\n12. 242\n13. 243\n14. 244\n15. 245\n16. 246\n17. 247\n18. 248\n19. 249\n20. 250\n21. 251\n22. 252\n23. 253\n24. 254\n25. 255\n26. 256\n27. 257\n28. 258\n29. 259\n30. 260\n31. 261\n32. 262\n33. 263\n34. 264\n35. 265\n36. 266\n37. 267\n38. 268\n39. 269\n40. 270\n41. 271\n42. 272\n43. 273\n44. 274\n45. 275\n46. 276\n47. 277\n48. 278\n49. 279\n50. 280\n51. 281\n52. 282\n53. 283\n54. 284\n55. 285\n56. 286\n57. 287\n58. 288\n59. 289\n60. 290\n61. 291\n62. 292\n63. 293\n64. 294\n65. 295\n66. 296\n67. 297\n68. 298\n69. 299\n70. 300\n71. 301\n72. 302\n73. 303\n74. 304\n75. 305\n76. 306\n77. 307\n78. 308\n79. 309\n80. 310\n81. 311\n82. 312\n83. 313\n84. 314\n85. 315\n86. 316\n87. 317\n88. 318\n89. 319\n90. 320\n91. 321\n92. 322\n93. 323\n94. 324\n95. 325\n96. 326\n97. 327\n98. 328\n99. 329\n100. 330\n\n\n\n$Testing259\n:   1. 260\n2. 261\n3. 262\n4. 263\n5. 264\n6. 265\n7. 266\n8. 267\n9. 268\n10. 269\n11. 270\n12. 271\n13. 272\n14. 273\n15. 274\n16. 275\n17. 276\n18. 277\n19. 278\n20. 279\n21. 280\n22. 281\n23. 282\n24. 283\n25. 284\n26. 285\n27. 286\n28. 287\n29. 288\n30. 289\n31. 290\n32. 291\n33. 292\n34. 293\n35. 294\n36. 295\n37. 296\n38. 297\n39. 298\n40. 299\n41. 300\n42. 301\n43. 302\n44. 303\n45. 304\n46. 305\n47. 306\n48. 307\n49. 308\n50. 309\n51. 310\n52. 311\n53. 312\n54. 313\n55. 314\n56. 315\n57. 316\n58. 317\n59. 318\n60. 319\n61. 320\n62. 321\n63. 322\n64. 323\n65. 324\n66. 325\n67. 326\n68. 327\n69. 328\n70. 329\n71. 330\n72. 331\n73. 332\n74. 333\n75. 334\n76. 335\n77. 336\n78. 337\n79. 338\n80. 339\n81. 340\n82. 341\n83. 342\n84. 343\n85. 344\n86. 345\n87. 346\n88. 347\n89. 348\n90. 349\n91. 350\n92. 351\n93. 352\n94. 353\n95. 354\n96. 355\n97. 356\n98. 357\n99. 358\n100. 359\n\n\n\n$Testing288\n:   1. 289\n2. 290\n3. 291\n4. 292\n5. 293\n6. 294\n7. 295\n8. 296\n9. 297\n10. 298\n11. 299\n12. 300\n13. 301\n14. 302\n15. 303\n16. 304\n17. 305\n18. 306\n19. 307\n20. 308\n21. 309\n22. 310\n23. 311\n24. 312\n25. 313\n26. 314\n27. 315\n28. 316\n29. 317\n30. 318\n31. 319\n32. 320\n33. 321\n34. 322\n35. 323\n36. 324\n37. 325\n38. 326\n39. 327\n40. 328\n41. 329\n42. 330\n43. 331\n44. 332\n45. 333\n46. 334\n47. 335\n48. 336\n49. 337\n50. 338\n51. 339\n52. 340\n53. 341\n54. 342\n55. 343\n56. 344\n57. 345\n58. 346\n59. 347\n60. 348\n61. 349\n62. 350\n63. 351\n64. 352\n65. 353\n66. 354\n67. 355\n68. 356\n69. 357\n70. 358\n71. 359\n72. 360\n73. 361\n74. 362\n75. 363\n76. 364\n77. 365\n78. 366\n79. 367\n80. 368\n81. 369\n82. 370\n83. 371\n84. 372\n85. 373\n86. 374\n87. 375\n88. 376\n89. 377\n90. 378\n91. 379\n92. 380\n93. 381\n94. 382\n95. 383\n96. 384\n97. 385\n98. 386\n99. 387\n100. 388\n\n\n\n$Testing317\n:   1. 318\n2. 319\n3. 320\n4. 321\n5. 322\n6. 323\n7. 324\n8. 325\n9. 326\n10. 327\n11. 328\n12. 329\n13. 330\n14. 331\n15. 332\n16. 333\n17. 334\n18. 335\n19. 336\n20. 337\n21. 338\n22. 339\n23. 340\n24. 341\n25. 342\n26. 343\n27. 344\n28. 345\n29. 346\n30. 347\n31. 348\n32. 349\n33. 350\n34. 351\n35. 352\n36. 353\n37. 354\n38. 355\n39. 356\n40. 357\n41. 358\n42. 359\n43. 360\n44. 361\n45. 362\n46. 363\n47. 364\n48. 365\n49. 366\n50. 367\n51. 368\n52. 369\n53. 370\n54. 371\n55. 372\n56. 373\n57. 374\n58. 375\n59. 376\n60. 377\n61. 378\n62. 379\n63. 380\n64. 381\n65. 382\n66. 383\n67. 384\n68. 385\n69. 386\n70. 387\n71. 388\n72. 389\n73. 390\n74. 391\n75. 392\n76. 393\n77. 394\n78. 395\n79. 396\n80. 397\n81. 398\n82. 399\n83. 400\n84. 401\n85. 402\n86. 403\n87. 404\n88. 405\n89. 406\n90. 407\n91. 408\n92. 409\n93. 410\n94. 411\n95. 412\n96. 413\n97. 414\n98. 415\n99. 416\n100. 417\n\n\n\n$Testing346\n:   1. 347\n2. 348\n3. 349\n4. 350\n5. 351\n6. 352\n7. 353\n8. 354\n9. 355\n10. 356\n11. 357\n12. 358\n13. 359\n14. 360\n15. 361\n16. 362\n17. 363\n18. 364\n19. 365\n20. 366\n21. 367\n22. 368\n23. 369\n24. 370\n25. 371\n26. 372\n27. 373\n28. 374\n29. 375\n30. 376\n31. 377\n32. 378\n33. 379\n34. 380\n35. 381\n36. 382\n37. 383\n38. 384\n39. 385\n40. 386\n41. 387\n42. 388\n43. 389\n44. 390\n45. 391\n46. 392\n47. 393\n48. 394\n49. 395\n50. 396\n51. 397\n52. 398\n53. 399\n54. 400\n55. 401\n56. 402\n57. 403\n58. 404\n59. 405\n60. 406\n61. 407\n62. 408\n63. 409\n64. 410\n65. 411\n66. 412\n67. 413\n68. 414\n69. 415\n70. 416\n71. 417\n72. 418\n73. 419\n74. 420\n75. 421\n76. 422\n77. 423\n78. 424\n79. 425\n80. 426\n81. 427\n82. 428\n83. 429\n84. 430\n85. 431\n86. 432\n87. 433\n88. 434\n89. 435\n90. 436\n91. 437\n92. 438\n93. 439\n94. 440\n95. 441\n96. 442\n97. 443\n98. 444\n99. 445\n100. 446\n\n\n\n$Testing375\n:   1. 376\n2. 377\n3. 378\n4. 379\n5. 380\n6. 381\n7. 382\n8. 383\n9. 384\n10. 385\n11. 386\n12. 387\n13. 388\n14. 389\n15. 390\n16. 391\n17. 392\n18. 393\n19. 394\n20. 395\n21. 396\n22. 397\n23. 398\n24. 399\n25. 400\n26. 401\n27. 402\n28. 403\n29. 404\n30. 405\n31. 406\n32. 407\n33. 408\n34. 409\n35. 410\n36. 411\n37. 412\n38. 413\n39. 414\n40. 415\n41. 416\n42. 417\n43. 418\n44. 419\n45. 420\n46. 421\n47. 422\n48. 423\n49. 424\n50. 425\n51. 426\n52. 427\n53. 428\n54. 429\n55. 430\n56. 431\n57. 432\n58. 433\n59. 434\n60. 435\n61. 436\n62. 437\n63. 438\n64. 439\n65. 440\n66. 441\n67. 442\n68. 443\n69. 444\n70. 445\n71. 446\n72. 447\n73. 448\n74. 449\n75. 450\n76. 451\n77. 452\n78. 453\n79. 454\n80. 455\n81. 456\n82. 457\n83. 458\n84. 459\n85. 460\n86. 461\n87. 462\n88. 463\n89. 464\n90. 465\n91. 466\n92. 467\n93. 468\n94. 469\n95. 470\n96. 471\n97. 472\n98. 473\n99. 474\n100. 475\n\n\n\n\n\n",
            "text/html": [
              "<dl>\n",
              "\t<dt>$Testing230</dt>\n",
              "\t\t<dd><style>\n",
              ".list-inline {list-style: none; margin:0; padding: 0}\n",
              ".list-inline>li {display: inline-block}\n",
              ".list-inline>li:not(:last-child)::after {content: \"\\00b7\"; padding: 0 .5ex}\n",
              "</style>\n",
              "<ol class=list-inline><li>231</li><li>232</li><li>233</li><li>234</li><li>235</li><li>236</li><li>237</li><li>238</li><li>239</li><li>240</li><li>241</li><li>242</li><li>243</li><li>244</li><li>245</li><li>246</li><li>247</li><li>248</li><li>249</li><li>250</li><li>251</li><li>252</li><li>253</li><li>254</li><li>255</li><li>256</li><li>257</li><li>258</li><li>259</li><li>260</li><li>261</li><li>262</li><li>263</li><li>264</li><li>265</li><li>266</li><li>267</li><li>268</li><li>269</li><li>270</li><li>271</li><li>272</li><li>273</li><li>274</li><li>275</li><li>276</li><li>277</li><li>278</li><li>279</li><li>280</li><li>281</li><li>282</li><li>283</li><li>284</li><li>285</li><li>286</li><li>287</li><li>288</li><li>289</li><li>290</li><li>291</li><li>292</li><li>293</li><li>294</li><li>295</li><li>296</li><li>297</li><li>298</li><li>299</li><li>300</li><li>301</li><li>302</li><li>303</li><li>304</li><li>305</li><li>306</li><li>307</li><li>308</li><li>309</li><li>310</li><li>311</li><li>312</li><li>313</li><li>314</li><li>315</li><li>316</li><li>317</li><li>318</li><li>319</li><li>320</li><li>321</li><li>322</li><li>323</li><li>324</li><li>325</li><li>326</li><li>327</li><li>328</li><li>329</li><li>330</li></ol>\n",
              "</dd>\n",
              "\t<dt>$Testing259</dt>\n",
              "\t\t<dd><style>\n",
              ".list-inline {list-style: none; margin:0; padding: 0}\n",
              ".list-inline>li {display: inline-block}\n",
              ".list-inline>li:not(:last-child)::after {content: \"\\00b7\"; padding: 0 .5ex}\n",
              "</style>\n",
              "<ol class=list-inline><li>260</li><li>261</li><li>262</li><li>263</li><li>264</li><li>265</li><li>266</li><li>267</li><li>268</li><li>269</li><li>270</li><li>271</li><li>272</li><li>273</li><li>274</li><li>275</li><li>276</li><li>277</li><li>278</li><li>279</li><li>280</li><li>281</li><li>282</li><li>283</li><li>284</li><li>285</li><li>286</li><li>287</li><li>288</li><li>289</li><li>290</li><li>291</li><li>292</li><li>293</li><li>294</li><li>295</li><li>296</li><li>297</li><li>298</li><li>299</li><li>300</li><li>301</li><li>302</li><li>303</li><li>304</li><li>305</li><li>306</li><li>307</li><li>308</li><li>309</li><li>310</li><li>311</li><li>312</li><li>313</li><li>314</li><li>315</li><li>316</li><li>317</li><li>318</li><li>319</li><li>320</li><li>321</li><li>322</li><li>323</li><li>324</li><li>325</li><li>326</li><li>327</li><li>328</li><li>329</li><li>330</li><li>331</li><li>332</li><li>333</li><li>334</li><li>335</li><li>336</li><li>337</li><li>338</li><li>339</li><li>340</li><li>341</li><li>342</li><li>343</li><li>344</li><li>345</li><li>346</li><li>347</li><li>348</li><li>349</li><li>350</li><li>351</li><li>352</li><li>353</li><li>354</li><li>355</li><li>356</li><li>357</li><li>358</li><li>359</li></ol>\n",
              "</dd>\n",
              "\t<dt>$Testing288</dt>\n",
              "\t\t<dd><style>\n",
              ".list-inline {list-style: none; margin:0; padding: 0}\n",
              ".list-inline>li {display: inline-block}\n",
              ".list-inline>li:not(:last-child)::after {content: \"\\00b7\"; padding: 0 .5ex}\n",
              "</style>\n",
              "<ol class=list-inline><li>289</li><li>290</li><li>291</li><li>292</li><li>293</li><li>294</li><li>295</li><li>296</li><li>297</li><li>298</li><li>299</li><li>300</li><li>301</li><li>302</li><li>303</li><li>304</li><li>305</li><li>306</li><li>307</li><li>308</li><li>309</li><li>310</li><li>311</li><li>312</li><li>313</li><li>314</li><li>315</li><li>316</li><li>317</li><li>318</li><li>319</li><li>320</li><li>321</li><li>322</li><li>323</li><li>324</li><li>325</li><li>326</li><li>327</li><li>328</li><li>329</li><li>330</li><li>331</li><li>332</li><li>333</li><li>334</li><li>335</li><li>336</li><li>337</li><li>338</li><li>339</li><li>340</li><li>341</li><li>342</li><li>343</li><li>344</li><li>345</li><li>346</li><li>347</li><li>348</li><li>349</li><li>350</li><li>351</li><li>352</li><li>353</li><li>354</li><li>355</li><li>356</li><li>357</li><li>358</li><li>359</li><li>360</li><li>361</li><li>362</li><li>363</li><li>364</li><li>365</li><li>366</li><li>367</li><li>368</li><li>369</li><li>370</li><li>371</li><li>372</li><li>373</li><li>374</li><li>375</li><li>376</li><li>377</li><li>378</li><li>379</li><li>380</li><li>381</li><li>382</li><li>383</li><li>384</li><li>385</li><li>386</li><li>387</li><li>388</li></ol>\n",
              "</dd>\n",
              "\t<dt>$Testing317</dt>\n",
              "\t\t<dd><style>\n",
              ".list-inline {list-style: none; margin:0; padding: 0}\n",
              ".list-inline>li {display: inline-block}\n",
              ".list-inline>li:not(:last-child)::after {content: \"\\00b7\"; padding: 0 .5ex}\n",
              "</style>\n",
              "<ol class=list-inline><li>318</li><li>319</li><li>320</li><li>321</li><li>322</li><li>323</li><li>324</li><li>325</li><li>326</li><li>327</li><li>328</li><li>329</li><li>330</li><li>331</li><li>332</li><li>333</li><li>334</li><li>335</li><li>336</li><li>337</li><li>338</li><li>339</li><li>340</li><li>341</li><li>342</li><li>343</li><li>344</li><li>345</li><li>346</li><li>347</li><li>348</li><li>349</li><li>350</li><li>351</li><li>352</li><li>353</li><li>354</li><li>355</li><li>356</li><li>357</li><li>358</li><li>359</li><li>360</li><li>361</li><li>362</li><li>363</li><li>364</li><li>365</li><li>366</li><li>367</li><li>368</li><li>369</li><li>370</li><li>371</li><li>372</li><li>373</li><li>374</li><li>375</li><li>376</li><li>377</li><li>378</li><li>379</li><li>380</li><li>381</li><li>382</li><li>383</li><li>384</li><li>385</li><li>386</li><li>387</li><li>388</li><li>389</li><li>390</li><li>391</li><li>392</li><li>393</li><li>394</li><li>395</li><li>396</li><li>397</li><li>398</li><li>399</li><li>400</li><li>401</li><li>402</li><li>403</li><li>404</li><li>405</li><li>406</li><li>407</li><li>408</li><li>409</li><li>410</li><li>411</li><li>412</li><li>413</li><li>414</li><li>415</li><li>416</li><li>417</li></ol>\n",
              "</dd>\n",
              "\t<dt>$Testing346</dt>\n",
              "\t\t<dd><style>\n",
              ".list-inline {list-style: none; margin:0; padding: 0}\n",
              ".list-inline>li {display: inline-block}\n",
              ".list-inline>li:not(:last-child)::after {content: \"\\00b7\"; padding: 0 .5ex}\n",
              "</style>\n",
              "<ol class=list-inline><li>347</li><li>348</li><li>349</li><li>350</li><li>351</li><li>352</li><li>353</li><li>354</li><li>355</li><li>356</li><li>357</li><li>358</li><li>359</li><li>360</li><li>361</li><li>362</li><li>363</li><li>364</li><li>365</li><li>366</li><li>367</li><li>368</li><li>369</li><li>370</li><li>371</li><li>372</li><li>373</li><li>374</li><li>375</li><li>376</li><li>377</li><li>378</li><li>379</li><li>380</li><li>381</li><li>382</li><li>383</li><li>384</li><li>385</li><li>386</li><li>387</li><li>388</li><li>389</li><li>390</li><li>391</li><li>392</li><li>393</li><li>394</li><li>395</li><li>396</li><li>397</li><li>398</li><li>399</li><li>400</li><li>401</li><li>402</li><li>403</li><li>404</li><li>405</li><li>406</li><li>407</li><li>408</li><li>409</li><li>410</li><li>411</li><li>412</li><li>413</li><li>414</li><li>415</li><li>416</li><li>417</li><li>418</li><li>419</li><li>420</li><li>421</li><li>422</li><li>423</li><li>424</li><li>425</li><li>426</li><li>427</li><li>428</li><li>429</li><li>430</li><li>431</li><li>432</li><li>433</li><li>434</li><li>435</li><li>436</li><li>437</li><li>438</li><li>439</li><li>440</li><li>441</li><li>442</li><li>443</li><li>444</li><li>445</li><li>446</li></ol>\n",
              "</dd>\n",
              "\t<dt>$Testing375</dt>\n",
              "\t\t<dd><style>\n",
              ".list-inline {list-style: none; margin:0; padding: 0}\n",
              ".list-inline>li {display: inline-block}\n",
              ".list-inline>li:not(:last-child)::after {content: \"\\00b7\"; padding: 0 .5ex}\n",
              "</style>\n",
              "<ol class=list-inline><li>376</li><li>377</li><li>378</li><li>379</li><li>380</li><li>381</li><li>382</li><li>383</li><li>384</li><li>385</li><li>386</li><li>387</li><li>388</li><li>389</li><li>390</li><li>391</li><li>392</li><li>393</li><li>394</li><li>395</li><li>396</li><li>397</li><li>398</li><li>399</li><li>400</li><li>401</li><li>402</li><li>403</li><li>404</li><li>405</li><li>406</li><li>407</li><li>408</li><li>409</li><li>410</li><li>411</li><li>412</li><li>413</li><li>414</li><li>415</li><li>416</li><li>417</li><li>418</li><li>419</li><li>420</li><li>421</li><li>422</li><li>423</li><li>424</li><li>425</li><li>426</li><li>427</li><li>428</li><li>429</li><li>430</li><li>431</li><li>432</li><li>433</li><li>434</li><li>435</li><li>436</li><li>437</li><li>438</li><li>439</li><li>440</li><li>441</li><li>442</li><li>443</li><li>444</li><li>445</li><li>446</li><li>447</li><li>448</li><li>449</li><li>450</li><li>451</li><li>452</li><li>453</li><li>454</li><li>455</li><li>456</li><li>457</li><li>458</li><li>459</li><li>460</li><li>461</li><li>462</li><li>463</li><li>464</li><li>465</li><li>466</li><li>467</li><li>468</li><li>469</li><li>470</li><li>471</li><li>472</li><li>473</li><li>474</li><li>475</li></ol>\n",
              "</dd>\n",
              "</dl>\n"
            ]
          },
          "metadata": {}
        }
      ]
    },
    {
      "cell_type": "markdown",
      "metadata": {
        "id": "ak39HF9cf3lu"
      },
      "source": [
        "# **Model Building**"
      ]
    },
    {
      "cell_type": "markdown",
      "metadata": {
        "id": "xmhVcrdAUa1F"
      },
      "source": [
        "## **Defining functions for various models**"
      ]
    },
    {
      "cell_type": "code",
      "metadata": {
        "id": "ny598aAsf3EB",
        "colab": {
          "base_uri": "https://localhost:8080/"
        },
        "outputId": "70df46ab-7862-4a9f-8143-3d2b5c4581cc"
      },
      "source": [
        "if(\"Metrics\" %in% rownames(installed.packages()) == FALSE) {install.packages(\"Metrics\")}\n",
        "suppressMessages(library(Metrics))\n",
        "if(\"randomForest\" %in% rownames(installed.packages()) == FALSE) {install.packages(\"randomForest\")}\n",
        "suppressMessages(library(randomForest))\n",
        "if(\"xgboost\" %in% rownames(installed.packages()) == FALSE) {install.packages(\"xgboost\")}\n",
        "library(xgboost)"
      ],
      "execution_count": 45,
      "outputs": [
        {
          "output_type": "stream",
          "name": "stderr",
          "text": [
            "Installing package into ‘/usr/local/lib/R/site-library’\n",
            "(as ‘lib’ is unspecified)\n",
            "\n"
          ]
        }
      ]
    },
    {
      "cell_type": "code",
      "metadata": {
        "colab": {
          "base_uri": "https://localhost:8080/"
        },
        "id": "wkeBNAxhULSl",
        "outputId": "bc16824b-c6b9-4644-d863-a4cc45273500"
      },
      "source": [
        "install.packages(\"zoo\")\n",
        "library(zoo) # rolling mean"
      ],
      "execution_count": 31,
      "outputs": [
        {
          "output_type": "stream",
          "name": "stderr",
          "text": [
            "Installing package into ‘/usr/local/lib/R/site-library’\n",
            "(as ‘lib’ is unspecified)\n",
            "\n",
            "\n",
            "Attaching package: ‘zoo’\n",
            "\n",
            "\n",
            "The following objects are masked from ‘package:base’:\n",
            "\n",
            "    as.Date, as.Date.numeric\n",
            "\n",
            "\n"
          ]
        }
      ]
    },
    {
      "cell_type": "code",
      "metadata": {
        "colab": {
          "base_uri": "https://localhost:8080/",
          "height": 34
        },
        "id": "uE-qeknbTmue",
        "outputId": "e7c3dcda-2981-4b8a-ba5f-c1b560b13051"
      },
      "source": [
        "# Naive model using 5day MA\n",
        "\n",
        "naive = df %>%\n",
        "  group_by(ticker) %>%\n",
        "  mutate(vol5MA = rollmean(vol, align = \"right\", k = 5, fill = NA)) %>%\n",
        "  select(date, ticker, voltarget, vol5MA)\n",
        "\n",
        "#naive\n",
        "\n",
        "applCVrmse = 0\n",
        "applCVmae = 0\n",
        "\n",
        "for (i in 1:7) {\n",
        "  validation = naive[testslices[[i]],]\n",
        "  rmse = rmse(validation$voltarget, validation$vol5MA)\n",
        "  mae = mae(validation$voltarget, validation$vol5MA)\n",
        "\n",
        "  applCVrmse[i] = rmse\n",
        "  applCVmae[i] = mae\n",
        "\n",
        "}\n",
        "\n",
        "applCVmae"
      ],
      "execution_count": null,
      "outputs": [
        {
          "output_type": "display_data",
          "data": {
            "text/plain": [
              "[1] 4756497 6142279 7030798 8089921 8389126 8204951 7064016"
            ],
            "text/latex": "\\begin{enumerate*}\n\\item 4756497.428\n\\item 6142278.626\n\\item 7030798.362\n\\item 8089920.528\n\\item 8389126.366\n\\item 8204950.762\n\\item 7064015.916\n\\end{enumerate*}\n",
            "text/markdown": "1. 4756497.428\n2. 6142278.626\n3. 7030798.362\n4. 8089920.528\n5. 8389126.366\n6. 8204950.762\n7. 7064015.916\n\n\n",
            "text/html": [
              "<style>\n",
              ".list-inline {list-style: none; margin:0; padding: 0}\n",
              ".list-inline>li {display: inline-block}\n",
              ".list-inline>li:not(:last-child)::after {content: \"\\00b7\"; padding: 0 .5ex}\n",
              "</style>\n",
              "<ol class=list-inline><li>4756497.428</li><li>6142278.626</li><li>7030798.362</li><li>8089920.528</li><li>8389126.366</li><li>8204950.762</li><li>7064015.916</li></ol>\n"
            ]
          },
          "metadata": {}
        }
      ]
    },
    {
      "cell_type": "code",
      "metadata": {
        "id": "vN70qSkCgT_3"
      },
      "source": [
        "# Function to construct CART tree\n",
        "cart = function(trainX, trainY) {\n",
        "  \n",
        "  train_control = trainControl(method = \"timeslice\",\n",
        "                            initialWindow = 130,\n",
        "                            horizon = 30,\n",
        "                            fixedWindow = FALSE,\n",
        "                            skip = 40,\n",
        "                            savePredictions = TRUE)\n",
        "\n",
        "  # hyperparameters\n",
        "  cp_values = data.frame(.cp = seq(0, 0.02, by = 0.0001))\n",
        "\n",
        "  model = train(x = trainX,\n",
        "                y = trainY,\n",
        "                method = \"rpart\",\n",
        "                trControl = train_control,\n",
        "                tuneGrid = cp_values)\n",
        "\n",
        "}\n",
        "\n",
        "# Function to construct RandomForest\n",
        "randomforest = function(trainX, trainY) {\n",
        "\n",
        "  train_control = trainControl(method = \"timeslice\",\n",
        "                                initialWindow = 130,\n",
        "                                horizon = 30,\n",
        "                                fixedWindow = FALSE,\n",
        "                                skip = 40,\n",
        "                                savePredictions = TRUE)\n",
        "\n",
        "  # hyperparameters\n",
        "  n_pred = dim(trainX)[2]\n",
        "  mtry_low = round(0.4 * n_pred)\n",
        "  mtry_upp = round(0.6 * n_pred)\n",
        "  mtry_grid = data.frame(mtry = seq(mtry_low, mtry_upp, by = 1))\n",
        "      \n",
        "  model = train(x = trainX,\n",
        "                y = trainY,\n",
        "                method = \"rf\",\n",
        "                trControl = train_control,\n",
        "                tuneGrid = mtry_grid,\n",
        "                ntree = 300,\n",
        "                nodesize = 5)\n",
        "\n",
        "}\n",
        "\n",
        "# Function to construct XGBoost\n",
        "xgb = function(trainX, trainY) {\n",
        "  \n",
        "  train_control = trainControl(method = \"timeslice\",\n",
        "                              initialWindow = 130,\n",
        "                              horizon = 30,\n",
        "                              fixedWindow = FALSE,\n",
        "                              skip = 40,\n",
        "                              savePredictions = TRUE,\n",
        "                              allowParallel = TRUE)\n",
        "\n",
        "  # hyperparameters that require further tuning\n",
        "  parm_grid = expand.grid(nrounds = 100, \n",
        "                          max_depth = 6, \n",
        "                          eta = seq(0.01, 0.05, by = 0.001),\n",
        "                          gamma = 0,\n",
        "                          colsample_bytree = 1,\n",
        "                          min_child_weight = 1,\n",
        "                          subsample = c(0.3, 0.5))\n",
        "\n",
        "  model = train(x = trainX,\n",
        "                y = trainY,\n",
        "                method = \"xgbTree\",\n",
        "                tuneGrid = parm_grid,\n",
        "                trControl = train_control)\n",
        "\n",
        "}\n",
        "\n",
        "# Function to plot \n",
        "plotlastfold = function(model) {\n",
        "  \n",
        "  train_pred = predict(model$finalModel, newdata = trainX)\n",
        "  \n",
        "  model_df = data.frame(timesteps = seq(1, train_days), predicted = train_pred, actual = trainY)\n",
        "\n",
        "  ggplot(data = model_df, (aes(x = timesteps))) +\n",
        "    geom_line(aes(y = predicted), color = \"blue\") +\n",
        "    geom_line(aes(y = actual), color = \"black\")\n",
        "\n",
        "}\n"
      ],
      "execution_count": 236,
      "outputs": []
    },
    {
      "cell_type": "code",
      "metadata": {
        "id": "afgdIuqpVNNJ"
      },
      "source": [
        "# $ date             : Date, format: \"2019-01-08\" \"2019-01-09\" ...\n",
        "# $ ticker           : chr  \"FB\" \"FB\" \"FB\" \"FB\" ...\n",
        "# $ vol              : int  26252863 22203279 16111304 12907031 20515678 24065513 18060414 15787914 32309412 22393694 ...\n",
        "# $ newssentiment    : num  63 50 50.5 50 50 50 50 37 40 50 ...\n",
        "# $ newsmentions     : int  2 0 2 0 0 0 0 1 1 0 ...\n",
        "# $ twtrmentions     : int  569 489 464 368 399 616 463 476 613 496 ...\n",
        "# $ twtrsentiment    : num  0.2689 0.0941 0.1746 0.1766 0.2381 ...\n",
        "# $ wsbsentiment     : num  0.3529 -0.3818 0.3246 -0.0799 -0.1559 ...\n",
        "# $ wsbmentions      : int  1 1 1 1 1 1 1 1 1 1 ...\n",
        "# $ retailvol        : int  11163579 9658300 6779001 5398647 9170878 9480406 7058870 5805217 11946377 8903335 ...\n",
        "# $ instvol          : int  15100214 12547579 9346003 7509384 11349400 14588416 10966844 9982697 19083235 13475359 ...\n",
        "# $ retailperc       : num  0.425 0.435 0.42 0.418 0.447 ...\n",
        "# $ newssentimentlag1: num  50 63 50 50.5 50 50 50 50 37 40 ...\n",
        "# $ newsmentionslag1 : int  0 2 0 2 0 0 0 0 1 1 ...\n",
        "# $ twtrmentionslag1 : int  415 569 489 464 368 399 616 463 476 613 ...\n",
        "# $ twtrsentimentlag1: num  0.2024 0.2689 0.0941 0.1746 0.1766 ...\n",
        "# $ wsbsentimentlag1 : num  -0.2222 0.3529 -0.3818 0.3246 -0.0799 ...\n",
        "# $ wsbmentionslag1  : int  1 1 1 1 1 1 1 1 1 1 ...\n",
        "# $ newssentimentlag2: num  50 50 63 50 50.5 50 50 50 50 37 ...\n",
        "# $ newsmentionslag2 : int  0 0 2 0 2 0 0 0 0 1 ...\n",
        "# $ twtrmentionslag2 : int  431 415 569 489 464 368 399 616 463 476 ...\n",
        "# $ twtrsentimentlag2: num  0.058 0.2024 0.2689 0.0941 0.1746 ...\n",
        "# $ wsbsentimentlag2 : num  -0.0623 -0.2222 0.3529 -0.3818 0.3246 ...\n",
        "# $ wsbmentionslag2  : int  1 1 1 1 1 1 1 1 1 1 ...\n",
        "# $ newssentimentlag4: num  50 50 50 50 63 50 50.5 50 50 50 ...\n",
        "# $ newsmentionslag4 : int  2 0 0 0 2 0 2 0 0 0 ...\n",
        "# $ twtrmentionslag4 : int  606 521 431 415 569 489 464 368 399 616 ...\n",
        "# $ twtrsentimentlag4: num  0.1172 0.0307 0.058 0.2024 0.2689 ...\n",
        "# $ wsbsentimentlag4 : num  0.1815 -0.1377 -0.0623 -0.2222 0.3529 ...\n",
        "# $ wsbmentionslag4  : int  1 1 1 1 1 1 1 1 1 1 ...\n",
        "# $ twtrmentions5MA  : num  474 461 458 467 462 ...\n",
        "# $ wsbmentions5MA   : num  1 1 1 1 1 1 1 1 1 1 ...\n",
        "# $ newsmentions5MA  : num  0.8 0.8 0.8 0.4 0.4 0.2 0.4 0.4 0.6 1.2 ...\n",
        "# $ twtrmentions10MA : num  488 474 469 487 495 ...\n",
        "# $ wsbmentions10MA  : num  1 1 1 1 1 1 1 1 1 1 ...\n",
        "# $ newsmentions10MA : num  0.6 0.4 0.5 0.6 0.6 0.5 0.8 0.6 0.8 1.1 ...\n",
        "# $ retailvollag1    : int  11163579 9658300 6779001 5398647 9170878 9480406 7058870 5805217 11946377 8903335 ...\n",
        "# $ retailvollag2    : num  10410940 8218650 6088824 7284762 9325642 ...\n",
        "# $ retailvollag4    : num  8964350 8249882 7751706 7707233 7777200 ...\n",
        "# $ target           : int  9658300 6779001 5398647 9170878 9480406 7058870 5805217 11946377 8903335 7344744 ...\n",
        "\n",
        "full_feature = c(3:39)\n",
        "reduced_feature = c(3:12)"
      ],
      "execution_count": 202,
      "outputs": []
    },
    {
      "cell_type": "code",
      "metadata": {
        "id": "128V5xBT-qX3"
      },
      "source": [
        "run_models = function(x, feature_set) {\n",
        "\n",
        "  output = list() # initialize list to store results\n",
        "  output[[\"ticker\"]] = x # add in ticker\n",
        "\n",
        "  # Create trainX, trainY, testX and testY based on feature_set\n",
        "  trainX = train %>% filter(ticker == x) %>% select(feature_set)\n",
        "  trainY = train %>% filter(ticker == x) %>% select(c(40)) %>% pull()\n",
        "  testX = test %>% filter(ticker == x) %>% select(feature_set)\n",
        "  testY = test %>% filter(ticker == x) %>% select(c(40)) %>% pull()\n",
        "\n",
        "  # Run CART Model\n",
        "  # Extract and record error metrics\n",
        "  tree = cart(trainX, trainY)\n",
        "  output[[\"dtparams\"]] = as.list(tree$bestTune)\n",
        "  output[[\"dtRMSE\"]] = tree$results %>% arrange(RMSE) %>% dplyr::slice(1) %>% select(RMSE) %>% as.double(.)\n",
        "  output[[\"dtRMSESD\"]] = tree$results %>% arrange(RMSE) %>% dplyr::slice(1) %>% select(RMSESD) %>% as.double(.)\n",
        "  output[[\"dtMAE\"]] = tree$results %>% arrange(RMSE) %>% dplyr::slice(1) %>% select(MAE) %>% as.double(.)\n",
        "  output[[\"dtMAESD\"]] = tree$results %>% arrange(RMSE) %>% dplyr::slice(1) %>% select(MAESD) %>% as.double(.)\n",
        "  \n",
        "  # Run RF Model\n",
        "  # Extract and record error metrics\n",
        "  set.seed(15071)\n",
        "  forest = randomforest(trainX, trainY)\n",
        "  output[[\"rfparams\"]] = as.list(forest$bestTune) \n",
        "  output[[\"rfRMSE\"]] = forest$results %>% arrange(RMSE) %>% dplyr::slice(1) %>% select(RMSE) %>% as.double(.)\n",
        "  output[[\"rfRMSESD\"]] = forest$results %>% arrange(RMSE) %>% dplyr::slice(1) %>% select(RMSESD) %>% as.double(.)\n",
        "  output[[\"rfMAE\"]] = forest$results %>% arrange(RMSE) %>% dplyr::slice(1) %>% select(MAE) %>% as.double(.)\n",
        "  output[[\"rfMAESD\"]] = forest$results %>% arrange(RMSE) %>% dplyr::slice(1) %>% select(MAESD) %>% as.double(.)\n",
        "\n",
        "  output = output\n",
        "\n",
        "}"
      ],
      "execution_count": 252,
      "outputs": []
    },
    {
      "cell_type": "code",
      "metadata": {
        "id": "a5D9UwLKO8Hs"
      },
      "source": [
        "fb = run_models(\"FB\", reduced_feature)\n",
        "#aapl = run_models(\"AAPL\", reduced_feature)\n",
        "#amzn = run_models(\"AMZN\", reduced_feature)\n",
        "#nflx = run_models(\"NFLX\", reduced_feature)\n",
        "#googl = run_models(\"GOOGL\", reduced_feature)"
      ],
      "execution_count": 253,
      "outputs": []
    },
    {
      "cell_type": "code",
      "metadata": {
        "id": "gujZ_ewaegka"
      },
      "source": [
        "forestImp = as.data.frame(rbind(forest$finalModel$importance)) %>% arrange(desc(IncNodePurity))\n",
        "head(forestImp, 10)"
      ],
      "execution_count": null,
      "outputs": []
    },
    {
      "cell_type": "code",
      "metadata": {
        "id": "OLHe7VjxOcAv"
      },
      "source": [
        "# Construct a XGBoost\n",
        "xgboost = xgb()\n",
        "\n",
        "#xgboost$bestTune\n",
        "\n",
        "# The above parameters gives the lowest CV RMSE\n",
        "# xgBoost requires far more tuning\n",
        "# The current tuning grid is too small to explore the solution space fully\n",
        "xgboost$results %>% arrange(RMSE) %>% head()"
      ],
      "execution_count": 111,
      "outputs": []
    }
  ]
}