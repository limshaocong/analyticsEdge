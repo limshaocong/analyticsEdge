{
  "nbformat": 4,
  "nbformat_minor": 0,
  "metadata": {
    "colab": {
      "name": "Data Exploration.ipynb",
      "provenance": [],
      "collapsed_sections": [],
      "authorship_tag": "ABX9TyPcG2SwruX9JHNpp5ilcnJc",
      "include_colab_link": true
    },
    "kernelspec": {
      "name": "ir",
      "display_name": "R"
    },
    "language_info": {
      "name": "R"
    }
  },
  "cells": [
    {
      "cell_type": "markdown",
      "metadata": {
        "id": "view-in-github",
        "colab_type": "text"
      },
      "source": [
        "<a href=\"https://colab.research.google.com/github/limshaocong/analyticsEdge/blob/main/Data_Exploration.ipynb\" target=\"_parent\"><img src=\"https://colab.research.google.com/assets/colab-badge.svg\" alt=\"Open In Colab\"/></a>"
      ]
    },
    {
      "cell_type": "code",
      "metadata": {
        "colab": {
          "base_uri": "https://localhost:8080/"
        },
        "id": "D0LXJE4pWkR0",
        "outputId": "112ef761-ba5f-460d-8e4e-ebca86d259da"
      },
      "source": [
        "library(tidyverse)\n",
        "library(ggplot2)\n",
        "library(lubridate)"
      ],
      "execution_count": 41,
      "outputs": [
        {
          "output_type": "stream",
          "name": "stderr",
          "text": [
            "Installing package into ‘/usr/local/lib/R/site-library’\n",
            "(as ‘lib’ is unspecified)\n",
            "\n",
            "Warning message:\n",
            "“package ‘calplot’ is not available for this version of R\n",
            "\n",
            "A version of this package for your version of R might be available elsewhere,\n",
            "see the ideas at\n",
            "https://cran.r-project.org/doc/manuals/r-patched/R-admin.html#Installing-packages”\n"
          ]
        }
      ]
    },
    {
      "cell_type": "code",
      "metadata": {
        "id": "Hj6QXuY2WcPu"
      },
      "source": [
        "path = \"https://raw.githubusercontent.com/limshaocong/analyticsEdge/main/Datasets/\"\n",
        "\n",
        "# Russell 3000 tickers\n",
        "tickers.path = paste0(path,\"r3000_tickers.csv\")\n",
        "\n",
        "# Quiver Quant data\n",
        "twitter.follower.path = paste0(path, \"QuiverQuant/twitter_follower.csv\")\n",
        "wiki.pageviews.path = paste0(path,\"QuiverQuant/wikipedia_pageviews.csv\")\n",
        "wsb.sentiment.path = paste0(path,\"QuiverQuant/wsb_sentiment.csv\")\n",
        "otc.path = paste0(path,\"QuiverQuant/otc_2019.csv\")\n",
        "\n",
        "# RavenPack Sentiment Relevance data\n",
        "rp.company.index.path = paste0(path,\"RavenPack_WRDS/rp_company_index.csv\")\n",
        "## Dow Jones new releases (2018-2021)\n",
        "rp.dj.2018.path = paste0(path,\"RavenPack_WRDS/rp_dj_2018.csv\")\n",
        "rp.dj.2019.path = paste0(path,\"RavenPack_WRDS/rp_dj_2019.csv\")\n",
        "rp.dj.2020.path = paste0(path,\"RavenPack_WRDS/rp_dj_2020.csv\")\n",
        "rp.dj.2021.path = paste0(path,\"RavenPack_WRDS/rp_dj_2021.csv\")\n",
        "## Global Press releases (2018-2021)\n",
        "rp.pr.2018.path = paste0(path,\"RavenPack_WRDS/rp_pr_2018.csv\")\n",
        "rp.pr.2019.path = paste0(path,\"RavenPack_WRDS/rp_pr_2019.csv\")\n",
        "rp.pr.2020.path = paste0(path,\"RavenPack_WRDS/rp_pr_2020.csv\")\n",
        "rp.pr.2021.path = paste0(path,\"RavenPack_WRDS/rp_pr_2021.csv\")\n",
        "\n",
        "# CRSP Stock Price data\n",
        "crsp.permnocode.path = paste0(path,\"CRSP_WRDS/crsp_permno.csv\")\n",
        "crsp.price.2019.path = paste0(path,\"CRSP_WRDS/crsp_daily_stock_price_2019.csv\")\n",
        "crsp.price.2020.path = paste0(path,\"CRSP_WRDS/crsp_daily_stock_price_2020.csv\")"
      ],
      "execution_count": 100,
      "outputs": []
    },
    {
      "cell_type": "markdown",
      "metadata": {
        "id": "PP5CaxYYXOo2"
      },
      "source": [
        "**Exploring RavenPack Data**\n"
      ]
    },
    {
      "cell_type": "code",
      "metadata": {
        "id": "LaCg5WeBWiZQ"
      },
      "source": [
        "# Import company index which allows the tickers to be mapped to RavenPack's\n",
        "# internal entity index\n",
        "rp.company.index = read.csv(rp.company.index.path)\n",
        "\n",
        "# Read the 2021 Dow Jones sentiment data\n",
        "rp.dj.2021 = read.csv(rp.dj.2021.path)"
      ],
      "execution_count": 71,
      "outputs": []
    },
    {
      "cell_type": "code",
      "metadata": {
        "colab": {
          "base_uri": "https://localhost:8080/",
          "height": 51
        },
        "id": "gyE6swrIAThC",
        "outputId": "2ece87b0-1225-4646-a520-3c5eff7c2245"
      },
      "source": [
        "length(unique(rp.dj.2021$rp_entity_id))\n",
        "rp.dj.2021$rpna_date_utc1 <- mdy(rp.dj.2021$rpna_date_utc)\n",
        "last = max(rp.dj.2021$rpna_date_utc)\n",
        "last"
      ],
      "execution_count": 72,
      "outputs": [
        {
          "output_type": "display_data",
          "data": {
            "text/plain": [
              "[1] 2815"
            ],
            "text/latex": "2815",
            "text/markdown": "2815",
            "text/html": [
              "2815"
            ]
          },
          "metadata": {}
        },
        {
          "output_type": "display_data",
          "data": {
            "text/plain": [
              "[1] \"9/9/2021\""
            ],
            "text/latex": "'9/9/2021'",
            "text/markdown": "'9/9/2021'",
            "text/html": [
              "'9/9/2021'"
            ]
          },
          "metadata": {}
        }
      ]
    },
    {
      "cell_type": "code",
      "metadata": {
        "colab": {
          "base_uri": "https://localhost:8080/",
          "height": 717
        },
        "id": "IRq02Sw5WwdA",
        "outputId": "1f2bb19f-d04d-4c25-eca1-856741775c45"
      },
      "source": [
        "# Sample of Data of AAPL for 2021 Dow Jones\n",
        "#\n",
        "# Conclusions:\n",
        "#\n",
        "# 1. Data is relatively spares, with no data on most dates. Preprocess to\n",
        "# fill in non-entries.\n",
        "#\n",
        "# 2. There are several entries which share the same \"category\", \"relevance\",\n",
        "# \"ess\" and \"date\". Preprocess to aggregate repetitions.\n",
        "#\n",
        "# 3. There are also several entries on the same \"date\" that have a range of \n",
        "# \"ess\". Need to determine means of aggregation.\n",
        "#\n",
        "# 3. Many entries that have neutral sentiment (ie. ess = 50). Preprocessing\n",
        "# needs to assume if absence of press release and neutral announcement should\n",
        "# encoded the same.\n",
        "\n",
        "aapl.index = rp.company.index$rp_entity_id[rp.company.index$ticker == \"AAPL\"]\n",
        "rp.dj.2021 %>% filter(rp.dj.2021$rp_entity_id == aapl.index) %>% head(20)"
      ],
      "execution_count": null,
      "outputs": [
        {
          "output_type": "display_data",
          "data": {
            "text/plain": [
              "   rp_entity_id category                       relevance ess rpna_date_utc\n",
              "1  D8442A       analyst-ratings-change-neutral 100       51  1/5/2021     \n",
              "2  D8442A       price-target-upgrade           100       91  1/5/2021     \n",
              "3  D8442A       executive-appointment          100       54  1/5/2021     \n",
              "4  D8442A       executive-appointment          100       54  1/5/2021     \n",
              "5  D8442A       executive-appointment          100       54  1/5/2021     \n",
              "6  D8442A       analyst-ratings-change-neutral 100       78  1/5/2021     \n",
              "7  D8442A       price-target-upgrade           100       75  1/5/2021     \n",
              "8  D8442A       executive-salary-increase      100       44  1/6/2021     \n",
              "9  D8442A       executive-salary-increase      100       44  1/6/2021     \n",
              "10 D8442A       stock-loss                     100       40  1/6/2021     \n",
              "11 D8442A       stock-gain                     100       63  1/8/2021     \n",
              "12 D8442A       business-contract-terminated   100       31  1/10/2021    \n",
              "13 D8442A       business-contract-terminated   100       31  1/10/2021    \n",
              "14 D8442A       business-contract-terminated   100       31  1/10/2021    \n",
              "15 D8442A       business-contract-terminated   100       31  1/10/2021    \n",
              "16 D8442A       facility-open                  100       65  1/13/2021    \n",
              "17 D8442A       facility-open                  100       65  1/13/2021    \n",
              "18 D8442A       facility-open                  100       65  1/13/2021    \n",
              "19 D8442A       facility-open                  100       65  1/13/2021    \n",
              "20 D8442A       analyst-ratings-change-neutral 100       51  1/14/2021    "
            ],
            "text/latex": "A data.frame: 20 × 5\n\\begin{tabular}{r|lllll}\n  & rp\\_entity\\_id & category & relevance & ess & rpna\\_date\\_utc\\\\\n  & <chr> & <chr> & <int> & <int> & <chr>\\\\\n\\hline\n\t1 & D8442A & analyst-ratings-change-neutral & 100 & 51 & 1/5/2021 \\\\\n\t2 & D8442A & price-target-upgrade           & 100 & 91 & 1/5/2021 \\\\\n\t3 & D8442A & executive-appointment          & 100 & 54 & 1/5/2021 \\\\\n\t4 & D8442A & executive-appointment          & 100 & 54 & 1/5/2021 \\\\\n\t5 & D8442A & executive-appointment          & 100 & 54 & 1/5/2021 \\\\\n\t6 & D8442A & analyst-ratings-change-neutral & 100 & 78 & 1/5/2021 \\\\\n\t7 & D8442A & price-target-upgrade           & 100 & 75 & 1/5/2021 \\\\\n\t8 & D8442A & executive-salary-increase      & 100 & 44 & 1/6/2021 \\\\\n\t9 & D8442A & executive-salary-increase      & 100 & 44 & 1/6/2021 \\\\\n\t10 & D8442A & stock-loss                     & 100 & 40 & 1/6/2021 \\\\\n\t11 & D8442A & stock-gain                     & 100 & 63 & 1/8/2021 \\\\\n\t12 & D8442A & business-contract-terminated   & 100 & 31 & 1/10/2021\\\\\n\t13 & D8442A & business-contract-terminated   & 100 & 31 & 1/10/2021\\\\\n\t14 & D8442A & business-contract-terminated   & 100 & 31 & 1/10/2021\\\\\n\t15 & D8442A & business-contract-terminated   & 100 & 31 & 1/10/2021\\\\\n\t16 & D8442A & facility-open                  & 100 & 65 & 1/13/2021\\\\\n\t17 & D8442A & facility-open                  & 100 & 65 & 1/13/2021\\\\\n\t18 & D8442A & facility-open                  & 100 & 65 & 1/13/2021\\\\\n\t19 & D8442A & facility-open                  & 100 & 65 & 1/13/2021\\\\\n\t20 & D8442A & analyst-ratings-change-neutral & 100 & 51 & 1/14/2021\\\\\n\\end{tabular}\n",
            "text/markdown": "\nA data.frame: 20 × 5\n\n| <!--/--> | rp_entity_id &lt;chr&gt; | category &lt;chr&gt; | relevance &lt;int&gt; | ess &lt;int&gt; | rpna_date_utc &lt;chr&gt; |\n|---|---|---|---|---|---|\n| 1 | D8442A | analyst-ratings-change-neutral | 100 | 51 | 1/5/2021  |\n| 2 | D8442A | price-target-upgrade           | 100 | 91 | 1/5/2021  |\n| 3 | D8442A | executive-appointment          | 100 | 54 | 1/5/2021  |\n| 4 | D8442A | executive-appointment          | 100 | 54 | 1/5/2021  |\n| 5 | D8442A | executive-appointment          | 100 | 54 | 1/5/2021  |\n| 6 | D8442A | analyst-ratings-change-neutral | 100 | 78 | 1/5/2021  |\n| 7 | D8442A | price-target-upgrade           | 100 | 75 | 1/5/2021  |\n| 8 | D8442A | executive-salary-increase      | 100 | 44 | 1/6/2021  |\n| 9 | D8442A | executive-salary-increase      | 100 | 44 | 1/6/2021  |\n| 10 | D8442A | stock-loss                     | 100 | 40 | 1/6/2021  |\n| 11 | D8442A | stock-gain                     | 100 | 63 | 1/8/2021  |\n| 12 | D8442A | business-contract-terminated   | 100 | 31 | 1/10/2021 |\n| 13 | D8442A | business-contract-terminated   | 100 | 31 | 1/10/2021 |\n| 14 | D8442A | business-contract-terminated   | 100 | 31 | 1/10/2021 |\n| 15 | D8442A | business-contract-terminated   | 100 | 31 | 1/10/2021 |\n| 16 | D8442A | facility-open                  | 100 | 65 | 1/13/2021 |\n| 17 | D8442A | facility-open                  | 100 | 65 | 1/13/2021 |\n| 18 | D8442A | facility-open                  | 100 | 65 | 1/13/2021 |\n| 19 | D8442A | facility-open                  | 100 | 65 | 1/13/2021 |\n| 20 | D8442A | analyst-ratings-change-neutral | 100 | 51 | 1/14/2021 |\n\n",
            "text/html": [
              "<table class=\"dataframe\">\n",
              "<caption>A data.frame: 20 × 5</caption>\n",
              "<thead>\n",
              "\t<tr><th></th><th scope=col>rp_entity_id</th><th scope=col>category</th><th scope=col>relevance</th><th scope=col>ess</th><th scope=col>rpna_date_utc</th></tr>\n",
              "\t<tr><th></th><th scope=col>&lt;chr&gt;</th><th scope=col>&lt;chr&gt;</th><th scope=col>&lt;int&gt;</th><th scope=col>&lt;int&gt;</th><th scope=col>&lt;chr&gt;</th></tr>\n",
              "</thead>\n",
              "<tbody>\n",
              "\t<tr><th scope=row>1</th><td>D8442A</td><td>analyst-ratings-change-neutral</td><td>100</td><td>51</td><td>1/5/2021 </td></tr>\n",
              "\t<tr><th scope=row>2</th><td>D8442A</td><td>price-target-upgrade          </td><td>100</td><td>91</td><td>1/5/2021 </td></tr>\n",
              "\t<tr><th scope=row>3</th><td>D8442A</td><td>executive-appointment         </td><td>100</td><td>54</td><td>1/5/2021 </td></tr>\n",
              "\t<tr><th scope=row>4</th><td>D8442A</td><td>executive-appointment         </td><td>100</td><td>54</td><td>1/5/2021 </td></tr>\n",
              "\t<tr><th scope=row>5</th><td>D8442A</td><td>executive-appointment         </td><td>100</td><td>54</td><td>1/5/2021 </td></tr>\n",
              "\t<tr><th scope=row>6</th><td>D8442A</td><td>analyst-ratings-change-neutral</td><td>100</td><td>78</td><td>1/5/2021 </td></tr>\n",
              "\t<tr><th scope=row>7</th><td>D8442A</td><td>price-target-upgrade          </td><td>100</td><td>75</td><td>1/5/2021 </td></tr>\n",
              "\t<tr><th scope=row>8</th><td>D8442A</td><td>executive-salary-increase     </td><td>100</td><td>44</td><td>1/6/2021 </td></tr>\n",
              "\t<tr><th scope=row>9</th><td>D8442A</td><td>executive-salary-increase     </td><td>100</td><td>44</td><td>1/6/2021 </td></tr>\n",
              "\t<tr><th scope=row>10</th><td>D8442A</td><td>stock-loss                    </td><td>100</td><td>40</td><td>1/6/2021 </td></tr>\n",
              "\t<tr><th scope=row>11</th><td>D8442A</td><td>stock-gain                    </td><td>100</td><td>63</td><td>1/8/2021 </td></tr>\n",
              "\t<tr><th scope=row>12</th><td>D8442A</td><td>business-contract-terminated  </td><td>100</td><td>31</td><td>1/10/2021</td></tr>\n",
              "\t<tr><th scope=row>13</th><td>D8442A</td><td>business-contract-terminated  </td><td>100</td><td>31</td><td>1/10/2021</td></tr>\n",
              "\t<tr><th scope=row>14</th><td>D8442A</td><td>business-contract-terminated  </td><td>100</td><td>31</td><td>1/10/2021</td></tr>\n",
              "\t<tr><th scope=row>15</th><td>D8442A</td><td>business-contract-terminated  </td><td>100</td><td>31</td><td>1/10/2021</td></tr>\n",
              "\t<tr><th scope=row>16</th><td>D8442A</td><td>facility-open                 </td><td>100</td><td>65</td><td>1/13/2021</td></tr>\n",
              "\t<tr><th scope=row>17</th><td>D8442A</td><td>facility-open                 </td><td>100</td><td>65</td><td>1/13/2021</td></tr>\n",
              "\t<tr><th scope=row>18</th><td>D8442A</td><td>facility-open                 </td><td>100</td><td>65</td><td>1/13/2021</td></tr>\n",
              "\t<tr><th scope=row>19</th><td>D8442A</td><td>facility-open                 </td><td>100</td><td>65</td><td>1/13/2021</td></tr>\n",
              "\t<tr><th scope=row>20</th><td>D8442A</td><td>analyst-ratings-change-neutral</td><td>100</td><td>51</td><td>1/14/2021</td></tr>\n",
              "</tbody>\n",
              "</table>\n"
            ]
          },
          "metadata": {}
        }
      ]
    },
    {
      "cell_type": "code",
      "metadata": {
        "id": "bQ6V9tsR0WA0",
        "colab": {
          "base_uri": "https://localhost:8080/",
          "height": 159
        },
        "outputId": "b9ddc418-84e7-40c1-8e7d-1bf6f16a32f7"
      },
      "source": [
        "# Relevance values are limited to 20 or 100\n",
        "aggregate(rp_entity_id ~ relevance, data = rp.dj.2021, FUN = length)"
      ],
      "execution_count": null,
      "outputs": [
        {
          "output_type": "display_data",
          "data": {
            "text/plain": [
              "  relevance rp_entity_id\n",
              "1  20        41202      \n",
              "2 100       224702      "
            ],
            "text/latex": "A data.frame: 2 × 2\n\\begin{tabular}{ll}\n relevance & rp\\_entity\\_id\\\\\n <int> & <int>\\\\\n\\hline\n\t  20 &  41202\\\\\n\t 100 & 224702\\\\\n\\end{tabular}\n",
            "text/markdown": "\nA data.frame: 2 × 2\n\n| relevance &lt;int&gt; | rp_entity_id &lt;int&gt; |\n|---|---|\n|  20 |  41202 |\n| 100 | 224702 |\n\n",
            "text/html": [
              "<table class=\"dataframe\">\n",
              "<caption>A data.frame: 2 × 2</caption>\n",
              "<thead>\n",
              "\t<tr><th scope=col>relevance</th><th scope=col>rp_entity_id</th></tr>\n",
              "\t<tr><th scope=col>&lt;int&gt;</th><th scope=col>&lt;int&gt;</th></tr>\n",
              "</thead>\n",
              "<tbody>\n",
              "\t<tr><td> 20</td><td> 41202</td></tr>\n",
              "\t<tr><td>100</td><td>224702</td></tr>\n",
              "</tbody>\n",
              "</table>\n"
            ]
          },
          "metadata": {}
        }
      ]
    },
    {
      "cell_type": "code",
      "metadata": {
        "colab": {
          "base_uri": "https://localhost:8080/",
          "height": 872
        },
        "id": "tCIwt3Di46kJ",
        "outputId": "fbf604e1-50ce-43e3-bc07-90a3274a1bbc"
      },
      "source": [
        "low.relevance = rp.dj.2021 %>% filter(rp.dj.2021$relevance == 20)\n",
        "aggregate(relevance ~ rp_entity_id, data = low.relevance, FUN = length)"
      ],
      "execution_count": 36,
      "outputs": [
        {
          "output_type": "display_data",
          "data": {
            "text/plain": [
              "   rp_entity_id relevance\n",
              "1  0C136E          3     \n",
              "2  0E64D4         26     \n",
              "3  12A3A3         81     \n",
              "4  12F98C          1     \n",
              "5  139303       1102     \n",
              "6  1E1125       2918     \n",
              "7  3461CF       6038     \n",
              "8  3B37F7        185     \n",
              "9  442587         67     \n",
              "10 50070E       1592     \n",
              "11 54F1D2         14     \n",
              "12 55018          26     \n",
              "13 58CA9A       2139     \n",
              "14 619882       2468     \n",
              "15 73C521          4     \n",
              "16 762A3E        561     \n",
              "17 9196A2       6849     \n",
              "18 95DC1F          1     \n",
              "19 990AD0        386     \n",
              "20 B3CB74       5185     \n",
              "21 C3BCD5         50     \n",
              "22 CBCC6A        782     \n",
              "23 CD4DA8        493     \n",
              "24 CFF97C       8494     \n",
              "25 E8846E       1737     "
            ],
            "text/latex": "A data.frame: 25 × 2\n\\begin{tabular}{ll}\n rp\\_entity\\_id & relevance\\\\\n <chr> & <int>\\\\\n\\hline\n\t 0C136E &    3\\\\\n\t 0E64D4 &   26\\\\\n\t 12A3A3 &   81\\\\\n\t 12F98C &    1\\\\\n\t 139303 & 1102\\\\\n\t 1E1125 & 2918\\\\\n\t 3461CF & 6038\\\\\n\t 3B37F7 &  185\\\\\n\t 442587 &   67\\\\\n\t 50070E & 1592\\\\\n\t 54F1D2 &   14\\\\\n\t 55018  &   26\\\\\n\t 58CA9A & 2139\\\\\n\t 619882 & 2468\\\\\n\t 73C521 &    4\\\\\n\t 762A3E &  561\\\\\n\t 9196A2 & 6849\\\\\n\t 95DC1F &    1\\\\\n\t 990AD0 &  386\\\\\n\t B3CB74 & 5185\\\\\n\t C3BCD5 &   50\\\\\n\t CBCC6A &  782\\\\\n\t CD4DA8 &  493\\\\\n\t CFF97C & 8494\\\\\n\t E8846E & 1737\\\\\n\\end{tabular}\n",
            "text/markdown": "\nA data.frame: 25 × 2\n\n| rp_entity_id &lt;chr&gt; | relevance &lt;int&gt; |\n|---|---|\n| 0C136E |    3 |\n| 0E64D4 |   26 |\n| 12A3A3 |   81 |\n| 12F98C |    1 |\n| 139303 | 1102 |\n| 1E1125 | 2918 |\n| 3461CF | 6038 |\n| 3B37F7 |  185 |\n| 442587 |   67 |\n| 50070E | 1592 |\n| 54F1D2 |   14 |\n| 55018  |   26 |\n| 58CA9A | 2139 |\n| 619882 | 2468 |\n| 73C521 |    4 |\n| 762A3E |  561 |\n| 9196A2 | 6849 |\n| 95DC1F |    1 |\n| 990AD0 |  386 |\n| B3CB74 | 5185 |\n| C3BCD5 |   50 |\n| CBCC6A |  782 |\n| CD4DA8 |  493 |\n| CFF97C | 8494 |\n| E8846E | 1737 |\n\n",
            "text/html": [
              "<table class=\"dataframe\">\n",
              "<caption>A data.frame: 25 × 2</caption>\n",
              "<thead>\n",
              "\t<tr><th scope=col>rp_entity_id</th><th scope=col>relevance</th></tr>\n",
              "\t<tr><th scope=col>&lt;chr&gt;</th><th scope=col>&lt;int&gt;</th></tr>\n",
              "</thead>\n",
              "<tbody>\n",
              "\t<tr><td>0C136E</td><td>   3</td></tr>\n",
              "\t<tr><td>0E64D4</td><td>  26</td></tr>\n",
              "\t<tr><td>12A3A3</td><td>  81</td></tr>\n",
              "\t<tr><td>12F98C</td><td>   1</td></tr>\n",
              "\t<tr><td>139303</td><td>1102</td></tr>\n",
              "\t<tr><td>1E1125</td><td>2918</td></tr>\n",
              "\t<tr><td>3461CF</td><td>6038</td></tr>\n",
              "\t<tr><td>3B37F7</td><td> 185</td></tr>\n",
              "\t<tr><td>442587</td><td>  67</td></tr>\n",
              "\t<tr><td>50070E</td><td>1592</td></tr>\n",
              "\t<tr><td>54F1D2</td><td>  14</td></tr>\n",
              "\t<tr><td>55018 </td><td>  26</td></tr>\n",
              "\t<tr><td>58CA9A</td><td>2139</td></tr>\n",
              "\t<tr><td>619882</td><td>2468</td></tr>\n",
              "\t<tr><td>73C521</td><td>   4</td></tr>\n",
              "\t<tr><td>762A3E</td><td> 561</td></tr>\n",
              "\t<tr><td>9196A2</td><td>6849</td></tr>\n",
              "\t<tr><td>95DC1F</td><td>   1</td></tr>\n",
              "\t<tr><td>990AD0</td><td> 386</td></tr>\n",
              "\t<tr><td>B3CB74</td><td>5185</td></tr>\n",
              "\t<tr><td>C3BCD5</td><td>  50</td></tr>\n",
              "\t<tr><td>CBCC6A</td><td> 782</td></tr>\n",
              "\t<tr><td>CD4DA8</td><td> 493</td></tr>\n",
              "\t<tr><td>CFF97C</td><td>8494</td></tr>\n",
              "\t<tr><td>E8846E</td><td>1737</td></tr>\n",
              "</tbody>\n",
              "</table>\n"
            ]
          },
          "metadata": {}
        }
      ]
    },
    {
      "cell_type": "code",
      "metadata": {
        "colab": {
          "base_uri": "https://localhost:8080/",
          "height": 717
        },
        "id": "KSgRlf8K1sEB",
        "outputId": "9e40e9dc-f6f1-41cf-9a72-4e7a89dad902"
      },
      "source": [
        "prevelance = aggregate(relevance ~ rp_entity_id, data = rp.dj.2021, FUN = length)\n",
        "head(prevelance[order(prevelance$relevance, decreasing = T), ], 20)"
      ],
      "execution_count": 30,
      "outputs": [
        {
          "output_type": "display_data",
          "data": {
            "text/plain": [
              "     rp_entity_id relevance\n",
              "2283 CFF97C       8740     \n",
              "1583 9196A2       7300     \n",
              "574  3461CF       6281     \n",
              "1982 B3CB74       5400     \n",
              "1051 619882       3213     \n",
              "310  1E1125       3149     \n",
              "963  58CA9A       2475     \n",
              "858  50070E       2077     \n",
              "2561 E8846E       2062     \n",
              "186  12E454       1276     \n",
              "195  139303       1193     \n",
              "1683 990AD0        886     \n",
              "2228 CBCC6A        824     \n",
              "793  4A6F00        781     \n",
              "13   0157B1        750     \n",
              "2332 D42DBA        645     \n",
              "1276 762A3E        644     \n",
              "2246 CD4DA8        613     \n",
              "2443 DD3BB1        586     \n",
              "378  228D42        576     "
            ],
            "text/latex": "A data.frame: 20 × 2\n\\begin{tabular}{r|ll}\n  & rp\\_entity\\_id & relevance\\\\\n  & <chr> & <int>\\\\\n\\hline\n\t2283 & CFF97C & 8740\\\\\n\t1583 & 9196A2 & 7300\\\\\n\t574 & 3461CF & 6281\\\\\n\t1982 & B3CB74 & 5400\\\\\n\t1051 & 619882 & 3213\\\\\n\t310 & 1E1125 & 3149\\\\\n\t963 & 58CA9A & 2475\\\\\n\t858 & 50070E & 2077\\\\\n\t2561 & E8846E & 2062\\\\\n\t186 & 12E454 & 1276\\\\\n\t195 & 139303 & 1193\\\\\n\t1683 & 990AD0 &  886\\\\\n\t2228 & CBCC6A &  824\\\\\n\t793 & 4A6F00 &  781\\\\\n\t13 & 0157B1 &  750\\\\\n\t2332 & D42DBA &  645\\\\\n\t1276 & 762A3E &  644\\\\\n\t2246 & CD4DA8 &  613\\\\\n\t2443 & DD3BB1 &  586\\\\\n\t378 & 228D42 &  576\\\\\n\\end{tabular}\n",
            "text/markdown": "\nA data.frame: 20 × 2\n\n| <!--/--> | rp_entity_id &lt;chr&gt; | relevance &lt;int&gt; |\n|---|---|---|\n| 2283 | CFF97C | 8740 |\n| 1583 | 9196A2 | 7300 |\n| 574 | 3461CF | 6281 |\n| 1982 | B3CB74 | 5400 |\n| 1051 | 619882 | 3213 |\n| 310 | 1E1125 | 3149 |\n| 963 | 58CA9A | 2475 |\n| 858 | 50070E | 2077 |\n| 2561 | E8846E | 2062 |\n| 186 | 12E454 | 1276 |\n| 195 | 139303 | 1193 |\n| 1683 | 990AD0 |  886 |\n| 2228 | CBCC6A |  824 |\n| 793 | 4A6F00 |  781 |\n| 13 | 0157B1 |  750 |\n| 2332 | D42DBA |  645 |\n| 1276 | 762A3E |  644 |\n| 2246 | CD4DA8 |  613 |\n| 2443 | DD3BB1 |  586 |\n| 378 | 228D42 |  576 |\n\n",
            "text/html": [
              "<table class=\"dataframe\">\n",
              "<caption>A data.frame: 20 × 2</caption>\n",
              "<thead>\n",
              "\t<tr><th></th><th scope=col>rp_entity_id</th><th scope=col>relevance</th></tr>\n",
              "\t<tr><th></th><th scope=col>&lt;chr&gt;</th><th scope=col>&lt;int&gt;</th></tr>\n",
              "</thead>\n",
              "<tbody>\n",
              "\t<tr><th scope=row>2283</th><td>CFF97C</td><td>8740</td></tr>\n",
              "\t<tr><th scope=row>1583</th><td>9196A2</td><td>7300</td></tr>\n",
              "\t<tr><th scope=row>574</th><td>3461CF</td><td>6281</td></tr>\n",
              "\t<tr><th scope=row>1982</th><td>B3CB74</td><td>5400</td></tr>\n",
              "\t<tr><th scope=row>1051</th><td>619882</td><td>3213</td></tr>\n",
              "\t<tr><th scope=row>310</th><td>1E1125</td><td>3149</td></tr>\n",
              "\t<tr><th scope=row>963</th><td>58CA9A</td><td>2475</td></tr>\n",
              "\t<tr><th scope=row>858</th><td>50070E</td><td>2077</td></tr>\n",
              "\t<tr><th scope=row>2561</th><td>E8846E</td><td>2062</td></tr>\n",
              "\t<tr><th scope=row>186</th><td>12E454</td><td>1276</td></tr>\n",
              "\t<tr><th scope=row>195</th><td>139303</td><td>1193</td></tr>\n",
              "\t<tr><th scope=row>1683</th><td>990AD0</td><td> 886</td></tr>\n",
              "\t<tr><th scope=row>2228</th><td>CBCC6A</td><td> 824</td></tr>\n",
              "\t<tr><th scope=row>793</th><td>4A6F00</td><td> 781</td></tr>\n",
              "\t<tr><th scope=row>13</th><td>0157B1</td><td> 750</td></tr>\n",
              "\t<tr><th scope=row>2332</th><td>D42DBA</td><td> 645</td></tr>\n",
              "\t<tr><th scope=row>1276</th><td>762A3E</td><td> 644</td></tr>\n",
              "\t<tr><th scope=row>2246</th><td>CD4DA8</td><td> 613</td></tr>\n",
              "\t<tr><th scope=row>2443</th><td>DD3BB1</td><td> 586</td></tr>\n",
              "\t<tr><th scope=row>378</th><td>228D42</td><td> 576</td></tr>\n",
              "</tbody>\n",
              "</table>\n"
            ]
          },
          "metadata": {}
        }
      ]
    },
    {
      "cell_type": "code",
      "metadata": {
        "colab": {
          "base_uri": "https://localhost:8080/",
          "height": 717
        },
        "id": "c3bjLNiQ4rjN",
        "outputId": "391c8e03-2787-4a9b-97d5-7061e4ffc2d9"
      },
      "source": [
        "rp.dj.2021 %>% filter(rp.dj.2021$rp_entity_id == \"9196A2\") %>% head(20)"
      ],
      "execution_count": 37,
      "outputs": [
        {
          "output_type": "display_data",
          "data": {
            "text/plain": [
              "   rp_entity_id category                             relevance ess\n",
              "1  9196A2       analyst-ratings-change-positive      100       78 \n",
              "2  9196A2       analyst-ratings-set-neutral-rater     20       50 \n",
              "3  9196A2       price-target-set-rater                20       50 \n",
              "4  9196A2       analyst-ratings-set-negative-rater    20       50 \n",
              "5  9196A2       price-target-set-rater                20       50 \n",
              "6  9196A2       analyst-ratings-change-neutral-rater  20       50 \n",
              "7  9196A2       price-target-upgrade-rater            20       50 \n",
              "8  9196A2       analyst-ratings-change-neutral-rater  20       50 \n",
              "9  9196A2       price-target-upgrade-rater            20       50 \n",
              "10 9196A2       analyst-ratings-change-neutral-rater  20       50 \n",
              "11 9196A2       price-target-upgrade-rater            20       50 \n",
              "12 9196A2       analyst-ratings-change-neutral-rater  20       50 \n",
              "13 9196A2       price-target-upgrade-rater            20       50 \n",
              "14 9196A2       analyst-ratings-change-neutral-rater  20       50 \n",
              "15 9196A2       price-target-upgrade-rater            20       50 \n",
              "16 9196A2       analyst-ratings-change-neutral-rater  20       50 \n",
              "17 9196A2       price-target-upgrade-rater            20       50 \n",
              "18 9196A2       analyst-ratings-change-neutral-rater  20       50 \n",
              "19 9196A2       price-target-upgrade-rater            20       50 \n",
              "20 9196A2       analyst-ratings-change-neutral-rater  20       50 \n",
              "   rpna_date_utc\n",
              "1  1/4/2021     \n",
              "2  1/4/2021     \n",
              "3  1/4/2021     \n",
              "4  1/4/2021     \n",
              "5  1/4/2021     \n",
              "6  1/4/2021     \n",
              "7  1/4/2021     \n",
              "8  1/4/2021     \n",
              "9  1/4/2021     \n",
              "10 1/5/2021     \n",
              "11 1/5/2021     \n",
              "12 1/5/2021     \n",
              "13 1/5/2021     \n",
              "14 1/5/2021     \n",
              "15 1/5/2021     \n",
              "16 1/5/2021     \n",
              "17 1/5/2021     \n",
              "18 1/5/2021     \n",
              "19 1/5/2021     \n",
              "20 1/5/2021     "
            ],
            "text/latex": "A data.frame: 20 × 5\n\\begin{tabular}{r|lllll}\n  & rp\\_entity\\_id & category & relevance & ess & rpna\\_date\\_utc\\\\\n  & <chr> & <chr> & <int> & <int> & <chr>\\\\\n\\hline\n\t1 & 9196A2 & analyst-ratings-change-positive      & 100 & 78 & 1/4/2021\\\\\n\t2 & 9196A2 & analyst-ratings-set-neutral-rater    &  20 & 50 & 1/4/2021\\\\\n\t3 & 9196A2 & price-target-set-rater               &  20 & 50 & 1/4/2021\\\\\n\t4 & 9196A2 & analyst-ratings-set-negative-rater   &  20 & 50 & 1/4/2021\\\\\n\t5 & 9196A2 & price-target-set-rater               &  20 & 50 & 1/4/2021\\\\\n\t6 & 9196A2 & analyst-ratings-change-neutral-rater &  20 & 50 & 1/4/2021\\\\\n\t7 & 9196A2 & price-target-upgrade-rater           &  20 & 50 & 1/4/2021\\\\\n\t8 & 9196A2 & analyst-ratings-change-neutral-rater &  20 & 50 & 1/4/2021\\\\\n\t9 & 9196A2 & price-target-upgrade-rater           &  20 & 50 & 1/4/2021\\\\\n\t10 & 9196A2 & analyst-ratings-change-neutral-rater &  20 & 50 & 1/5/2021\\\\\n\t11 & 9196A2 & price-target-upgrade-rater           &  20 & 50 & 1/5/2021\\\\\n\t12 & 9196A2 & analyst-ratings-change-neutral-rater &  20 & 50 & 1/5/2021\\\\\n\t13 & 9196A2 & price-target-upgrade-rater           &  20 & 50 & 1/5/2021\\\\\n\t14 & 9196A2 & analyst-ratings-change-neutral-rater &  20 & 50 & 1/5/2021\\\\\n\t15 & 9196A2 & price-target-upgrade-rater           &  20 & 50 & 1/5/2021\\\\\n\t16 & 9196A2 & analyst-ratings-change-neutral-rater &  20 & 50 & 1/5/2021\\\\\n\t17 & 9196A2 & price-target-upgrade-rater           &  20 & 50 & 1/5/2021\\\\\n\t18 & 9196A2 & analyst-ratings-change-neutral-rater &  20 & 50 & 1/5/2021\\\\\n\t19 & 9196A2 & price-target-upgrade-rater           &  20 & 50 & 1/5/2021\\\\\n\t20 & 9196A2 & analyst-ratings-change-neutral-rater &  20 & 50 & 1/5/2021\\\\\n\\end{tabular}\n",
            "text/markdown": "\nA data.frame: 20 × 5\n\n| <!--/--> | rp_entity_id &lt;chr&gt; | category &lt;chr&gt; | relevance &lt;int&gt; | ess &lt;int&gt; | rpna_date_utc &lt;chr&gt; |\n|---|---|---|---|---|---|\n| 1 | 9196A2 | analyst-ratings-change-positive      | 100 | 78 | 1/4/2021 |\n| 2 | 9196A2 | analyst-ratings-set-neutral-rater    |  20 | 50 | 1/4/2021 |\n| 3 | 9196A2 | price-target-set-rater               |  20 | 50 | 1/4/2021 |\n| 4 | 9196A2 | analyst-ratings-set-negative-rater   |  20 | 50 | 1/4/2021 |\n| 5 | 9196A2 | price-target-set-rater               |  20 | 50 | 1/4/2021 |\n| 6 | 9196A2 | analyst-ratings-change-neutral-rater |  20 | 50 | 1/4/2021 |\n| 7 | 9196A2 | price-target-upgrade-rater           |  20 | 50 | 1/4/2021 |\n| 8 | 9196A2 | analyst-ratings-change-neutral-rater |  20 | 50 | 1/4/2021 |\n| 9 | 9196A2 | price-target-upgrade-rater           |  20 | 50 | 1/4/2021 |\n| 10 | 9196A2 | analyst-ratings-change-neutral-rater |  20 | 50 | 1/5/2021 |\n| 11 | 9196A2 | price-target-upgrade-rater           |  20 | 50 | 1/5/2021 |\n| 12 | 9196A2 | analyst-ratings-change-neutral-rater |  20 | 50 | 1/5/2021 |\n| 13 | 9196A2 | price-target-upgrade-rater           |  20 | 50 | 1/5/2021 |\n| 14 | 9196A2 | analyst-ratings-change-neutral-rater |  20 | 50 | 1/5/2021 |\n| 15 | 9196A2 | price-target-upgrade-rater           |  20 | 50 | 1/5/2021 |\n| 16 | 9196A2 | analyst-ratings-change-neutral-rater |  20 | 50 | 1/5/2021 |\n| 17 | 9196A2 | price-target-upgrade-rater           |  20 | 50 | 1/5/2021 |\n| 18 | 9196A2 | analyst-ratings-change-neutral-rater |  20 | 50 | 1/5/2021 |\n| 19 | 9196A2 | price-target-upgrade-rater           |  20 | 50 | 1/5/2021 |\n| 20 | 9196A2 | analyst-ratings-change-neutral-rater |  20 | 50 | 1/5/2021 |\n\n",
            "text/html": [
              "<table class=\"dataframe\">\n",
              "<caption>A data.frame: 20 × 5</caption>\n",
              "<thead>\n",
              "\t<tr><th></th><th scope=col>rp_entity_id</th><th scope=col>category</th><th scope=col>relevance</th><th scope=col>ess</th><th scope=col>rpna_date_utc</th></tr>\n",
              "\t<tr><th></th><th scope=col>&lt;chr&gt;</th><th scope=col>&lt;chr&gt;</th><th scope=col>&lt;int&gt;</th><th scope=col>&lt;int&gt;</th><th scope=col>&lt;chr&gt;</th></tr>\n",
              "</thead>\n",
              "<tbody>\n",
              "\t<tr><th scope=row>1</th><td>9196A2</td><td>analyst-ratings-change-positive     </td><td>100</td><td>78</td><td>1/4/2021</td></tr>\n",
              "\t<tr><th scope=row>2</th><td>9196A2</td><td>analyst-ratings-set-neutral-rater   </td><td> 20</td><td>50</td><td>1/4/2021</td></tr>\n",
              "\t<tr><th scope=row>3</th><td>9196A2</td><td>price-target-set-rater              </td><td> 20</td><td>50</td><td>1/4/2021</td></tr>\n",
              "\t<tr><th scope=row>4</th><td>9196A2</td><td>analyst-ratings-set-negative-rater  </td><td> 20</td><td>50</td><td>1/4/2021</td></tr>\n",
              "\t<tr><th scope=row>5</th><td>9196A2</td><td>price-target-set-rater              </td><td> 20</td><td>50</td><td>1/4/2021</td></tr>\n",
              "\t<tr><th scope=row>6</th><td>9196A2</td><td>analyst-ratings-change-neutral-rater</td><td> 20</td><td>50</td><td>1/4/2021</td></tr>\n",
              "\t<tr><th scope=row>7</th><td>9196A2</td><td>price-target-upgrade-rater          </td><td> 20</td><td>50</td><td>1/4/2021</td></tr>\n",
              "\t<tr><th scope=row>8</th><td>9196A2</td><td>analyst-ratings-change-neutral-rater</td><td> 20</td><td>50</td><td>1/4/2021</td></tr>\n",
              "\t<tr><th scope=row>9</th><td>9196A2</td><td>price-target-upgrade-rater          </td><td> 20</td><td>50</td><td>1/4/2021</td></tr>\n",
              "\t<tr><th scope=row>10</th><td>9196A2</td><td>analyst-ratings-change-neutral-rater</td><td> 20</td><td>50</td><td>1/5/2021</td></tr>\n",
              "\t<tr><th scope=row>11</th><td>9196A2</td><td>price-target-upgrade-rater          </td><td> 20</td><td>50</td><td>1/5/2021</td></tr>\n",
              "\t<tr><th scope=row>12</th><td>9196A2</td><td>analyst-ratings-change-neutral-rater</td><td> 20</td><td>50</td><td>1/5/2021</td></tr>\n",
              "\t<tr><th scope=row>13</th><td>9196A2</td><td>price-target-upgrade-rater          </td><td> 20</td><td>50</td><td>1/5/2021</td></tr>\n",
              "\t<tr><th scope=row>14</th><td>9196A2</td><td>analyst-ratings-change-neutral-rater</td><td> 20</td><td>50</td><td>1/5/2021</td></tr>\n",
              "\t<tr><th scope=row>15</th><td>9196A2</td><td>price-target-upgrade-rater          </td><td> 20</td><td>50</td><td>1/5/2021</td></tr>\n",
              "\t<tr><th scope=row>16</th><td>9196A2</td><td>analyst-ratings-change-neutral-rater</td><td> 20</td><td>50</td><td>1/5/2021</td></tr>\n",
              "\t<tr><th scope=row>17</th><td>9196A2</td><td>price-target-upgrade-rater          </td><td> 20</td><td>50</td><td>1/5/2021</td></tr>\n",
              "\t<tr><th scope=row>18</th><td>9196A2</td><td>analyst-ratings-change-neutral-rater</td><td> 20</td><td>50</td><td>1/5/2021</td></tr>\n",
              "\t<tr><th scope=row>19</th><td>9196A2</td><td>price-target-upgrade-rater          </td><td> 20</td><td>50</td><td>1/5/2021</td></tr>\n",
              "\t<tr><th scope=row>20</th><td>9196A2</td><td>analyst-ratings-change-neutral-rater</td><td> 20</td><td>50</td><td>1/5/2021</td></tr>\n",
              "</tbody>\n",
              "</table>\n"
            ]
          },
          "metadata": {}
        }
      ]
    },
    {
      "cell_type": "markdown",
      "metadata": {
        "id": "qFLViNa38isH"
      },
      "source": [
        "**Exploring Twitter Follower Data**"
      ]
    },
    {
      "cell_type": "code",
      "metadata": {
        "id": "KEOZWq667r1a"
      },
      "source": [
        "twitter.follower = read.csv(twitter.follower.path)\n",
        "twitter.follower$Date <- ymd(twitter.follower$Date)"
      ],
      "execution_count": 55,
      "outputs": []
    },
    {
      "cell_type": "code",
      "metadata": {
        "colab": {
          "base_uri": "https://localhost:8080/",
          "height": 407
        },
        "id": "UpHnxvxbEn0L",
        "outputId": "58b0ce23-be62-45a4-a6df-09c174882505"
      },
      "source": [
        "head(twitter.follower, 10)"
      ],
      "execution_count": 85,
      "outputs": [
        {
          "output_type": "display_data",
          "data": {
            "text/plain": [
              "   Date       Ticker Followers pct_change_day pct_change_week pct_change_month\n",
              "1  2021-10-14 A      28378      0.000000000   0.08111444      0.4495416       \n",
              "2  2021-10-13 A      28378      0.014097413   0.06699813      0.4673228       \n",
              "3  2021-10-12 A      28374      0.003524477   0.09877937      0.4673890       \n",
              "4  2021-10-11 A      28373      0.010574551   0.11291062      0.4602910       \n",
              "5  2021-10-09 A      28370      0.014101389   0.10585745      0.4816887       \n",
              "6  2021-10-08 A      28366      0.021156558   0.10587239      0.4781977       \n",
              "7  2021-10-07 A      28360      0.017633574   0.09529524      0.4533862       \n",
              "8  2021-10-06 A      28355     -0.014104870   0.10591350      0.4605846       \n",
              "9  2021-10-05 A      28359      0.045861850   0.09883167      0.4676374       \n",
              "10 2021-10-04 A      28346      0.017642285   0.06000918      0.4429326       "
            ],
            "text/latex": "A data.frame: 10 × 6\n\\begin{tabular}{r|llllll}\n  & Date & Ticker & Followers & pct\\_change\\_day & pct\\_change\\_week & pct\\_change\\_month\\\\\n  & <date> & <chr> & <dbl> & <dbl> & <dbl> & <dbl>\\\\\n\\hline\n\t1 & 2021-10-14 & A & 28378 &  0.000000000 & 0.08111444 & 0.4495416\\\\\n\t2 & 2021-10-13 & A & 28378 &  0.014097413 & 0.06699813 & 0.4673228\\\\\n\t3 & 2021-10-12 & A & 28374 &  0.003524477 & 0.09877937 & 0.4673890\\\\\n\t4 & 2021-10-11 & A & 28373 &  0.010574551 & 0.11291062 & 0.4602910\\\\\n\t5 & 2021-10-09 & A & 28370 &  0.014101389 & 0.10585745 & 0.4816887\\\\\n\t6 & 2021-10-08 & A & 28366 &  0.021156558 & 0.10587239 & 0.4781977\\\\\n\t7 & 2021-10-07 & A & 28360 &  0.017633574 & 0.09529524 & 0.4533862\\\\\n\t8 & 2021-10-06 & A & 28355 & -0.014104870 & 0.10591350 & 0.4605846\\\\\n\t9 & 2021-10-05 & A & 28359 &  0.045861850 & 0.09883167 & 0.4676374\\\\\n\t10 & 2021-10-04 & A & 28346 &  0.017642285 & 0.06000918 & 0.4429326\\\\\n\\end{tabular}\n",
            "text/markdown": "\nA data.frame: 10 × 6\n\n| <!--/--> | Date &lt;date&gt; | Ticker &lt;chr&gt; | Followers &lt;dbl&gt; | pct_change_day &lt;dbl&gt; | pct_change_week &lt;dbl&gt; | pct_change_month &lt;dbl&gt; |\n|---|---|---|---|---|---|---|\n| 1 | 2021-10-14 | A | 28378 |  0.000000000 | 0.08111444 | 0.4495416 |\n| 2 | 2021-10-13 | A | 28378 |  0.014097413 | 0.06699813 | 0.4673228 |\n| 3 | 2021-10-12 | A | 28374 |  0.003524477 | 0.09877937 | 0.4673890 |\n| 4 | 2021-10-11 | A | 28373 |  0.010574551 | 0.11291062 | 0.4602910 |\n| 5 | 2021-10-09 | A | 28370 |  0.014101389 | 0.10585745 | 0.4816887 |\n| 6 | 2021-10-08 | A | 28366 |  0.021156558 | 0.10587239 | 0.4781977 |\n| 7 | 2021-10-07 | A | 28360 |  0.017633574 | 0.09529524 | 0.4533862 |\n| 8 | 2021-10-06 | A | 28355 | -0.014104870 | 0.10591350 | 0.4605846 |\n| 9 | 2021-10-05 | A | 28359 |  0.045861850 | 0.09883167 | 0.4676374 |\n| 10 | 2021-10-04 | A | 28346 |  0.017642285 | 0.06000918 | 0.4429326 |\n\n",
            "text/html": [
              "<table class=\"dataframe\">\n",
              "<caption>A data.frame: 10 × 6</caption>\n",
              "<thead>\n",
              "\t<tr><th></th><th scope=col>Date</th><th scope=col>Ticker</th><th scope=col>Followers</th><th scope=col>pct_change_day</th><th scope=col>pct_change_week</th><th scope=col>pct_change_month</th></tr>\n",
              "\t<tr><th></th><th scope=col>&lt;date&gt;</th><th scope=col>&lt;chr&gt;</th><th scope=col>&lt;dbl&gt;</th><th scope=col>&lt;dbl&gt;</th><th scope=col>&lt;dbl&gt;</th><th scope=col>&lt;dbl&gt;</th></tr>\n",
              "</thead>\n",
              "<tbody>\n",
              "\t<tr><th scope=row>1</th><td>2021-10-14</td><td>A</td><td>28378</td><td> 0.000000000</td><td>0.08111444</td><td>0.4495416</td></tr>\n",
              "\t<tr><th scope=row>2</th><td>2021-10-13</td><td>A</td><td>28378</td><td> 0.014097413</td><td>0.06699813</td><td>0.4673228</td></tr>\n",
              "\t<tr><th scope=row>3</th><td>2021-10-12</td><td>A</td><td>28374</td><td> 0.003524477</td><td>0.09877937</td><td>0.4673890</td></tr>\n",
              "\t<tr><th scope=row>4</th><td>2021-10-11</td><td>A</td><td>28373</td><td> 0.010574551</td><td>0.11291062</td><td>0.4602910</td></tr>\n",
              "\t<tr><th scope=row>5</th><td>2021-10-09</td><td>A</td><td>28370</td><td> 0.014101389</td><td>0.10585745</td><td>0.4816887</td></tr>\n",
              "\t<tr><th scope=row>6</th><td>2021-10-08</td><td>A</td><td>28366</td><td> 0.021156558</td><td>0.10587239</td><td>0.4781977</td></tr>\n",
              "\t<tr><th scope=row>7</th><td>2021-10-07</td><td>A</td><td>28360</td><td> 0.017633574</td><td>0.09529524</td><td>0.4533862</td></tr>\n",
              "\t<tr><th scope=row>8</th><td>2021-10-06</td><td>A</td><td>28355</td><td>-0.014104870</td><td>0.10591350</td><td>0.4605846</td></tr>\n",
              "\t<tr><th scope=row>9</th><td>2021-10-05</td><td>A</td><td>28359</td><td> 0.045861850</td><td>0.09883167</td><td>0.4676374</td></tr>\n",
              "\t<tr><th scope=row>10</th><td>2021-10-04</td><td>A</td><td>28346</td><td> 0.017642285</td><td>0.06000918</td><td>0.4429326</td></tr>\n",
              "</tbody>\n",
              "</table>\n"
            ]
          },
          "metadata": {}
        }
      ]
    },
    {
      "cell_type": "code",
      "metadata": {
        "colab": {
          "base_uri": "https://localhost:8080/",
          "height": 68
        },
        "id": "N4yN-Xt78xUR",
        "outputId": "1ab5f8e1-9f57-444b-96bc-3548b5b0ec86"
      },
      "source": [
        "first = min(twitter.follower$Date)\n",
        "last = max(twitter.follower$Date)\n",
        "last - first\n",
        "paste(first, \",\", last)\n",
        "length(unique(twitter.follower$Ticker))"
      ],
      "execution_count": 67,
      "outputs": [
        {
          "output_type": "display_data",
          "data": {
            "text/plain": [
              "Time difference of 530 days"
            ]
          },
          "metadata": {}
        },
        {
          "output_type": "display_data",
          "data": {
            "text/plain": [
              "[1] \"2020-05-02 , 2021-10-14\""
            ],
            "text/latex": "'2020-05-02 , 2021-10-14'",
            "text/markdown": "'2020-05-02 , 2021-10-14'",
            "text/html": [
              "'2020-05-02 , 2021-10-14'"
            ]
          },
          "metadata": {}
        },
        {
          "output_type": "display_data",
          "data": {
            "text/plain": [
              "[1] 1411"
            ],
            "text/latex": "1411",
            "text/markdown": "1411",
            "text/html": [
              "1411"
            ]
          },
          "metadata": {}
        }
      ]
    },
    {
      "cell_type": "markdown",
      "metadata": {
        "id": "58JRE7G1BiI-"
      },
      "source": [
        "**Exploring r/wsb Data**"
      ]
    },
    {
      "cell_type": "code",
      "metadata": {
        "id": "ic6hb6D3BieQ"
      },
      "source": [
        "wsb.sentiment = read.csv(wsb.sentiment.path)\n",
        "wsb.sentiment$Date <- ymd(wsb.sentiment$Date)"
      ],
      "execution_count": 82,
      "outputs": []
    },
    {
      "cell_type": "code",
      "metadata": {
        "colab": {
          "base_uri": "https://localhost:8080/",
          "height": 407
        },
        "id": "1WoNPjzWEil9",
        "outputId": "216b9994-d555-4a6d-b00d-257a0fd5d59b"
      },
      "source": [
        "head(wsb.sentiment, 10)"
      ],
      "execution_count": 84,
      "outputs": [
        {
          "output_type": "display_data",
          "data": {
            "text/plain": [
              "   Date       Ticker Mentions Rank Sentiment\n",
              "1  2018-08-10 AA     1         53  -0.4019  \n",
              "2  2018-08-28 AA     1         60   0.2023  \n",
              "3  2018-09-07 AA     1         74   0.7184  \n",
              "4  2018-10-09 AA     1         84  -0.2732  \n",
              "5  2018-10-18 AA     1         90  -0.0516  \n",
              "6  2018-11-03 AA     2         36  -0.0772  \n",
              "7  2018-11-28 AA     1        119  -0.5267  \n",
              "8  2019-01-04 AA     1        144  -0.5859  \n",
              "9  2019-01-08 AA     1        105   0.2732  \n",
              "10 2019-01-10 AA     1         99   0.0000  "
            ],
            "text/latex": "A data.frame: 10 × 5\n\\begin{tabular}{r|lllll}\n  & Date & Ticker & Mentions & Rank & Sentiment\\\\\n  & <date> & <chr> & <int> & <int> & <dbl>\\\\\n\\hline\n\t1 & 2018-08-10 & AA & 1 &  53 & -0.4019\\\\\n\t2 & 2018-08-28 & AA & 1 &  60 &  0.2023\\\\\n\t3 & 2018-09-07 & AA & 1 &  74 &  0.7184\\\\\n\t4 & 2018-10-09 & AA & 1 &  84 & -0.2732\\\\\n\t5 & 2018-10-18 & AA & 1 &  90 & -0.0516\\\\\n\t6 & 2018-11-03 & AA & 2 &  36 & -0.0772\\\\\n\t7 & 2018-11-28 & AA & 1 & 119 & -0.5267\\\\\n\t8 & 2019-01-04 & AA & 1 & 144 & -0.5859\\\\\n\t9 & 2019-01-08 & AA & 1 & 105 &  0.2732\\\\\n\t10 & 2019-01-10 & AA & 1 &  99 &  0.0000\\\\\n\\end{tabular}\n",
            "text/markdown": "\nA data.frame: 10 × 5\n\n| <!--/--> | Date &lt;date&gt; | Ticker &lt;chr&gt; | Mentions &lt;int&gt; | Rank &lt;int&gt; | Sentiment &lt;dbl&gt; |\n|---|---|---|---|---|---|\n| 1 | 2018-08-10 | AA | 1 |  53 | -0.4019 |\n| 2 | 2018-08-28 | AA | 1 |  60 |  0.2023 |\n| 3 | 2018-09-07 | AA | 1 |  74 |  0.7184 |\n| 4 | 2018-10-09 | AA | 1 |  84 | -0.2732 |\n| 5 | 2018-10-18 | AA | 1 |  90 | -0.0516 |\n| 6 | 2018-11-03 | AA | 2 |  36 | -0.0772 |\n| 7 | 2018-11-28 | AA | 1 | 119 | -0.5267 |\n| 8 | 2019-01-04 | AA | 1 | 144 | -0.5859 |\n| 9 | 2019-01-08 | AA | 1 | 105 |  0.2732 |\n| 10 | 2019-01-10 | AA | 1 |  99 |  0.0000 |\n\n",
            "text/html": [
              "<table class=\"dataframe\">\n",
              "<caption>A data.frame: 10 × 5</caption>\n",
              "<thead>\n",
              "\t<tr><th></th><th scope=col>Date</th><th scope=col>Ticker</th><th scope=col>Mentions</th><th scope=col>Rank</th><th scope=col>Sentiment</th></tr>\n",
              "\t<tr><th></th><th scope=col>&lt;date&gt;</th><th scope=col>&lt;chr&gt;</th><th scope=col>&lt;int&gt;</th><th scope=col>&lt;int&gt;</th><th scope=col>&lt;dbl&gt;</th></tr>\n",
              "</thead>\n",
              "<tbody>\n",
              "\t<tr><th scope=row>1</th><td>2018-08-10</td><td>AA</td><td>1</td><td> 53</td><td>-0.4019</td></tr>\n",
              "\t<tr><th scope=row>2</th><td>2018-08-28</td><td>AA</td><td>1</td><td> 60</td><td> 0.2023</td></tr>\n",
              "\t<tr><th scope=row>3</th><td>2018-09-07</td><td>AA</td><td>1</td><td> 74</td><td> 0.7184</td></tr>\n",
              "\t<tr><th scope=row>4</th><td>2018-10-09</td><td>AA</td><td>1</td><td> 84</td><td>-0.2732</td></tr>\n",
              "\t<tr><th scope=row>5</th><td>2018-10-18</td><td>AA</td><td>1</td><td> 90</td><td>-0.0516</td></tr>\n",
              "\t<tr><th scope=row>6</th><td>2018-11-03</td><td>AA</td><td>2</td><td> 36</td><td>-0.0772</td></tr>\n",
              "\t<tr><th scope=row>7</th><td>2018-11-28</td><td>AA</td><td>1</td><td>119</td><td>-0.5267</td></tr>\n",
              "\t<tr><th scope=row>8</th><td>2019-01-04</td><td>AA</td><td>1</td><td>144</td><td>-0.5859</td></tr>\n",
              "\t<tr><th scope=row>9</th><td>2019-01-08</td><td>AA</td><td>1</td><td>105</td><td> 0.2732</td></tr>\n",
              "\t<tr><th scope=row>10</th><td>2019-01-10</td><td>AA</td><td>1</td><td> 99</td><td> 0.0000</td></tr>\n",
              "</tbody>\n",
              "</table>\n"
            ]
          },
          "metadata": {}
        }
      ]
    },
    {
      "cell_type": "code",
      "metadata": {
        "colab": {
          "base_uri": "https://localhost:8080/",
          "height": 68
        },
        "id": "BfoDXP_zB-lW",
        "outputId": "02fbd8cc-ad62-4f0c-d735-c1e502c358c0"
      },
      "source": [
        "first = min(wsb.sentiment$Date)\n",
        "last = max(wsb.sentiment$Date)\n",
        "last - first\n",
        "paste(first, \",\", last)\n",
        "length(unique(wsb.sentiment$Ticker))"
      ],
      "execution_count": 77,
      "outputs": [
        {
          "output_type": "display_data",
          "data": {
            "text/plain": [
              "Time difference of 1177 days"
            ]
          },
          "metadata": {}
        },
        {
          "output_type": "display_data",
          "data": {
            "text/plain": [
              "[1] \"2018-08-01 , 2021-10-21\""
            ],
            "text/latex": "'2018-08-01 , 2021-10-21'",
            "text/markdown": "'2018-08-01 , 2021-10-21'",
            "text/html": [
              "'2018-08-01 , 2021-10-21'"
            ]
          },
          "metadata": {}
        },
        {
          "output_type": "display_data",
          "data": {
            "text/plain": [
              "[1] 1251"
            ],
            "text/latex": "1251",
            "text/markdown": "1251",
            "text/html": [
              "1251"
            ]
          },
          "metadata": {}
        }
      ]
    },
    {
      "cell_type": "markdown",
      "metadata": {
        "id": "xHYHSe0ICkqb"
      },
      "source": [
        "**Explore wikipedia pageviews**"
      ]
    },
    {
      "cell_type": "code",
      "metadata": {
        "id": "dQ85DKynCkYN"
      },
      "source": [
        "wiki.pageviews = read.csv(wiki.pageviews.path)\n",
        "wiki.pageviews$Date <- ymd(wiki.pageviews$Date)"
      ],
      "execution_count": 80,
      "outputs": []
    },
    {
      "cell_type": "code",
      "metadata": {
        "colab": {
          "base_uri": "https://localhost:8080/",
          "height": 407
        },
        "id": "h8bPwpAhEuK_",
        "outputId": "5888769a-64fd-4992-8927-9c24fd516532"
      },
      "source": [
        "head(wiki.pageviews, 10)"
      ],
      "execution_count": 86,
      "outputs": [
        {
          "output_type": "display_data",
          "data": {
            "text/plain": [
              "   Date       Ticker Views pct_change_week pct_change_month\n",
              "1  2016-10-17 A      66    -34.848485      -31.818182      \n",
              "2  2016-10-24 A      43    -34.848485      -31.818182      \n",
              "3  2016-10-31 A      52     20.930233      -31.818182      \n",
              "4  2016-11-07 A      47     -9.615385      -31.818182      \n",
              "5  2016-11-14 A      45     -4.255319      -31.818182      \n",
              "6  2016-11-21 A      44     -2.222222        2.325581      \n",
              "7  2016-11-28 A      36    -18.181818      -30.769231      \n",
              "8  2016-12-05 A      54     50.000000       14.893617      \n",
              "9  2016-12-12 A      55      1.851852       22.222222      \n",
              "10 2016-12-19 A      45    -18.181818        2.272727      "
            ],
            "text/latex": "A data.frame: 10 × 5\n\\begin{tabular}{r|lllll}\n  & Date & Ticker & Views & pct\\_change\\_week & pct\\_change\\_month\\\\\n  & <date> & <chr> & <dbl> & <dbl> & <dbl>\\\\\n\\hline\n\t1 & 2016-10-17 & A & 66 & -34.848485 & -31.818182\\\\\n\t2 & 2016-10-24 & A & 43 & -34.848485 & -31.818182\\\\\n\t3 & 2016-10-31 & A & 52 &  20.930233 & -31.818182\\\\\n\t4 & 2016-11-07 & A & 47 &  -9.615385 & -31.818182\\\\\n\t5 & 2016-11-14 & A & 45 &  -4.255319 & -31.818182\\\\\n\t6 & 2016-11-21 & A & 44 &  -2.222222 &   2.325581\\\\\n\t7 & 2016-11-28 & A & 36 & -18.181818 & -30.769231\\\\\n\t8 & 2016-12-05 & A & 54 &  50.000000 &  14.893617\\\\\n\t9 & 2016-12-12 & A & 55 &   1.851852 &  22.222222\\\\\n\t10 & 2016-12-19 & A & 45 & -18.181818 &   2.272727\\\\\n\\end{tabular}\n",
            "text/markdown": "\nA data.frame: 10 × 5\n\n| <!--/--> | Date &lt;date&gt; | Ticker &lt;chr&gt; | Views &lt;dbl&gt; | pct_change_week &lt;dbl&gt; | pct_change_month &lt;dbl&gt; |\n|---|---|---|---|---|---|\n| 1 | 2016-10-17 | A | 66 | -34.848485 | -31.818182 |\n| 2 | 2016-10-24 | A | 43 | -34.848485 | -31.818182 |\n| 3 | 2016-10-31 | A | 52 |  20.930233 | -31.818182 |\n| 4 | 2016-11-07 | A | 47 |  -9.615385 | -31.818182 |\n| 5 | 2016-11-14 | A | 45 |  -4.255319 | -31.818182 |\n| 6 | 2016-11-21 | A | 44 |  -2.222222 |   2.325581 |\n| 7 | 2016-11-28 | A | 36 | -18.181818 | -30.769231 |\n| 8 | 2016-12-05 | A | 54 |  50.000000 |  14.893617 |\n| 9 | 2016-12-12 | A | 55 |   1.851852 |  22.222222 |\n| 10 | 2016-12-19 | A | 45 | -18.181818 |   2.272727 |\n\n",
            "text/html": [
              "<table class=\"dataframe\">\n",
              "<caption>A data.frame: 10 × 5</caption>\n",
              "<thead>\n",
              "\t<tr><th></th><th scope=col>Date</th><th scope=col>Ticker</th><th scope=col>Views</th><th scope=col>pct_change_week</th><th scope=col>pct_change_month</th></tr>\n",
              "\t<tr><th></th><th scope=col>&lt;date&gt;</th><th scope=col>&lt;chr&gt;</th><th scope=col>&lt;dbl&gt;</th><th scope=col>&lt;dbl&gt;</th><th scope=col>&lt;dbl&gt;</th></tr>\n",
              "</thead>\n",
              "<tbody>\n",
              "\t<tr><th scope=row>1</th><td>2016-10-17</td><td>A</td><td>66</td><td>-34.848485</td><td>-31.818182</td></tr>\n",
              "\t<tr><th scope=row>2</th><td>2016-10-24</td><td>A</td><td>43</td><td>-34.848485</td><td>-31.818182</td></tr>\n",
              "\t<tr><th scope=row>3</th><td>2016-10-31</td><td>A</td><td>52</td><td> 20.930233</td><td>-31.818182</td></tr>\n",
              "\t<tr><th scope=row>4</th><td>2016-11-07</td><td>A</td><td>47</td><td> -9.615385</td><td>-31.818182</td></tr>\n",
              "\t<tr><th scope=row>5</th><td>2016-11-14</td><td>A</td><td>45</td><td> -4.255319</td><td>-31.818182</td></tr>\n",
              "\t<tr><th scope=row>6</th><td>2016-11-21</td><td>A</td><td>44</td><td> -2.222222</td><td>  2.325581</td></tr>\n",
              "\t<tr><th scope=row>7</th><td>2016-11-28</td><td>A</td><td>36</td><td>-18.181818</td><td>-30.769231</td></tr>\n",
              "\t<tr><th scope=row>8</th><td>2016-12-05</td><td>A</td><td>54</td><td> 50.000000</td><td> 14.893617</td></tr>\n",
              "\t<tr><th scope=row>9</th><td>2016-12-12</td><td>A</td><td>55</td><td>  1.851852</td><td> 22.222222</td></tr>\n",
              "\t<tr><th scope=row>10</th><td>2016-12-19</td><td>A</td><td>45</td><td>-18.181818</td><td>  2.272727</td></tr>\n",
              "</tbody>\n",
              "</table>\n"
            ]
          },
          "metadata": {}
        }
      ]
    },
    {
      "cell_type": "code",
      "metadata": {
        "colab": {
          "base_uri": "https://localhost:8080/",
          "height": 68
        },
        "id": "Wtm__aj1DAmv",
        "outputId": "9ed45c78-1428-4993-ccc9-43198c670df9"
      },
      "source": [
        "first = min(wiki.pageviews$Date)\n",
        "last = max(wiki.pageviews$Date)\n",
        "last - first\n",
        "paste(first, \",\", last)\n",
        "length(unique(wiki.pageviews$Ticker))"
      ],
      "execution_count": 81,
      "outputs": [
        {
          "output_type": "display_data",
          "data": {
            "text/plain": [
              "Time difference of 1820 days"
            ]
          },
          "metadata": {}
        },
        {
          "output_type": "display_data",
          "data": {
            "text/plain": [
              "[1] \"2016-10-17 , 2021-10-11\""
            ],
            "text/latex": "'2016-10-17 , 2021-10-11'",
            "text/markdown": "'2016-10-17 , 2021-10-11'",
            "text/html": [
              "'2016-10-17 , 2021-10-11'"
            ]
          },
          "metadata": {}
        },
        {
          "output_type": "display_data",
          "data": {
            "text/plain": [
              "[1] 954"
            ],
            "text/latex": "954",
            "text/markdown": "954",
            "text/html": [
              "954"
            ]
          },
          "metadata": {}
        }
      ]
    },
    {
      "cell_type": "markdown",
      "metadata": {
        "id": "uzj96qvXOyFg"
      },
      "source": [
        "**Explore OTC data**"
      ]
    },
    {
      "cell_type": "code",
      "metadata": {
        "id": "PdoC8odFOyXt"
      },
      "source": [
        "otc = read.csv(otc.path)\n",
        "otc$Date <- ymd(otc$Date)"
      ],
      "execution_count": 91,
      "outputs": []
    },
    {
      "cell_type": "code",
      "metadata": {
        "colab": {
          "base_uri": "https://localhost:8080/",
          "height": 68
        },
        "id": "16yoiiF0QvV3",
        "outputId": "e6374fad-9e2f-4fc9-84d7-f4b5244f17e3"
      },
      "source": [
        "first = min(otc$Date)\n",
        "last = max(otc$Date)\n",
        "last - first\n",
        "paste(first, \",\", last)\n",
        "length(unique(otc$Ticker))"
      ],
      "execution_count": 92,
      "outputs": [
        {
          "output_type": "display_data",
          "data": {
            "text/plain": [
              "Time difference of 1023 days"
            ]
          },
          "metadata": {}
        },
        {
          "output_type": "display_data",
          "data": {
            "text/plain": [
              "[1] \"2019-01-02 , 2021-10-21\""
            ],
            "text/latex": "'2019-01-02 , 2021-10-21'",
            "text/markdown": "'2019-01-02 , 2021-10-21'",
            "text/html": [
              "'2019-01-02 , 2021-10-21'"
            ]
          },
          "metadata": {}
        },
        {
          "output_type": "display_data",
          "data": {
            "text/plain": [
              "[1] 2734"
            ],
            "text/latex": "2734",
            "text/markdown": "2734",
            "text/html": [
              "2734"
            ]
          },
          "metadata": {}
        }
      ]
    },
    {
      "cell_type": "markdown",
      "metadata": {
        "id": "oqC3-g6lqdnN"
      },
      "source": [
        "**Stock Price History**"
      ]
    },
    {
      "cell_type": "code",
      "metadata": {
        "id": "iVK3e3eWqd1r"
      },
      "source": [
        "crsp.permnocode = read.csv(crsp.permnocode.path)\n",
        "crsp.price.2020 = read.csv(crsp.price.2020.path)"
      ],
      "execution_count": 120,
      "outputs": []
    },
    {
      "cell_type": "code",
      "metadata": {
        "colab": {
          "base_uri": "https://localhost:8080/",
          "height": 252
        },
        "id": "ylRRwkHWtRGW",
        "outputId": "ea142b86-6571-4351-b58f-f48adebe9019"
      },
      "source": [
        "crsp.price.2020$date <- dmy(crsp.price.2020$date)\n",
        "head(crsp.price.2020, 5)"
      ],
      "execution_count": 121,
      "outputs": [
        {
          "output_type": "display_data",
          "data": {
            "text/plain": [
              "  PERMNO date       CUSIP    BIDLO   ASKHI  PRC    VOL    BID    ASK    OPENPRC\n",
              "1 10026  2020-01-02 46603210 181.440 185.30 181.68  88291 181.67 181.70 185.30 \n",
              "2 10026  2020-01-03 46603210 180.890 185.17 184.91  71463 184.90 184.91 180.89 \n",
              "3 10026  2020-01-06 46603210 183.140 185.52 185.07  70308 184.77 185.07 184.18 \n",
              "4 10026  2020-01-07 46603210 182.475 184.63 183.03  72267 182.90 183.22 184.40 \n",
              "5 10026  2020-01-08 46603210 181.810 183.89 182.04 118592 182.04 182.23 182.73 \n",
              "  NUMTRD\n",
              "1 2300  \n",
              "2 1572  \n",
              "3 1764  \n",
              "4 2032  \n",
              "5 2208  "
            ],
            "text/latex": "A data.frame: 5 × 11\n\\begin{tabular}{r|lllllllllll}\n  & PERMNO & date & CUSIP & BIDLO & ASKHI & PRC & VOL & BID & ASK & OPENPRC & NUMTRD\\\\\n  & <int> & <date> & <chr> & <dbl> & <dbl> & <dbl> & <int> & <dbl> & <dbl> & <dbl> & <dbl>\\\\\n\\hline\n\t1 & 10026 & 2020-01-02 & 46603210 & 181.440 & 185.30 & 181.68 &  88291 & 181.67 & 181.70 & 185.30 & 2300\\\\\n\t2 & 10026 & 2020-01-03 & 46603210 & 180.890 & 185.17 & 184.91 &  71463 & 184.90 & 184.91 & 180.89 & 1572\\\\\n\t3 & 10026 & 2020-01-06 & 46603210 & 183.140 & 185.52 & 185.07 &  70308 & 184.77 & 185.07 & 184.18 & 1764\\\\\n\t4 & 10026 & 2020-01-07 & 46603210 & 182.475 & 184.63 & 183.03 &  72267 & 182.90 & 183.22 & 184.40 & 2032\\\\\n\t5 & 10026 & 2020-01-08 & 46603210 & 181.810 & 183.89 & 182.04 & 118592 & 182.04 & 182.23 & 182.73 & 2208\\\\\n\\end{tabular}\n",
            "text/markdown": "\nA data.frame: 5 × 11\n\n| <!--/--> | PERMNO &lt;int&gt; | date &lt;date&gt; | CUSIP &lt;chr&gt; | BIDLO &lt;dbl&gt; | ASKHI &lt;dbl&gt; | PRC &lt;dbl&gt; | VOL &lt;int&gt; | BID &lt;dbl&gt; | ASK &lt;dbl&gt; | OPENPRC &lt;dbl&gt; | NUMTRD &lt;dbl&gt; |\n|---|---|---|---|---|---|---|---|---|---|---|---|\n| 1 | 10026 | 2020-01-02 | 46603210 | 181.440 | 185.30 | 181.68 |  88291 | 181.67 | 181.70 | 185.30 | 2300 |\n| 2 | 10026 | 2020-01-03 | 46603210 | 180.890 | 185.17 | 184.91 |  71463 | 184.90 | 184.91 | 180.89 | 1572 |\n| 3 | 10026 | 2020-01-06 | 46603210 | 183.140 | 185.52 | 185.07 |  70308 | 184.77 | 185.07 | 184.18 | 1764 |\n| 4 | 10026 | 2020-01-07 | 46603210 | 182.475 | 184.63 | 183.03 |  72267 | 182.90 | 183.22 | 184.40 | 2032 |\n| 5 | 10026 | 2020-01-08 | 46603210 | 181.810 | 183.89 | 182.04 | 118592 | 182.04 | 182.23 | 182.73 | 2208 |\n\n",
            "text/html": [
              "<table class=\"dataframe\">\n",
              "<caption>A data.frame: 5 × 11</caption>\n",
              "<thead>\n",
              "\t<tr><th></th><th scope=col>PERMNO</th><th scope=col>date</th><th scope=col>CUSIP</th><th scope=col>BIDLO</th><th scope=col>ASKHI</th><th scope=col>PRC</th><th scope=col>VOL</th><th scope=col>BID</th><th scope=col>ASK</th><th scope=col>OPENPRC</th><th scope=col>NUMTRD</th></tr>\n",
              "\t<tr><th></th><th scope=col>&lt;int&gt;</th><th scope=col>&lt;date&gt;</th><th scope=col>&lt;chr&gt;</th><th scope=col>&lt;dbl&gt;</th><th scope=col>&lt;dbl&gt;</th><th scope=col>&lt;dbl&gt;</th><th scope=col>&lt;int&gt;</th><th scope=col>&lt;dbl&gt;</th><th scope=col>&lt;dbl&gt;</th><th scope=col>&lt;dbl&gt;</th><th scope=col>&lt;dbl&gt;</th></tr>\n",
              "</thead>\n",
              "<tbody>\n",
              "\t<tr><th scope=row>1</th><td>10026</td><td>2020-01-02</td><td>46603210</td><td>181.440</td><td>185.30</td><td>181.68</td><td> 88291</td><td>181.67</td><td>181.70</td><td>185.30</td><td>2300</td></tr>\n",
              "\t<tr><th scope=row>2</th><td>10026</td><td>2020-01-03</td><td>46603210</td><td>180.890</td><td>185.17</td><td>184.91</td><td> 71463</td><td>184.90</td><td>184.91</td><td>180.89</td><td>1572</td></tr>\n",
              "\t<tr><th scope=row>3</th><td>10026</td><td>2020-01-06</td><td>46603210</td><td>183.140</td><td>185.52</td><td>185.07</td><td> 70308</td><td>184.77</td><td>185.07</td><td>184.18</td><td>1764</td></tr>\n",
              "\t<tr><th scope=row>4</th><td>10026</td><td>2020-01-07</td><td>46603210</td><td>182.475</td><td>184.63</td><td>183.03</td><td> 72267</td><td>182.90</td><td>183.22</td><td>184.40</td><td>2032</td></tr>\n",
              "\t<tr><th scope=row>5</th><td>10026</td><td>2020-01-08</td><td>46603210</td><td>181.810</td><td>183.89</td><td>182.04</td><td>118592</td><td>182.04</td><td>182.23</td><td>182.73</td><td>2208</td></tr>\n",
              "</tbody>\n",
              "</table>\n"
            ]
          },
          "metadata": {}
        }
      ]
    }
  ]
}