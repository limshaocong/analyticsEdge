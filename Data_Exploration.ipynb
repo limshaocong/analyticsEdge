{
  "nbformat": 4,
  "nbformat_minor": 0,
  "metadata": {
    "colab": {
      "name": "Data Exploration.ipynb",
      "provenance": [],
      "collapsed_sections": [],
      "authorship_tag": "ABX9TyOllrqCF5GsKVXvgXFXhCZ3",
      "include_colab_link": true
    },
    "kernelspec": {
      "name": "ir",
      "display_name": "R"
    },
    "language_info": {
      "name": "R"
    }
  },
  "cells": [
    {
      "cell_type": "markdown",
      "metadata": {
        "id": "view-in-github",
        "colab_type": "text"
      },
      "source": [
        "<a href=\"https://colab.research.google.com/github/limshaocong/analyticsEdge/blob/main/Data_Exploration.ipynb\" target=\"_parent\"><img src=\"https://colab.research.google.com/assets/colab-badge.svg\" alt=\"Open In Colab\"/></a>"
      ]
    },
    {
      "cell_type": "code",
      "metadata": {
        "colab": {
          "base_uri": "https://localhost:8080/"
        },
        "id": "D0LXJE4pWkR0",
        "outputId": "6399e444-54bf-4821-828a-56677dfde7f3"
      },
      "source": [
        "library(tidyverse)\n",
        "library(ggplot2)"
      ],
      "execution_count": 2,
      "outputs": [
        {
          "output_type": "stream",
          "name": "stderr",
          "text": [
            "Warning message in system(\"timedatectl\", intern = TRUE):\n",
            "“running command 'timedatectl' had status 1”\n",
            "── \u001b[1mAttaching packages\u001b[22m ─────────────────────────────────────── tidyverse 1.3.1 ──\n",
            "\n",
            "\u001b[32m✔\u001b[39m \u001b[34mggplot2\u001b[39m 3.3.5     \u001b[32m✔\u001b[39m \u001b[34mpurrr  \u001b[39m 0.3.4\n",
            "\u001b[32m✔\u001b[39m \u001b[34mtibble \u001b[39m 3.1.5     \u001b[32m✔\u001b[39m \u001b[34mdplyr  \u001b[39m 1.0.7\n",
            "\u001b[32m✔\u001b[39m \u001b[34mtidyr  \u001b[39m 1.1.4     \u001b[32m✔\u001b[39m \u001b[34mstringr\u001b[39m 1.4.0\n",
            "\u001b[32m✔\u001b[39m \u001b[34mreadr  \u001b[39m 2.0.2     \u001b[32m✔\u001b[39m \u001b[34mforcats\u001b[39m 0.5.1\n",
            "\n",
            "── \u001b[1mConflicts\u001b[22m ────────────────────────────────────────── tidyverse_conflicts() ──\n",
            "\u001b[31m✖\u001b[39m \u001b[34mdplyr\u001b[39m::\u001b[32mfilter()\u001b[39m masks \u001b[34mstats\u001b[39m::filter()\n",
            "\u001b[31m✖\u001b[39m \u001b[34mdplyr\u001b[39m::\u001b[32mlag()\u001b[39m    masks \u001b[34mstats\u001b[39m::lag()\n",
            "\n"
          ]
        }
      ]
    },
    {
      "cell_type": "code",
      "metadata": {
        "id": "Hj6QXuY2WcPu"
      },
      "source": [
        "path = \"https://raw.githubusercontent.com/limshaocong/analyticsEdge/main/Datasets/\"\n",
        "\n",
        "# Russell 3000 tickers\n",
        "tickers.path = paste0(path,\"r3000_tickers.csv\")\n",
        "\n",
        "# Quiver Quant data\n",
        "twitter.follower.path = paste0(path, \"QuiverQuant/twitter_follower.csv\")\n",
        "wiki.pageviews.path = paste0(path,\"QuiverQuant/wikipedia_pageviews.csv\")\n",
        "wsb.sentiment.path = paste0(path,\"QuiverQuant/wsb_sentiment.csv\")\n",
        "\n",
        "# RavenPack Sentiment Relevance data\n",
        "rp.company.index.path = paste0(path,\"RavenPack_WRDS/rp_company_index.csv\")\n",
        "## Dow Jones new releases (2018-2021)\n",
        "rp.dj.2018.path = paste0(path,\"RavenPack_WRDS/rp_dj_2018.csv\")\n",
        "rp.dj.2019.path = paste0(path,\"RavenPack_WRDS/rp_dj_2019.csv\")\n",
        "rp.dj.2020.path = paste0(path,\"RavenPack_WRDS/rp_dj_2020.csv\")\n",
        "rp.dj.2021.path = paste0(path,\"RavenPack_WRDS/rp_dj_2021.csv\")\n",
        "## Global Press releases (2018-2021)\n",
        "rp.pr.2018.path = paste0(path,\"RavenPack_WRDS/rp_pr_2018.csv\")\n",
        "rp.pr.2019.path = paste0(path,\"RavenPack_WRDS/rp_pr_2019.csv\")\n",
        "rp.pr.2020.path = paste0(path,\"RavenPack_WRDS/rp_pr_2020.csv\")\n",
        "rp.pr.2021.path = paste0(path,\"RavenPack_WRDS/rp_pr_2021.csv\")"
      ],
      "execution_count": 3,
      "outputs": []
    },
    {
      "cell_type": "markdown",
      "metadata": {
        "id": "PP5CaxYYXOo2"
      },
      "source": [
        "**Exploring RavenPack Data**\n"
      ]
    },
    {
      "cell_type": "code",
      "metadata": {
        "id": "LaCg5WeBWiZQ"
      },
      "source": [
        "# Import company index which allows the tickers to be mapped to RavenPack's\n",
        "# internal entity index\n",
        "rp.company.index = read.csv(rp.company.index.path)\n",
        "\n",
        "# Read the 2021 Dow Jones sentiment data\n",
        "rp.dj.2021 = read.csv(rp.dj.2021.path)"
      ],
      "execution_count": 4,
      "outputs": []
    },
    {
      "cell_type": "code",
      "metadata": {
        "colab": {
          "base_uri": "https://localhost:8080/",
          "height": 717
        },
        "id": "IRq02Sw5WwdA",
        "outputId": "1f2bb19f-d04d-4c25-eca1-856741775c45"
      },
      "source": [
        "# Sample of Data of AAPL for 2021 Dow Jones\n",
        "#\n",
        "# Conclusions:\n",
        "#\n",
        "# 1. Data is relatively spares, with no data on most dates. Preprocess to\n",
        "# fill in non-entries.\n",
        "#\n",
        "# 2. There are several entries which share the same \"category\", \"relevance\",\n",
        "# \"ess\" and \"date\". Preprocess to aggregate repetitions.\n",
        "#\n",
        "# 3. There are also several entries on the same \"date\" that have a range of \n",
        "# \"ess\". Need to determine means of aggregation.\n",
        "#\n",
        "# 3. Many entries that have neutral sentiment (ie. ess = 50). Preprocessing\n",
        "# needs to assume if absence of press release and neutral announcement should\n",
        "# encoded the same.\n",
        "\n",
        "aapl.index = rp.company.index$rp_entity_id[rp.company.index$ticker == \"AAPL\"]\n",
        "\n",
        "rp.dj.2021 %>%\n",
        "  filter(rp.dj.2021$rp_entity_id == aapl.index) %>%\n",
        "  head(20)"
      ],
      "execution_count": 5,
      "outputs": [
        {
          "output_type": "display_data",
          "data": {
            "text/plain": [
              "   rp_entity_id category                       relevance ess rpna_date_utc\n",
              "1  D8442A       analyst-ratings-change-neutral 100       51  1/5/2021     \n",
              "2  D8442A       price-target-upgrade           100       91  1/5/2021     \n",
              "3  D8442A       executive-appointment          100       54  1/5/2021     \n",
              "4  D8442A       executive-appointment          100       54  1/5/2021     \n",
              "5  D8442A       executive-appointment          100       54  1/5/2021     \n",
              "6  D8442A       analyst-ratings-change-neutral 100       78  1/5/2021     \n",
              "7  D8442A       price-target-upgrade           100       75  1/5/2021     \n",
              "8  D8442A       executive-salary-increase      100       44  1/6/2021     \n",
              "9  D8442A       executive-salary-increase      100       44  1/6/2021     \n",
              "10 D8442A       stock-loss                     100       40  1/6/2021     \n",
              "11 D8442A       stock-gain                     100       63  1/8/2021     \n",
              "12 D8442A       business-contract-terminated   100       31  1/10/2021    \n",
              "13 D8442A       business-contract-terminated   100       31  1/10/2021    \n",
              "14 D8442A       business-contract-terminated   100       31  1/10/2021    \n",
              "15 D8442A       business-contract-terminated   100       31  1/10/2021    \n",
              "16 D8442A       facility-open                  100       65  1/13/2021    \n",
              "17 D8442A       facility-open                  100       65  1/13/2021    \n",
              "18 D8442A       facility-open                  100       65  1/13/2021    \n",
              "19 D8442A       facility-open                  100       65  1/13/2021    \n",
              "20 D8442A       analyst-ratings-change-neutral 100       51  1/14/2021    "
            ],
            "text/latex": "A data.frame: 20 × 5\n\\begin{tabular}{r|lllll}\n  & rp\\_entity\\_id & category & relevance & ess & rpna\\_date\\_utc\\\\\n  & <chr> & <chr> & <int> & <int> & <chr>\\\\\n\\hline\n\t1 & D8442A & analyst-ratings-change-neutral & 100 & 51 & 1/5/2021 \\\\\n\t2 & D8442A & price-target-upgrade           & 100 & 91 & 1/5/2021 \\\\\n\t3 & D8442A & executive-appointment          & 100 & 54 & 1/5/2021 \\\\\n\t4 & D8442A & executive-appointment          & 100 & 54 & 1/5/2021 \\\\\n\t5 & D8442A & executive-appointment          & 100 & 54 & 1/5/2021 \\\\\n\t6 & D8442A & analyst-ratings-change-neutral & 100 & 78 & 1/5/2021 \\\\\n\t7 & D8442A & price-target-upgrade           & 100 & 75 & 1/5/2021 \\\\\n\t8 & D8442A & executive-salary-increase      & 100 & 44 & 1/6/2021 \\\\\n\t9 & D8442A & executive-salary-increase      & 100 & 44 & 1/6/2021 \\\\\n\t10 & D8442A & stock-loss                     & 100 & 40 & 1/6/2021 \\\\\n\t11 & D8442A & stock-gain                     & 100 & 63 & 1/8/2021 \\\\\n\t12 & D8442A & business-contract-terminated   & 100 & 31 & 1/10/2021\\\\\n\t13 & D8442A & business-contract-terminated   & 100 & 31 & 1/10/2021\\\\\n\t14 & D8442A & business-contract-terminated   & 100 & 31 & 1/10/2021\\\\\n\t15 & D8442A & business-contract-terminated   & 100 & 31 & 1/10/2021\\\\\n\t16 & D8442A & facility-open                  & 100 & 65 & 1/13/2021\\\\\n\t17 & D8442A & facility-open                  & 100 & 65 & 1/13/2021\\\\\n\t18 & D8442A & facility-open                  & 100 & 65 & 1/13/2021\\\\\n\t19 & D8442A & facility-open                  & 100 & 65 & 1/13/2021\\\\\n\t20 & D8442A & analyst-ratings-change-neutral & 100 & 51 & 1/14/2021\\\\\n\\end{tabular}\n",
            "text/markdown": "\nA data.frame: 20 × 5\n\n| <!--/--> | rp_entity_id &lt;chr&gt; | category &lt;chr&gt; | relevance &lt;int&gt; | ess &lt;int&gt; | rpna_date_utc &lt;chr&gt; |\n|---|---|---|---|---|---|\n| 1 | D8442A | analyst-ratings-change-neutral | 100 | 51 | 1/5/2021  |\n| 2 | D8442A | price-target-upgrade           | 100 | 91 | 1/5/2021  |\n| 3 | D8442A | executive-appointment          | 100 | 54 | 1/5/2021  |\n| 4 | D8442A | executive-appointment          | 100 | 54 | 1/5/2021  |\n| 5 | D8442A | executive-appointment          | 100 | 54 | 1/5/2021  |\n| 6 | D8442A | analyst-ratings-change-neutral | 100 | 78 | 1/5/2021  |\n| 7 | D8442A | price-target-upgrade           | 100 | 75 | 1/5/2021  |\n| 8 | D8442A | executive-salary-increase      | 100 | 44 | 1/6/2021  |\n| 9 | D8442A | executive-salary-increase      | 100 | 44 | 1/6/2021  |\n| 10 | D8442A | stock-loss                     | 100 | 40 | 1/6/2021  |\n| 11 | D8442A | stock-gain                     | 100 | 63 | 1/8/2021  |\n| 12 | D8442A | business-contract-terminated   | 100 | 31 | 1/10/2021 |\n| 13 | D8442A | business-contract-terminated   | 100 | 31 | 1/10/2021 |\n| 14 | D8442A | business-contract-terminated   | 100 | 31 | 1/10/2021 |\n| 15 | D8442A | business-contract-terminated   | 100 | 31 | 1/10/2021 |\n| 16 | D8442A | facility-open                  | 100 | 65 | 1/13/2021 |\n| 17 | D8442A | facility-open                  | 100 | 65 | 1/13/2021 |\n| 18 | D8442A | facility-open                  | 100 | 65 | 1/13/2021 |\n| 19 | D8442A | facility-open                  | 100 | 65 | 1/13/2021 |\n| 20 | D8442A | analyst-ratings-change-neutral | 100 | 51 | 1/14/2021 |\n\n",
            "text/html": [
              "<table class=\"dataframe\">\n",
              "<caption>A data.frame: 20 × 5</caption>\n",
              "<thead>\n",
              "\t<tr><th></th><th scope=col>rp_entity_id</th><th scope=col>category</th><th scope=col>relevance</th><th scope=col>ess</th><th scope=col>rpna_date_utc</th></tr>\n",
              "\t<tr><th></th><th scope=col>&lt;chr&gt;</th><th scope=col>&lt;chr&gt;</th><th scope=col>&lt;int&gt;</th><th scope=col>&lt;int&gt;</th><th scope=col>&lt;chr&gt;</th></tr>\n",
              "</thead>\n",
              "<tbody>\n",
              "\t<tr><th scope=row>1</th><td>D8442A</td><td>analyst-ratings-change-neutral</td><td>100</td><td>51</td><td>1/5/2021 </td></tr>\n",
              "\t<tr><th scope=row>2</th><td>D8442A</td><td>price-target-upgrade          </td><td>100</td><td>91</td><td>1/5/2021 </td></tr>\n",
              "\t<tr><th scope=row>3</th><td>D8442A</td><td>executive-appointment         </td><td>100</td><td>54</td><td>1/5/2021 </td></tr>\n",
              "\t<tr><th scope=row>4</th><td>D8442A</td><td>executive-appointment         </td><td>100</td><td>54</td><td>1/5/2021 </td></tr>\n",
              "\t<tr><th scope=row>5</th><td>D8442A</td><td>executive-appointment         </td><td>100</td><td>54</td><td>1/5/2021 </td></tr>\n",
              "\t<tr><th scope=row>6</th><td>D8442A</td><td>analyst-ratings-change-neutral</td><td>100</td><td>78</td><td>1/5/2021 </td></tr>\n",
              "\t<tr><th scope=row>7</th><td>D8442A</td><td>price-target-upgrade          </td><td>100</td><td>75</td><td>1/5/2021 </td></tr>\n",
              "\t<tr><th scope=row>8</th><td>D8442A</td><td>executive-salary-increase     </td><td>100</td><td>44</td><td>1/6/2021 </td></tr>\n",
              "\t<tr><th scope=row>9</th><td>D8442A</td><td>executive-salary-increase     </td><td>100</td><td>44</td><td>1/6/2021 </td></tr>\n",
              "\t<tr><th scope=row>10</th><td>D8442A</td><td>stock-loss                    </td><td>100</td><td>40</td><td>1/6/2021 </td></tr>\n",
              "\t<tr><th scope=row>11</th><td>D8442A</td><td>stock-gain                    </td><td>100</td><td>63</td><td>1/8/2021 </td></tr>\n",
              "\t<tr><th scope=row>12</th><td>D8442A</td><td>business-contract-terminated  </td><td>100</td><td>31</td><td>1/10/2021</td></tr>\n",
              "\t<tr><th scope=row>13</th><td>D8442A</td><td>business-contract-terminated  </td><td>100</td><td>31</td><td>1/10/2021</td></tr>\n",
              "\t<tr><th scope=row>14</th><td>D8442A</td><td>business-contract-terminated  </td><td>100</td><td>31</td><td>1/10/2021</td></tr>\n",
              "\t<tr><th scope=row>15</th><td>D8442A</td><td>business-contract-terminated  </td><td>100</td><td>31</td><td>1/10/2021</td></tr>\n",
              "\t<tr><th scope=row>16</th><td>D8442A</td><td>facility-open                 </td><td>100</td><td>65</td><td>1/13/2021</td></tr>\n",
              "\t<tr><th scope=row>17</th><td>D8442A</td><td>facility-open                 </td><td>100</td><td>65</td><td>1/13/2021</td></tr>\n",
              "\t<tr><th scope=row>18</th><td>D8442A</td><td>facility-open                 </td><td>100</td><td>65</td><td>1/13/2021</td></tr>\n",
              "\t<tr><th scope=row>19</th><td>D8442A</td><td>facility-open                 </td><td>100</td><td>65</td><td>1/13/2021</td></tr>\n",
              "\t<tr><th scope=row>20</th><td>D8442A</td><td>analyst-ratings-change-neutral</td><td>100</td><td>51</td><td>1/14/2021</td></tr>\n",
              "</tbody>\n",
              "</table>\n"
            ]
          },
          "metadata": {}
        }
      ]
    },
    {
      "cell_type": "code",
      "metadata": {
        "id": "bQ6V9tsR0WA0",
        "outputId": "b9ddc418-84e7-40c1-8e7d-1bf6f16a32f7",
        "colab": {
          "base_uri": "https://localhost:8080/",
          "height": 159
        }
      },
      "source": [
        "# Relevance values are limited to 20 or 100\n",
        "aggregate(rp_entity_id ~ relevance,\n",
        "          data = rp.dj.2021,\n",
        "          FUN = length)"
      ],
      "execution_count": 10,
      "outputs": [
        {
          "output_type": "display_data",
          "data": {
            "text/plain": [
              "  relevance rp_entity_id\n",
              "1  20        41202      \n",
              "2 100       224702      "
            ],
            "text/latex": "A data.frame: 2 × 2\n\\begin{tabular}{ll}\n relevance & rp\\_entity\\_id\\\\\n <int> & <int>\\\\\n\\hline\n\t  20 &  41202\\\\\n\t 100 & 224702\\\\\n\\end{tabular}\n",
            "text/markdown": "\nA data.frame: 2 × 2\n\n| relevance &lt;int&gt; | rp_entity_id &lt;int&gt; |\n|---|---|\n|  20 |  41202 |\n| 100 | 224702 |\n\n",
            "text/html": [
              "<table class=\"dataframe\">\n",
              "<caption>A data.frame: 2 × 2</caption>\n",
              "<thead>\n",
              "\t<tr><th scope=col>relevance</th><th scope=col>rp_entity_id</th></tr>\n",
              "\t<tr><th scope=col>&lt;int&gt;</th><th scope=col>&lt;int&gt;</th></tr>\n",
              "</thead>\n",
              "<tbody>\n",
              "\t<tr><td> 20</td><td> 41202</td></tr>\n",
              "\t<tr><td>100</td><td>224702</td></tr>\n",
              "</tbody>\n",
              "</table>\n"
            ]
          },
          "metadata": {}
        }
      ]
    }
  ]
}