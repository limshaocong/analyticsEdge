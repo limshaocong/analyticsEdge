{
  "nbformat": 4,
  "nbformat_minor": 0,
  "metadata": {
    "colab": {
      "name": "Data Exploration.ipynb",
      "provenance": [],
      "collapsed_sections": [],
      "authorship_tag": "ABX9TyO+PSUaBmbwMJrwJ15CIull",
      "include_colab_link": true
    },
    "kernelspec": {
      "name": "ir",
      "display_name": "R"
    },
    "language_info": {
      "name": "R"
    }
  },
  "cells": [
    {
      "cell_type": "markdown",
      "metadata": {
        "id": "view-in-github",
        "colab_type": "text"
      },
      "source": [
        "<a href=\"https://colab.research.google.com/github/limshaocong/analyticsEdge/blob/main/Data_Exploration.ipynb\" target=\"_parent\"><img src=\"https://colab.research.google.com/assets/colab-badge.svg\" alt=\"Open In Colab\"/></a>"
      ]
    },
    {
      "cell_type": "code",
      "metadata": {
        "colab": {
          "base_uri": "https://localhost:8080/"
        },
        "id": "D0LXJE4pWkR0",
        "outputId": "112ef761-ba5f-460d-8e4e-ebca86d259da"
      },
      "source": [
        "library(tidyverse)\n",
        "library(ggplot2)\n",
        "library(lubridate)"
      ],
      "execution_count": 41,
      "outputs": [
        {
          "output_type": "stream",
          "name": "stderr",
          "text": [
            "Installing package into ‘/usr/local/lib/R/site-library’\n",
            "(as ‘lib’ is unspecified)\n",
            "\n",
            "Warning message:\n",
            "“package ‘calplot’ is not available for this version of R\n",
            "\n",
            "A version of this package for your version of R might be available elsewhere,\n",
            "see the ideas at\n",
            "https://cran.r-project.org/doc/manuals/r-patched/R-admin.html#Installing-packages”\n"
          ]
        }
      ]
    },
    {
      "cell_type": "code",
      "metadata": {
        "id": "Hj6QXuY2WcPu"
      },
      "source": [
        "path = \"https://raw.githubusercontent.com/limshaocong/analyticsEdge/main/Datasets/\"\n",
        "\n",
        "# Russell 3000 tickers\n",
        "tickers.path = paste0(path,\"r3000_tickers.csv\")\n",
        "\n",
        "# Quiver Quant data\n",
        "twitter.follower.path = paste0(path, \"QuiverQuant/twitter_follower.csv\")\n",
        "wiki.pageviews.path = paste0(path,\"QuiverQuant/wikipedia_pageviews.csv\")\n",
        "wsb.sentiment.path = paste0(path,\"QuiverQuant/wsb_sentiment.csv\")\n",
        "\n",
        "# RavenPack Sentiment Relevance data\n",
        "rp.company.index.path = paste0(path,\"RavenPack_WRDS/rp_company_index.csv\")\n",
        "## Dow Jones new releases (2018-2021)\n",
        "rp.dj.2018.path = paste0(path,\"RavenPack_WRDS/rp_dj_2018.csv\")\n",
        "rp.dj.2019.path = paste0(path,\"RavenPack_WRDS/rp_dj_2019.csv\")\n",
        "rp.dj.2020.path = paste0(path,\"RavenPack_WRDS/rp_dj_2020.csv\")\n",
        "rp.dj.2021.path = paste0(path,\"RavenPack_WRDS/rp_dj_2021.csv\")\n",
        "## Global Press releases (2018-2021)\n",
        "rp.pr.2018.path = paste0(path,\"RavenPack_WRDS/rp_pr_2018.csv\")\n",
        "rp.pr.2019.path = paste0(path,\"RavenPack_WRDS/rp_pr_2019.csv\")\n",
        "rp.pr.2020.path = paste0(path,\"RavenPack_WRDS/rp_pr_2020.csv\")\n",
        "rp.pr.2021.path = paste0(path,\"RavenPack_WRDS/rp_pr_2021.csv\")"
      ],
      "execution_count": null,
      "outputs": []
    },
    {
      "cell_type": "markdown",
      "metadata": {
        "id": "PP5CaxYYXOo2"
      },
      "source": [
        "**Exploring RavenPack Data**\n"
      ]
    },
    {
      "cell_type": "code",
      "metadata": {
        "id": "LaCg5WeBWiZQ"
      },
      "source": [
        "# Import company index which allows the tickers to be mapped to RavenPack's\n",
        "# internal entity index\n",
        "rp.company.index = read.csv(rp.company.index.path)\n",
        "\n",
        "# Read the 2021 Dow Jones sentiment data\n",
        "rp.dj.2021 = read.csv(rp.dj.2021.path)"
      ],
      "execution_count": 71,
      "outputs": []
    },
    {
      "cell_type": "code",
      "metadata": {
        "id": "gyE6swrIAThC",
        "outputId": "2ece87b0-1225-4646-a520-3c5eff7c2245",
        "colab": {
          "base_uri": "https://localhost:8080/",
          "height": 51
        }
      },
      "source": [
        "length(unique(rp.dj.2021$rp_entity_id))\n",
        "rp.dj.2021$rpna_date_utc1 <- mdy(rp.dj.2021$rpna_date_utc)\n",
        "last = max(rp.dj.2021$rpna_date_utc)\n",
        "last"
      ],
      "execution_count": 72,
      "outputs": [
        {
          "output_type": "display_data",
          "data": {
            "text/plain": [
              "[1] 2815"
            ],
            "text/latex": "2815",
            "text/markdown": "2815",
            "text/html": [
              "2815"
            ]
          },
          "metadata": {}
        },
        {
          "output_type": "display_data",
          "data": {
            "text/plain": [
              "[1] \"9/9/2021\""
            ],
            "text/latex": "'9/9/2021'",
            "text/markdown": "'9/9/2021'",
            "text/html": [
              "'9/9/2021'"
            ]
          },
          "metadata": {}
        }
      ]
    },
    {
      "cell_type": "code",
      "metadata": {
        "colab": {
          "base_uri": "https://localhost:8080/",
          "height": 717
        },
        "id": "IRq02Sw5WwdA",
        "outputId": "1f2bb19f-d04d-4c25-eca1-856741775c45"
      },
      "source": [
        "# Sample of Data of AAPL for 2021 Dow Jones\n",
        "#\n",
        "# Conclusions:\n",
        "#\n",
        "# 1. Data is relatively spares, with no data on most dates. Preprocess to\n",
        "# fill in non-entries.\n",
        "#\n",
        "# 2. There are several entries which share the same \"category\", \"relevance\",\n",
        "# \"ess\" and \"date\". Preprocess to aggregate repetitions.\n",
        "#\n",
        "# 3. There are also several entries on the same \"date\" that have a range of \n",
        "# \"ess\". Need to determine means of aggregation.\n",
        "#\n",
        "# 3. Many entries that have neutral sentiment (ie. ess = 50). Preprocessing\n",
        "# needs to assume if absence of press release and neutral announcement should\n",
        "# encoded the same.\n",
        "\n",
        "aapl.index = rp.company.index$rp_entity_id[rp.company.index$ticker == \"AAPL\"]\n",
        "rp.dj.2021 %>% filter(rp.dj.2021$rp_entity_id == aapl.index) %>% head(20)"
      ],
      "execution_count": null,
      "outputs": [
        {
          "output_type": "display_data",
          "data": {
            "text/plain": [
              "   rp_entity_id category                       relevance ess rpna_date_utc\n",
              "1  D8442A       analyst-ratings-change-neutral 100       51  1/5/2021     \n",
              "2  D8442A       price-target-upgrade           100       91  1/5/2021     \n",
              "3  D8442A       executive-appointment          100       54  1/5/2021     \n",
              "4  D8442A       executive-appointment          100       54  1/5/2021     \n",
              "5  D8442A       executive-appointment          100       54  1/5/2021     \n",
              "6  D8442A       analyst-ratings-change-neutral 100       78  1/5/2021     \n",
              "7  D8442A       price-target-upgrade           100       75  1/5/2021     \n",
              "8  D8442A       executive-salary-increase      100       44  1/6/2021     \n",
              "9  D8442A       executive-salary-increase      100       44  1/6/2021     \n",
              "10 D8442A       stock-loss                     100       40  1/6/2021     \n",
              "11 D8442A       stock-gain                     100       63  1/8/2021     \n",
              "12 D8442A       business-contract-terminated   100       31  1/10/2021    \n",
              "13 D8442A       business-contract-terminated   100       31  1/10/2021    \n",
              "14 D8442A       business-contract-terminated   100       31  1/10/2021    \n",
              "15 D8442A       business-contract-terminated   100       31  1/10/2021    \n",
              "16 D8442A       facility-open                  100       65  1/13/2021    \n",
              "17 D8442A       facility-open                  100       65  1/13/2021    \n",
              "18 D8442A       facility-open                  100       65  1/13/2021    \n",
              "19 D8442A       facility-open                  100       65  1/13/2021    \n",
              "20 D8442A       analyst-ratings-change-neutral 100       51  1/14/2021    "
            ],
            "text/latex": "A data.frame: 20 × 5\n\\begin{tabular}{r|lllll}\n  & rp\\_entity\\_id & category & relevance & ess & rpna\\_date\\_utc\\\\\n  & <chr> & <chr> & <int> & <int> & <chr>\\\\\n\\hline\n\t1 & D8442A & analyst-ratings-change-neutral & 100 & 51 & 1/5/2021 \\\\\n\t2 & D8442A & price-target-upgrade           & 100 & 91 & 1/5/2021 \\\\\n\t3 & D8442A & executive-appointment          & 100 & 54 & 1/5/2021 \\\\\n\t4 & D8442A & executive-appointment          & 100 & 54 & 1/5/2021 \\\\\n\t5 & D8442A & executive-appointment          & 100 & 54 & 1/5/2021 \\\\\n\t6 & D8442A & analyst-ratings-change-neutral & 100 & 78 & 1/5/2021 \\\\\n\t7 & D8442A & price-target-upgrade           & 100 & 75 & 1/5/2021 \\\\\n\t8 & D8442A & executive-salary-increase      & 100 & 44 & 1/6/2021 \\\\\n\t9 & D8442A & executive-salary-increase      & 100 & 44 & 1/6/2021 \\\\\n\t10 & D8442A & stock-loss                     & 100 & 40 & 1/6/2021 \\\\\n\t11 & D8442A & stock-gain                     & 100 & 63 & 1/8/2021 \\\\\n\t12 & D8442A & business-contract-terminated   & 100 & 31 & 1/10/2021\\\\\n\t13 & D8442A & business-contract-terminated   & 100 & 31 & 1/10/2021\\\\\n\t14 & D8442A & business-contract-terminated   & 100 & 31 & 1/10/2021\\\\\n\t15 & D8442A & business-contract-terminated   & 100 & 31 & 1/10/2021\\\\\n\t16 & D8442A & facility-open                  & 100 & 65 & 1/13/2021\\\\\n\t17 & D8442A & facility-open                  & 100 & 65 & 1/13/2021\\\\\n\t18 & D8442A & facility-open                  & 100 & 65 & 1/13/2021\\\\\n\t19 & D8442A & facility-open                  & 100 & 65 & 1/13/2021\\\\\n\t20 & D8442A & analyst-ratings-change-neutral & 100 & 51 & 1/14/2021\\\\\n\\end{tabular}\n",
            "text/markdown": "\nA data.frame: 20 × 5\n\n| <!--/--> | rp_entity_id &lt;chr&gt; | category &lt;chr&gt; | relevance &lt;int&gt; | ess &lt;int&gt; | rpna_date_utc &lt;chr&gt; |\n|---|---|---|---|---|---|\n| 1 | D8442A | analyst-ratings-change-neutral | 100 | 51 | 1/5/2021  |\n| 2 | D8442A | price-target-upgrade           | 100 | 91 | 1/5/2021  |\n| 3 | D8442A | executive-appointment          | 100 | 54 | 1/5/2021  |\n| 4 | D8442A | executive-appointment          | 100 | 54 | 1/5/2021  |\n| 5 | D8442A | executive-appointment          | 100 | 54 | 1/5/2021  |\n| 6 | D8442A | analyst-ratings-change-neutral | 100 | 78 | 1/5/2021  |\n| 7 | D8442A | price-target-upgrade           | 100 | 75 | 1/5/2021  |\n| 8 | D8442A | executive-salary-increase      | 100 | 44 | 1/6/2021  |\n| 9 | D8442A | executive-salary-increase      | 100 | 44 | 1/6/2021  |\n| 10 | D8442A | stock-loss                     | 100 | 40 | 1/6/2021  |\n| 11 | D8442A | stock-gain                     | 100 | 63 | 1/8/2021  |\n| 12 | D8442A | business-contract-terminated   | 100 | 31 | 1/10/2021 |\n| 13 | D8442A | business-contract-terminated   | 100 | 31 | 1/10/2021 |\n| 14 | D8442A | business-contract-terminated   | 100 | 31 | 1/10/2021 |\n| 15 | D8442A | business-contract-terminated   | 100 | 31 | 1/10/2021 |\n| 16 | D8442A | facility-open                  | 100 | 65 | 1/13/2021 |\n| 17 | D8442A | facility-open                  | 100 | 65 | 1/13/2021 |\n| 18 | D8442A | facility-open                  | 100 | 65 | 1/13/2021 |\n| 19 | D8442A | facility-open                  | 100 | 65 | 1/13/2021 |\n| 20 | D8442A | analyst-ratings-change-neutral | 100 | 51 | 1/14/2021 |\n\n",
            "text/html": [
              "<table class=\"dataframe\">\n",
              "<caption>A data.frame: 20 × 5</caption>\n",
              "<thead>\n",
              "\t<tr><th></th><th scope=col>rp_entity_id</th><th scope=col>category</th><th scope=col>relevance</th><th scope=col>ess</th><th scope=col>rpna_date_utc</th></tr>\n",
              "\t<tr><th></th><th scope=col>&lt;chr&gt;</th><th scope=col>&lt;chr&gt;</th><th scope=col>&lt;int&gt;</th><th scope=col>&lt;int&gt;</th><th scope=col>&lt;chr&gt;</th></tr>\n",
              "</thead>\n",
              "<tbody>\n",
              "\t<tr><th scope=row>1</th><td>D8442A</td><td>analyst-ratings-change-neutral</td><td>100</td><td>51</td><td>1/5/2021 </td></tr>\n",
              "\t<tr><th scope=row>2</th><td>D8442A</td><td>price-target-upgrade          </td><td>100</td><td>91</td><td>1/5/2021 </td></tr>\n",
              "\t<tr><th scope=row>3</th><td>D8442A</td><td>executive-appointment         </td><td>100</td><td>54</td><td>1/5/2021 </td></tr>\n",
              "\t<tr><th scope=row>4</th><td>D8442A</td><td>executive-appointment         </td><td>100</td><td>54</td><td>1/5/2021 </td></tr>\n",
              "\t<tr><th scope=row>5</th><td>D8442A</td><td>executive-appointment         </td><td>100</td><td>54</td><td>1/5/2021 </td></tr>\n",
              "\t<tr><th scope=row>6</th><td>D8442A</td><td>analyst-ratings-change-neutral</td><td>100</td><td>78</td><td>1/5/2021 </td></tr>\n",
              "\t<tr><th scope=row>7</th><td>D8442A</td><td>price-target-upgrade          </td><td>100</td><td>75</td><td>1/5/2021 </td></tr>\n",
              "\t<tr><th scope=row>8</th><td>D8442A</td><td>executive-salary-increase     </td><td>100</td><td>44</td><td>1/6/2021 </td></tr>\n",
              "\t<tr><th scope=row>9</th><td>D8442A</td><td>executive-salary-increase     </td><td>100</td><td>44</td><td>1/6/2021 </td></tr>\n",
              "\t<tr><th scope=row>10</th><td>D8442A</td><td>stock-loss                    </td><td>100</td><td>40</td><td>1/6/2021 </td></tr>\n",
              "\t<tr><th scope=row>11</th><td>D8442A</td><td>stock-gain                    </td><td>100</td><td>63</td><td>1/8/2021 </td></tr>\n",
              "\t<tr><th scope=row>12</th><td>D8442A</td><td>business-contract-terminated  </td><td>100</td><td>31</td><td>1/10/2021</td></tr>\n",
              "\t<tr><th scope=row>13</th><td>D8442A</td><td>business-contract-terminated  </td><td>100</td><td>31</td><td>1/10/2021</td></tr>\n",
              "\t<tr><th scope=row>14</th><td>D8442A</td><td>business-contract-terminated  </td><td>100</td><td>31</td><td>1/10/2021</td></tr>\n",
              "\t<tr><th scope=row>15</th><td>D8442A</td><td>business-contract-terminated  </td><td>100</td><td>31</td><td>1/10/2021</td></tr>\n",
              "\t<tr><th scope=row>16</th><td>D8442A</td><td>facility-open                 </td><td>100</td><td>65</td><td>1/13/2021</td></tr>\n",
              "\t<tr><th scope=row>17</th><td>D8442A</td><td>facility-open                 </td><td>100</td><td>65</td><td>1/13/2021</td></tr>\n",
              "\t<tr><th scope=row>18</th><td>D8442A</td><td>facility-open                 </td><td>100</td><td>65</td><td>1/13/2021</td></tr>\n",
              "\t<tr><th scope=row>19</th><td>D8442A</td><td>facility-open                 </td><td>100</td><td>65</td><td>1/13/2021</td></tr>\n",
              "\t<tr><th scope=row>20</th><td>D8442A</td><td>analyst-ratings-change-neutral</td><td>100</td><td>51</td><td>1/14/2021</td></tr>\n",
              "</tbody>\n",
              "</table>\n"
            ]
          },
          "metadata": {}
        }
      ]
    },
    {
      "cell_type": "code",
      "metadata": {
        "id": "bQ6V9tsR0WA0",
        "colab": {
          "base_uri": "https://localhost:8080/",
          "height": 159
        },
        "outputId": "b9ddc418-84e7-40c1-8e7d-1bf6f16a32f7"
      },
      "source": [
        "# Relevance values are limited to 20 or 100\n",
        "aggregate(rp_entity_id ~ relevance, data = rp.dj.2021, FUN = length)"
      ],
      "execution_count": null,
      "outputs": [
        {
          "output_type": "display_data",
          "data": {
            "text/plain": [
              "  relevance rp_entity_id\n",
              "1  20        41202      \n",
              "2 100       224702      "
            ],
            "text/latex": "A data.frame: 2 × 2\n\\begin{tabular}{ll}\n relevance & rp\\_entity\\_id\\\\\n <int> & <int>\\\\\n\\hline\n\t  20 &  41202\\\\\n\t 100 & 224702\\\\\n\\end{tabular}\n",
            "text/markdown": "\nA data.frame: 2 × 2\n\n| relevance &lt;int&gt; | rp_entity_id &lt;int&gt; |\n|---|---|\n|  20 |  41202 |\n| 100 | 224702 |\n\n",
            "text/html": [
              "<table class=\"dataframe\">\n",
              "<caption>A data.frame: 2 × 2</caption>\n",
              "<thead>\n",
              "\t<tr><th scope=col>relevance</th><th scope=col>rp_entity_id</th></tr>\n",
              "\t<tr><th scope=col>&lt;int&gt;</th><th scope=col>&lt;int&gt;</th></tr>\n",
              "</thead>\n",
              "<tbody>\n",
              "\t<tr><td> 20</td><td> 41202</td></tr>\n",
              "\t<tr><td>100</td><td>224702</td></tr>\n",
              "</tbody>\n",
              "</table>\n"
            ]
          },
          "metadata": {}
        }
      ]
    },
    {
      "cell_type": "code",
      "metadata": {
        "colab": {
          "base_uri": "https://localhost:8080/",
          "height": 872
        },
        "id": "tCIwt3Di46kJ",
        "outputId": "fbf604e1-50ce-43e3-bc07-90a3274a1bbc"
      },
      "source": [
        "low.relevance = rp.dj.2021 %>% filter(rp.dj.2021$relevance == 20)\n",
        "aggregate(relevance ~ rp_entity_id, data = low.relevance, FUN = length)"
      ],
      "execution_count": 36,
      "outputs": [
        {
          "output_type": "display_data",
          "data": {
            "text/plain": [
              "   rp_entity_id relevance\n",
              "1  0C136E          3     \n",
              "2  0E64D4         26     \n",
              "3  12A3A3         81     \n",
              "4  12F98C          1     \n",
              "5  139303       1102     \n",
              "6  1E1125       2918     \n",
              "7  3461CF       6038     \n",
              "8  3B37F7        185     \n",
              "9  442587         67     \n",
              "10 50070E       1592     \n",
              "11 54F1D2         14     \n",
              "12 55018          26     \n",
              "13 58CA9A       2139     \n",
              "14 619882       2468     \n",
              "15 73C521          4     \n",
              "16 762A3E        561     \n",
              "17 9196A2       6849     \n",
              "18 95DC1F          1     \n",
              "19 990AD0        386     \n",
              "20 B3CB74       5185     \n",
              "21 C3BCD5         50     \n",
              "22 CBCC6A        782     \n",
              "23 CD4DA8        493     \n",
              "24 CFF97C       8494     \n",
              "25 E8846E       1737     "
            ],
            "text/latex": "A data.frame: 25 × 2\n\\begin{tabular}{ll}\n rp\\_entity\\_id & relevance\\\\\n <chr> & <int>\\\\\n\\hline\n\t 0C136E &    3\\\\\n\t 0E64D4 &   26\\\\\n\t 12A3A3 &   81\\\\\n\t 12F98C &    1\\\\\n\t 139303 & 1102\\\\\n\t 1E1125 & 2918\\\\\n\t 3461CF & 6038\\\\\n\t 3B37F7 &  185\\\\\n\t 442587 &   67\\\\\n\t 50070E & 1592\\\\\n\t 54F1D2 &   14\\\\\n\t 55018  &   26\\\\\n\t 58CA9A & 2139\\\\\n\t 619882 & 2468\\\\\n\t 73C521 &    4\\\\\n\t 762A3E &  561\\\\\n\t 9196A2 & 6849\\\\\n\t 95DC1F &    1\\\\\n\t 990AD0 &  386\\\\\n\t B3CB74 & 5185\\\\\n\t C3BCD5 &   50\\\\\n\t CBCC6A &  782\\\\\n\t CD4DA8 &  493\\\\\n\t CFF97C & 8494\\\\\n\t E8846E & 1737\\\\\n\\end{tabular}\n",
            "text/markdown": "\nA data.frame: 25 × 2\n\n| rp_entity_id &lt;chr&gt; | relevance &lt;int&gt; |\n|---|---|\n| 0C136E |    3 |\n| 0E64D4 |   26 |\n| 12A3A3 |   81 |\n| 12F98C |    1 |\n| 139303 | 1102 |\n| 1E1125 | 2918 |\n| 3461CF | 6038 |\n| 3B37F7 |  185 |\n| 442587 |   67 |\n| 50070E | 1592 |\n| 54F1D2 |   14 |\n| 55018  |   26 |\n| 58CA9A | 2139 |\n| 619882 | 2468 |\n| 73C521 |    4 |\n| 762A3E |  561 |\n| 9196A2 | 6849 |\n| 95DC1F |    1 |\n| 990AD0 |  386 |\n| B3CB74 | 5185 |\n| C3BCD5 |   50 |\n| CBCC6A |  782 |\n| CD4DA8 |  493 |\n| CFF97C | 8494 |\n| E8846E | 1737 |\n\n",
            "text/html": [
              "<table class=\"dataframe\">\n",
              "<caption>A data.frame: 25 × 2</caption>\n",
              "<thead>\n",
              "\t<tr><th scope=col>rp_entity_id</th><th scope=col>relevance</th></tr>\n",
              "\t<tr><th scope=col>&lt;chr&gt;</th><th scope=col>&lt;int&gt;</th></tr>\n",
              "</thead>\n",
              "<tbody>\n",
              "\t<tr><td>0C136E</td><td>   3</td></tr>\n",
              "\t<tr><td>0E64D4</td><td>  26</td></tr>\n",
              "\t<tr><td>12A3A3</td><td>  81</td></tr>\n",
              "\t<tr><td>12F98C</td><td>   1</td></tr>\n",
              "\t<tr><td>139303</td><td>1102</td></tr>\n",
              "\t<tr><td>1E1125</td><td>2918</td></tr>\n",
              "\t<tr><td>3461CF</td><td>6038</td></tr>\n",
              "\t<tr><td>3B37F7</td><td> 185</td></tr>\n",
              "\t<tr><td>442587</td><td>  67</td></tr>\n",
              "\t<tr><td>50070E</td><td>1592</td></tr>\n",
              "\t<tr><td>54F1D2</td><td>  14</td></tr>\n",
              "\t<tr><td>55018 </td><td>  26</td></tr>\n",
              "\t<tr><td>58CA9A</td><td>2139</td></tr>\n",
              "\t<tr><td>619882</td><td>2468</td></tr>\n",
              "\t<tr><td>73C521</td><td>   4</td></tr>\n",
              "\t<tr><td>762A3E</td><td> 561</td></tr>\n",
              "\t<tr><td>9196A2</td><td>6849</td></tr>\n",
              "\t<tr><td>95DC1F</td><td>   1</td></tr>\n",
              "\t<tr><td>990AD0</td><td> 386</td></tr>\n",
              "\t<tr><td>B3CB74</td><td>5185</td></tr>\n",
              "\t<tr><td>C3BCD5</td><td>  50</td></tr>\n",
              "\t<tr><td>CBCC6A</td><td> 782</td></tr>\n",
              "\t<tr><td>CD4DA8</td><td> 493</td></tr>\n",
              "\t<tr><td>CFF97C</td><td>8494</td></tr>\n",
              "\t<tr><td>E8846E</td><td>1737</td></tr>\n",
              "</tbody>\n",
              "</table>\n"
            ]
          },
          "metadata": {}
        }
      ]
    },
    {
      "cell_type": "code",
      "metadata": {
        "colab": {
          "base_uri": "https://localhost:8080/",
          "height": 717
        },
        "id": "KSgRlf8K1sEB",
        "outputId": "9e40e9dc-f6f1-41cf-9a72-4e7a89dad902"
      },
      "source": [
        "prevelance = aggregate(relevance ~ rp_entity_id, data = rp.dj.2021, FUN = length)\n",
        "head(prevelance[order(prevelance$relevance, decreasing = T), ], 20)"
      ],
      "execution_count": 30,
      "outputs": [
        {
          "output_type": "display_data",
          "data": {
            "text/plain": [
              "     rp_entity_id relevance\n",
              "2283 CFF97C       8740     \n",
              "1583 9196A2       7300     \n",
              "574  3461CF       6281     \n",
              "1982 B3CB74       5400     \n",
              "1051 619882       3213     \n",
              "310  1E1125       3149     \n",
              "963  58CA9A       2475     \n",
              "858  50070E       2077     \n",
              "2561 E8846E       2062     \n",
              "186  12E454       1276     \n",
              "195  139303       1193     \n",
              "1683 990AD0        886     \n",
              "2228 CBCC6A        824     \n",
              "793  4A6F00        781     \n",
              "13   0157B1        750     \n",
              "2332 D42DBA        645     \n",
              "1276 762A3E        644     \n",
              "2246 CD4DA8        613     \n",
              "2443 DD3BB1        586     \n",
              "378  228D42        576     "
            ],
            "text/latex": "A data.frame: 20 × 2\n\\begin{tabular}{r|ll}\n  & rp\\_entity\\_id & relevance\\\\\n  & <chr> & <int>\\\\\n\\hline\n\t2283 & CFF97C & 8740\\\\\n\t1583 & 9196A2 & 7300\\\\\n\t574 & 3461CF & 6281\\\\\n\t1982 & B3CB74 & 5400\\\\\n\t1051 & 619882 & 3213\\\\\n\t310 & 1E1125 & 3149\\\\\n\t963 & 58CA9A & 2475\\\\\n\t858 & 50070E & 2077\\\\\n\t2561 & E8846E & 2062\\\\\n\t186 & 12E454 & 1276\\\\\n\t195 & 139303 & 1193\\\\\n\t1683 & 990AD0 &  886\\\\\n\t2228 & CBCC6A &  824\\\\\n\t793 & 4A6F00 &  781\\\\\n\t13 & 0157B1 &  750\\\\\n\t2332 & D42DBA &  645\\\\\n\t1276 & 762A3E &  644\\\\\n\t2246 & CD4DA8 &  613\\\\\n\t2443 & DD3BB1 &  586\\\\\n\t378 & 228D42 &  576\\\\\n\\end{tabular}\n",
            "text/markdown": "\nA data.frame: 20 × 2\n\n| <!--/--> | rp_entity_id &lt;chr&gt; | relevance &lt;int&gt; |\n|---|---|---|\n| 2283 | CFF97C | 8740 |\n| 1583 | 9196A2 | 7300 |\n| 574 | 3461CF | 6281 |\n| 1982 | B3CB74 | 5400 |\n| 1051 | 619882 | 3213 |\n| 310 | 1E1125 | 3149 |\n| 963 | 58CA9A | 2475 |\n| 858 | 50070E | 2077 |\n| 2561 | E8846E | 2062 |\n| 186 | 12E454 | 1276 |\n| 195 | 139303 | 1193 |\n| 1683 | 990AD0 |  886 |\n| 2228 | CBCC6A |  824 |\n| 793 | 4A6F00 |  781 |\n| 13 | 0157B1 |  750 |\n| 2332 | D42DBA |  645 |\n| 1276 | 762A3E |  644 |\n| 2246 | CD4DA8 |  613 |\n| 2443 | DD3BB1 |  586 |\n| 378 | 228D42 |  576 |\n\n",
            "text/html": [
              "<table class=\"dataframe\">\n",
              "<caption>A data.frame: 20 × 2</caption>\n",
              "<thead>\n",
              "\t<tr><th></th><th scope=col>rp_entity_id</th><th scope=col>relevance</th></tr>\n",
              "\t<tr><th></th><th scope=col>&lt;chr&gt;</th><th scope=col>&lt;int&gt;</th></tr>\n",
              "</thead>\n",
              "<tbody>\n",
              "\t<tr><th scope=row>2283</th><td>CFF97C</td><td>8740</td></tr>\n",
              "\t<tr><th scope=row>1583</th><td>9196A2</td><td>7300</td></tr>\n",
              "\t<tr><th scope=row>574</th><td>3461CF</td><td>6281</td></tr>\n",
              "\t<tr><th scope=row>1982</th><td>B3CB74</td><td>5400</td></tr>\n",
              "\t<tr><th scope=row>1051</th><td>619882</td><td>3213</td></tr>\n",
              "\t<tr><th scope=row>310</th><td>1E1125</td><td>3149</td></tr>\n",
              "\t<tr><th scope=row>963</th><td>58CA9A</td><td>2475</td></tr>\n",
              "\t<tr><th scope=row>858</th><td>50070E</td><td>2077</td></tr>\n",
              "\t<tr><th scope=row>2561</th><td>E8846E</td><td>2062</td></tr>\n",
              "\t<tr><th scope=row>186</th><td>12E454</td><td>1276</td></tr>\n",
              "\t<tr><th scope=row>195</th><td>139303</td><td>1193</td></tr>\n",
              "\t<tr><th scope=row>1683</th><td>990AD0</td><td> 886</td></tr>\n",
              "\t<tr><th scope=row>2228</th><td>CBCC6A</td><td> 824</td></tr>\n",
              "\t<tr><th scope=row>793</th><td>4A6F00</td><td> 781</td></tr>\n",
              "\t<tr><th scope=row>13</th><td>0157B1</td><td> 750</td></tr>\n",
              "\t<tr><th scope=row>2332</th><td>D42DBA</td><td> 645</td></tr>\n",
              "\t<tr><th scope=row>1276</th><td>762A3E</td><td> 644</td></tr>\n",
              "\t<tr><th scope=row>2246</th><td>CD4DA8</td><td> 613</td></tr>\n",
              "\t<tr><th scope=row>2443</th><td>DD3BB1</td><td> 586</td></tr>\n",
              "\t<tr><th scope=row>378</th><td>228D42</td><td> 576</td></tr>\n",
              "</tbody>\n",
              "</table>\n"
            ]
          },
          "metadata": {}
        }
      ]
    },
    {
      "cell_type": "code",
      "metadata": {
        "colab": {
          "base_uri": "https://localhost:8080/",
          "height": 717
        },
        "id": "c3bjLNiQ4rjN",
        "outputId": "391c8e03-2787-4a9b-97d5-7061e4ffc2d9"
      },
      "source": [
        "rp.dj.2021 %>% filter(rp.dj.2021$rp_entity_id == \"9196A2\") %>% head(20)"
      ],
      "execution_count": 37,
      "outputs": [
        {
          "output_type": "display_data",
          "data": {
            "text/plain": [
              "   rp_entity_id category                             relevance ess\n",
              "1  9196A2       analyst-ratings-change-positive      100       78 \n",
              "2  9196A2       analyst-ratings-set-neutral-rater     20       50 \n",
              "3  9196A2       price-target-set-rater                20       50 \n",
              "4  9196A2       analyst-ratings-set-negative-rater    20       50 \n",
              "5  9196A2       price-target-set-rater                20       50 \n",
              "6  9196A2       analyst-ratings-change-neutral-rater  20       50 \n",
              "7  9196A2       price-target-upgrade-rater            20       50 \n",
              "8  9196A2       analyst-ratings-change-neutral-rater  20       50 \n",
              "9  9196A2       price-target-upgrade-rater            20       50 \n",
              "10 9196A2       analyst-ratings-change-neutral-rater  20       50 \n",
              "11 9196A2       price-target-upgrade-rater            20       50 \n",
              "12 9196A2       analyst-ratings-change-neutral-rater  20       50 \n",
              "13 9196A2       price-target-upgrade-rater            20       50 \n",
              "14 9196A2       analyst-ratings-change-neutral-rater  20       50 \n",
              "15 9196A2       price-target-upgrade-rater            20       50 \n",
              "16 9196A2       analyst-ratings-change-neutral-rater  20       50 \n",
              "17 9196A2       price-target-upgrade-rater            20       50 \n",
              "18 9196A2       analyst-ratings-change-neutral-rater  20       50 \n",
              "19 9196A2       price-target-upgrade-rater            20       50 \n",
              "20 9196A2       analyst-ratings-change-neutral-rater  20       50 \n",
              "   rpna_date_utc\n",
              "1  1/4/2021     \n",
              "2  1/4/2021     \n",
              "3  1/4/2021     \n",
              "4  1/4/2021     \n",
              "5  1/4/2021     \n",
              "6  1/4/2021     \n",
              "7  1/4/2021     \n",
              "8  1/4/2021     \n",
              "9  1/4/2021     \n",
              "10 1/5/2021     \n",
              "11 1/5/2021     \n",
              "12 1/5/2021     \n",
              "13 1/5/2021     \n",
              "14 1/5/2021     \n",
              "15 1/5/2021     \n",
              "16 1/5/2021     \n",
              "17 1/5/2021     \n",
              "18 1/5/2021     \n",
              "19 1/5/2021     \n",
              "20 1/5/2021     "
            ],
            "text/latex": "A data.frame: 20 × 5\n\\begin{tabular}{r|lllll}\n  & rp\\_entity\\_id & category & relevance & ess & rpna\\_date\\_utc\\\\\n  & <chr> & <chr> & <int> & <int> & <chr>\\\\\n\\hline\n\t1 & 9196A2 & analyst-ratings-change-positive      & 100 & 78 & 1/4/2021\\\\\n\t2 & 9196A2 & analyst-ratings-set-neutral-rater    &  20 & 50 & 1/4/2021\\\\\n\t3 & 9196A2 & price-target-set-rater               &  20 & 50 & 1/4/2021\\\\\n\t4 & 9196A2 & analyst-ratings-set-negative-rater   &  20 & 50 & 1/4/2021\\\\\n\t5 & 9196A2 & price-target-set-rater               &  20 & 50 & 1/4/2021\\\\\n\t6 & 9196A2 & analyst-ratings-change-neutral-rater &  20 & 50 & 1/4/2021\\\\\n\t7 & 9196A2 & price-target-upgrade-rater           &  20 & 50 & 1/4/2021\\\\\n\t8 & 9196A2 & analyst-ratings-change-neutral-rater &  20 & 50 & 1/4/2021\\\\\n\t9 & 9196A2 & price-target-upgrade-rater           &  20 & 50 & 1/4/2021\\\\\n\t10 & 9196A2 & analyst-ratings-change-neutral-rater &  20 & 50 & 1/5/2021\\\\\n\t11 & 9196A2 & price-target-upgrade-rater           &  20 & 50 & 1/5/2021\\\\\n\t12 & 9196A2 & analyst-ratings-change-neutral-rater &  20 & 50 & 1/5/2021\\\\\n\t13 & 9196A2 & price-target-upgrade-rater           &  20 & 50 & 1/5/2021\\\\\n\t14 & 9196A2 & analyst-ratings-change-neutral-rater &  20 & 50 & 1/5/2021\\\\\n\t15 & 9196A2 & price-target-upgrade-rater           &  20 & 50 & 1/5/2021\\\\\n\t16 & 9196A2 & analyst-ratings-change-neutral-rater &  20 & 50 & 1/5/2021\\\\\n\t17 & 9196A2 & price-target-upgrade-rater           &  20 & 50 & 1/5/2021\\\\\n\t18 & 9196A2 & analyst-ratings-change-neutral-rater &  20 & 50 & 1/5/2021\\\\\n\t19 & 9196A2 & price-target-upgrade-rater           &  20 & 50 & 1/5/2021\\\\\n\t20 & 9196A2 & analyst-ratings-change-neutral-rater &  20 & 50 & 1/5/2021\\\\\n\\end{tabular}\n",
            "text/markdown": "\nA data.frame: 20 × 5\n\n| <!--/--> | rp_entity_id &lt;chr&gt; | category &lt;chr&gt; | relevance &lt;int&gt; | ess &lt;int&gt; | rpna_date_utc &lt;chr&gt; |\n|---|---|---|---|---|---|\n| 1 | 9196A2 | analyst-ratings-change-positive      | 100 | 78 | 1/4/2021 |\n| 2 | 9196A2 | analyst-ratings-set-neutral-rater    |  20 | 50 | 1/4/2021 |\n| 3 | 9196A2 | price-target-set-rater               |  20 | 50 | 1/4/2021 |\n| 4 | 9196A2 | analyst-ratings-set-negative-rater   |  20 | 50 | 1/4/2021 |\n| 5 | 9196A2 | price-target-set-rater               |  20 | 50 | 1/4/2021 |\n| 6 | 9196A2 | analyst-ratings-change-neutral-rater |  20 | 50 | 1/4/2021 |\n| 7 | 9196A2 | price-target-upgrade-rater           |  20 | 50 | 1/4/2021 |\n| 8 | 9196A2 | analyst-ratings-change-neutral-rater |  20 | 50 | 1/4/2021 |\n| 9 | 9196A2 | price-target-upgrade-rater           |  20 | 50 | 1/4/2021 |\n| 10 | 9196A2 | analyst-ratings-change-neutral-rater |  20 | 50 | 1/5/2021 |\n| 11 | 9196A2 | price-target-upgrade-rater           |  20 | 50 | 1/5/2021 |\n| 12 | 9196A2 | analyst-ratings-change-neutral-rater |  20 | 50 | 1/5/2021 |\n| 13 | 9196A2 | price-target-upgrade-rater           |  20 | 50 | 1/5/2021 |\n| 14 | 9196A2 | analyst-ratings-change-neutral-rater |  20 | 50 | 1/5/2021 |\n| 15 | 9196A2 | price-target-upgrade-rater           |  20 | 50 | 1/5/2021 |\n| 16 | 9196A2 | analyst-ratings-change-neutral-rater |  20 | 50 | 1/5/2021 |\n| 17 | 9196A2 | price-target-upgrade-rater           |  20 | 50 | 1/5/2021 |\n| 18 | 9196A2 | analyst-ratings-change-neutral-rater |  20 | 50 | 1/5/2021 |\n| 19 | 9196A2 | price-target-upgrade-rater           |  20 | 50 | 1/5/2021 |\n| 20 | 9196A2 | analyst-ratings-change-neutral-rater |  20 | 50 | 1/5/2021 |\n\n",
            "text/html": [
              "<table class=\"dataframe\">\n",
              "<caption>A data.frame: 20 × 5</caption>\n",
              "<thead>\n",
              "\t<tr><th></th><th scope=col>rp_entity_id</th><th scope=col>category</th><th scope=col>relevance</th><th scope=col>ess</th><th scope=col>rpna_date_utc</th></tr>\n",
              "\t<tr><th></th><th scope=col>&lt;chr&gt;</th><th scope=col>&lt;chr&gt;</th><th scope=col>&lt;int&gt;</th><th scope=col>&lt;int&gt;</th><th scope=col>&lt;chr&gt;</th></tr>\n",
              "</thead>\n",
              "<tbody>\n",
              "\t<tr><th scope=row>1</th><td>9196A2</td><td>analyst-ratings-change-positive     </td><td>100</td><td>78</td><td>1/4/2021</td></tr>\n",
              "\t<tr><th scope=row>2</th><td>9196A2</td><td>analyst-ratings-set-neutral-rater   </td><td> 20</td><td>50</td><td>1/4/2021</td></tr>\n",
              "\t<tr><th scope=row>3</th><td>9196A2</td><td>price-target-set-rater              </td><td> 20</td><td>50</td><td>1/4/2021</td></tr>\n",
              "\t<tr><th scope=row>4</th><td>9196A2</td><td>analyst-ratings-set-negative-rater  </td><td> 20</td><td>50</td><td>1/4/2021</td></tr>\n",
              "\t<tr><th scope=row>5</th><td>9196A2</td><td>price-target-set-rater              </td><td> 20</td><td>50</td><td>1/4/2021</td></tr>\n",
              "\t<tr><th scope=row>6</th><td>9196A2</td><td>analyst-ratings-change-neutral-rater</td><td> 20</td><td>50</td><td>1/4/2021</td></tr>\n",
              "\t<tr><th scope=row>7</th><td>9196A2</td><td>price-target-upgrade-rater          </td><td> 20</td><td>50</td><td>1/4/2021</td></tr>\n",
              "\t<tr><th scope=row>8</th><td>9196A2</td><td>analyst-ratings-change-neutral-rater</td><td> 20</td><td>50</td><td>1/4/2021</td></tr>\n",
              "\t<tr><th scope=row>9</th><td>9196A2</td><td>price-target-upgrade-rater          </td><td> 20</td><td>50</td><td>1/4/2021</td></tr>\n",
              "\t<tr><th scope=row>10</th><td>9196A2</td><td>analyst-ratings-change-neutral-rater</td><td> 20</td><td>50</td><td>1/5/2021</td></tr>\n",
              "\t<tr><th scope=row>11</th><td>9196A2</td><td>price-target-upgrade-rater          </td><td> 20</td><td>50</td><td>1/5/2021</td></tr>\n",
              "\t<tr><th scope=row>12</th><td>9196A2</td><td>analyst-ratings-change-neutral-rater</td><td> 20</td><td>50</td><td>1/5/2021</td></tr>\n",
              "\t<tr><th scope=row>13</th><td>9196A2</td><td>price-target-upgrade-rater          </td><td> 20</td><td>50</td><td>1/5/2021</td></tr>\n",
              "\t<tr><th scope=row>14</th><td>9196A2</td><td>analyst-ratings-change-neutral-rater</td><td> 20</td><td>50</td><td>1/5/2021</td></tr>\n",
              "\t<tr><th scope=row>15</th><td>9196A2</td><td>price-target-upgrade-rater          </td><td> 20</td><td>50</td><td>1/5/2021</td></tr>\n",
              "\t<tr><th scope=row>16</th><td>9196A2</td><td>analyst-ratings-change-neutral-rater</td><td> 20</td><td>50</td><td>1/5/2021</td></tr>\n",
              "\t<tr><th scope=row>17</th><td>9196A2</td><td>price-target-upgrade-rater          </td><td> 20</td><td>50</td><td>1/5/2021</td></tr>\n",
              "\t<tr><th scope=row>18</th><td>9196A2</td><td>analyst-ratings-change-neutral-rater</td><td> 20</td><td>50</td><td>1/5/2021</td></tr>\n",
              "\t<tr><th scope=row>19</th><td>9196A2</td><td>price-target-upgrade-rater          </td><td> 20</td><td>50</td><td>1/5/2021</td></tr>\n",
              "\t<tr><th scope=row>20</th><td>9196A2</td><td>analyst-ratings-change-neutral-rater</td><td> 20</td><td>50</td><td>1/5/2021</td></tr>\n",
              "</tbody>\n",
              "</table>\n"
            ]
          },
          "metadata": {}
        }
      ]
    },
    {
      "cell_type": "markdown",
      "metadata": {
        "id": "qFLViNa38isH"
      },
      "source": [
        "**Exploring Twitter Follower Data**"
      ]
    },
    {
      "cell_type": "code",
      "metadata": {
        "id": "KEOZWq667r1a"
      },
      "source": [
        "twitter.follower = read.csv(twitter.follower.path)\n",
        "twitter.follower$Date <- ymd(twitter.follower$Date)"
      ],
      "execution_count": 55,
      "outputs": []
    },
    {
      "cell_type": "code",
      "metadata": {
        "colab": {
          "base_uri": "https://localhost:8080/",
          "height": 68
        },
        "id": "N4yN-Xt78xUR",
        "outputId": "1ab5f8e1-9f57-444b-96bc-3548b5b0ec86"
      },
      "source": [
        "first = min(twitter.follower$Date)\n",
        "last = max(twitter.follower$Date)\n",
        "last - first\n",
        "paste(first, \",\", last)\n",
        "length(unique(twitter.follower$Ticker))"
      ],
      "execution_count": 67,
      "outputs": [
        {
          "output_type": "display_data",
          "data": {
            "text/plain": [
              "Time difference of 530 days"
            ]
          },
          "metadata": {}
        },
        {
          "output_type": "display_data",
          "data": {
            "text/plain": [
              "[1] \"2020-05-02 , 2021-10-14\""
            ],
            "text/latex": "'2020-05-02 , 2021-10-14'",
            "text/markdown": "'2020-05-02 , 2021-10-14'",
            "text/html": [
              "'2020-05-02 , 2021-10-14'"
            ]
          },
          "metadata": {}
        },
        {
          "output_type": "display_data",
          "data": {
            "text/plain": [
              "[1] 1411"
            ],
            "text/latex": "1411",
            "text/markdown": "1411",
            "text/html": [
              "1411"
            ]
          },
          "metadata": {}
        }
      ]
    },
    {
      "cell_type": "markdown",
      "metadata": {
        "id": "58JRE7G1BiI-"
      },
      "source": [
        "**Exploring r/wsb Data**"
      ]
    },
    {
      "cell_type": "code",
      "metadata": {
        "id": "ic6hb6D3BieQ",
        "outputId": "328cfccc-a4f5-450d-fabe-5793efa7e0e8",
        "colab": {
          "base_uri": "https://localhost:8080/",
          "height": 717
        }
      },
      "source": [
        "wsb.sentiment = read.csv(wsb.sentiment.path)\n",
        "wsb.sentiment$Date <- ymd(wsb.sentiment$Date)"
      ],
      "execution_count": 76,
      "outputs": [
        {
          "output_type": "display_data",
          "data": {
            "text/plain": [
              "   Date       Ticker Mentions Rank Sentiment \n",
              "1  2018-08-10 AA     1         53  -0.4019000\n",
              "2  2018-08-28 AA     1         60   0.2023000\n",
              "3  2018-09-07 AA     1         74   0.7184000\n",
              "4  2018-10-09 AA     1         84  -0.2732000\n",
              "5  2018-10-18 AA     1         90  -0.0516000\n",
              "6  2018-11-03 AA     2         36  -0.0772000\n",
              "7  2018-11-28 AA     1        119  -0.5267000\n",
              "8  2019-01-04 AA     1        144  -0.5859000\n",
              "9  2019-01-08 AA     1        105   0.2732000\n",
              "10 2019-01-10 AA     1         99   0.0000000\n",
              "11 2019-01-16 AA     5         37  -0.2084000\n",
              "12 2019-01-23 AA     1         96   0.0000000\n",
              "13 2019-01-24 AA     1        115   0.0000000\n",
              "14 2019-01-25 AA     1        138   0.7640000\n",
              "15 2019-02-01 AA     1        131   0.1531000\n",
              "16 2019-02-04 AA     1        115   0.0000000\n",
              "17 2019-02-28 AA     1        128  -0.0387000\n",
              "18 2019-03-08 AA     3         55   0.2400333\n",
              "19 2019-03-09 AA     1         65   0.2406000\n",
              "20 2019-03-10 AA     1         31   0.8201000"
            ],
            "text/latex": "A data.frame: 20 × 5\n\\begin{tabular}{r|lllll}\n  & Date & Ticker & Mentions & Rank & Sentiment\\\\\n  & <date> & <chr> & <int> & <int> & <dbl>\\\\\n\\hline\n\t1 & 2018-08-10 & AA & 1 &  53 & -0.4019000\\\\\n\t2 & 2018-08-28 & AA & 1 &  60 &  0.2023000\\\\\n\t3 & 2018-09-07 & AA & 1 &  74 &  0.7184000\\\\\n\t4 & 2018-10-09 & AA & 1 &  84 & -0.2732000\\\\\n\t5 & 2018-10-18 & AA & 1 &  90 & -0.0516000\\\\\n\t6 & 2018-11-03 & AA & 2 &  36 & -0.0772000\\\\\n\t7 & 2018-11-28 & AA & 1 & 119 & -0.5267000\\\\\n\t8 & 2019-01-04 & AA & 1 & 144 & -0.5859000\\\\\n\t9 & 2019-01-08 & AA & 1 & 105 &  0.2732000\\\\\n\t10 & 2019-01-10 & AA & 1 &  99 &  0.0000000\\\\\n\t11 & 2019-01-16 & AA & 5 &  37 & -0.2084000\\\\\n\t12 & 2019-01-23 & AA & 1 &  96 &  0.0000000\\\\\n\t13 & 2019-01-24 & AA & 1 & 115 &  0.0000000\\\\\n\t14 & 2019-01-25 & AA & 1 & 138 &  0.7640000\\\\\n\t15 & 2019-02-01 & AA & 1 & 131 &  0.1531000\\\\\n\t16 & 2019-02-04 & AA & 1 & 115 &  0.0000000\\\\\n\t17 & 2019-02-28 & AA & 1 & 128 & -0.0387000\\\\\n\t18 & 2019-03-08 & AA & 3 &  55 &  0.2400333\\\\\n\t19 & 2019-03-09 & AA & 1 &  65 &  0.2406000\\\\\n\t20 & 2019-03-10 & AA & 1 &  31 &  0.8201000\\\\\n\\end{tabular}\n",
            "text/markdown": "\nA data.frame: 20 × 5\n\n| <!--/--> | Date &lt;date&gt; | Ticker &lt;chr&gt; | Mentions &lt;int&gt; | Rank &lt;int&gt; | Sentiment &lt;dbl&gt; |\n|---|---|---|---|---|---|\n| 1 | 2018-08-10 | AA | 1 |  53 | -0.4019000 |\n| 2 | 2018-08-28 | AA | 1 |  60 |  0.2023000 |\n| 3 | 2018-09-07 | AA | 1 |  74 |  0.7184000 |\n| 4 | 2018-10-09 | AA | 1 |  84 | -0.2732000 |\n| 5 | 2018-10-18 | AA | 1 |  90 | -0.0516000 |\n| 6 | 2018-11-03 | AA | 2 |  36 | -0.0772000 |\n| 7 | 2018-11-28 | AA | 1 | 119 | -0.5267000 |\n| 8 | 2019-01-04 | AA | 1 | 144 | -0.5859000 |\n| 9 | 2019-01-08 | AA | 1 | 105 |  0.2732000 |\n| 10 | 2019-01-10 | AA | 1 |  99 |  0.0000000 |\n| 11 | 2019-01-16 | AA | 5 |  37 | -0.2084000 |\n| 12 | 2019-01-23 | AA | 1 |  96 |  0.0000000 |\n| 13 | 2019-01-24 | AA | 1 | 115 |  0.0000000 |\n| 14 | 2019-01-25 | AA | 1 | 138 |  0.7640000 |\n| 15 | 2019-02-01 | AA | 1 | 131 |  0.1531000 |\n| 16 | 2019-02-04 | AA | 1 | 115 |  0.0000000 |\n| 17 | 2019-02-28 | AA | 1 | 128 | -0.0387000 |\n| 18 | 2019-03-08 | AA | 3 |  55 |  0.2400333 |\n| 19 | 2019-03-09 | AA | 1 |  65 |  0.2406000 |\n| 20 | 2019-03-10 | AA | 1 |  31 |  0.8201000 |\n\n",
            "text/html": [
              "<table class=\"dataframe\">\n",
              "<caption>A data.frame: 20 × 5</caption>\n",
              "<thead>\n",
              "\t<tr><th></th><th scope=col>Date</th><th scope=col>Ticker</th><th scope=col>Mentions</th><th scope=col>Rank</th><th scope=col>Sentiment</th></tr>\n",
              "\t<tr><th></th><th scope=col>&lt;date&gt;</th><th scope=col>&lt;chr&gt;</th><th scope=col>&lt;int&gt;</th><th scope=col>&lt;int&gt;</th><th scope=col>&lt;dbl&gt;</th></tr>\n",
              "</thead>\n",
              "<tbody>\n",
              "\t<tr><th scope=row>1</th><td>2018-08-10</td><td>AA</td><td>1</td><td> 53</td><td>-0.4019000</td></tr>\n",
              "\t<tr><th scope=row>2</th><td>2018-08-28</td><td>AA</td><td>1</td><td> 60</td><td> 0.2023000</td></tr>\n",
              "\t<tr><th scope=row>3</th><td>2018-09-07</td><td>AA</td><td>1</td><td> 74</td><td> 0.7184000</td></tr>\n",
              "\t<tr><th scope=row>4</th><td>2018-10-09</td><td>AA</td><td>1</td><td> 84</td><td>-0.2732000</td></tr>\n",
              "\t<tr><th scope=row>5</th><td>2018-10-18</td><td>AA</td><td>1</td><td> 90</td><td>-0.0516000</td></tr>\n",
              "\t<tr><th scope=row>6</th><td>2018-11-03</td><td>AA</td><td>2</td><td> 36</td><td>-0.0772000</td></tr>\n",
              "\t<tr><th scope=row>7</th><td>2018-11-28</td><td>AA</td><td>1</td><td>119</td><td>-0.5267000</td></tr>\n",
              "\t<tr><th scope=row>8</th><td>2019-01-04</td><td>AA</td><td>1</td><td>144</td><td>-0.5859000</td></tr>\n",
              "\t<tr><th scope=row>9</th><td>2019-01-08</td><td>AA</td><td>1</td><td>105</td><td> 0.2732000</td></tr>\n",
              "\t<tr><th scope=row>10</th><td>2019-01-10</td><td>AA</td><td>1</td><td> 99</td><td> 0.0000000</td></tr>\n",
              "\t<tr><th scope=row>11</th><td>2019-01-16</td><td>AA</td><td>5</td><td> 37</td><td>-0.2084000</td></tr>\n",
              "\t<tr><th scope=row>12</th><td>2019-01-23</td><td>AA</td><td>1</td><td> 96</td><td> 0.0000000</td></tr>\n",
              "\t<tr><th scope=row>13</th><td>2019-01-24</td><td>AA</td><td>1</td><td>115</td><td> 0.0000000</td></tr>\n",
              "\t<tr><th scope=row>14</th><td>2019-01-25</td><td>AA</td><td>1</td><td>138</td><td> 0.7640000</td></tr>\n",
              "\t<tr><th scope=row>15</th><td>2019-02-01</td><td>AA</td><td>1</td><td>131</td><td> 0.1531000</td></tr>\n",
              "\t<tr><th scope=row>16</th><td>2019-02-04</td><td>AA</td><td>1</td><td>115</td><td> 0.0000000</td></tr>\n",
              "\t<tr><th scope=row>17</th><td>2019-02-28</td><td>AA</td><td>1</td><td>128</td><td>-0.0387000</td></tr>\n",
              "\t<tr><th scope=row>18</th><td>2019-03-08</td><td>AA</td><td>3</td><td> 55</td><td> 0.2400333</td></tr>\n",
              "\t<tr><th scope=row>19</th><td>2019-03-09</td><td>AA</td><td>1</td><td> 65</td><td> 0.2406000</td></tr>\n",
              "\t<tr><th scope=row>20</th><td>2019-03-10</td><td>AA</td><td>1</td><td> 31</td><td> 0.8201000</td></tr>\n",
              "</tbody>\n",
              "</table>\n"
            ]
          },
          "metadata": {}
        }
      ]
    },
    {
      "cell_type": "code",
      "metadata": {
        "id": "BfoDXP_zB-lW",
        "outputId": "02fbd8cc-ad62-4f0c-d735-c1e502c358c0",
        "colab": {
          "base_uri": "https://localhost:8080/",
          "height": 68
        }
      },
      "source": [
        "first = min(wsb.sentiment$Date)\n",
        "last = max(wsb.sentiment$Date)\n",
        "last - first\n",
        "paste(first, \",\", last)\n",
        "length(unique(wsb.sentiment$Ticker))"
      ],
      "execution_count": 77,
      "outputs": [
        {
          "output_type": "display_data",
          "data": {
            "text/plain": [
              "Time difference of 1177 days"
            ]
          },
          "metadata": {}
        },
        {
          "output_type": "display_data",
          "data": {
            "text/plain": [
              "[1] \"2018-08-01 , 2021-10-21\""
            ],
            "text/latex": "'2018-08-01 , 2021-10-21'",
            "text/markdown": "'2018-08-01 , 2021-10-21'",
            "text/html": [
              "'2018-08-01 , 2021-10-21'"
            ]
          },
          "metadata": {}
        },
        {
          "output_type": "display_data",
          "data": {
            "text/plain": [
              "[1] 1251"
            ],
            "text/latex": "1251",
            "text/markdown": "1251",
            "text/html": [
              "1251"
            ]
          },
          "metadata": {}
        }
      ]
    },
    {
      "cell_type": "markdown",
      "metadata": {
        "id": "xHYHSe0ICkqb"
      },
      "source": [
        "**Explore wikipedia pageviews**"
      ]
    },
    {
      "cell_type": "code",
      "metadata": {
        "id": "dQ85DKynCkYN"
      },
      "source": [
        "wiki.pageviews = read.csv(wiki.pageviews.path)\n",
        "wiki.pageviews$Date <- ymd(wiki.pageviews$Date)"
      ],
      "execution_count": 80,
      "outputs": []
    },
    {
      "cell_type": "code",
      "metadata": {
        "id": "Wtm__aj1DAmv",
        "outputId": "9ed45c78-1428-4993-ccc9-43198c670df9",
        "colab": {
          "base_uri": "https://localhost:8080/",
          "height": 68
        }
      },
      "source": [
        "first = min(wiki.pageviews$Date)\n",
        "last = max(wiki.pageviews$Date)\n",
        "last - first\n",
        "paste(first, \",\", last)\n",
        "length(unique(wiki.pageviews$Ticker))"
      ],
      "execution_count": 81,
      "outputs": [
        {
          "output_type": "display_data",
          "data": {
            "text/plain": [
              "Time difference of 1820 days"
            ]
          },
          "metadata": {}
        },
        {
          "output_type": "display_data",
          "data": {
            "text/plain": [
              "[1] \"2016-10-17 , 2021-10-11\""
            ],
            "text/latex": "'2016-10-17 , 2021-10-11'",
            "text/markdown": "'2016-10-17 , 2021-10-11'",
            "text/html": [
              "'2016-10-17 , 2021-10-11'"
            ]
          },
          "metadata": {}
        },
        {
          "output_type": "display_data",
          "data": {
            "text/plain": [
              "[1] 954"
            ],
            "text/latex": "954",
            "text/markdown": "954",
            "text/html": [
              "954"
            ]
          },
          "metadata": {}
        }
      ]
    }
  ]
}