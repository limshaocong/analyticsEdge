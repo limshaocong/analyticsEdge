{
  "nbformat": 4,
  "nbformat_minor": 0,
  "metadata": {
    "colab": {
      "name": "FAANG Volume Prediction.ipynb",
      "provenance": [],
      "collapsed_sections": [
        "re0kLUG1aPQN"
      ],
      "authorship_tag": "ABX9TyNlrmvlxYGbOhlGSzwtWZd0",
      "include_colab_link": true
    },
    "kernelspec": {
      "name": "ir",
      "display_name": "R"
    },
    "language_info": {
      "name": "R"
    }
  },
  "cells": [
    {
      "cell_type": "markdown",
      "metadata": {
        "id": "view-in-github",
        "colab_type": "text"
      },
      "source": [
        "<a href=\"https://colab.research.google.com/github/limshaocong/analyticsEdge/blob/main/FAANG_Volume_Prediction_caa%2029Nov21.ipynb\" target=\"_parent\"><img src=\"https://colab.research.google.com/assets/colab-badge.svg\" alt=\"Open In Colab\"/></a>"
      ]
    },
    {
      "cell_type": "markdown",
      "metadata": {
        "id": "FG9fd9ROT2LV"
      },
      "source": [
        "# **Preliminaries**"
      ]
    },
    {
      "cell_type": "code",
      "metadata": {
        "id": "cALQFUXPSRWz",
        "colab": {
          "base_uri": "https://localhost:8080/"
        },
        "outputId": "467cbaa2-8f98-4828-b010-481959e9bb6f"
      },
      "source": [
        "suppressMessages(library(tidyverse)) # generic must have package\n",
        "suppressMessages(library(dplyr))\n",
        "suppressMessages(library(ggplot2)) # plotting package\n",
        "suppressMessages(library(lubridate)) # easy comprehension of dates from string to correct datetime format\n",
        "suppressMessages(library(data.table))\n",
        "suppressMessages(library(purrr)) # reduce\n",
        "if(\"patchwork\" %in% rownames(installed.packages()) == FALSE) {install.packages(\"patchwork\")}\n",
        "suppressMessages(library(patchwork))\n",
        "if(\"caret\" %in% rownames(installed.packages()) == FALSE) {install.packages(\"caret\")}\n",
        "suppressMessages(library(caret))\n",
        "\n",
        "options(repr.plot.width = 10,\n",
        "        repr.plot.height = 9,\n",
        "        repr.plot.pointsize = 20)"
      ],
      "execution_count": 1,
      "outputs": [
        {
          "output_type": "stream",
          "name": "stderr",
          "text": [
            "Warning message in system(\"timedatectl\", intern = TRUE):\n",
            "“running command 'timedatectl' had status 1”\n",
            "Installing package into ‘/usr/local/lib/R/site-library’\n",
            "(as ‘lib’ is unspecified)\n",
            "\n",
            "Installing package into ‘/usr/local/lib/R/site-library’\n",
            "(as ‘lib’ is unspecified)\n",
            "\n",
            "also installing the dependencies ‘listenv’, ‘parallelly’, ‘future’, ‘globals’, ‘future.apply’, ‘progressr’, ‘numDeriv’, ‘SQUAREM’, ‘lava’, ‘prodlim’, ‘proxy’, ‘iterators’, ‘gower’, ‘ipred’, ‘timeDate’, ‘e1071’, ‘foreach’, ‘ModelMetrics’, ‘plyr’, ‘pROC’, ‘recipes’, ‘reshape2’\n",
            "\n",
            "\n"
          ]
        }
      ]
    },
    {
      "cell_type": "markdown",
      "metadata": {
        "id": "kb4Q2CZ2T-Hl"
      },
      "source": [
        "Import data and check for any NA within the file"
      ]
    },
    {
      "cell_type": "code",
      "metadata": {
        "id": "RxrUXYyWScZU",
        "colab": {
          "base_uri": "https://localhost:8080/"
        },
        "outputId": "885031d3-3ace-46c2-d45c-6e2be4556c8a"
      },
      "source": [
        "path = \"https://raw.githubusercontent.com/limshaocong/analyticsEdge/main/Datasets/FAANG/altdata.csv\"\n",
        "df = read.csv(path) %>% mutate(date = ymd(date)) %>% select(- open, - close, - high, - low)\n",
        "\n",
        "if (dim(df)[1] == dim(na.omit(df))[1]) {\n",
        "  print(\"No missing data.\")\n",
        "} else {\n",
        "  print(\"Missing data\")\n",
        "}"
      ],
      "execution_count": 2,
      "outputs": [
        {
          "output_type": "stream",
          "name": "stdout",
          "text": [
            "[1] \"No missing data.\"\n"
          ]
        }
      ]
    },
    {
      "cell_type": "markdown",
      "metadata": {
        "id": "nta6GvSXUg4L"
      },
      "source": [
        "# **Exploratory Analysis**"
      ]
    },
    {
      "cell_type": "markdown",
      "metadata": {
        "id": "RkWg0bVmUEfY"
      },
      "source": [
        "Overview of Data"
      ]
    },
    {
      "cell_type": "code",
      "metadata": {
        "id": "34ebE0sfUJ26",
        "colab": {
          "base_uri": "https://localhost:8080/",
          "height": 361
        },
        "outputId": "d99a3ab5-b994-4b4e-ee3f-a93773e31677"
      },
      "source": [
        "head(df, 5)"
      ],
      "execution_count": 3,
      "outputs": [
        {
          "output_type": "display_data",
          "data": {
            "text/plain": [
              "  date       ticker vol      newssentiment newsmentions twtrmentions\n",
              "1 2019-01-08 FB     26252863 63.0          2            569         \n",
              "2 2019-01-09 FB     22203279 50.0          0            489         \n",
              "3 2019-01-10 FB     16111304 50.5          2            464         \n",
              "4 2019-01-11 FB     12907031 50.0          0            368         \n",
              "5 2019-01-14 FB     20515678 50.0          0            399         \n",
              "  twtrsentiment wsbsentiment wsbmentions retailvol ⋯ twtrmentions5MA\n",
              "1 0.26889279     0.3528667   1           11163579  ⋯ 473.6          \n",
              "2 0.09406953    -0.3818000   1            9658300  ⋯ 461.0          \n",
              "3 0.17456897     0.3246000   1            6779001  ⋯ 457.8          \n",
              "4 0.17663043    -0.0799400   1            5398647  ⋯ 467.2          \n",
              "5 0.23809524    -0.1558800   1            9170878  ⋯ 462.0          \n",
              "  wsbmentions5MA newsmentions5MA twtrmentions10MA wsbmentions10MA\n",
              "1 1              0.8             487.8            1              \n",
              "2 1              0.8             473.5            1              \n",
              "3 1              0.8             469.0            1              \n",
              "4 1              0.4             487.2            1              \n",
              "5 1              0.4             495.3            1              \n",
              "  newsmentions10MA retailvollag1 retailvollag2 retailvollag4 target \n",
              "1 0.6              11163579      10410940      8964350       9658300\n",
              "2 0.4               9658300       8218650      8249882       6779001\n",
              "3 0.5               6779001       6088824      7751706       5398647\n",
              "4 0.6               5398647       7284762      7707233       9170878\n",
              "5 0.6               9170878       9325642      7777200       9480406"
            ],
            "text/latex": "A data.frame: 5 × 40\n\\begin{tabular}{r|lllllllllllllllllllll}\n  & date & ticker & vol & newssentiment & newsmentions & twtrmentions & twtrsentiment & wsbsentiment & wsbmentions & retailvol & ⋯ & twtrmentions5MA & wsbmentions5MA & newsmentions5MA & twtrmentions10MA & wsbmentions10MA & newsmentions10MA & retailvollag1 & retailvollag2 & retailvollag4 & target\\\\\n  & <date> & <chr> & <int> & <dbl> & <int> & <int> & <dbl> & <dbl> & <int> & <int> & ⋯ & <dbl> & <dbl> & <dbl> & <dbl> & <dbl> & <dbl> & <int> & <dbl> & <dbl> & <int>\\\\\n\\hline\n\t1 & 2019-01-08 & FB & 26252863 & 63.0 & 2 & 569 & 0.26889279 &  0.3528667 & 1 & 11163579 & ⋯ & 473.6 & 1 & 0.8 & 487.8 & 1 & 0.6 & 11163579 & 10410940 & 8964350 & 9658300\\\\\n\t2 & 2019-01-09 & FB & 22203279 & 50.0 & 0 & 489 & 0.09406953 & -0.3818000 & 1 &  9658300 & ⋯ & 461.0 & 1 & 0.8 & 473.5 & 1 & 0.4 &  9658300 &  8218650 & 8249882 & 6779001\\\\\n\t3 & 2019-01-10 & FB & 16111304 & 50.5 & 2 & 464 & 0.17456897 &  0.3246000 & 1 &  6779001 & ⋯ & 457.8 & 1 & 0.8 & 469.0 & 1 & 0.5 &  6779001 &  6088824 & 7751706 & 5398647\\\\\n\t4 & 2019-01-11 & FB & 12907031 & 50.0 & 0 & 368 & 0.17663043 & -0.0799400 & 1 &  5398647 & ⋯ & 467.2 & 1 & 0.4 & 487.2 & 1 & 0.6 &  5398647 &  7284762 & 7707233 & 9170878\\\\\n\t5 & 2019-01-14 & FB & 20515678 & 50.0 & 0 & 399 & 0.23809524 & -0.1558800 & 1 &  9170878 & ⋯ & 462.0 & 1 & 0.4 & 495.3 & 1 & 0.6 &  9170878 &  9325642 & 7777200 & 9480406\\\\\n\\end{tabular}\n",
            "text/markdown": "\nA data.frame: 5 × 40\n\n| <!--/--> | date &lt;date&gt; | ticker &lt;chr&gt; | vol &lt;int&gt; | newssentiment &lt;dbl&gt; | newsmentions &lt;int&gt; | twtrmentions &lt;int&gt; | twtrsentiment &lt;dbl&gt; | wsbsentiment &lt;dbl&gt; | wsbmentions &lt;int&gt; | retailvol &lt;int&gt; | ⋯ ⋯ | twtrmentions5MA &lt;dbl&gt; | wsbmentions5MA &lt;dbl&gt; | newsmentions5MA &lt;dbl&gt; | twtrmentions10MA &lt;dbl&gt; | wsbmentions10MA &lt;dbl&gt; | newsmentions10MA &lt;dbl&gt; | retailvollag1 &lt;int&gt; | retailvollag2 &lt;dbl&gt; | retailvollag4 &lt;dbl&gt; | target &lt;int&gt; |\n|---|---|---|---|---|---|---|---|---|---|---|---|---|---|---|---|---|---|---|---|---|---|\n| 1 | 2019-01-08 | FB | 26252863 | 63.0 | 2 | 569 | 0.26889279 |  0.3528667 | 1 | 11163579 | ⋯ | 473.6 | 1 | 0.8 | 487.8 | 1 | 0.6 | 11163579 | 10410940 | 8964350 | 9658300 |\n| 2 | 2019-01-09 | FB | 22203279 | 50.0 | 0 | 489 | 0.09406953 | -0.3818000 | 1 |  9658300 | ⋯ | 461.0 | 1 | 0.8 | 473.5 | 1 | 0.4 |  9658300 |  8218650 | 8249882 | 6779001 |\n| 3 | 2019-01-10 | FB | 16111304 | 50.5 | 2 | 464 | 0.17456897 |  0.3246000 | 1 |  6779001 | ⋯ | 457.8 | 1 | 0.8 | 469.0 | 1 | 0.5 |  6779001 |  6088824 | 7751706 | 5398647 |\n| 4 | 2019-01-11 | FB | 12907031 | 50.0 | 0 | 368 | 0.17663043 | -0.0799400 | 1 |  5398647 | ⋯ | 467.2 | 1 | 0.4 | 487.2 | 1 | 0.6 |  5398647 |  7284762 | 7707233 | 9170878 |\n| 5 | 2019-01-14 | FB | 20515678 | 50.0 | 0 | 399 | 0.23809524 | -0.1558800 | 1 |  9170878 | ⋯ | 462.0 | 1 | 0.4 | 495.3 | 1 | 0.6 |  9170878 |  9325642 | 7777200 | 9480406 |\n\n",
            "text/html": [
              "<table class=\"dataframe\">\n",
              "<caption>A data.frame: 5 × 40</caption>\n",
              "<thead>\n",
              "\t<tr><th></th><th scope=col>date</th><th scope=col>ticker</th><th scope=col>vol</th><th scope=col>newssentiment</th><th scope=col>newsmentions</th><th scope=col>twtrmentions</th><th scope=col>twtrsentiment</th><th scope=col>wsbsentiment</th><th scope=col>wsbmentions</th><th scope=col>retailvol</th><th scope=col>⋯</th><th scope=col>twtrmentions5MA</th><th scope=col>wsbmentions5MA</th><th scope=col>newsmentions5MA</th><th scope=col>twtrmentions10MA</th><th scope=col>wsbmentions10MA</th><th scope=col>newsmentions10MA</th><th scope=col>retailvollag1</th><th scope=col>retailvollag2</th><th scope=col>retailvollag4</th><th scope=col>target</th></tr>\n",
              "\t<tr><th></th><th scope=col>&lt;date&gt;</th><th scope=col>&lt;chr&gt;</th><th scope=col>&lt;int&gt;</th><th scope=col>&lt;dbl&gt;</th><th scope=col>&lt;int&gt;</th><th scope=col>&lt;int&gt;</th><th scope=col>&lt;dbl&gt;</th><th scope=col>&lt;dbl&gt;</th><th scope=col>&lt;int&gt;</th><th scope=col>&lt;int&gt;</th><th scope=col>⋯</th><th scope=col>&lt;dbl&gt;</th><th scope=col>&lt;dbl&gt;</th><th scope=col>&lt;dbl&gt;</th><th scope=col>&lt;dbl&gt;</th><th scope=col>&lt;dbl&gt;</th><th scope=col>&lt;dbl&gt;</th><th scope=col>&lt;int&gt;</th><th scope=col>&lt;dbl&gt;</th><th scope=col>&lt;dbl&gt;</th><th scope=col>&lt;int&gt;</th></tr>\n",
              "</thead>\n",
              "<tbody>\n",
              "\t<tr><th scope=row>1</th><td>2019-01-08</td><td>FB</td><td>26252863</td><td>63.0</td><td>2</td><td>569</td><td>0.26889279</td><td> 0.3528667</td><td>1</td><td>11163579</td><td>⋯</td><td>473.6</td><td>1</td><td>0.8</td><td>487.8</td><td>1</td><td>0.6</td><td>11163579</td><td>10410940</td><td>8964350</td><td>9658300</td></tr>\n",
              "\t<tr><th scope=row>2</th><td>2019-01-09</td><td>FB</td><td>22203279</td><td>50.0</td><td>0</td><td>489</td><td>0.09406953</td><td>-0.3818000</td><td>1</td><td> 9658300</td><td>⋯</td><td>461.0</td><td>1</td><td>0.8</td><td>473.5</td><td>1</td><td>0.4</td><td> 9658300</td><td> 8218650</td><td>8249882</td><td>6779001</td></tr>\n",
              "\t<tr><th scope=row>3</th><td>2019-01-10</td><td>FB</td><td>16111304</td><td>50.5</td><td>2</td><td>464</td><td>0.17456897</td><td> 0.3246000</td><td>1</td><td> 6779001</td><td>⋯</td><td>457.8</td><td>1</td><td>0.8</td><td>469.0</td><td>1</td><td>0.5</td><td> 6779001</td><td> 6088824</td><td>7751706</td><td>5398647</td></tr>\n",
              "\t<tr><th scope=row>4</th><td>2019-01-11</td><td>FB</td><td>12907031</td><td>50.0</td><td>0</td><td>368</td><td>0.17663043</td><td>-0.0799400</td><td>1</td><td> 5398647</td><td>⋯</td><td>467.2</td><td>1</td><td>0.4</td><td>487.2</td><td>1</td><td>0.6</td><td> 5398647</td><td> 7284762</td><td>7707233</td><td>9170878</td></tr>\n",
              "\t<tr><th scope=row>5</th><td>2019-01-14</td><td>FB</td><td>20515678</td><td>50.0</td><td>0</td><td>399</td><td>0.23809524</td><td>-0.1558800</td><td>1</td><td> 9170878</td><td>⋯</td><td>462.0</td><td>1</td><td>0.4</td><td>495.3</td><td>1</td><td>0.6</td><td> 9170878</td><td> 9325642</td><td>7777200</td><td>9480406</td></tr>\n",
              "</tbody>\n",
              "</table>\n"
            ]
          },
          "metadata": {}
        }
      ]
    },
    {
      "cell_type": "code",
      "metadata": {
        "colab": {
          "base_uri": "https://localhost:8080/"
        },
        "id": "umXIuK1pa0kG",
        "outputId": "710433ee-5d41-4e36-fcc7-12741bd20c0e"
      },
      "source": [
        "str(df)"
      ],
      "execution_count": 4,
      "outputs": [
        {
          "output_type": "stream",
          "name": "stdout",
          "text": [
            "'data.frame':\t3310 obs. of  40 variables:\n",
            " $ date             : Date, format: \"2019-01-08\" \"2019-01-09\" ...\n",
            " $ ticker           : chr  \"FB\" \"FB\" \"FB\" \"FB\" ...\n",
            " $ vol              : int  26252863 22203279 16111304 12907031 20515678 24065513 18060414 15787914 32309412 22393694 ...\n",
            " $ newssentiment    : num  63 50 50.5 50 50 50 50 37 40 50 ...\n",
            " $ newsmentions     : int  2 0 2 0 0 0 0 1 1 0 ...\n",
            " $ twtrmentions     : int  569 489 464 368 399 616 463 476 613 496 ...\n",
            " $ twtrsentiment    : num  0.2689 0.0941 0.1746 0.1766 0.2381 ...\n",
            " $ wsbsentiment     : num  0.3529 -0.3818 0.3246 -0.0799 -0.1559 ...\n",
            " $ wsbmentions      : int  1 1 1 1 1 1 1 1 1 1 ...\n",
            " $ retailvol        : int  11163579 9658300 6779001 5398647 9170878 9480406 7058870 5805217 11946377 8903335 ...\n",
            " $ instvol          : int  15100214 12547579 9346003 7509384 11349400 14588416 10966844 9982697 19083235 13475359 ...\n",
            " $ retailperc       : num  0.425 0.435 0.42 0.418 0.447 ...\n",
            " $ newssentimentlag1: num  50 63 50 50.5 50 50 50 50 37 40 ...\n",
            " $ newsmentionslag1 : int  0 2 0 2 0 0 0 0 1 1 ...\n",
            " $ twtrmentionslag1 : int  415 569 489 464 368 399 616 463 476 613 ...\n",
            " $ twtrsentimentlag1: num  0.2024 0.2689 0.0941 0.1746 0.1766 ...\n",
            " $ wsbsentimentlag1 : num  -0.2222 0.3529 -0.3818 0.3246 -0.0799 ...\n",
            " $ wsbmentionslag1  : int  1 1 1 1 1 1 1 1 1 1 ...\n",
            " $ newssentimentlag2: num  50 50 63 50 50.5 50 50 50 50 37 ...\n",
            " $ newsmentionslag2 : int  0 0 2 0 2 0 0 0 0 1 ...\n",
            " $ twtrmentionslag2 : int  431 415 569 489 464 368 399 616 463 476 ...\n",
            " $ twtrsentimentlag2: num  0.058 0.2024 0.2689 0.0941 0.1746 ...\n",
            " $ wsbsentimentlag2 : num  -0.0623 -0.2222 0.3529 -0.3818 0.3246 ...\n",
            " $ wsbmentionslag2  : int  1 1 1 1 1 1 1 1 1 1 ...\n",
            " $ newssentimentlag4: num  50 50 50 50 63 50 50.5 50 50 50 ...\n",
            " $ newsmentionslag4 : int  2 0 0 0 2 0 2 0 0 0 ...\n",
            " $ twtrmentionslag4 : int  606 521 431 415 569 489 464 368 399 616 ...\n",
            " $ twtrsentimentlag4: num  0.1172 0.0307 0.058 0.2024 0.2689 ...\n",
            " $ wsbsentimentlag4 : num  0.1815 -0.1377 -0.0623 -0.2222 0.3529 ...\n",
            " $ wsbmentionslag4  : int  1 1 1 1 1 1 1 1 1 1 ...\n",
            " $ twtrmentions5MA  : num  474 461 458 467 462 ...\n",
            " $ wsbmentions5MA   : num  1 1 1 1 1 1 1 1 1 1 ...\n",
            " $ newsmentions5MA  : num  0.8 0.8 0.8 0.4 0.4 0.2 0.4 0.4 0.6 1.2 ...\n",
            " $ twtrmentions10MA : num  488 474 469 487 495 ...\n",
            " $ wsbmentions10MA  : num  1 1 1 1 1 1 1 1 1 1 ...\n",
            " $ newsmentions10MA : num  0.6 0.4 0.5 0.6 0.6 0.5 0.8 0.6 0.8 1.1 ...\n",
            " $ retailvollag1    : int  11163579 9658300 6779001 5398647 9170878 9480406 7058870 5805217 11946377 8903335 ...\n",
            " $ retailvollag2    : num  10410940 8218650 6088824 7284762 9325642 ...\n",
            " $ retailvollag4    : num  8964350 8249882 7751706 7707233 7777200 ...\n",
            " $ target           : int  9658300 6779001 5398647 9170878 9480406 7058870 5805217 11946377 8903335 7344744 ...\n"
          ]
        }
      ]
    },
    {
      "cell_type": "markdown",
      "metadata": {
        "id": "1wOvv24EUY8F"
      },
      "source": [
        "662 trading days worth of training data from Jan 8, 2019 to Aug 30, 2021."
      ]
    },
    {
      "cell_type": "code",
      "metadata": {
        "id": "Jc7NYXaOUMIZ",
        "colab": {
          "base_uri": "https://localhost:8080/",
          "height": 254
        },
        "outputId": "b04dc697-1066-4e84-d3be-cb1d80fdfe7c"
      },
      "source": [
        "df %>%\n",
        "  group_by(ticker) %>%\n",
        "  summarise(n())"
      ],
      "execution_count": 5,
      "outputs": [
        {
          "output_type": "display_data",
          "data": {
            "text/plain": [
              "  ticker n()\n",
              "1 AAPL   662\n",
              "2 AMZN   662\n",
              "3 FB     662\n",
              "4 GOOGL  662\n",
              "5 NFLX   662"
            ],
            "text/latex": "A tibble: 5 × 2\n\\begin{tabular}{ll}\n ticker & n()\\\\\n <chr> & <int>\\\\\n\\hline\n\t AAPL  & 662\\\\\n\t AMZN  & 662\\\\\n\t FB    & 662\\\\\n\t GOOGL & 662\\\\\n\t NFLX  & 662\\\\\n\\end{tabular}\n",
            "text/markdown": "\nA tibble: 5 × 2\n\n| ticker &lt;chr&gt; | n() &lt;int&gt; |\n|---|---|\n| AAPL  | 662 |\n| AMZN  | 662 |\n| FB    | 662 |\n| GOOGL | 662 |\n| NFLX  | 662 |\n\n",
            "text/html": [
              "<table class=\"dataframe\">\n",
              "<caption>A tibble: 5 × 2</caption>\n",
              "<thead>\n",
              "\t<tr><th scope=col>ticker</th><th scope=col>n()</th></tr>\n",
              "\t<tr><th scope=col>&lt;chr&gt;</th><th scope=col>&lt;int&gt;</th></tr>\n",
              "</thead>\n",
              "<tbody>\n",
              "\t<tr><td>AAPL </td><td>662</td></tr>\n",
              "\t<tr><td>AMZN </td><td>662</td></tr>\n",
              "\t<tr><td>FB   </td><td>662</td></tr>\n",
              "\t<tr><td>GOOGL</td><td>662</td></tr>\n",
              "\t<tr><td>NFLX </td><td>662</td></tr>\n",
              "</tbody>\n",
              "</table>\n"
            ]
          },
          "metadata": {}
        }
      ]
    },
    {
      "cell_type": "markdown",
      "metadata": {
        "id": "re0kLUG1aPQN"
      },
      "source": [
        "# **Data Preparation**"
      ]
    },
    {
      "cell_type": "markdown",
      "metadata": {
        "id": "gz-fVbpKbSe9"
      },
      "source": [
        "Train-test split"
      ]
    },
    {
      "cell_type": "code",
      "metadata": {
        "id": "FzUiyc3naO72",
        "colab": {
          "base_uri": "https://localhost:8080/",
          "height": 34
        },
        "outputId": "036cb9fb-b410-4432-d17a-e903cd99a492"
      },
      "source": [
        "split = as.Date(\"2020-11-24\")\n",
        "\n",
        "# Train-test split\n",
        "train = df %>% filter(date < split)\n",
        "test = df %>% filter(date >= split)\n",
        "\n",
        "train_days = dim(train)[1]/5\n",
        "test_days = dim(test)[1]/5\n",
        "\n",
        "train_prop = train_days / (train_days + test_days)\n",
        "\n",
        "paste0(\"Training data proportion: \", round(train_prop * 100, 1), \"%. Total training days = \", train_days)"
      ],
      "execution_count": 6,
      "outputs": [
        {
          "output_type": "display_data",
          "data": {
            "text/plain": [
              "[1] \"Training data proportion: 71.8%. Total training days = 475\""
            ],
            "text/latex": "'Training data proportion: 71.8\\%. Total training days = 475'",
            "text/markdown": "'Training data proportion: 71.8%. Total training days = 475'",
            "text/html": [
              "'Training data proportion: 71.8%. Total training days = 475'"
            ]
          },
          "metadata": {}
        }
      ]
    },
    {
      "cell_type": "markdown",
      "metadata": {
        "id": "VV8sndrrdZ6R"
      },
      "source": [
        "Train-validate Split - as normal k-fold CV does not work on time series, an expanding window approach is used (see Section 4.3 of https://topepo.github.io/caret/data-splitting.html#time). With these parameters, CV-error will be run on 5 different validation sets."
      ]
    },
    {
      "cell_type": "code",
      "metadata": {
        "id": "E00-DFtJbbxi",
        "colab": {
          "base_uri": "https://localhost:8080/",
          "height": 114
        },
        "outputId": "80404330-4dae-4889-c4c2-cbad96bace32"
      },
      "source": [
        "index = 1:train_days\n",
        "slices = createTimeSlices(index, initialWindow = 230, horizon = 100, fixedWindow = FALSE, skip = 28)\n",
        "\n",
        "trainslices = slices[[1]] # specific slices callable by df[trainslices[[i]],]\n",
        "testslices = slices[[2]]\n",
        "\n",
        "lapply(slices, length)"
      ],
      "execution_count": 7,
      "outputs": [
        {
          "output_type": "display_data",
          "data": {
            "text/plain": [
              "$train\n",
              "[1] 6\n",
              "\n",
              "$test\n",
              "[1] 6\n"
            ],
            "text/latex": "\\begin{description}\n\\item[\\$train] 6\n\\item[\\$test] 6\n\\end{description}\n",
            "text/markdown": "$train\n:   6\n$test\n:   6\n\n\n",
            "text/html": [
              "<dl>\n",
              "\t<dt>$train</dt>\n",
              "\t\t<dd>6</dd>\n",
              "\t<dt>$test</dt>\n",
              "\t\t<dd>6</dd>\n",
              "</dl>\n"
            ]
          },
          "metadata": {}
        }
      ]
    },
    {
      "cell_type": "code",
      "metadata": {
        "colab": {
          "base_uri": "https://localhost:8080/"
        },
        "id": "60-GzaA4Qghx",
        "outputId": "2ef702fe-e1e7-4850-b860-c8f4a5377b59"
      },
      "source": [
        "for (fold in 1:6) {\n",
        "  trainN = length(slices$train[[fold]])\n",
        "  testN = length(slices$test[[fold]])\n",
        "  trainperc = round(trainN / (trainN + testN), 2) * 100\n",
        "\n",
        "  print(paste0(\"Fold \", fold, \": \", trainN, \" train data. 100 test data. \", trainperc, \"%\"))\n",
        "}"
      ],
      "execution_count": 8,
      "outputs": [
        {
          "output_type": "stream",
          "name": "stdout",
          "text": [
            "[1] \"Fold 1: 230 train data. 100 test data. 70%\"\n",
            "[1] \"Fold 2: 259 train data. 100 test data. 72%\"\n",
            "[1] \"Fold 3: 288 train data. 100 test data. 74%\"\n",
            "[1] \"Fold 4: 317 train data. 100 test data. 76%\"\n",
            "[1] \"Fold 5: 346 train data. 100 test data. 78%\"\n",
            "[1] \"Fold 6: 375 train data. 100 test data. 79%\"\n"
          ]
        }
      ]
    },
    {
      "cell_type": "code",
      "metadata": {
        "id": "rlDdwgfEPJ8c"
      },
      "source": [
        "#slices$train\n",
        "#slices$test"
      ],
      "execution_count": 9,
      "outputs": []
    },
    {
      "cell_type": "markdown",
      "metadata": {
        "id": "ak39HF9cf3lu"
      },
      "source": [
        "# **Model Building**"
      ]
    },
    {
      "cell_type": "code",
      "metadata": {
        "id": "ny598aAsf3EB",
        "colab": {
          "base_uri": "https://localhost:8080/"
        },
        "outputId": "71079661-2864-4612-d8e7-b8bb6aea8a6d"
      },
      "source": [
        "if(\"Metrics\" %in% rownames(installed.packages()) == FALSE) {install.packages(\"Metrics\")}\n",
        "suppressMessages(library(Metrics))\n",
        "if(\"randomForest\" %in% rownames(installed.packages()) == FALSE) {install.packages(\"randomForest\")}\n",
        "suppressMessages(library(randomForest))\n",
        "if(\"xgboost\" %in% rownames(installed.packages()) == FALSE) {install.packages(\"xgboost\")}\n",
        "library(xgboost)\n",
        "if(\"zoo\" %in% rownames(installed.packages()) == FALSE) {install.packages(\"zoo\")}\n",
        "library(zoo) # rolling mean"
      ],
      "execution_count": 10,
      "outputs": [
        {
          "output_type": "stream",
          "name": "stderr",
          "text": [
            "Installing package into ‘/usr/local/lib/R/site-library’\n",
            "(as ‘lib’ is unspecified)\n",
            "\n",
            "Installing package into ‘/usr/local/lib/R/site-library’\n",
            "(as ‘lib’ is unspecified)\n",
            "\n",
            "Installing package into ‘/usr/local/lib/R/site-library’\n",
            "(as ‘lib’ is unspecified)\n",
            "\n",
            "\n",
            "Attaching package: ‘xgboost’\n",
            "\n",
            "\n",
            "The following object is masked from ‘package:dplyr’:\n",
            "\n",
            "    slice\n",
            "\n",
            "\n",
            "Installing package into ‘/usr/local/lib/R/site-library’\n",
            "(as ‘lib’ is unspecified)\n",
            "\n",
            "\n",
            "Attaching package: ‘zoo’\n",
            "\n",
            "\n",
            "The following objects are masked from ‘package:base’:\n",
            "\n",
            "    as.Date, as.Date.numeric\n",
            "\n",
            "\n"
          ]
        }
      ]
    },
    {
      "cell_type": "markdown",
      "metadata": {
        "id": "TUTeSnGDT77V"
      },
      "source": [
        "## **Naive Model**"
      ]
    },
    {
      "cell_type": "markdown",
      "metadata": {
        "id": "F6VrkM62H7b1"
      },
      "source": [
        "To assess what is the best naive model to provide a baseline prediction, create a function to test what type of MA performs best."
      ]
    },
    {
      "cell_type": "code",
      "metadata": {
        "id": "uE-qeknbTmue"
      },
      "source": [
        "# Naive model using MA\n",
        "\n",
        "run_naive = function(x, MAdays) {\n",
        "\n",
        "  # Create target variable based on given MA days\n",
        "  naive = df %>%\n",
        "    filter(ticker == x) %>%\n",
        "    mutate(volMA = rollmean(vol, align = \"right\", k = MAdays, fill = NA)) %>%\n",
        "    select(date, ticker, target, volMA)\n",
        "\n",
        "  # Store the errors for each of the 7 folds\n",
        "  cvrmse = list()\n",
        "  cvmae = list()\n",
        "\n",
        "  for (i in 1:6) {\n",
        "    \n",
        "    validate = naive[testslices[[i]],]\n",
        "    cvrmse[i] = rmse(validate$target, validate$volMA)\n",
        "    cvmae[i] = mae(validate$target, validate$volMA)\n",
        "\n",
        "  }\n",
        "\n",
        "  # Compute aggregated statistics\n",
        "  output = list()\n",
        "  output[[\"ticker\"]] = x\n",
        "  output[[\"RMSE\"]] = mean(unlist(cvrmse))\n",
        "  output[[\"RMSESD\"]] = sd(unlist(cvrmse))\n",
        "  output[[\"MAE\"]] = mean(unlist(cvmae))\n",
        "  output[[\"MAESD\"]] = sd(unlist(cvmae))\n",
        "\n",
        "  output = output\n",
        "\n",
        "}"
      ],
      "execution_count": 87,
      "outputs": []
    },
    {
      "cell_type": "markdown",
      "metadata": {
        "id": "nEQI2Zy6IPjH"
      },
      "source": [
        "The results indicate that using the maximum possible MA of 230 days provides the lowest error."
      ]
    },
    {
      "cell_type": "code",
      "metadata": {
        "colab": {
          "base_uri": "https://localhost:8080/"
        },
        "id": "7FWvzPs0AtUc",
        "outputId": "3a15286d-57c8-4ebf-9b0f-0207de971363"
      },
      "source": [
        "tickers = list(\"FB\", \"AAPL\", \"AMZN\", \"NFLX\", \"GOOGL\")\n",
        "\n",
        "for (x in tickers) {\n",
        "\n",
        "  n1 = run_naive(x, 1)\n",
        "  n50 = run_naive(x, 50)\n",
        "  n150 = run_naive(x, 150)\n",
        "  n200 = run_naive(x, 200)\n",
        "  n230 = run_naive(x, 230)\n",
        "\n",
        "  ntotal = rbind(n1, n50, n150, n200, n230) \n",
        "\n",
        "  print(ntotal)\n",
        "\n",
        "}"
      ],
      "execution_count": 88,
      "outputs": [
        {
          "output_type": "stream",
          "name": "stdout",
          "text": [
            "     ticker RMSE     RMSESD  MAE      MAESD  \n",
            "n1   \"FB\"   15973783 1103528 13552685 1053109\n",
            "n50  \"FB\"   13509548 2119832 12840121 2164882\n",
            "n150 \"FB\"   10747364 2901855 10076131 2911848\n",
            "n200 \"FB\"   9765942  2166245 9118983  2168498\n",
            "n230 \"FB\"   9413647  1697247 8769982  1704406\n",
            "     ticker RMSE      RMSESD   MAE      MAESD   \n",
            "n1   \"AAPL\" 101912633 12208016 87608934 9790274 \n",
            "n50  \"AAPL\" 95248407  11791089 86847804 11671075\n",
            "n150 \"AAPL\" 78262677  16119361 72656136 17054052\n",
            "n200 \"AAPL\" 70461889  14096086 65074991 14511175\n",
            "n230 \"AAPL\" 66400556  12267754 61186562 12501870\n",
            "     ticker RMSE    RMSESD   MAE     MAESD   \n",
            "n1   \"AMZN\" 3424935 309839   3021463 195775  \n",
            "n50  \"AMZN\" 3071119 356491.2 2878729 346459.6\n",
            "n150 \"AMZN\" 2585648 564070.1 2447764 610300.2\n",
            "n200 \"AMZN\" 2356100 415677   2216469 457885  \n",
            "n230 \"AMZN\" 2268850 306187   2129738 345349  \n",
            "     ticker RMSE    RMSESD   MAE     MAESD   \n",
            "n1   \"NFLX\" 5294691 342643.4 4406934 447902.8\n",
            "n50  \"NFLX\" 4827286 403049.5 4576051 380820.1\n",
            "n150 \"NFLX\" 4761975 300216.2 4562725 334638  \n",
            "n200 \"NFLX\" 4699069 289524.2 4504267 325509.2\n",
            "n230 \"NFLX\" 4696793 325684.7 4488460 363920.6\n",
            "     ticker  RMSE    RMSESD   MAE     MAESD   \n",
            "n1   \"GOOGL\" 1612945 223745.8 1435269 204302.7\n",
            "n50  \"GOOGL\" 1511854 235752.1 1439715 227403.3\n",
            "n150 \"GOOGL\" 1335983 316849.1 1285520 339742.7\n",
            "n200 \"GOOGL\" 1227084 261937.5 1182921 282930.1\n",
            "n230 \"GOOGL\" 1180863 226063.7 1139687 244152  \n"
          ]
        }
      ]
    },
    {
      "cell_type": "markdown",
      "metadata": {
        "id": "62JbM0dHJHHy"
      },
      "source": [
        "Generate the results for all naive predictions based on a 230MA"
      ]
    },
    {
      "cell_type": "code",
      "metadata": {
        "id": "sqHZGG_TIdOK",
        "colab": {
          "base_uri": "https://localhost:8080/",
          "height": 254
        },
        "outputId": "f7e634d5-3926-422d-b791-bcfe01f4f95c"
      },
      "source": [
        "nfb = run_naive(\"FB\", 230)\n",
        "naapl = run_naive(\"AAPL\", 230)\n",
        "namzn = run_naive(\"AMZN\", 230)\n",
        "nnflx = run_naive(\"NFLX\", 230)\n",
        "ngoogl = run_naive(\"GOOGL\", 230)\n",
        "\n",
        "n230 = rbind(nfb, naapl, namzn, nnflx, ngoogl) %>% as.data.frame() %>% mutate(model = \"Naive-MA\")\n",
        "\n",
        "n230"
      ],
      "execution_count": 113,
      "outputs": [
        {
          "output_type": "display_data",
          "data": {
            "text/plain": [
              "       ticker RMSE     RMSESD   MAE      MAESD    model   \n",
              "nfb    FB     9413647  1697247  8769982  1704406  Naive-MA\n",
              "naapl  AAPL   66400556 12267754 61186562 12501870 Naive-MA\n",
              "namzn  AMZN   2268850  306187   2129738  345349   Naive-MA\n",
              "nnflx  NFLX   4696793  325684.7 4488460  363920.6 Naive-MA\n",
              "ngoogl GOOGL  1180863  226063.7 1139687  244152   Naive-MA"
            ],
            "text/latex": "A data.frame: 5 × 6\n\\begin{tabular}{r|llllll}\n  & ticker & RMSE & RMSESD & MAE & MAESD & model\\\\\n  & <named list> & <named list> & <named list> & <named list> & <named list> & <chr>\\\\\n\\hline\n\tnfb & FB & 9413647 & 1697247 & 8769982 & 1704406 & Naive-MA\\\\\n\tnaapl & AAPL & 66400556 & 12267754 & 61186562 & 12501870 & Naive-MA\\\\\n\tnamzn & AMZN & 2268850 & 306187 & 2129738 & 345349 & Naive-MA\\\\\n\tnnflx & NFLX & 4696793 & 325684.7 & 4488460 & 363920.6 & Naive-MA\\\\\n\tngoogl & GOOGL & 1180863 & 226063.7 & 1139687 & 244152 & Naive-MA\\\\\n\\end{tabular}\n",
            "text/markdown": "\nA data.frame: 5 × 6\n\n| <!--/--> | ticker &lt;named list&gt; | RMSE &lt;named list&gt; | RMSESD &lt;named list&gt; | MAE &lt;named list&gt; | MAESD &lt;named list&gt; | model &lt;chr&gt; |\n|---|---|---|---|---|---|---|\n| nfb | FB | 9413647 | 1697247 | 8769982 | 1704406 | Naive-MA |\n| naapl | AAPL | 66400556 | 12267754 | 61186562 | 12501870 | Naive-MA |\n| namzn | AMZN | 2268850 | 306187 | 2129738 | 345349 | Naive-MA |\n| nnflx | NFLX | 4696793 | 325684.7 | 4488460 | 363920.6 | Naive-MA |\n| ngoogl | GOOGL | 1180863 | 226063.7 | 1139687 | 244152 | Naive-MA |\n\n",
            "text/html": [
              "<table class=\"dataframe\">\n",
              "<caption>A data.frame: 5 × 6</caption>\n",
              "<thead>\n",
              "\t<tr><th></th><th scope=col>ticker</th><th scope=col>RMSE</th><th scope=col>RMSESD</th><th scope=col>MAE</th><th scope=col>MAESD</th><th scope=col>model</th></tr>\n",
              "\t<tr><th></th><th scope=col>&lt;named list&gt;</th><th scope=col>&lt;named list&gt;</th><th scope=col>&lt;named list&gt;</th><th scope=col>&lt;named list&gt;</th><th scope=col>&lt;named list&gt;</th><th scope=col>&lt;chr&gt;</th></tr>\n",
              "</thead>\n",
              "<tbody>\n",
              "\t<tr><th scope=row>nfb</th><td>FB</td><td>9413647</td><td>1697247</td><td>8769982</td><td>1704406</td><td>Naive-MA</td></tr>\n",
              "\t<tr><th scope=row>naapl</th><td>AAPL</td><td>66400556</td><td>12267754</td><td>61186562</td><td>12501870</td><td>Naive-MA</td></tr>\n",
              "\t<tr><th scope=row>namzn</th><td>AMZN</td><td>2268850</td><td>306187</td><td>2129738</td><td>345349</td><td>Naive-MA</td></tr>\n",
              "\t<tr><th scope=row>nnflx</th><td>NFLX</td><td>4696793</td><td>325684.7</td><td>4488460</td><td>363920.6</td><td>Naive-MA</td></tr>\n",
              "\t<tr><th scope=row>ngoogl</th><td>GOOGL</td><td>1180863</td><td>226063.7</td><td>1139687</td><td>244152</td><td>Naive-MA</td></tr>\n",
              "</tbody>\n",
              "</table>\n"
            ]
          },
          "metadata": {}
        }
      ]
    },
    {
      "cell_type": "code",
      "metadata": {
        "id": "sfeRc8TDvm1C"
      },
      "source": [
        "n230 %>% write.csv(\"naive.csv\")"
      ],
      "execution_count": 39,
      "outputs": []
    },
    {
      "cell_type": "markdown",
      "metadata": {
        "id": "d3AZxOf5UIg3"
      },
      "source": [
        "## **Defining functions to run CART, Random Forest and XGBoost**"
      ]
    },
    {
      "cell_type": "markdown",
      "metadata": {
        "id": "Upl4URzkUO1P"
      },
      "source": [
        "Pre-defining the training control (expanding window), hyperparameter search grid for all models"
      ]
    },
    {
      "cell_type": "code",
      "metadata": {
        "id": "vN70qSkCgT_3"
      },
      "source": [
        "# Function to construct CART tree\n",
        "cart = function(trainX, trainY) {\n",
        "  \n",
        "  train_control = trainControl(method = \"timeslice\",\n",
        "                            initialWindow = 130,\n",
        "                            horizon = 30,\n",
        "                            fixedWindow = FALSE,\n",
        "                            skip = 40,\n",
        "                            savePredictions = TRUE)\n",
        "\n",
        "  # hyperparameters\n",
        "  cp_values = data.frame(.cp = seq(0, 0.02, by = 0.0001))\n",
        "\n",
        "  model = train(x = trainX,\n",
        "                y = trainY,\n",
        "                method = \"rpart\",\n",
        "                trControl = train_control,\n",
        "                tuneGrid = cp_values)\n",
        "\n",
        "}\n",
        "\n",
        "# Function to construct RandomForest\n",
        "randomforest = function(trainX, trainY) {\n",
        "\n",
        "  train_control = trainControl(method = \"timeslice\",\n",
        "                                initialWindow = 130,\n",
        "                                horizon = 30,\n",
        "                                fixedWindow = FALSE,\n",
        "                                skip = 40,\n",
        "                                savePredictions = TRUE)\n",
        "\n",
        "  # hyperparameters\n",
        "  n_pred = dim(trainX)[2]\n",
        "  mtry_low = round(0.4 * n_pred)\n",
        "  mtry_upp = round(0.6 * n_pred)\n",
        "  mtry_grid = data.frame(mtry = seq(mtry_low, mtry_upp, by = 1))\n",
        "      \n",
        "  model = train(x = trainX,\n",
        "                y = trainY,\n",
        "                method = \"rf\",\n",
        "                trControl = train_control,\n",
        "                tuneGrid = mtry_grid,\n",
        "                ntree = 300,\n",
        "                nodesize = 5)\n",
        "\n",
        "}\n",
        "\n",
        "# Function to construct XGBoost\n",
        "xgb = function(trainX, trainY) {\n",
        "  \n",
        "  train_control = trainControl(method = \"timeslice\",\n",
        "                              initialWindow = 130,\n",
        "                              horizon = 30,\n",
        "                              fixedWindow = FALSE,\n",
        "                              skip = 40,\n",
        "                              savePredictions = TRUE,\n",
        "                              allowParallel = TRUE)\n",
        "\n",
        "  # hyperparameters that require further tuning\n",
        "  parm_grid = expand.grid(nrounds = 100, \n",
        "                          max_depth = 6:8, \n",
        "                          eta = seq(0.01, 0.05, by = 0.005),\n",
        "                          gamma = c(0, 0.05),\n",
        "                          colsample_bytree = 1,\n",
        "                          min_child_weight = 1,\n",
        "                          subsample = c(0.3, 0.5))\n",
        "\n",
        "  model = train(x = trainX,\n",
        "                y = trainY,\n",
        "                method = \"xgbTree\",\n",
        "                tuneGrid = parm_grid,\n",
        "                trControl = train_control)\n",
        "\n",
        "}\n",
        "\n",
        "# Function to plot \n",
        "plotlastfold = function(model) {\n",
        "  \n",
        "  train_pred = predict(model$finalModel, newdata = trainX)\n",
        "  \n",
        "  model_df = data.frame(timesteps = seq(1, train_days), predicted = train_pred, actual = trainY)\n",
        "\n",
        "  ggplot(data = model_df, (aes(x = timesteps))) +\n",
        "    geom_line(aes(y = predicted), color = \"blue\") +\n",
        "    geom_line(aes(y = actual), color = \"black\")\n",
        "\n",
        "}\n"
      ],
      "execution_count": 14,
      "outputs": []
    },
    {
      "cell_type": "markdown",
      "metadata": {
        "id": "7FPP8PnkUa7Q"
      },
      "source": [
        "Defining 2 possible feature sets. \n",
        "\n",
        "1.   Reduced feature set - only using t-1 data points\n",
        "2.   Full feature set - expanded with MA and lag features\n",
        "\n",
        "Reduced feature set only accounts for sentiment effects in the preceding trading day.\n",
        "\n",
        "Full feature uses lag and moving average indicators, in addition to the reduced feature set, so as to use sentiment in recent history to predict volume\n",
        "\n"
      ]
    },
    {
      "cell_type": "code",
      "metadata": {
        "id": "afgdIuqpVNNJ"
      },
      "source": [
        "# $ date             : Date, format: \"2019-01-08\" \"2019-01-09\" ...\n",
        "# $ ticker           : chr  \"FB\" \"FB\" \"FB\" \"FB\" ...\n",
        "# $ vol              : int  26252863 22203279 16111304 12907031 20515678 24065513 18060414 15787914 32309412 22393694 ...\n",
        "# $ newssentiment    : num  63 50 50.5 50 50 50 50 37 40 50 ...\n",
        "# $ newsmentions     : int  2 0 2 0 0 0 0 1 1 0 ...\n",
        "# $ twtrmentions     : int  569 489 464 368 399 616 463 476 613 496 ...\n",
        "# $ twtrsentiment    : num  0.2689 0.0941 0.1746 0.1766 0.2381 ...\n",
        "# $ wsbsentiment     : num  0.3529 -0.3818 0.3246 -0.0799 -0.1559 ...\n",
        "# $ wsbmentions      : int  1 1 1 1 1 1 1 1 1 1 ...\n",
        "# $ retailvol        : int  11163579 9658300 6779001 5398647 9170878 9480406 7058870 5805217 11946377 8903335 ...\n",
        "# $ instvol          : int  15100214 12547579 9346003 7509384 11349400 14588416 10966844 9982697 19083235 13475359 ...\n",
        "# $ retailperc       : num  0.425 0.435 0.42 0.418 0.447 ...\n",
        "# $ newssentimentlag1: num  50 63 50 50.5 50 50 50 50 37 40 ...\n",
        "# $ newsmentionslag1 : int  0 2 0 2 0 0 0 0 1 1 ...\n",
        "# $ twtrmentionslag1 : int  415 569 489 464 368 399 616 463 476 613 ...\n",
        "# $ twtrsentimentlag1: num  0.2024 0.2689 0.0941 0.1746 0.1766 ...\n",
        "# $ wsbsentimentlag1 : num  -0.2222 0.3529 -0.3818 0.3246 -0.0799 ...\n",
        "# $ wsbmentionslag1  : int  1 1 1 1 1 1 1 1 1 1 ...\n",
        "# $ newssentimentlag2: num  50 50 63 50 50.5 50 50 50 50 37 ...\n",
        "# $ newsmentionslag2 : int  0 0 2 0 2 0 0 0 0 1 ...\n",
        "# $ twtrmentionslag2 : int  431 415 569 489 464 368 399 616 463 476 ...\n",
        "# $ twtrsentimentlag2: num  0.058 0.2024 0.2689 0.0941 0.1746 ...\n",
        "# $ wsbsentimentlag2 : num  -0.0623 -0.2222 0.3529 -0.3818 0.3246 ...\n",
        "# $ wsbmentionslag2  : int  1 1 1 1 1 1 1 1 1 1 ...\n",
        "# $ newssentimentlag4: num  50 50 50 50 63 50 50.5 50 50 50 ...\n",
        "# $ newsmentionslag4 : int  2 0 0 0 2 0 2 0 0 0 ...\n",
        "# $ twtrmentionslag4 : int  606 521 431 415 569 489 464 368 399 616 ...\n",
        "# $ twtrsentimentlag4: num  0.1172 0.0307 0.058 0.2024 0.2689 ...\n",
        "# $ wsbsentimentlag4 : num  0.1815 -0.1377 -0.0623 -0.2222 0.3529 ...\n",
        "# $ wsbmentionslag4  : int  1 1 1 1 1 1 1 1 1 1 ...\n",
        "# $ twtrmentions5MA  : num  474 461 458 467 462 ...\n",
        "# $ wsbmentions5MA   : num  1 1 1 1 1 1 1 1 1 1 ...\n",
        "# $ newsmentions5MA  : num  0.8 0.8 0.8 0.4 0.4 0.2 0.4 0.4 0.6 1.2 ...\n",
        "# $ twtrmentions10MA : num  488 474 469 487 495 ...\n",
        "# $ wsbmentions10MA  : num  1 1 1 1 1 1 1 1 1 1 ...\n",
        "# $ newsmentions10MA : num  0.6 0.4 0.5 0.6 0.6 0.5 0.8 0.6 0.8 1.1 ...\n",
        "# $ retailvollag1    : int  11163579 9658300 6779001 5398647 9170878 9480406 7058870 5805217 11946377 8903335 ...\n",
        "# $ retailvollag2    : num  10410940 8218650 6088824 7284762 9325642 ...\n",
        "# $ retailvollag4    : num  8964350 8249882 7751706 7707233 7777200 ...\n",
        "# $ target           : int  9658300 6779001 5398647 9170878 9480406 7058870 5805217 11946377 8903335 7344744 ...\n",
        "\n",
        "# Reduced feature set consists of\n",
        "# Sentiment - news, twitter, wsb\n",
        "# Mentions - news, twitter, wsb\n",
        "# Vol - total volume, retail volume, institutional volume\n",
        "# Retail volume as % of total volume\n",
        "reduced_feature = c(3:12)\n",
        "\n",
        "# Full feature includes the entirety of reduced feature set, as well as lag and MA features\n",
        "# Both are intended to determine if sentiment effects can affect volume beyond the next trading day\n",
        "# Sentiment - lagged by 1, 2 and 4 days\n",
        "# Mentions - lagged by 1, 2 and 4 days\n",
        "# Mentions - 5 and 10 day MA\n",
        "expanded_feature = c(3:36)\n",
        "\n",
        "full_feature = c(3:39)"
      ],
      "execution_count": 146,
      "outputs": []
    },
    {
      "cell_type": "markdown",
      "metadata": {
        "id": "jdcnq2GDUtOg"
      },
      "source": [
        "Wrapping the generation of trainind data for specific stocks together with model training."
      ]
    },
    {
      "cell_type": "code",
      "metadata": {
        "id": "128V5xBT-qX3"
      },
      "source": [
        "run_models = function(x, feature_set) {\n",
        "\n",
        "  output = list() # initialize list to store results\n",
        "  output[[\"ticker\"]] = x # add in ticker\n",
        "\n",
        "  # Create trainX, trainY, testX and testY based on feature_set\n",
        "  trainX = train %>% filter(ticker == x) %>% select(feature_set)\n",
        "  trainY = train %>% filter(ticker == x) %>% select(c(40)) %>% pull()\n",
        "  testX = test %>% filter(ticker == x) %>% select(feature_set)\n",
        "  testY = test %>% filter(ticker == x) %>% select(c(40)) %>% pull()\n",
        "\n",
        "  # Run CART Model\n",
        "  # Extract and record error metrics\n",
        "  tree = cart(trainX, trainY)\n",
        "  output[[\"dtcp\"]] = tree$bestTune$cp\n",
        "  output[[\"dtRMSE\"]] = tree$results %>% arrange(RMSE) %>% dplyr::slice(1) %>% select(RMSE) %>% as.double(.)\n",
        "  output[[\"dtRMSESD\"]] = tree$results %>% arrange(RMSE) %>% dplyr::slice(1) %>% select(RMSESD) %>% as.double(.)\n",
        "  output[[\"dtMAE\"]] = tree$results %>% arrange(RMSE) %>% dplyr::slice(1) %>% select(MAE) %>% as.double(.)\n",
        "  output[[\"dtMAESD\"]] = tree$results %>% arrange(RMSE) %>% dplyr::slice(1) %>% select(MAESD) %>% as.double(.)\n",
        "  # Extract top 5 features\n",
        "  output[[\"dtImp1\"]] = names(tree$finalModel$variable.importance)[1]\n",
        "  output[[\"dtImp2\"]] = names(tree$finalModel$variable.importance)[2]\n",
        "  output[[\"dtImp3\"]] = names(tree$finalModel$variable.importance)[3]  \n",
        "  output[[\"dtImp4\"]] = names(tree$finalModel$variable.importance)[4]\n",
        "  output[[\"dtImp5\"]] = names(tree$finalModel$variable.importance)[5]    \n",
        "\n",
        "  # Run RF Model\n",
        "  # Extract and record error metrics\n",
        "  set.seed(15071)\n",
        "  forest = randomforest(trainX, trainY)\n",
        "  output[[\"rfmtry\"]] = forest$bestTune$mtry\n",
        "  output[[\"rfRMSE\"]] = forest$results %>% arrange(RMSE) %>% dplyr::slice(1) %>% select(RMSE) %>% as.double(.)\n",
        "  output[[\"rfRMSESD\"]] = forest$results %>% arrange(RMSE) %>% dplyr::slice(1) %>% select(RMSESD) %>% as.double(.)\n",
        "  output[[\"rfMAE\"]] = forest$results %>% arrange(RMSE) %>% dplyr::slice(1) %>% select(MAE) %>% as.double(.)\n",
        "  output[[\"rfMAESD\"]] = forest$results %>% arrange(RMSE) %>% dplyr::slice(1) %>% select(MAESD) %>% as.double(.)\n",
        "  # Extract top 5 features\n",
        "  forestImp = importance(forest$finalModel) %>% data.frame() %>% arrange(desc(IncNodePurity)) %>%\n",
        "    mutate(feature = row.names(.)) %>% select(feature) %>% as.list()\n",
        "  output[[\"rfImp1\"]] = forestImp[[1]][1]\n",
        "  output[[\"rfImp2\"]] = forestImp[[1]][2]\n",
        "  output[[\"rfImp3\"]] = forestImp[[1]][3]\n",
        "  output[[\"rfImp4\"]] = forestImp[[1]][4]\n",
        "  output[[\"rfImp5\"]] = forestImp[[1]][5]\n",
        "\n",
        "  output = output\n",
        "\n",
        "}\n",
        "\n",
        "run_xgb = function(x, feature_set) {\n",
        "\n",
        "  output = list() # initialize list to store results\n",
        "  output[[\"ticker\"]] = x # add in ticker\n",
        "\n",
        "  # Create trainX, trainY, testX and testY based on feature_set\n",
        "  trainX = train %>% filter(ticker == x) %>% select(feature_set)\n",
        "  trainY = train %>% filter(ticker == x) %>% select(c(40)) %>% pull()\n",
        "  testX = test %>% filter(ticker == x) %>% select(feature_set)\n",
        "  testY = test %>% filter(ticker == x) %>% select(c(40)) %>% pull()\n",
        "\n",
        "  # Run xgb Model\n",
        "  # Extract and record parameters and error metrics\n",
        "  set.seed(15071)\n",
        "  boost = xgb(trainX, trainY)\n",
        "  xgbparams = as.list(boost$bestTune)\n",
        "  output[[\"xgbmaxdepth\"]] = xgbparams$max_depth\n",
        "  output[[\"xgbgamma\"]] = xgbparams$gamma\n",
        "  output[[\"xgbeta\"]] = xgbparams$eta\n",
        "  output[[\"xgbsubsample\"]] = xgbparams$subsample\n",
        "  output[[\"xgbRMSE\"]] = boost$results %>% arrange(RMSE) %>% dplyr::slice(1) %>% select(RMSE) %>% as.double(.)\n",
        "  output[[\"xgbRMSESD\"]] = boost$results %>% arrange(RMSE) %>% dplyr::slice(1) %>% select(RMSESD) %>% as.double(.)\n",
        "  output[[\"xgbMAE\"]] = boost$results %>% arrange(RMSE) %>% dplyr::slice(1) %>% select(MAE) %>% as.double(.)\n",
        "  output[[\"xgbMAESD\"]] = boost$results %>% arrange(RMSE) %>% dplyr::slice(1) %>% select(MAESD) %>% as.double(.)\n",
        "  # Extract top 5 features\n",
        "  xgbImp = varImp(boost)\n",
        "  xgbImpl = xgbImp[[1]] %>% mutate(feature = row.names(.)) %>% select(feature) %>% as.list()\n",
        "  output[[\"xgbImp1\"]] = xgbImpl[[1]][1]\n",
        "  output[[\"xgbImp2\"]] = xgbImpl[[1]][2]\n",
        "  output[[\"xgbImp3\"]] = xgbImpl[[1]][3]\n",
        "  output[[\"xgbImp4\"]] = xgbImpl[[1]][4]\n",
        "  output[[\"xgbImp5\"]] = xgbImpl[[1]][5]\n",
        "\n",
        "  output = output\n",
        "\n",
        "}"
      ],
      "execution_count": 55,
      "outputs": []
    },
    {
      "cell_type": "markdown",
      "metadata": {
        "id": "gQzxExEshUrm"
      },
      "source": [
        "## **Set 1: Reduced Feature Set**\n",
        "\n"
      ]
    },
    {
      "cell_type": "code",
      "metadata": {
        "id": "a5D9UwLKO8Hs",
        "colab": {
          "base_uri": "https://localhost:8080/",
          "height": 312
        },
        "outputId": "34e15408-bacf-4c9a-bcda-5b64f5cd8f1f"
      },
      "source": [
        "fb = run_models(\"FB\", reduced_feature)\n",
        "aapl = run_models(\"AAPL\", reduced_feature)\n",
        "amzn = run_models(\"AMZN\", reduced_feature)\n",
        "nflx = run_models(\"NFLX\", reduced_feature)\n",
        "googl = run_models(\"GOOGL\", reduced_feature)\n",
        "\n",
        "reducedfeature = rbind(fb, aapl, amzn, nflx, googl)\n",
        "\n",
        "reducedfeature"
      ],
      "execution_count": 56,
      "outputs": [
        {
          "metadata": {
            "tags": null
          },
          "name": "stderr",
          "output_type": "stream",
          "text": [
            "Warning message in nominalTrainWorkflow(x = x, y = y, wts = weights, info = trainInfo, :\n",
            "“There were missing values in resampled performance measures.”\n"
          ]
        },
        {
          "data": {
            "text/html": [
              "<table class=\"dataframe\">\n",
              "<caption>A matrix: 5 × 21</caption>\n",
              "<thead>\n",
              "\t<tr><th></th><th scope=col>ticker</th><th scope=col>dtcp</th><th scope=col>dtRMSE</th><th scope=col>dtRMSESD</th><th scope=col>dtMAE</th><th scope=col>dtMAESD</th><th scope=col>dtImp1</th><th scope=col>dtImp2</th><th scope=col>dtImp3</th><th scope=col>dtImp4</th><th scope=col>⋯</th><th scope=col>rfmtry</th><th scope=col>rfRMSE</th><th scope=col>rfRMSESD</th><th scope=col>rfMAE</th><th scope=col>rfMAESD</th><th scope=col>rfImp1</th><th scope=col>rfImp2</th><th scope=col>rfImp3</th><th scope=col>rfImp4</th><th scope=col>rfImp5</th></tr>\n",
              "\t<tr><th></th><th scope=col>&lt;chr&gt;</th><th scope=col>&lt;chr&gt;</th><th scope=col>&lt;chr&gt;</th><th scope=col>&lt;chr&gt;</th><th scope=col>&lt;chr&gt;</th><th scope=col>&lt;dbl&gt;</th><th scope=col>&lt;dbl&gt;</th><th scope=col>&lt;dbl&gt;</th><th scope=col>&lt;dbl&gt;</th><th scope=col>&lt;dbl&gt;</th><th scope=col>⋯</th><th scope=col>&lt;chr&gt;</th><th scope=col>&lt;chr&gt;</th><th scope=col>&lt;chr&gt;</th><th scope=col>&lt;chr&gt;</th><th scope=col>&lt;chr&gt;</th><th scope=col>&lt;chr&gt;</th><th scope=col>&lt;chr&gt;</th><th scope=col>&lt;chr&gt;</th><th scope=col>&lt;chr&gt;</th><th scope=col>&lt;chr&gt;</th></tr>\n",
              "</thead>\n",
              "<tbody>\n",
              "\t<tr><th scope=row>fb</th><td>FB</td><td>0.0124</td><td>3406178</td><td>1462228</td><td>2496447</td><td>973412.4</td><td>vol</td><td>instvol</td><td>retailvol</td><td>twtrmentions</td><td>⋯</td><td>5</td><td>3195502</td><td>1428588</td><td>2249769</td><td>742313.6</td><td>twtrmentions</td><td>vol</td><td>retailvol</td><td>instvol</td><td>retailperc</td></tr>\n",
              "\t<tr><th scope=row>aapl</th><td>AAPL</td><td>0.0122</td><td>22029959</td><td>5085829</td><td>16253663</td><td>4251292</td><td>retailvol</td><td>vol</td><td>instvol</td><td>twtrmentions</td><td>⋯</td><td>5</td><td>21201287</td><td>5743820</td><td>15507473</td><td>4592960</td><td>retailvol</td><td>vol</td><td>twtrmentions</td><td>instvol</td><td>retailperc</td></tr>\n",
              "\t<tr><th scope=row>amzn</th><td>AMZN</td><td>0.0198</td><td>578427.7</td><td>242595.6</td><td>432587.4</td><td>171089</td><td>vol</td><td>instvol</td><td>retailvol</td><td>twtrmentions</td><td>⋯</td><td>4</td><td>591472.1</td><td>273724.2</td><td>446768.4</td><td>206014.7</td><td>vol</td><td>instvol</td><td>retailvol</td><td>twtrmentions</td><td>retailperc</td></tr>\n",
              "\t<tr><th scope=row>nflx</th><td>NFLX</td><td>0.0186</td><td>1530875</td><td>608041.3</td><td>1020052</td><td>237164.4</td><td>retailvol</td><td>vol</td><td>instvol</td><td>twtrmentions</td><td>⋯</td><td>4</td><td>1460066</td><td>597700.9</td><td>1023783</td><td>292645.7</td><td>retailvol</td><td>vol</td><td>instvol</td><td>twtrmentions</td><td>retailperc</td></tr>\n",
              "\t<tr><th scope=row>googl</th><td>GOOGL</td><td>0.02</td><td>236880.5</td><td>92560.64</td><td>173677.7</td><td>73366.24</td><td>vol</td><td>instvol</td><td>retailvol</td><td>twtrmentions</td><td>⋯</td><td>4</td><td>214930.6</td><td>51935.89</td><td>167980.6</td><td>40281.68</td><td>vol</td><td>retailvol</td><td>instvol</td><td>twtrmentions</td><td>twtrsentiment</td></tr>\n",
              "</tbody>\n",
              "</table>\n"
            ],
            "text/latex": "A matrix: 5 × 21\n\\begin{tabular}{r|lllllllllllllllllllll}\n  & ticker & dtcp & dtRMSE & dtRMSESD & dtMAE & dtMAESD & dtImp1 & dtImp2 & dtImp3 & dtImp4 & ⋯ & rfmtry & rfRMSE & rfRMSESD & rfMAE & rfMAESD & rfImp1 & rfImp2 & rfImp3 & rfImp4 & rfImp5\\\\\n  & <chr> & <chr> & <chr> & <chr> & <chr> & <dbl> & <dbl> & <dbl> & <dbl> & <dbl> & ⋯ & <chr> & <chr> & <chr> & <chr> & <chr> & <chr> & <chr> & <chr> & <chr> & <chr>\\\\\n\\hline\n\tfb & FB & 0.0124 & 3406178 & 1462228 & 2496447 & 973412.4 & vol & instvol & retailvol & twtrmentions & ⋯ & 5 & 3195502 & 1428588 & 2249769 & 742313.6 & twtrmentions & vol & retailvol & instvol & retailperc\\\\\n\taapl & AAPL & 0.0122 & 22029959 & 5085829 & 16253663 & 4251292 & retailvol & vol & instvol & twtrmentions & ⋯ & 5 & 21201287 & 5743820 & 15507473 & 4592960 & retailvol & vol & twtrmentions & instvol & retailperc\\\\\n\tamzn & AMZN & 0.0198 & 578427.7 & 242595.6 & 432587.4 & 171089 & vol & instvol & retailvol & twtrmentions & ⋯ & 4 & 591472.1 & 273724.2 & 446768.4 & 206014.7 & vol & instvol & retailvol & twtrmentions & retailperc\\\\\n\tnflx & NFLX & 0.0186 & 1530875 & 608041.3 & 1020052 & 237164.4 & retailvol & vol & instvol & twtrmentions & ⋯ & 4 & 1460066 & 597700.9 & 1023783 & 292645.7 & retailvol & vol & instvol & twtrmentions & retailperc\\\\\n\tgoogl & GOOGL & 0.02 & 236880.5 & 92560.64 & 173677.7 & 73366.24 & vol & instvol & retailvol & twtrmentions & ⋯ & 4 & 214930.6 & 51935.89 & 167980.6 & 40281.68 & vol & retailvol & instvol & twtrmentions & twtrsentiment\\\\\n\\end{tabular}\n",
            "text/markdown": "\nA matrix: 5 × 21\n\n| <!--/--> | ticker &lt;chr&gt; | dtcp &lt;chr&gt; | dtRMSE &lt;chr&gt; | dtRMSESD &lt;chr&gt; | dtMAE &lt;chr&gt; | dtMAESD &lt;dbl&gt; | dtImp1 &lt;dbl&gt; | dtImp2 &lt;dbl&gt; | dtImp3 &lt;dbl&gt; | dtImp4 &lt;dbl&gt; | ⋯ ⋯ | rfmtry &lt;chr&gt; | rfRMSE &lt;chr&gt; | rfRMSESD &lt;chr&gt; | rfMAE &lt;chr&gt; | rfMAESD &lt;chr&gt; | rfImp1 &lt;chr&gt; | rfImp2 &lt;chr&gt; | rfImp3 &lt;chr&gt; | rfImp4 &lt;chr&gt; | rfImp5 &lt;chr&gt; |\n|---|---|---|---|---|---|---|---|---|---|---|---|---|---|---|---|---|---|---|---|---|---|\n| fb | FB | 0.0124 | 3406178 | 1462228 | 2496447 | 973412.4 | vol | instvol | retailvol | twtrmentions | ⋯ | 5 | 3195502 | 1428588 | 2249769 | 742313.6 | twtrmentions | vol | retailvol | instvol | retailperc |\n| aapl | AAPL | 0.0122 | 22029959 | 5085829 | 16253663 | 4251292 | retailvol | vol | instvol | twtrmentions | ⋯ | 5 | 21201287 | 5743820 | 15507473 | 4592960 | retailvol | vol | twtrmentions | instvol | retailperc |\n| amzn | AMZN | 0.0198 | 578427.7 | 242595.6 | 432587.4 | 171089 | vol | instvol | retailvol | twtrmentions | ⋯ | 4 | 591472.1 | 273724.2 | 446768.4 | 206014.7 | vol | instvol | retailvol | twtrmentions | retailperc |\n| nflx | NFLX | 0.0186 | 1530875 | 608041.3 | 1020052 | 237164.4 | retailvol | vol | instvol | twtrmentions | ⋯ | 4 | 1460066 | 597700.9 | 1023783 | 292645.7 | retailvol | vol | instvol | twtrmentions | retailperc |\n| googl | GOOGL | 0.02 | 236880.5 | 92560.64 | 173677.7 | 73366.24 | vol | instvol | retailvol | twtrmentions | ⋯ | 4 | 214930.6 | 51935.89 | 167980.6 | 40281.68 | vol | retailvol | instvol | twtrmentions | twtrsentiment |\n\n",
            "text/plain": [
              "      ticker dtcp   dtRMSE   dtRMSESD dtMAE    dtMAESD  dtImp1    dtImp2 \n",
              "fb    FB     0.0124 3406178  1462228  2496447  973412.4 vol       instvol\n",
              "aapl  AAPL   0.0122 22029959 5085829  16253663 4251292  retailvol vol    \n",
              "amzn  AMZN   0.0198 578427.7 242595.6 432587.4 171089   vol       instvol\n",
              "nflx  NFLX   0.0186 1530875  608041.3 1020052  237164.4 retailvol vol    \n",
              "googl GOOGL  0.02   236880.5 92560.64 173677.7 73366.24 vol       instvol\n",
              "      dtImp3    dtImp4       ⋯ rfmtry rfRMSE   rfRMSESD rfMAE    rfMAESD \n",
              "fb    retailvol twtrmentions ⋯ 5      3195502  1428588  2249769  742313.6\n",
              "aapl  instvol   twtrmentions ⋯ 5      21201287 5743820  15507473 4592960 \n",
              "amzn  retailvol twtrmentions ⋯ 4      591472.1 273724.2 446768.4 206014.7\n",
              "nflx  instvol   twtrmentions ⋯ 4      1460066  597700.9 1023783  292645.7\n",
              "googl retailvol twtrmentions ⋯ 4      214930.6 51935.89 167980.6 40281.68\n",
              "      rfImp1       rfImp2    rfImp3       rfImp4       rfImp5       \n",
              "fb    twtrmentions vol       retailvol    instvol      retailperc   \n",
              "aapl  retailvol    vol       twtrmentions instvol      retailperc   \n",
              "amzn  vol          instvol   retailvol    twtrmentions retailperc   \n",
              "nflx  retailvol    vol       instvol      twtrmentions retailperc   \n",
              "googl vol          retailvol instvol      twtrmentions twtrsentiment"
            ]
          },
          "metadata": {},
          "output_type": "display_data"
        }
      ]
    },
    {
      "cell_type": "code",
      "metadata": {
        "id": "9THqznqASIqD",
        "colab": {
          "base_uri": "https://localhost:8080/",
          "height": 274
        },
        "outputId": "0219cdc9-8efe-44e4-a26f-cb80c8c37ff3"
      },
      "source": [
        "fb_xgb = run_xgb(\"FB\", reduced_feature)\n",
        "aapl_xgb = run_xgb(\"AAPL\", reduced_feature)\n",
        "amzn_xgb = run_xgb(\"AMZN\", reduced_feature)\n",
        "nflx_xgb = run_xgb(\"NFLX\", reduced_feature)\n",
        "googl_xgb = run_xgb(\"GOOGL\", reduced_feature)\n",
        "\n",
        "reducedfeature_xgb = rbind(fb_xgb, aapl_xgb, amzn_xgb, nflx_xgb, googl_xgb)\n",
        "\n",
        "reducedfeature_xgb"
      ],
      "execution_count": 18,
      "outputs": [
        {
          "output_type": "display_data",
          "data": {
            "text/plain": [
              "          ticker xgbmaxdepth xgbgamma xgbeta xgbsubsample xgbRMSE  xgbRMSESD\n",
              "fb_xgb    FB     6           0        0.04   0.5          3222802  1381695  \n",
              "aapl_xgb  AAPL   7           0.05     0.05   0.5          21932968 6694709  \n",
              "amzn_xgb  AMZN   6           0.05     0.035  0.5          583855.3 310705.6 \n",
              "nflx_xgb  NFLX   7           0        0.05   0.5          1487623  588792.9 \n",
              "googl_xgb GOOGL  6           0.05     0.03   0.5          205684.9 83260.81 \n",
              "          xgbMAE   xgbMAESD xgbImp1      xgbImp2      xgbImp3     \n",
              "fb_xgb    2322226  798641.5 twtrmentions vol          retailvol   \n",
              "aapl_xgb  16162093 5517417  retailvol    twtrmentions vol         \n",
              "amzn_xgb  430219.1 223035.8 vol          retailvol    instvol     \n",
              "nflx_xgb  1043586  309896.1 retailvol    vol          twtrmentions\n",
              "googl_xgb 159558.9 74902.63 vol          twtrmentions retailvol   \n",
              "          xgbImp4       xgbImp5      \n",
              "fb_xgb    newssentiment twtrsentiment\n",
              "aapl_xgb  twtrsentiment retailperc   \n",
              "amzn_xgb  retailperc    twtrmentions \n",
              "nflx_xgb  retailperc    newsmentions \n",
              "googl_xgb instvol       twtrsentiment"
            ],
            "text/latex": "A matrix: 5 × 14\n\\begin{tabular}{r|llllllllllllll}\n  & ticker & xgbmaxdepth & xgbgamma & xgbeta & xgbsubsample & xgbRMSE & xgbRMSESD & xgbMAE & xgbMAESD & xgbImp1 & xgbImp2 & xgbImp3 & xgbImp4 & xgbImp5\\\\\n  & <chr> & <chr> & <chr> & <chr> & <chr> & <int> & <int> & <int> & <int> & <int> & ⋯ & <chr> & <chr> & <chr> & <chr> & <chr> & <chr> & <chr> & <chr> & <chr> & <chr>\\\\\n\\hline\n\tfb\\_xgb & FB & 6 & 0 & 0.04 & 0.5 & 3222802 & 1381695 & 2322226 & 798641.5 & twtrmentions & vol & retailvol & newssentiment & twtrsentiment\\\\\n\taapl\\_xgb & AAPL & 7 & 0.05 & 0.05 & 0.5 & 21932968 & 6694709 & 16162093 & 5517417 & retailvol & twtrmentions & vol & twtrsentiment & retailperc\\\\\n\tamzn\\_xgb & AMZN & 6 & 0.05 & 0.035 & 0.5 & 583855.3 & 310705.6 & 430219.1 & 223035.8 & vol & retailvol & instvol & retailperc & twtrmentions\\\\\n\tnflx\\_xgb & NFLX & 7 & 0 & 0.05 & 0.5 & 1487623 & 588792.9 & 1043586 & 309896.1 & retailvol & vol & twtrmentions & retailperc & newsmentions\\\\\n\tgoogl\\_xgb & GOOGL & 6 & 0.05 & 0.03 & 0.5 & 205684.9 & 83260.81 & 159558.9 & 74902.63 & vol & twtrmentions & retailvol & instvol & twtrsentiment\\\\\n\\end{tabular}\n",
            "text/markdown": "\nA matrix: 5 × 14\n\n| <!--/--> | ticker &lt;chr&gt; | xgbmaxdepth &lt;chr&gt; | xgbgamma &lt;chr&gt; | xgbeta &lt;chr&gt; | xgbsubsample &lt;chr&gt; | xgbRMSE &lt;int&gt; | xgbRMSESD &lt;int&gt; | xgbMAE &lt;int&gt; | xgbMAESD &lt;int&gt; | xgbImp1 &lt;int&gt; | xgbImp2 ⋯ | xgbImp3 &lt;chr&gt; | xgbImp4 &lt;chr&gt; | xgbImp5 &lt;chr&gt; | ticker &lt;chr&gt; | xgbmaxdepth &lt;chr&gt; | xgbgamma &lt;chr&gt; | xgbeta &lt;chr&gt; | xgbsubsample &lt;chr&gt; | xgbRMSE &lt;chr&gt; | xgbRMSESD &lt;chr&gt; |\n|---|---|---|---|---|---|---|---|---|---|---|---|---|---|---|\n| fb_xgb | FB | 6 | 0 | 0.04 | 0.5 | 3222802 | 1381695 | 2322226 | 798641.5 | twtrmentions | vol | retailvol | newssentiment | twtrsentiment |\n| aapl_xgb | AAPL | 7 | 0.05 | 0.05 | 0.5 | 21932968 | 6694709 | 16162093 | 5517417 | retailvol | twtrmentions | vol | twtrsentiment | retailperc |\n| amzn_xgb | AMZN | 6 | 0.05 | 0.035 | 0.5 | 583855.3 | 310705.6 | 430219.1 | 223035.8 | vol | retailvol | instvol | retailperc | twtrmentions |\n| nflx_xgb | NFLX | 7 | 0 | 0.05 | 0.5 | 1487623 | 588792.9 | 1043586 | 309896.1 | retailvol | vol | twtrmentions | retailperc | newsmentions |\n| googl_xgb | GOOGL | 6 | 0.05 | 0.03 | 0.5 | 205684.9 | 83260.81 | 159558.9 | 74902.63 | vol | twtrmentions | retailvol | instvol | twtrsentiment |\n\n",
            "text/html": [
              "<table class=\"dataframe\">\n",
              "<caption>A matrix: 5 × 14</caption>\n",
              "<thead>\n",
              "\t<tr><th></th><th scope=col>ticker</th><th scope=col>xgbmaxdepth</th><th scope=col>xgbgamma</th><th scope=col>xgbeta</th><th scope=col>xgbsubsample</th><th scope=col>xgbRMSE</th><th scope=col>xgbRMSESD</th><th scope=col>xgbMAE</th><th scope=col>xgbMAESD</th><th scope=col>xgbImp1</th><th scope=col>xgbImp2</th><th scope=col>xgbImp3</th><th scope=col>xgbImp4</th><th scope=col>xgbImp5</th></tr>\n",
              "\t<tr><th></th><th scope=col>&lt;chr&gt;</th><th scope=col>&lt;chr&gt;</th><th scope=col>&lt;chr&gt;</th><th scope=col>&lt;chr&gt;</th><th scope=col>&lt;chr&gt;</th><th scope=col>&lt;int&gt;</th><th scope=col>&lt;int&gt;</th><th scope=col>&lt;int&gt;</th><th scope=col>&lt;int&gt;</th><th scope=col>&lt;int&gt;</th><th scope=col>⋯</th><th scope=col>&lt;chr&gt;</th><th scope=col>&lt;chr&gt;</th><th scope=col>&lt;chr&gt;</th><th scope=col>&lt;chr&gt;</th><th scope=col>&lt;chr&gt;</th><th scope=col>&lt;chr&gt;</th><th scope=col>&lt;chr&gt;</th><th scope=col>&lt;chr&gt;</th><th scope=col>&lt;chr&gt;</th><th scope=col>&lt;chr&gt;</th></tr>\n",
              "</thead>\n",
              "<tbody>\n",
              "\t<tr><th scope=row>fb_xgb</th><td>FB</td><td>6</td><td>0</td><td>0.04</td><td>0.5</td><td>3222802</td><td>1381695</td><td>2322226</td><td>798641.5</td><td>twtrmentions</td><td>vol</td><td>retailvol</td><td>newssentiment</td><td>twtrsentiment</td></tr>\n",
              "\t<tr><th scope=row>aapl_xgb</th><td>AAPL</td><td>7</td><td>0.05</td><td>0.05</td><td>0.5</td><td>21932968</td><td>6694709</td><td>16162093</td><td>5517417</td><td>retailvol</td><td>twtrmentions</td><td>vol</td><td>twtrsentiment</td><td>retailperc</td></tr>\n",
              "\t<tr><th scope=row>amzn_xgb</th><td>AMZN</td><td>6</td><td>0.05</td><td>0.035</td><td>0.5</td><td>583855.3</td><td>310705.6</td><td>430219.1</td><td>223035.8</td><td>vol</td><td>retailvol</td><td>instvol</td><td>retailperc</td><td>twtrmentions</td></tr>\n",
              "\t<tr><th scope=row>nflx_xgb</th><td>NFLX</td><td>7</td><td>0</td><td>0.05</td><td>0.5</td><td>1487623</td><td>588792.9</td><td>1043586</td><td>309896.1</td><td>retailvol</td><td>vol</td><td>twtrmentions</td><td>retailperc</td><td>newsmentions</td></tr>\n",
              "\t<tr><th scope=row>googl_xgb</th><td>GOOGL</td><td>6</td><td>0.05</td><td>0.03</td><td>0.5</td><td>205684.9</td><td>83260.81</td><td>159558.9</td><td>74902.63</td><td>vol</td><td>twtrmentions</td><td>retailvol</td><td>instvol</td><td>twtrsentiment</td></tr>\n",
              "</tbody>\n",
              "</table>\n"
            ]
          },
          "metadata": {}
        }
      ]
    },
    {
      "cell_type": "code",
      "metadata": {
        "id": "aeyaeMHwp-FQ"
      },
      "source": [
        "reducedfeature %>% write.csv(\"reducedfeature_dtrf.csv\")\n",
        "reducedfeature_xgb %>% write.csv(\"reducedfeature_xgb.csv\")"
      ],
      "execution_count": 57,
      "outputs": []
    },
    {
      "cell_type": "markdown",
      "metadata": {
        "id": "jqpl4k_DWBNp"
      },
      "source": [
        "## **Set 2: Expanded Feature Set**\n"
      ]
    },
    {
      "cell_type": "code",
      "metadata": {
        "id": "0GqrkuEzh3CT",
        "colab": {
          "base_uri": "https://localhost:8080/",
          "height": 312
        },
        "outputId": "a9b4af88-acc0-47be-f333-e1d039d60aaa"
      },
      "source": [
        "fb = run_models(\"FB\", expanded_feature)\n",
        "aapl = run_models(\"AAPL\", expanded_feature)\n",
        "amzn = run_models(\"AMZN\", expanded_feature)\n",
        "nflx = run_models(\"NFLX\", expanded_feature)\n",
        "googl = run_models(\"GOOGL\", expanded_feature)\n",
        "\n",
        "expandedfeature = rbind(fb, aapl, amzn, nflx, googl)\n",
        "\n",
        "expandedfeature"
      ],
      "execution_count": 147,
      "outputs": [
        {
          "output_type": "stream",
          "name": "stderr",
          "text": [
            "Warning message in nominalTrainWorkflow(x = x, y = y, wts = weights, info = trainInfo, :\n",
            "“There were missing values in resampled performance measures.”\n"
          ]
        },
        {
          "output_type": "display_data",
          "data": {
            "text/plain": [
              "      ticker dtcp   dtRMSE   dtRMSESD dtMAE    dtMAESD  dtImp1         \n",
              "fb    FB     0.017  3192049  1510859  2361650  1023428  twtrmentions   \n",
              "aapl  AAPL   0.0139 22443614 7603817  17036457 6339696  retailvol      \n",
              "amzn  AMZN   0.0143 593301.3 261461.5 456437.5 182841.7 vol            \n",
              "nflx  NFLX   0.02   1554612  562743.4 1089771  323673.2 twtrmentions5MA\n",
              "googl GOOGL  0.0146 239141.9 95509.74 188185.5 86697.91 vol            \n",
              "      dtImp2          dtImp3           dtImp4           ⋯ rfmtry rfRMSE  \n",
              "fb    twtrmentions5MA twtrmentionslag1 twtrmentions10MA ⋯ 15     3101887 \n",
              "aapl  vol             instvol          twtrmentions5MA  ⋯ 18     20945843\n",
              "amzn  retailvol       instvol          twtrmentions     ⋯ 14     569377.4\n",
              "nflx  vol             newsmentions5MA  twtrmentions10MA ⋯ 17     1365957 \n",
              "googl instvol         retailvol        twtrmentions     ⋯ 16     218343.1\n",
              "      rfRMSESD rfMAE    rfMAESD  rfImp1          rfImp2       rfImp3         \n",
              "fb    1583528  2268379  1028315  twtrmentions5MA twtrmentions vol            \n",
              "aapl  6057220  15743227 5455491  retailvol       vol          twtrmentions5MA\n",
              "amzn  266374.1 439145.4 192374.5 vol             retailvol    instvol        \n",
              "nflx  562910.2 987825.7 350844.1 twtrmentions5MA retailvol    newsmentions5MA\n",
              "googl 57913.32 175594.4 51015.18 vol             retailvol    instvol        \n",
              "      rfImp4          rfImp5          \n",
              "fb    retailvol       instvol         \n",
              "aapl  instvol         twtrmentions    \n",
              "amzn  twtrmentions5MA retailperc      \n",
              "nflx  vol             newsmentions10MA\n",
              "googl twtrmentions    twtrmentions5MA "
            ],
            "text/latex": "A matrix: 5 × 21\n\\begin{tabular}{r|lllllllllllllllllllll}\n  & ticker & dtcp & dtRMSE & dtRMSESD & dtMAE & dtMAESD & dtImp1 & dtImp2 & dtImp3 & dtImp4 & ⋯ & rfmtry & rfRMSE & rfRMSESD & rfMAE & rfMAESD & rfImp1 & rfImp2 & rfImp3 & rfImp4 & rfImp5\\\\\n  & <chr> & <chr> & <chr> & <chr> & <chr> & <dbl> & <dbl> & <dbl> & <dbl> & <dbl> & ⋯ & <chr> & <chr> & <chr> & <chr> & <chr> & <chr> & <chr> & <chr> & <chr> & <chr>\\\\\n\\hline\n\tfb & FB & 0.017 & 3192049 & 1510859 & 2361650 & 1023428 & twtrmentions & twtrmentions5MA & twtrmentionslag1 & twtrmentions10MA & ⋯ & 15 & 3101887 & 1583528 & 2268379 & 1028315 & twtrmentions5MA & twtrmentions & vol & retailvol & instvol\\\\\n\taapl & AAPL & 0.0139 & 22443614 & 7603817 & 17036457 & 6339696 & retailvol & vol & instvol & twtrmentions5MA & ⋯ & 18 & 20945843 & 6057220 & 15743227 & 5455491 & retailvol & vol & twtrmentions5MA & instvol & twtrmentions\\\\\n\tamzn & AMZN & 0.0143 & 593301.3 & 261461.5 & 456437.5 & 182841.7 & vol & retailvol & instvol & twtrmentions & ⋯ & 14 & 569377.4 & 266374.1 & 439145.4 & 192374.5 & vol & retailvol & instvol & twtrmentions5MA & retailperc\\\\\n\tnflx & NFLX & 0.02 & 1554612 & 562743.4 & 1089771 & 323673.2 & twtrmentions5MA & vol & newsmentions5MA & twtrmentions10MA & ⋯ & 17 & 1365957 & 562910.2 & 987825.7 & 350844.1 & twtrmentions5MA & retailvol & newsmentions5MA & vol & newsmentions10MA\\\\\n\tgoogl & GOOGL & 0.0146 & 239141.9 & 95509.74 & 188185.5 & 86697.91 & vol & instvol & retailvol & twtrmentions & ⋯ & 16 & 218343.1 & 57913.32 & 175594.4 & 51015.18 & vol & retailvol & instvol & twtrmentions & twtrmentions5MA\\\\\n\\end{tabular}\n",
            "text/markdown": "\nA matrix: 5 × 21\n\n| <!--/--> | ticker &lt;chr&gt; | dtcp &lt;chr&gt; | dtRMSE &lt;chr&gt; | dtRMSESD &lt;chr&gt; | dtMAE &lt;chr&gt; | dtMAESD &lt;dbl&gt; | dtImp1 &lt;dbl&gt; | dtImp2 &lt;dbl&gt; | dtImp3 &lt;dbl&gt; | dtImp4 &lt;dbl&gt; | ⋯ ⋯ | rfmtry &lt;chr&gt; | rfRMSE &lt;chr&gt; | rfRMSESD &lt;chr&gt; | rfMAE &lt;chr&gt; | rfMAESD &lt;chr&gt; | rfImp1 &lt;chr&gt; | rfImp2 &lt;chr&gt; | rfImp3 &lt;chr&gt; | rfImp4 &lt;chr&gt; | rfImp5 &lt;chr&gt; |\n|---|---|---|---|---|---|---|---|---|---|---|---|---|---|---|---|---|---|---|---|---|---|\n| fb | FB | 0.017 | 3192049 | 1510859 | 2361650 | 1023428 | twtrmentions | twtrmentions5MA | twtrmentionslag1 | twtrmentions10MA | ⋯ | 15 | 3101887 | 1583528 | 2268379 | 1028315 | twtrmentions5MA | twtrmentions | vol | retailvol | instvol |\n| aapl | AAPL | 0.0139 | 22443614 | 7603817 | 17036457 | 6339696 | retailvol | vol | instvol | twtrmentions5MA | ⋯ | 18 | 20945843 | 6057220 | 15743227 | 5455491 | retailvol | vol | twtrmentions5MA | instvol | twtrmentions |\n| amzn | AMZN | 0.0143 | 593301.3 | 261461.5 | 456437.5 | 182841.7 | vol | retailvol | instvol | twtrmentions | ⋯ | 14 | 569377.4 | 266374.1 | 439145.4 | 192374.5 | vol | retailvol | instvol | twtrmentions5MA | retailperc |\n| nflx | NFLX | 0.02 | 1554612 | 562743.4 | 1089771 | 323673.2 | twtrmentions5MA | vol | newsmentions5MA | twtrmentions10MA | ⋯ | 17 | 1365957 | 562910.2 | 987825.7 | 350844.1 | twtrmentions5MA | retailvol | newsmentions5MA | vol | newsmentions10MA |\n| googl | GOOGL | 0.0146 | 239141.9 | 95509.74 | 188185.5 | 86697.91 | vol | instvol | retailvol | twtrmentions | ⋯ | 16 | 218343.1 | 57913.32 | 175594.4 | 51015.18 | vol | retailvol | instvol | twtrmentions | twtrmentions5MA |\n\n",
            "text/html": [
              "<table class=\"dataframe\">\n",
              "<caption>A matrix: 5 × 21</caption>\n",
              "<thead>\n",
              "\t<tr><th></th><th scope=col>ticker</th><th scope=col>dtcp</th><th scope=col>dtRMSE</th><th scope=col>dtRMSESD</th><th scope=col>dtMAE</th><th scope=col>dtMAESD</th><th scope=col>dtImp1</th><th scope=col>dtImp2</th><th scope=col>dtImp3</th><th scope=col>dtImp4</th><th scope=col>⋯</th><th scope=col>rfmtry</th><th scope=col>rfRMSE</th><th scope=col>rfRMSESD</th><th scope=col>rfMAE</th><th scope=col>rfMAESD</th><th scope=col>rfImp1</th><th scope=col>rfImp2</th><th scope=col>rfImp3</th><th scope=col>rfImp4</th><th scope=col>rfImp5</th></tr>\n",
              "\t<tr><th></th><th scope=col>&lt;chr&gt;</th><th scope=col>&lt;chr&gt;</th><th scope=col>&lt;chr&gt;</th><th scope=col>&lt;chr&gt;</th><th scope=col>&lt;chr&gt;</th><th scope=col>&lt;dbl&gt;</th><th scope=col>&lt;dbl&gt;</th><th scope=col>&lt;dbl&gt;</th><th scope=col>&lt;dbl&gt;</th><th scope=col>&lt;dbl&gt;</th><th scope=col>⋯</th><th scope=col>&lt;chr&gt;</th><th scope=col>&lt;chr&gt;</th><th scope=col>&lt;chr&gt;</th><th scope=col>&lt;chr&gt;</th><th scope=col>&lt;chr&gt;</th><th scope=col>&lt;chr&gt;</th><th scope=col>&lt;chr&gt;</th><th scope=col>&lt;chr&gt;</th><th scope=col>&lt;chr&gt;</th><th scope=col>&lt;chr&gt;</th></tr>\n",
              "</thead>\n",
              "<tbody>\n",
              "\t<tr><th scope=row>fb</th><td>FB</td><td>0.017</td><td>3192049</td><td>1510859</td><td>2361650</td><td>1023428</td><td>twtrmentions</td><td>twtrmentions5MA</td><td>twtrmentionslag1</td><td>twtrmentions10MA</td><td>⋯</td><td>15</td><td>3101887</td><td>1583528</td><td>2268379</td><td>1028315</td><td>twtrmentions5MA</td><td>twtrmentions</td><td>vol</td><td>retailvol</td><td>instvol</td></tr>\n",
              "\t<tr><th scope=row>aapl</th><td>AAPL</td><td>0.0139</td><td>22443614</td><td>7603817</td><td>17036457</td><td>6339696</td><td>retailvol</td><td>vol</td><td>instvol</td><td>twtrmentions5MA</td><td>⋯</td><td>18</td><td>20945843</td><td>6057220</td><td>15743227</td><td>5455491</td><td>retailvol</td><td>vol</td><td>twtrmentions5MA</td><td>instvol</td><td>twtrmentions</td></tr>\n",
              "\t<tr><th scope=row>amzn</th><td>AMZN</td><td>0.0143</td><td>593301.3</td><td>261461.5</td><td>456437.5</td><td>182841.7</td><td>vol</td><td>retailvol</td><td>instvol</td><td>twtrmentions</td><td>⋯</td><td>14</td><td>569377.4</td><td>266374.1</td><td>439145.4</td><td>192374.5</td><td>vol</td><td>retailvol</td><td>instvol</td><td>twtrmentions5MA</td><td>retailperc</td></tr>\n",
              "\t<tr><th scope=row>nflx</th><td>NFLX</td><td>0.02</td><td>1554612</td><td>562743.4</td><td>1089771</td><td>323673.2</td><td>twtrmentions5MA</td><td>vol</td><td>newsmentions5MA</td><td>twtrmentions10MA</td><td>⋯</td><td>17</td><td>1365957</td><td>562910.2</td><td>987825.7</td><td>350844.1</td><td>twtrmentions5MA</td><td>retailvol</td><td>newsmentions5MA</td><td>vol</td><td>newsmentions10MA</td></tr>\n",
              "\t<tr><th scope=row>googl</th><td>GOOGL</td><td>0.0146</td><td>239141.9</td><td>95509.74</td><td>188185.5</td><td>86697.91</td><td>vol</td><td>instvol</td><td>retailvol</td><td>twtrmentions</td><td>⋯</td><td>16</td><td>218343.1</td><td>57913.32</td><td>175594.4</td><td>51015.18</td><td>vol</td><td>retailvol</td><td>instvol</td><td>twtrmentions</td><td>twtrmentions5MA</td></tr>\n",
              "</tbody>\n",
              "</table>\n"
            ]
          },
          "metadata": {}
        }
      ]
    },
    {
      "cell_type": "code",
      "metadata": {
        "id": "d-LERqyNYPsd",
        "colab": {
          "base_uri": "https://localhost:8080/",
          "height": 274
        },
        "outputId": "d3397648-7dab-4407-8b8b-20c47b53ced9"
      },
      "source": [
        "fb_xgb = run_xgb(\"FB\", expanded_feature)\n",
        "aapl_xgb = run_xgb(\"AAPL\", expanded_feature)\n",
        "amzn_xgb = run_xgb(\"AMZN\", expanded_feature)\n",
        "nflx_xgb = run_xgb(\"NFLX\", expanded_feature)\n",
        "googl_xgb = run_xgb(\"GOOGL\", expanded_feature)\n",
        "\n",
        "expandedfeature_xgb = rbind(fb_xgb, aapl_xgb, amzn_xgb, nflx_xgb, googl_xgb)\n",
        "\n",
        "expandedfeature_xgb"
      ],
      "execution_count": 148,
      "outputs": [
        {
          "output_type": "display_data",
          "data": {
            "text/plain": [
              "          ticker xgbmaxdepth xgbgamma xgbeta xgbsubsample xgbRMSE  xgbRMSESD\n",
              "fb_xgb    FB     7           0        0.04   0.5          2940350  1316125  \n",
              "aapl_xgb  AAPL   6           0        0.045  0.3          21117405 7071684  \n",
              "amzn_xgb  AMZN   6           0.05     0.04   0.5          545361.5 269694.1 \n",
              "nflx_xgb  NFLX   6           0.05     0.04   0.3          1355054  578355.2 \n",
              "googl_xgb GOOGL  7           0.05     0.04   0.3          202610.7 74095.64 \n",
              "          xgbMAE   xgbMAESD xgbImp1         xgbImp2         xgbImp3        \n",
              "fb_xgb    2123835  813502.7 twtrmentions5MA vol             twtrmentions   \n",
              "aapl_xgb  15919876 6333682  retailvol       twtrmentions5MA vol            \n",
              "amzn_xgb  415735   187582.2 vol             instvol         retailvol      \n",
              "nflx_xgb  948327.4 278613.1 twtrmentions5MA retailvol       newsmentions5MA\n",
              "googl_xgb 160103.6 67919.39 retailvol       vol             instvol        \n",
              "          xgbImp4          xgbImp5        \n",
              "fb_xgb    twtrmentionslag1 retailvol      \n",
              "aapl_xgb  twtrmentions10MA twtrmentions   \n",
              "amzn_xgb  retailperc       twtrmentions5MA\n",
              "nflx_xgb  newsmentions10MA twtrmentions   \n",
              "googl_xgb twtrmentions     newsmentions5MA"
            ],
            "text/latex": "A matrix: 5 × 14\n\\begin{tabular}{r|llllllllllllll}\n  & ticker & xgbmaxdepth & xgbgamma & xgbeta & xgbsubsample & xgbRMSE & xgbRMSESD & xgbMAE & xgbMAESD & xgbImp1 & xgbImp2 & xgbImp3 & xgbImp4 & xgbImp5\\\\\n  & <chr> & <chr> & <chr> & <chr> & <chr> & <int> & <int> & <int> & <int> & <int> & ⋯ & <chr> & <chr> & <chr> & <chr> & <chr> & <chr> & <chr> & <chr> & <chr> & <chr>\\\\\n\\hline\n\tfb\\_xgb & FB & 7 & 0 & 0.04 & 0.5 & 2940350 & 1316125 & 2123835 & 813502.7 & twtrmentions5MA & vol & twtrmentions & twtrmentionslag1 & retailvol\\\\\n\taapl\\_xgb & AAPL & 6 & 0 & 0.045 & 0.3 & 21117405 & 7071684 & 15919876 & 6333682 & retailvol & twtrmentions5MA & vol & twtrmentions10MA & twtrmentions\\\\\n\tamzn\\_xgb & AMZN & 6 & 0.05 & 0.04 & 0.5 & 545361.5 & 269694.1 & 415735 & 187582.2 & vol & instvol & retailvol & retailperc & twtrmentions5MA\\\\\n\tnflx\\_xgb & NFLX & 6 & 0.05 & 0.04 & 0.3 & 1355054 & 578355.2 & 948327.4 & 278613.1 & twtrmentions5MA & retailvol & newsmentions5MA & newsmentions10MA & twtrmentions\\\\\n\tgoogl\\_xgb & GOOGL & 7 & 0.05 & 0.04 & 0.3 & 202610.7 & 74095.64 & 160103.6 & 67919.39 & retailvol & vol & instvol & twtrmentions & newsmentions5MA\\\\\n\\end{tabular}\n",
            "text/markdown": "\nA matrix: 5 × 14\n\n| <!--/--> | ticker &lt;chr&gt; | xgbmaxdepth &lt;chr&gt; | xgbgamma &lt;chr&gt; | xgbeta &lt;chr&gt; | xgbsubsample &lt;chr&gt; | xgbRMSE &lt;int&gt; | xgbRMSESD &lt;int&gt; | xgbMAE &lt;int&gt; | xgbMAESD &lt;int&gt; | xgbImp1 &lt;int&gt; | xgbImp2 ⋯ | xgbImp3 &lt;chr&gt; | xgbImp4 &lt;chr&gt; | xgbImp5 &lt;chr&gt; | ticker &lt;chr&gt; | xgbmaxdepth &lt;chr&gt; | xgbgamma &lt;chr&gt; | xgbeta &lt;chr&gt; | xgbsubsample &lt;chr&gt; | xgbRMSE &lt;chr&gt; | xgbRMSESD &lt;chr&gt; |\n|---|---|---|---|---|---|---|---|---|---|---|---|---|---|---|\n| fb_xgb | FB | 7 | 0 | 0.04 | 0.5 | 2940350 | 1316125 | 2123835 | 813502.7 | twtrmentions5MA | vol | twtrmentions | twtrmentionslag1 | retailvol |\n| aapl_xgb | AAPL | 6 | 0 | 0.045 | 0.3 | 21117405 | 7071684 | 15919876 | 6333682 | retailvol | twtrmentions5MA | vol | twtrmentions10MA | twtrmentions |\n| amzn_xgb | AMZN | 6 | 0.05 | 0.04 | 0.5 | 545361.5 | 269694.1 | 415735 | 187582.2 | vol | instvol | retailvol | retailperc | twtrmentions5MA |\n| nflx_xgb | NFLX | 6 | 0.05 | 0.04 | 0.3 | 1355054 | 578355.2 | 948327.4 | 278613.1 | twtrmentions5MA | retailvol | newsmentions5MA | newsmentions10MA | twtrmentions |\n| googl_xgb | GOOGL | 7 | 0.05 | 0.04 | 0.3 | 202610.7 | 74095.64 | 160103.6 | 67919.39 | retailvol | vol | instvol | twtrmentions | newsmentions5MA |\n\n",
            "text/html": [
              "<table class=\"dataframe\">\n",
              "<caption>A matrix: 5 × 14</caption>\n",
              "<thead>\n",
              "\t<tr><th></th><th scope=col>ticker</th><th scope=col>xgbmaxdepth</th><th scope=col>xgbgamma</th><th scope=col>xgbeta</th><th scope=col>xgbsubsample</th><th scope=col>xgbRMSE</th><th scope=col>xgbRMSESD</th><th scope=col>xgbMAE</th><th scope=col>xgbMAESD</th><th scope=col>xgbImp1</th><th scope=col>xgbImp2</th><th scope=col>xgbImp3</th><th scope=col>xgbImp4</th><th scope=col>xgbImp5</th></tr>\n",
              "\t<tr><th></th><th scope=col>&lt;chr&gt;</th><th scope=col>&lt;chr&gt;</th><th scope=col>&lt;chr&gt;</th><th scope=col>&lt;chr&gt;</th><th scope=col>&lt;chr&gt;</th><th scope=col>&lt;int&gt;</th><th scope=col>&lt;int&gt;</th><th scope=col>&lt;int&gt;</th><th scope=col>&lt;int&gt;</th><th scope=col>&lt;int&gt;</th><th scope=col>⋯</th><th scope=col>&lt;chr&gt;</th><th scope=col>&lt;chr&gt;</th><th scope=col>&lt;chr&gt;</th><th scope=col>&lt;chr&gt;</th><th scope=col>&lt;chr&gt;</th><th scope=col>&lt;chr&gt;</th><th scope=col>&lt;chr&gt;</th><th scope=col>&lt;chr&gt;</th><th scope=col>&lt;chr&gt;</th><th scope=col>&lt;chr&gt;</th></tr>\n",
              "</thead>\n",
              "<tbody>\n",
              "\t<tr><th scope=row>fb_xgb</th><td>FB</td><td>7</td><td>0</td><td>0.04</td><td>0.5</td><td>2940350</td><td>1316125</td><td>2123835</td><td>813502.7</td><td>twtrmentions5MA</td><td>vol</td><td>twtrmentions</td><td>twtrmentionslag1</td><td>retailvol</td></tr>\n",
              "\t<tr><th scope=row>aapl_xgb</th><td>AAPL</td><td>6</td><td>0</td><td>0.045</td><td>0.3</td><td>21117405</td><td>7071684</td><td>15919876</td><td>6333682</td><td>retailvol</td><td>twtrmentions5MA</td><td>vol</td><td>twtrmentions10MA</td><td>twtrmentions</td></tr>\n",
              "\t<tr><th scope=row>amzn_xgb</th><td>AMZN</td><td>6</td><td>0.05</td><td>0.04</td><td>0.5</td><td>545361.5</td><td>269694.1</td><td>415735</td><td>187582.2</td><td>vol</td><td>instvol</td><td>retailvol</td><td>retailperc</td><td>twtrmentions5MA</td></tr>\n",
              "\t<tr><th scope=row>nflx_xgb</th><td>NFLX</td><td>6</td><td>0.05</td><td>0.04</td><td>0.3</td><td>1355054</td><td>578355.2</td><td>948327.4</td><td>278613.1</td><td>twtrmentions5MA</td><td>retailvol</td><td>newsmentions5MA</td><td>newsmentions10MA</td><td>twtrmentions</td></tr>\n",
              "\t<tr><th scope=row>googl_xgb</th><td>GOOGL</td><td>7</td><td>0.05</td><td>0.04</td><td>0.3</td><td>202610.7</td><td>74095.64</td><td>160103.6</td><td>67919.39</td><td>retailvol</td><td>vol</td><td>instvol</td><td>twtrmentions</td><td>newsmentions5MA</td></tr>\n",
              "</tbody>\n",
              "</table>\n"
            ]
          },
          "metadata": {}
        }
      ]
    },
    {
      "cell_type": "code",
      "metadata": {
        "id": "MPCc6ss9qubU"
      },
      "source": [
        "expandedfeature %>% write.csv(\"expandedfeature_dtrf.csv\")\n",
        "expandedfeature_xgb %>% write.csv(\"expandedfeature_xgb.csv\")"
      ],
      "execution_count": 149,
      "outputs": []
    },
    {
      "cell_type": "markdown",
      "metadata": {
        "id": "6OAbFU8ibwYM"
      },
      "source": [
        "## **Set 3: Full Feature Set**"
      ]
    },
    {
      "cell_type": "code",
      "metadata": {
        "colab": {
          "base_uri": "https://localhost:8080/",
          "height": 274
        },
        "id": "IgvJkmdHb2c0",
        "outputId": "3ec28ba5-f328-40de-b72e-e780b0cdfadd"
      },
      "source": [
        "fb = run_models(\"FB\", full_feature)\n",
        "aapl = run_models(\"AAPL\", full_feature)\n",
        "amzn = run_models(\"AMZN\", full_feature)\n",
        "nflx = run_models(\"NFLX\", full_feature)\n",
        "googl = run_models(\"GOOGL\", full_feature)\n",
        "\n",
        "fullfeature = rbind(fb, aapl, amzn, nflx, googl)\n",
        "\n",
        "fullfeature"
      ],
      "execution_count": 150,
      "outputs": [
        {
          "output_type": "display_data",
          "data": {
            "text/plain": [
              "      ticker dtcp   dtRMSE   dtRMSESD dtMAE    dtMAESD  dtImp1       \n",
              "fb    FB     6e-04  2238791  1441865  1430356  770896.2 retailvollag2\n",
              "aapl  AAPL   0.0089 13117914 4022277  9777528  3470345  retailvollag2\n",
              "amzn  AMZN   2e-04  363045.1 271180   243768.3 172565.1 retailvollag2\n",
              "nflx  NFLX   1e-04  881995   595823.2 552034   300157.7 retailvollag2\n",
              "googl GOOGL  0      136557.4 98796.63 94775.24 75454.21 retailvollag2\n",
              "      dtImp2        dtImp3        dtImp4        ⋯ rfmtry rfRMSE   rfRMSESD\n",
              "fb    retailvol     retailvollag1 vol           ⋯ 22     1711305  1033694 \n",
              "aapl  retailvollag4 retailvol     retailvollag1 ⋯ 22     10764567 3867481 \n",
              "amzn  retailvollag4 retailvol     retailvollag1 ⋯ 22     293086.6 213449.4\n",
              "nflx  vol           retailvol     retailvollag4 ⋯ 22     796360   564894.9\n",
              "googl retailvollag4 retailvol     retailvollag1 ⋯ 22     98709.28 57259.47\n",
              "      rfMAE    rfMAESD  rfImp1        rfImp2        rfImp3          \n",
              "fb    1059662  468620.6 retailvollag2 retailvollag4 twtrmentionslag1\n",
              "aapl  7589728  2757691  retailvollag2 retailvollag4 retailvollag1   \n",
              "amzn  198472.5 124730.5 retailvollag2 retailvollag4 vol             \n",
              "nflx  477807.5 266554.4 retailvollag2 retailvollag4 twtrmentions5MA \n",
              "googl 67722.07 40860.34 retailvollag2 retailvollag4 twtrmentions    \n",
              "      rfImp4        rfImp5       \n",
              "fb    retailvollag1 retailvol    \n",
              "aapl  retailvol     vol          \n",
              "amzn  retailvol     retailvollag1\n",
              "nflx  retailvol     retailvollag1\n",
              "googl retailvollag1 vol          "
            ],
            "text/latex": "A matrix: 5 × 21\n\\begin{tabular}{r|lllllllllllllllllllll}\n  & ticker & dtcp & dtRMSE & dtRMSESD & dtMAE & dtMAESD & dtImp1 & dtImp2 & dtImp3 & dtImp4 & ⋯ & rfmtry & rfRMSE & rfRMSESD & rfMAE & rfMAESD & rfImp1 & rfImp2 & rfImp3 & rfImp4 & rfImp5\\\\\n  & <chr> & <chr> & <chr> & <chr> & <chr> & <dbl> & <dbl> & <dbl> & <dbl> & <dbl> & ⋯ & <chr> & <chr> & <chr> & <chr> & <chr> & <chr> & <chr> & <chr> & <chr> & <chr>\\\\\n\\hline\n\tfb & FB & 6e-04 & 2238791 & 1441865 & 1430356 & 770896.2 & retailvollag2 & retailvol & retailvollag1 & vol & ⋯ & 22 & 1711305 & 1033694 & 1059662 & 468620.6 & retailvollag2 & retailvollag4 & twtrmentionslag1 & retailvollag1 & retailvol\\\\\n\taapl & AAPL & 0.0089 & 13117914 & 4022277 & 9777528 & 3470345 & retailvollag2 & retailvollag4 & retailvol & retailvollag1 & ⋯ & 22 & 10764567 & 3867481 & 7589728 & 2757691 & retailvollag2 & retailvollag4 & retailvollag1 & retailvol & vol\\\\\n\tamzn & AMZN & 2e-04 & 363045.1 & 271180 & 243768.3 & 172565.1 & retailvollag2 & retailvollag4 & retailvol & retailvollag1 & ⋯ & 22 & 293086.6 & 213449.4 & 198472.5 & 124730.5 & retailvollag2 & retailvollag4 & vol & retailvol & retailvollag1\\\\\n\tnflx & NFLX & 1e-04 & 881995 & 595823.2 & 552034 & 300157.7 & retailvollag2 & vol & retailvol & retailvollag4 & ⋯ & 22 & 796360 & 564894.9 & 477807.5 & 266554.4 & retailvollag2 & retailvollag4 & twtrmentions5MA & retailvol & retailvollag1\\\\\n\tgoogl & GOOGL & 0 & 136557.4 & 98796.63 & 94775.24 & 75454.21 & retailvollag2 & retailvollag4 & retailvol & retailvollag1 & ⋯ & 22 & 98709.28 & 57259.47 & 67722.07 & 40860.34 & retailvollag2 & retailvollag4 & twtrmentions & retailvollag1 & vol\\\\\n\\end{tabular}\n",
            "text/markdown": "\nA matrix: 5 × 21\n\n| <!--/--> | ticker &lt;chr&gt; | dtcp &lt;chr&gt; | dtRMSE &lt;chr&gt; | dtRMSESD &lt;chr&gt; | dtMAE &lt;chr&gt; | dtMAESD &lt;dbl&gt; | dtImp1 &lt;dbl&gt; | dtImp2 &lt;dbl&gt; | dtImp3 &lt;dbl&gt; | dtImp4 &lt;dbl&gt; | ⋯ ⋯ | rfmtry &lt;chr&gt; | rfRMSE &lt;chr&gt; | rfRMSESD &lt;chr&gt; | rfMAE &lt;chr&gt; | rfMAESD &lt;chr&gt; | rfImp1 &lt;chr&gt; | rfImp2 &lt;chr&gt; | rfImp3 &lt;chr&gt; | rfImp4 &lt;chr&gt; | rfImp5 &lt;chr&gt; |\n|---|---|---|---|---|---|---|---|---|---|---|---|---|---|---|---|---|---|---|---|---|---|\n| fb | FB | 6e-04 | 2238791 | 1441865 | 1430356 | 770896.2 | retailvollag2 | retailvol | retailvollag1 | vol | ⋯ | 22 | 1711305 | 1033694 | 1059662 | 468620.6 | retailvollag2 | retailvollag4 | twtrmentionslag1 | retailvollag1 | retailvol |\n| aapl | AAPL | 0.0089 | 13117914 | 4022277 | 9777528 | 3470345 | retailvollag2 | retailvollag4 | retailvol | retailvollag1 | ⋯ | 22 | 10764567 | 3867481 | 7589728 | 2757691 | retailvollag2 | retailvollag4 | retailvollag1 | retailvol | vol |\n| amzn | AMZN | 2e-04 | 363045.1 | 271180 | 243768.3 | 172565.1 | retailvollag2 | retailvollag4 | retailvol | retailvollag1 | ⋯ | 22 | 293086.6 | 213449.4 | 198472.5 | 124730.5 | retailvollag2 | retailvollag4 | vol | retailvol | retailvollag1 |\n| nflx | NFLX | 1e-04 | 881995 | 595823.2 | 552034 | 300157.7 | retailvollag2 | vol | retailvol | retailvollag4 | ⋯ | 22 | 796360 | 564894.9 | 477807.5 | 266554.4 | retailvollag2 | retailvollag4 | twtrmentions5MA | retailvol | retailvollag1 |\n| googl | GOOGL | 0 | 136557.4 | 98796.63 | 94775.24 | 75454.21 | retailvollag2 | retailvollag4 | retailvol | retailvollag1 | ⋯ | 22 | 98709.28 | 57259.47 | 67722.07 | 40860.34 | retailvollag2 | retailvollag4 | twtrmentions | retailvollag1 | vol |\n\n",
            "text/html": [
              "<table class=\"dataframe\">\n",
              "<caption>A matrix: 5 × 21</caption>\n",
              "<thead>\n",
              "\t<tr><th></th><th scope=col>ticker</th><th scope=col>dtcp</th><th scope=col>dtRMSE</th><th scope=col>dtRMSESD</th><th scope=col>dtMAE</th><th scope=col>dtMAESD</th><th scope=col>dtImp1</th><th scope=col>dtImp2</th><th scope=col>dtImp3</th><th scope=col>dtImp4</th><th scope=col>⋯</th><th scope=col>rfmtry</th><th scope=col>rfRMSE</th><th scope=col>rfRMSESD</th><th scope=col>rfMAE</th><th scope=col>rfMAESD</th><th scope=col>rfImp1</th><th scope=col>rfImp2</th><th scope=col>rfImp3</th><th scope=col>rfImp4</th><th scope=col>rfImp5</th></tr>\n",
              "\t<tr><th></th><th scope=col>&lt;chr&gt;</th><th scope=col>&lt;chr&gt;</th><th scope=col>&lt;chr&gt;</th><th scope=col>&lt;chr&gt;</th><th scope=col>&lt;chr&gt;</th><th scope=col>&lt;dbl&gt;</th><th scope=col>&lt;dbl&gt;</th><th scope=col>&lt;dbl&gt;</th><th scope=col>&lt;dbl&gt;</th><th scope=col>&lt;dbl&gt;</th><th scope=col>⋯</th><th scope=col>&lt;chr&gt;</th><th scope=col>&lt;chr&gt;</th><th scope=col>&lt;chr&gt;</th><th scope=col>&lt;chr&gt;</th><th scope=col>&lt;chr&gt;</th><th scope=col>&lt;chr&gt;</th><th scope=col>&lt;chr&gt;</th><th scope=col>&lt;chr&gt;</th><th scope=col>&lt;chr&gt;</th><th scope=col>&lt;chr&gt;</th></tr>\n",
              "</thead>\n",
              "<tbody>\n",
              "\t<tr><th scope=row>fb</th><td>FB</td><td>6e-04</td><td>2238791</td><td>1441865</td><td>1430356</td><td>770896.2</td><td>retailvollag2</td><td>retailvol</td><td>retailvollag1</td><td>vol</td><td>⋯</td><td>22</td><td>1711305</td><td>1033694</td><td>1059662</td><td>468620.6</td><td>retailvollag2</td><td>retailvollag4</td><td>twtrmentionslag1</td><td>retailvollag1</td><td>retailvol</td></tr>\n",
              "\t<tr><th scope=row>aapl</th><td>AAPL</td><td>0.0089</td><td>13117914</td><td>4022277</td><td>9777528</td><td>3470345</td><td>retailvollag2</td><td>retailvollag4</td><td>retailvol</td><td>retailvollag1</td><td>⋯</td><td>22</td><td>10764567</td><td>3867481</td><td>7589728</td><td>2757691</td><td>retailvollag2</td><td>retailvollag4</td><td>retailvollag1</td><td>retailvol</td><td>vol</td></tr>\n",
              "\t<tr><th scope=row>amzn</th><td>AMZN</td><td>2e-04</td><td>363045.1</td><td>271180</td><td>243768.3</td><td>172565.1</td><td>retailvollag2</td><td>retailvollag4</td><td>retailvol</td><td>retailvollag1</td><td>⋯</td><td>22</td><td>293086.6</td><td>213449.4</td><td>198472.5</td><td>124730.5</td><td>retailvollag2</td><td>retailvollag4</td><td>vol</td><td>retailvol</td><td>retailvollag1</td></tr>\n",
              "\t<tr><th scope=row>nflx</th><td>NFLX</td><td>1e-04</td><td>881995</td><td>595823.2</td><td>552034</td><td>300157.7</td><td>retailvollag2</td><td>vol</td><td>retailvol</td><td>retailvollag4</td><td>⋯</td><td>22</td><td>796360</td><td>564894.9</td><td>477807.5</td><td>266554.4</td><td>retailvollag2</td><td>retailvollag4</td><td>twtrmentions5MA</td><td>retailvol</td><td>retailvollag1</td></tr>\n",
              "\t<tr><th scope=row>googl</th><td>GOOGL</td><td>0</td><td>136557.4</td><td>98796.63</td><td>94775.24</td><td>75454.21</td><td>retailvollag2</td><td>retailvollag4</td><td>retailvol</td><td>retailvollag1</td><td>⋯</td><td>22</td><td>98709.28</td><td>57259.47</td><td>67722.07</td><td>40860.34</td><td>retailvollag2</td><td>retailvollag4</td><td>twtrmentions</td><td>retailvollag1</td><td>vol</td></tr>\n",
              "</tbody>\n",
              "</table>\n"
            ]
          },
          "metadata": {}
        }
      ]
    },
    {
      "cell_type": "code",
      "metadata": {
        "colab": {
          "base_uri": "https://localhost:8080/",
          "height": 274
        },
        "id": "vS4bxI99b2V2",
        "outputId": "2dbf433f-920c-401b-d037-cab640edb953"
      },
      "source": [
        "fb_xgb = run_xgb(\"FB\", full_feature)\n",
        "aapl_xgb = run_xgb(\"AAPL\", full_feature)\n",
        "amzn_xgb = run_xgb(\"AMZN\", full_feature)\n",
        "nflx_xgb = run_xgb(\"NFLX\", full_feature)\n",
        "googl_xgb = run_xgb(\"GOOGL\", full_feature)\n",
        "\n",
        "fullfeature_xgb = rbind(fb_xgb, aapl_xgb, amzn_xgb, nflx_xgb, googl_xgb)\n",
        "\n",
        "fullfeature_xgb"
      ],
      "execution_count": 151,
      "outputs": [
        {
          "output_type": "display_data",
          "data": {
            "text/plain": [
              "          ticker xgbmaxdepth xgbgamma xgbeta xgbsubsample xgbRMSE  xgbRMSESD\n",
              "fb_xgb    FB     7           0        0.05   0.5          1419172  917944.2 \n",
              "aapl_xgb  AAPL   6           0.05     0.05   0.5          9940415  3835115  \n",
              "amzn_xgb  AMZN   6           0        0.05   0.5          268617.2 229176.6 \n",
              "nflx_xgb  NFLX   6           0        0.05   0.5          706347.5 530455.1 \n",
              "googl_xgb GOOGL  7           0.05     0.05   0.5          74027.26 45309    \n",
              "          xgbMAE   xgbMAESD xgbImp1       xgbImp2       xgbImp3         \n",
              "fb_xgb    844184.9 340236.2 retailvollag2 retailvollag4 twtrmentionslag1\n",
              "aapl_xgb  6604849  2525869  retailvollag2 retailvollag4 retailvol       \n",
              "amzn_xgb  177374.7 127908.7 retailvollag2 retailvol     retailvollag4   \n",
              "nflx_xgb  416535.8 252120.3 retailvollag2 retailvol     twtrmentions5MA \n",
              "googl_xgb 50942.04 32592.22 retailvollag2 retailvol     twtrmentions    \n",
              "          xgbImp4       xgbImp5      \n",
              "fb_xgb    retailvol     vol          \n",
              "aapl_xgb  twtrmentions  vol          \n",
              "amzn_xgb  vol           retailperc   \n",
              "nflx_xgb  retailvollag4 twtrmentions \n",
              "googl_xgb retailperc    retailvollag4"
            ],
            "text/latex": "A matrix: 5 × 14\n\\begin{tabular}{r|llllllllllllll}\n  & ticker & xgbmaxdepth & xgbgamma & xgbeta & xgbsubsample & xgbRMSE & xgbRMSESD & xgbMAE & xgbMAESD & xgbImp1 & xgbImp2 & xgbImp3 & xgbImp4 & xgbImp5\\\\\n  & <chr> & <chr> & <chr> & <chr> & <chr> & <int> & <int> & <int> & <int> & <int> & ⋯ & <chr> & <chr> & <chr> & <chr> & <chr> & <chr> & <chr> & <chr> & <chr> & <chr>\\\\\n\\hline\n\tfb\\_xgb & FB & 7 & 0 & 0.05 & 0.5 & 1419172 & 917944.2 & 844184.9 & 340236.2 & retailvollag2 & retailvollag4 & twtrmentionslag1 & retailvol & vol\\\\\n\taapl\\_xgb & AAPL & 6 & 0.05 & 0.05 & 0.5 & 9940415 & 3835115 & 6604849 & 2525869 & retailvollag2 & retailvollag4 & retailvol & twtrmentions & vol\\\\\n\tamzn\\_xgb & AMZN & 6 & 0 & 0.05 & 0.5 & 268617.2 & 229176.6 & 177374.7 & 127908.7 & retailvollag2 & retailvol & retailvollag4 & vol & retailperc\\\\\n\tnflx\\_xgb & NFLX & 6 & 0 & 0.05 & 0.5 & 706347.5 & 530455.1 & 416535.8 & 252120.3 & retailvollag2 & retailvol & twtrmentions5MA & retailvollag4 & twtrmentions\\\\\n\tgoogl\\_xgb & GOOGL & 7 & 0.05 & 0.05 & 0.5 & 74027.26 & 45309 & 50942.04 & 32592.22 & retailvollag2 & retailvol & twtrmentions & retailperc & retailvollag4\\\\\n\\end{tabular}\n",
            "text/markdown": "\nA matrix: 5 × 14\n\n| <!--/--> | ticker &lt;chr&gt; | xgbmaxdepth &lt;chr&gt; | xgbgamma &lt;chr&gt; | xgbeta &lt;chr&gt; | xgbsubsample &lt;chr&gt; | xgbRMSE &lt;int&gt; | xgbRMSESD &lt;int&gt; | xgbMAE &lt;int&gt; | xgbMAESD &lt;int&gt; | xgbImp1 &lt;int&gt; | xgbImp2 ⋯ | xgbImp3 &lt;chr&gt; | xgbImp4 &lt;chr&gt; | xgbImp5 &lt;chr&gt; | ticker &lt;chr&gt; | xgbmaxdepth &lt;chr&gt; | xgbgamma &lt;chr&gt; | xgbeta &lt;chr&gt; | xgbsubsample &lt;chr&gt; | xgbRMSE &lt;chr&gt; | xgbRMSESD &lt;chr&gt; |\n|---|---|---|---|---|---|---|---|---|---|---|---|---|---|---|\n| fb_xgb | FB | 7 | 0 | 0.05 | 0.5 | 1419172 | 917944.2 | 844184.9 | 340236.2 | retailvollag2 | retailvollag4 | twtrmentionslag1 | retailvol | vol |\n| aapl_xgb | AAPL | 6 | 0.05 | 0.05 | 0.5 | 9940415 | 3835115 | 6604849 | 2525869 | retailvollag2 | retailvollag4 | retailvol | twtrmentions | vol |\n| amzn_xgb | AMZN | 6 | 0 | 0.05 | 0.5 | 268617.2 | 229176.6 | 177374.7 | 127908.7 | retailvollag2 | retailvol | retailvollag4 | vol | retailperc |\n| nflx_xgb | NFLX | 6 | 0 | 0.05 | 0.5 | 706347.5 | 530455.1 | 416535.8 | 252120.3 | retailvollag2 | retailvol | twtrmentions5MA | retailvollag4 | twtrmentions |\n| googl_xgb | GOOGL | 7 | 0.05 | 0.05 | 0.5 | 74027.26 | 45309 | 50942.04 | 32592.22 | retailvollag2 | retailvol | twtrmentions | retailperc | retailvollag4 |\n\n",
            "text/html": [
              "<table class=\"dataframe\">\n",
              "<caption>A matrix: 5 × 14</caption>\n",
              "<thead>\n",
              "\t<tr><th></th><th scope=col>ticker</th><th scope=col>xgbmaxdepth</th><th scope=col>xgbgamma</th><th scope=col>xgbeta</th><th scope=col>xgbsubsample</th><th scope=col>xgbRMSE</th><th scope=col>xgbRMSESD</th><th scope=col>xgbMAE</th><th scope=col>xgbMAESD</th><th scope=col>xgbImp1</th><th scope=col>xgbImp2</th><th scope=col>xgbImp3</th><th scope=col>xgbImp4</th><th scope=col>xgbImp5</th></tr>\n",
              "\t<tr><th></th><th scope=col>&lt;chr&gt;</th><th scope=col>&lt;chr&gt;</th><th scope=col>&lt;chr&gt;</th><th scope=col>&lt;chr&gt;</th><th scope=col>&lt;chr&gt;</th><th scope=col>&lt;int&gt;</th><th scope=col>&lt;int&gt;</th><th scope=col>&lt;int&gt;</th><th scope=col>&lt;int&gt;</th><th scope=col>&lt;int&gt;</th><th scope=col>⋯</th><th scope=col>&lt;chr&gt;</th><th scope=col>&lt;chr&gt;</th><th scope=col>&lt;chr&gt;</th><th scope=col>&lt;chr&gt;</th><th scope=col>&lt;chr&gt;</th><th scope=col>&lt;chr&gt;</th><th scope=col>&lt;chr&gt;</th><th scope=col>&lt;chr&gt;</th><th scope=col>&lt;chr&gt;</th><th scope=col>&lt;chr&gt;</th></tr>\n",
              "</thead>\n",
              "<tbody>\n",
              "\t<tr><th scope=row>fb_xgb</th><td>FB</td><td>7</td><td>0</td><td>0.05</td><td>0.5</td><td>1419172</td><td>917944.2</td><td>844184.9</td><td>340236.2</td><td>retailvollag2</td><td>retailvollag4</td><td>twtrmentionslag1</td><td>retailvol</td><td>vol</td></tr>\n",
              "\t<tr><th scope=row>aapl_xgb</th><td>AAPL</td><td>6</td><td>0.05</td><td>0.05</td><td>0.5</td><td>9940415</td><td>3835115</td><td>6604849</td><td>2525869</td><td>retailvollag2</td><td>retailvollag4</td><td>retailvol</td><td>twtrmentions</td><td>vol</td></tr>\n",
              "\t<tr><th scope=row>amzn_xgb</th><td>AMZN</td><td>6</td><td>0</td><td>0.05</td><td>0.5</td><td>268617.2</td><td>229176.6</td><td>177374.7</td><td>127908.7</td><td>retailvollag2</td><td>retailvol</td><td>retailvollag4</td><td>vol</td><td>retailperc</td></tr>\n",
              "\t<tr><th scope=row>nflx_xgb</th><td>NFLX</td><td>6</td><td>0</td><td>0.05</td><td>0.5</td><td>706347.5</td><td>530455.1</td><td>416535.8</td><td>252120.3</td><td>retailvollag2</td><td>retailvol</td><td>twtrmentions5MA</td><td>retailvollag4</td><td>twtrmentions</td></tr>\n",
              "\t<tr><th scope=row>googl_xgb</th><td>GOOGL</td><td>7</td><td>0.05</td><td>0.05</td><td>0.5</td><td>74027.26</td><td>45309</td><td>50942.04</td><td>32592.22</td><td>retailvollag2</td><td>retailvol</td><td>twtrmentions</td><td>retailperc</td><td>retailvollag4</td></tr>\n",
              "</tbody>\n",
              "</table>\n"
            ]
          },
          "metadata": {}
        }
      ]
    },
    {
      "cell_type": "code",
      "metadata": {
        "id": "c6R9G4wub-jS"
      },
      "source": [
        "fullfeature %>% write.csv(\"fullfeature_dtrf.csv\")\n",
        "fullfeature_xgb %>% write.csv(\"fullfeature_xgb.csv\")"
      ],
      "execution_count": 152,
      "outputs": []
    },
    {
      "cell_type": "markdown",
      "metadata": {
        "id": "MnVS-J-7OX1s"
      },
      "source": [
        "## **Model Comparison**"
      ]
    },
    {
      "cell_type": "markdown",
      "metadata": {
        "id": "id7ExRqxTRTe"
      },
      "source": [
        "Bind all results together for easy comparison"
      ]
    },
    {
      "cell_type": "code",
      "metadata": {
        "id": "X98X-dUWObLK"
      },
      "source": [
        "dt_reduced = reducedfeature %>% as.data.frame() %>% select(c(1, 3:11)) %>% mutate(model = \"CART-ReducedFeature\")\n",
        "rf_reduced = reducedfeature %>% as.data.frame() %>% select(c(1, 13:21)) %>% mutate(model = \"RF-ReducedFeature\") %>% setNames(names(dt_reduced)) \n",
        "xgb_reduced = reducedfeature_xgb %>% as.data.frame() %>% select(c(1, 6:14)) %>% mutate(model = \"XGB-ReducedFeature\") %>% setNames(names(dt_reduced)) \n",
        "\n",
        "dt_expanded = expandedfeature %>% as.data.frame() %>% select(c(1, 3:11)) %>% mutate(model = \"CART-ExpandedFeature\")\n",
        "rf_expanded = expandedfeature %>% as.data.frame() %>% select(c(1, 13:21)) %>% mutate(model = \"RF-ExpandedFeature\") %>% setNames(names(dt_reduced)) \n",
        "xgb_expanded = expandedfeature_xgb %>% as.data.frame() %>% select(c(1, 6:14)) %>% mutate(model = \"XGB-ExpandedFeature\") %>% setNames(names(dt_reduced)) \n",
        "\n",
        "dt_full = fullfeature %>% as.data.frame() %>% select(c(1, 3:11)) %>% mutate(model = \"CART-FullFeature\") %>% setNames(names(dt_reduced)) \n",
        "rf_full = fullfeature %>% as.data.frame() %>% select(c(1, 13:21)) %>% mutate(model = \"RF-FullFeature\") %>% setNames(names(dt_reduced)) \n",
        "xgb_full = fullfeature_xgb %>% as.data.frame() %>% select(c(1, 6:14)) %>% mutate(model = \"XGB-FullFeature\") %>% setNames(names(dt_reduced)) \n",
        "\n",
        "full = rbind(dt_reduced, rf_reduced, xgb_reduced,\n",
        "              dt_expanded, rf_expanded, xgb_expanded,\n",
        "              dt_full, rf_full, xgb_full) %>%\n",
        "  rename (RMSE = dtRMSE, RMSESD = dtRMSESD, MAE = dtMAE, MAESD = dtMAESD)\n",
        "\n",
        "summary = bind_rows(full, n230)\n",
        "\n",
        "numeric_cols <- c(2:5)\n",
        "summary[numeric_cols] <- sapply(summary[numeric_cols], as.numeric)"
      ],
      "execution_count": 153,
      "outputs": []
    },
    {
      "cell_type": "markdown",
      "metadata": {
        "id": "vrs5qNpDYEyk"
      },
      "source": [
        "### **FB**"
      ]
    },
    {
      "cell_type": "code",
      "metadata": {
        "colab": {
          "base_uri": "https://localhost:8080/",
          "height": 411
        },
        "id": "iO-yHXVaVD7Q",
        "outputId": "9bb11919-162f-4443-d021-708e7f2ef32a"
      },
      "source": [
        "summary %>% filter(ticker == \"FB\") %>% arrange(RMSE) %>% relocate(model)"
      ],
      "execution_count": 161,
      "outputs": [
        {
          "output_type": "display_data",
          "data": {
            "text/plain": [
              "        model                ticker RMSE    RMSESD    MAE       MAESD    \n",
              "fb_xgb2 XGB-FullFeature      FB     1419172  917944.2  844184.9  340236.2\n",
              "fb5     RF-FullFeature       FB     1711305 1033694.0 1059662.3  468620.6\n",
              "fb4     CART-FullFeature     FB     2238791 1441865.2 1430356.5  770896.2\n",
              "fb_xgb1 XGB-ExpandedFeature  FB     2940350 1316124.6 2123835.1  813502.7\n",
              "fb3     RF-ExpandedFeature   FB     3101887 1583528.3 2268379.1 1028315.2\n",
              "fb2     CART-ExpandedFeature FB     3192049 1510859.2 2361650.1 1023428.3\n",
              "fb1     RF-ReducedFeature    FB     3195502 1428588.0 2249769.0  742313.6\n",
              "fb_xgb  XGB-ReducedFeature   FB     3222802 1381695.0 2322226.4  798641.5\n",
              "fb      CART-ReducedFeature  FB     3406178 1462228.3 2496446.9  973412.4\n",
              "nfb     Naive-MA             FB     9413647 1697246.7 8769982.2 1704405.9\n",
              "        dtImp1          dtImp2          dtImp3           dtImp4          \n",
              "fb_xgb2 retailvollag2   retailvollag4   twtrmentionslag1 retailvol       \n",
              "fb5     retailvollag2   retailvollag4   twtrmentionslag1 retailvollag1   \n",
              "fb4     retailvollag2   retailvol       retailvollag1    vol             \n",
              "fb_xgb1 twtrmentions5MA vol             twtrmentions     twtrmentionslag1\n",
              "fb3     twtrmentions5MA twtrmentions    vol              retailvol       \n",
              "fb2     twtrmentions    twtrmentions5MA twtrmentionslag1 twtrmentions10MA\n",
              "fb1     twtrmentions    vol             retailvol        instvol         \n",
              "fb_xgb  twtrmentions    vol             retailvol        newssentiment   \n",
              "fb      vol             instvol         retailvol        twtrmentions    \n",
              "nfb     NULL            NULL            NULL             NULL            \n",
              "        dtImp5          \n",
              "fb_xgb2 vol             \n",
              "fb5     retailvol       \n",
              "fb4     retailvollag4   \n",
              "fb_xgb1 retailvol       \n",
              "fb3     instvol         \n",
              "fb2     twtrmentionslag2\n",
              "fb1     retailperc      \n",
              "fb_xgb  twtrsentiment   \n",
              "fb      newsmentions    \n",
              "nfb     NULL            "
            ],
            "text/latex": "A data.frame: 10 × 11\n\\begin{tabular}{r|lllllllllll}\n  & model & ticker & RMSE & RMSESD & MAE & MAESD & dtImp1 & dtImp2 & dtImp3 & dtImp4 & dtImp5\\\\\n  & <chr> & <named list> & <dbl> & <dbl> & <dbl> & <dbl> & <named list> & <named list> & <named list> & <named list> & <named list>\\\\\n\\hline\n\tfb\\_xgb2 & XGB-FullFeature      & FB & 1419172 &  917944.2 &  844184.9 &  340236.2 & retailvollag2 & retailvollag4 & twtrmentionslag1 & retailvol & vol\\\\\n\tfb5 & RF-FullFeature       & FB & 1711305 & 1033694.0 & 1059662.3 &  468620.6 & retailvollag2 & retailvollag4 & twtrmentionslag1 & retailvollag1 & retailvol\\\\\n\tfb4 & CART-FullFeature     & FB & 2238791 & 1441865.2 & 1430356.5 &  770896.2 & retailvollag2 & retailvol & retailvollag1 & vol & retailvollag4\\\\\n\tfb\\_xgb1 & XGB-ExpandedFeature  & FB & 2940350 & 1316124.6 & 2123835.1 &  813502.7 & twtrmentions5MA & vol & twtrmentions & twtrmentionslag1 & retailvol\\\\\n\tfb3 & RF-ExpandedFeature   & FB & 3101887 & 1583528.3 & 2268379.1 & 1028315.2 & twtrmentions5MA & twtrmentions & vol & retailvol & instvol\\\\\n\tfb2 & CART-ExpandedFeature & FB & 3192049 & 1510859.2 & 2361650.1 & 1023428.3 & twtrmentions & twtrmentions5MA & twtrmentionslag1 & twtrmentions10MA & twtrmentionslag2\\\\\n\tfb1 & RF-ReducedFeature    & FB & 3195502 & 1428588.0 & 2249769.0 &  742313.6 & twtrmentions & vol & retailvol & instvol & retailperc\\\\\n\tfb\\_xgb & XGB-ReducedFeature   & FB & 3222802 & 1381695.0 & 2322226.4 &  798641.5 & twtrmentions & vol & retailvol & newssentiment & twtrsentiment\\\\\n\tfb & CART-ReducedFeature  & FB & 3406178 & 1462228.3 & 2496446.9 &  973412.4 & vol & instvol & retailvol & twtrmentions & newsmentions\\\\\n\tnfb & Naive-MA             & FB & 9413647 & 1697246.7 & 8769982.2 & 1704405.9 & NULL & NULL & NULL & NULL & NULL\\\\\n\\end{tabular}\n",
            "text/markdown": "\nA data.frame: 10 × 11\n\n| <!--/--> | model &lt;chr&gt; | ticker &lt;named list&gt; | RMSE &lt;dbl&gt; | RMSESD &lt;dbl&gt; | MAE &lt;dbl&gt; | MAESD &lt;dbl&gt; | dtImp1 &lt;named list&gt; | dtImp2 &lt;named list&gt; | dtImp3 &lt;named list&gt; | dtImp4 &lt;named list&gt; | dtImp5 &lt;named list&gt; |\n|---|---|---|---|---|---|---|---|---|---|---|---|\n| fb_xgb2 | XGB-FullFeature      | FB | 1419172 |  917944.2 |  844184.9 |  340236.2 | retailvollag2 | retailvollag4 | twtrmentionslag1 | retailvol | vol |\n| fb5 | RF-FullFeature       | FB | 1711305 | 1033694.0 | 1059662.3 |  468620.6 | retailvollag2 | retailvollag4 | twtrmentionslag1 | retailvollag1 | retailvol |\n| fb4 | CART-FullFeature     | FB | 2238791 | 1441865.2 | 1430356.5 |  770896.2 | retailvollag2 | retailvol | retailvollag1 | vol | retailvollag4 |\n| fb_xgb1 | XGB-ExpandedFeature  | FB | 2940350 | 1316124.6 | 2123835.1 |  813502.7 | twtrmentions5MA | vol | twtrmentions | twtrmentionslag1 | retailvol |\n| fb3 | RF-ExpandedFeature   | FB | 3101887 | 1583528.3 | 2268379.1 | 1028315.2 | twtrmentions5MA | twtrmentions | vol | retailvol | instvol |\n| fb2 | CART-ExpandedFeature | FB | 3192049 | 1510859.2 | 2361650.1 | 1023428.3 | twtrmentions | twtrmentions5MA | twtrmentionslag1 | twtrmentions10MA | twtrmentionslag2 |\n| fb1 | RF-ReducedFeature    | FB | 3195502 | 1428588.0 | 2249769.0 |  742313.6 | twtrmentions | vol | retailvol | instvol | retailperc |\n| fb_xgb | XGB-ReducedFeature   | FB | 3222802 | 1381695.0 | 2322226.4 |  798641.5 | twtrmentions | vol | retailvol | newssentiment | twtrsentiment |\n| fb | CART-ReducedFeature  | FB | 3406178 | 1462228.3 | 2496446.9 |  973412.4 | vol | instvol | retailvol | twtrmentions | newsmentions |\n| nfb | Naive-MA             | FB | 9413647 | 1697246.7 | 8769982.2 | 1704405.9 | NULL | NULL | NULL | NULL | NULL |\n\n",
            "text/html": [
              "<table class=\"dataframe\">\n",
              "<caption>A data.frame: 10 × 11</caption>\n",
              "<thead>\n",
              "\t<tr><th></th><th scope=col>model</th><th scope=col>ticker</th><th scope=col>RMSE</th><th scope=col>RMSESD</th><th scope=col>MAE</th><th scope=col>MAESD</th><th scope=col>dtImp1</th><th scope=col>dtImp2</th><th scope=col>dtImp3</th><th scope=col>dtImp4</th><th scope=col>dtImp5</th></tr>\n",
              "\t<tr><th></th><th scope=col>&lt;chr&gt;</th><th scope=col>&lt;named list&gt;</th><th scope=col>&lt;dbl&gt;</th><th scope=col>&lt;dbl&gt;</th><th scope=col>&lt;dbl&gt;</th><th scope=col>&lt;dbl&gt;</th><th scope=col>&lt;named list&gt;</th><th scope=col>&lt;named list&gt;</th><th scope=col>&lt;named list&gt;</th><th scope=col>&lt;named list&gt;</th><th scope=col>&lt;named list&gt;</th></tr>\n",
              "</thead>\n",
              "<tbody>\n",
              "\t<tr><th scope=row>fb_xgb2</th><td>XGB-FullFeature     </td><td>FB</td><td>1419172</td><td> 917944.2</td><td> 844184.9</td><td> 340236.2</td><td>retailvollag2</td><td>retailvollag4</td><td>twtrmentionslag1</td><td>retailvol</td><td>vol</td></tr>\n",
              "\t<tr><th scope=row>fb5</th><td>RF-FullFeature      </td><td>FB</td><td>1711305</td><td>1033694.0</td><td>1059662.3</td><td> 468620.6</td><td>retailvollag2</td><td>retailvollag4</td><td>twtrmentionslag1</td><td>retailvollag1</td><td>retailvol</td></tr>\n",
              "\t<tr><th scope=row>fb4</th><td>CART-FullFeature    </td><td>FB</td><td>2238791</td><td>1441865.2</td><td>1430356.5</td><td> 770896.2</td><td>retailvollag2</td><td>retailvol</td><td>retailvollag1</td><td>vol</td><td>retailvollag4</td></tr>\n",
              "\t<tr><th scope=row>fb_xgb1</th><td>XGB-ExpandedFeature </td><td>FB</td><td>2940350</td><td>1316124.6</td><td>2123835.1</td><td> 813502.7</td><td>twtrmentions5MA</td><td>vol</td><td>twtrmentions</td><td>twtrmentionslag1</td><td>retailvol</td></tr>\n",
              "\t<tr><th scope=row>fb3</th><td>RF-ExpandedFeature  </td><td>FB</td><td>3101887</td><td>1583528.3</td><td>2268379.1</td><td>1028315.2</td><td>twtrmentions5MA</td><td>twtrmentions</td><td>vol</td><td>retailvol</td><td>instvol</td></tr>\n",
              "\t<tr><th scope=row>fb2</th><td>CART-ExpandedFeature</td><td>FB</td><td>3192049</td><td>1510859.2</td><td>2361650.1</td><td>1023428.3</td><td>twtrmentions</td><td>twtrmentions5MA</td><td>twtrmentionslag1</td><td>twtrmentions10MA</td><td>twtrmentionslag2</td></tr>\n",
              "\t<tr><th scope=row>fb1</th><td>RF-ReducedFeature   </td><td>FB</td><td>3195502</td><td>1428588.0</td><td>2249769.0</td><td> 742313.6</td><td>twtrmentions</td><td>vol</td><td>retailvol</td><td>instvol</td><td>retailperc</td></tr>\n",
              "\t<tr><th scope=row>fb_xgb</th><td>XGB-ReducedFeature  </td><td>FB</td><td>3222802</td><td>1381695.0</td><td>2322226.4</td><td> 798641.5</td><td>twtrmentions</td><td>vol</td><td>retailvol</td><td>newssentiment</td><td>twtrsentiment</td></tr>\n",
              "\t<tr><th scope=row>fb</th><td>CART-ReducedFeature </td><td>FB</td><td>3406178</td><td>1462228.3</td><td>2496446.9</td><td> 973412.4</td><td>vol</td><td>instvol</td><td>retailvol</td><td>twtrmentions</td><td>newsmentions</td></tr>\n",
              "\t<tr><th scope=row>nfb</th><td>Naive-MA            </td><td>FB</td><td>9413647</td><td>1697246.7</td><td>8769982.2</td><td>1704405.9</td><td>NULL</td><td>NULL</td><td>NULL</td><td>NULL</td><td>NULL</td></tr>\n",
              "</tbody>\n",
              "</table>\n"
            ]
          },
          "metadata": {}
        }
      ]
    },
    {
      "cell_type": "markdown",
      "metadata": {
        "id": "Jaq3m2VuYIeP"
      },
      "source": [
        "### **AAPL**"
      ]
    },
    {
      "cell_type": "code",
      "metadata": {
        "colab": {
          "base_uri": "https://localhost:8080/",
          "height": 411
        },
        "id": "N-bXk2toYImh",
        "outputId": "f75b9a5a-def9-4fa5-b855-fe555bef747e"
      },
      "source": [
        "summary %>% filter(ticker == \"AAPL\") %>% arrange(RMSE) %>% relocate(model)"
      ],
      "execution_count": 160,
      "outputs": [
        {
          "output_type": "display_data",
          "data": {
            "text/plain": [
              "          model                ticker RMSE     RMSESD   MAE      MAESD   \n",
              "aapl_xgb2 XGB-FullFeature      AAPL    9940415  3835115  6604849  2525869\n",
              "aapl5     RF-FullFeature       AAPL   10764567  3867481  7589728  2757691\n",
              "aapl4     CART-FullFeature     AAPL   13117914  4022277  9777528  3470345\n",
              "aapl3     RF-ExpandedFeature   AAPL   20945843  6057220 15743227  5455491\n",
              "aapl_xgb1 XGB-ExpandedFeature  AAPL   21117405  7071684 15919876  6333682\n",
              "aapl1     RF-ReducedFeature    AAPL   21201287  5743820 15507473  4592960\n",
              "aapl_xgb  XGB-ReducedFeature   AAPL   21932968  6694709 16162093  5517417\n",
              "aapl      CART-ReducedFeature  AAPL   22029959  5085829 16253663  4251292\n",
              "aapl2     CART-ExpandedFeature AAPL   22443614  7603817 17036457  6339696\n",
              "naapl     Naive-MA             AAPL   66400556 12267754 61186562 12501870\n",
              "          dtImp1        dtImp2          dtImp3          dtImp4          \n",
              "aapl_xgb2 retailvollag2 retailvollag4   retailvol       twtrmentions    \n",
              "aapl5     retailvollag2 retailvollag4   retailvollag1   retailvol       \n",
              "aapl4     retailvollag2 retailvollag4   retailvol       retailvollag1   \n",
              "aapl3     retailvol     vol             twtrmentions5MA instvol         \n",
              "aapl_xgb1 retailvol     twtrmentions5MA vol             twtrmentions10MA\n",
              "aapl1     retailvol     vol             twtrmentions    instvol         \n",
              "aapl_xgb  retailvol     twtrmentions    vol             twtrsentiment   \n",
              "aapl      retailvol     vol             instvol         twtrmentions    \n",
              "aapl2     retailvol     vol             instvol         twtrmentions5MA \n",
              "naapl     NULL          NULL            NULL            NULL            \n",
              "          dtImp5      \n",
              "aapl_xgb2 vol         \n",
              "aapl5     vol         \n",
              "aapl4     vol         \n",
              "aapl3     twtrmentions\n",
              "aapl_xgb1 twtrmentions\n",
              "aapl1     retailperc  \n",
              "aapl_xgb  retailperc  \n",
              "aapl      retailperc  \n",
              "aapl2     twtrmentions\n",
              "naapl     NULL        "
            ],
            "text/latex": "A data.frame: 10 × 11\n\\begin{tabular}{r|lllllllllll}\n  & model & ticker & RMSE & RMSESD & MAE & MAESD & dtImp1 & dtImp2 & dtImp3 & dtImp4 & dtImp5\\\\\n  & <chr> & <named list> & <dbl> & <dbl> & <dbl> & <dbl> & <named list> & <named list> & <named list> & <named list> & <named list>\\\\\n\\hline\n\taapl\\_xgb2 & XGB-FullFeature      & AAPL &  9940415 &  3835115 &  6604849 &  2525869 & retailvollag2 & retailvollag4 & retailvol & twtrmentions & vol\\\\\n\taapl5 & RF-FullFeature       & AAPL & 10764567 &  3867481 &  7589728 &  2757691 & retailvollag2 & retailvollag4 & retailvollag1 & retailvol & vol\\\\\n\taapl4 & CART-FullFeature     & AAPL & 13117914 &  4022277 &  9777528 &  3470345 & retailvollag2 & retailvollag4 & retailvol & retailvollag1 & vol\\\\\n\taapl3 & RF-ExpandedFeature   & AAPL & 20945843 &  6057220 & 15743227 &  5455491 & retailvol & vol & twtrmentions5MA & instvol & twtrmentions\\\\\n\taapl\\_xgb1 & XGB-ExpandedFeature  & AAPL & 21117405 &  7071684 & 15919876 &  6333682 & retailvol & twtrmentions5MA & vol & twtrmentions10MA & twtrmentions\\\\\n\taapl1 & RF-ReducedFeature    & AAPL & 21201287 &  5743820 & 15507473 &  4592960 & retailvol & vol & twtrmentions & instvol & retailperc\\\\\n\taapl\\_xgb & XGB-ReducedFeature   & AAPL & 21932968 &  6694709 & 16162093 &  5517417 & retailvol & twtrmentions & vol & twtrsentiment & retailperc\\\\\n\taapl & CART-ReducedFeature  & AAPL & 22029959 &  5085829 & 16253663 &  4251292 & retailvol & vol & instvol & twtrmentions & retailperc\\\\\n\taapl2 & CART-ExpandedFeature & AAPL & 22443614 &  7603817 & 17036457 &  6339696 & retailvol & vol & instvol & twtrmentions5MA & twtrmentions\\\\\n\tnaapl & Naive-MA             & AAPL & 66400556 & 12267754 & 61186562 & 12501870 & NULL & NULL & NULL & NULL & NULL\\\\\n\\end{tabular}\n",
            "text/markdown": "\nA data.frame: 10 × 11\n\n| <!--/--> | model &lt;chr&gt; | ticker &lt;named list&gt; | RMSE &lt;dbl&gt; | RMSESD &lt;dbl&gt; | MAE &lt;dbl&gt; | MAESD &lt;dbl&gt; | dtImp1 &lt;named list&gt; | dtImp2 &lt;named list&gt; | dtImp3 &lt;named list&gt; | dtImp4 &lt;named list&gt; | dtImp5 &lt;named list&gt; |\n|---|---|---|---|---|---|---|---|---|---|---|---|\n| aapl_xgb2 | XGB-FullFeature      | AAPL |  9940415 |  3835115 |  6604849 |  2525869 | retailvollag2 | retailvollag4 | retailvol | twtrmentions | vol |\n| aapl5 | RF-FullFeature       | AAPL | 10764567 |  3867481 |  7589728 |  2757691 | retailvollag2 | retailvollag4 | retailvollag1 | retailvol | vol |\n| aapl4 | CART-FullFeature     | AAPL | 13117914 |  4022277 |  9777528 |  3470345 | retailvollag2 | retailvollag4 | retailvol | retailvollag1 | vol |\n| aapl3 | RF-ExpandedFeature   | AAPL | 20945843 |  6057220 | 15743227 |  5455491 | retailvol | vol | twtrmentions5MA | instvol | twtrmentions |\n| aapl_xgb1 | XGB-ExpandedFeature  | AAPL | 21117405 |  7071684 | 15919876 |  6333682 | retailvol | twtrmentions5MA | vol | twtrmentions10MA | twtrmentions |\n| aapl1 | RF-ReducedFeature    | AAPL | 21201287 |  5743820 | 15507473 |  4592960 | retailvol | vol | twtrmentions | instvol | retailperc |\n| aapl_xgb | XGB-ReducedFeature   | AAPL | 21932968 |  6694709 | 16162093 |  5517417 | retailvol | twtrmentions | vol | twtrsentiment | retailperc |\n| aapl | CART-ReducedFeature  | AAPL | 22029959 |  5085829 | 16253663 |  4251292 | retailvol | vol | instvol | twtrmentions | retailperc |\n| aapl2 | CART-ExpandedFeature | AAPL | 22443614 |  7603817 | 17036457 |  6339696 | retailvol | vol | instvol | twtrmentions5MA | twtrmentions |\n| naapl | Naive-MA             | AAPL | 66400556 | 12267754 | 61186562 | 12501870 | NULL | NULL | NULL | NULL | NULL |\n\n",
            "text/html": [
              "<table class=\"dataframe\">\n",
              "<caption>A data.frame: 10 × 11</caption>\n",
              "<thead>\n",
              "\t<tr><th></th><th scope=col>model</th><th scope=col>ticker</th><th scope=col>RMSE</th><th scope=col>RMSESD</th><th scope=col>MAE</th><th scope=col>MAESD</th><th scope=col>dtImp1</th><th scope=col>dtImp2</th><th scope=col>dtImp3</th><th scope=col>dtImp4</th><th scope=col>dtImp5</th></tr>\n",
              "\t<tr><th></th><th scope=col>&lt;chr&gt;</th><th scope=col>&lt;named list&gt;</th><th scope=col>&lt;dbl&gt;</th><th scope=col>&lt;dbl&gt;</th><th scope=col>&lt;dbl&gt;</th><th scope=col>&lt;dbl&gt;</th><th scope=col>&lt;named list&gt;</th><th scope=col>&lt;named list&gt;</th><th scope=col>&lt;named list&gt;</th><th scope=col>&lt;named list&gt;</th><th scope=col>&lt;named list&gt;</th></tr>\n",
              "</thead>\n",
              "<tbody>\n",
              "\t<tr><th scope=row>aapl_xgb2</th><td>XGB-FullFeature     </td><td>AAPL</td><td> 9940415</td><td> 3835115</td><td> 6604849</td><td> 2525869</td><td>retailvollag2</td><td>retailvollag4</td><td>retailvol</td><td>twtrmentions</td><td>vol</td></tr>\n",
              "\t<tr><th scope=row>aapl5</th><td>RF-FullFeature      </td><td>AAPL</td><td>10764567</td><td> 3867481</td><td> 7589728</td><td> 2757691</td><td>retailvollag2</td><td>retailvollag4</td><td>retailvollag1</td><td>retailvol</td><td>vol</td></tr>\n",
              "\t<tr><th scope=row>aapl4</th><td>CART-FullFeature    </td><td>AAPL</td><td>13117914</td><td> 4022277</td><td> 9777528</td><td> 3470345</td><td>retailvollag2</td><td>retailvollag4</td><td>retailvol</td><td>retailvollag1</td><td>vol</td></tr>\n",
              "\t<tr><th scope=row>aapl3</th><td>RF-ExpandedFeature  </td><td>AAPL</td><td>20945843</td><td> 6057220</td><td>15743227</td><td> 5455491</td><td>retailvol</td><td>vol</td><td>twtrmentions5MA</td><td>instvol</td><td>twtrmentions</td></tr>\n",
              "\t<tr><th scope=row>aapl_xgb1</th><td>XGB-ExpandedFeature </td><td>AAPL</td><td>21117405</td><td> 7071684</td><td>15919876</td><td> 6333682</td><td>retailvol</td><td>twtrmentions5MA</td><td>vol</td><td>twtrmentions10MA</td><td>twtrmentions</td></tr>\n",
              "\t<tr><th scope=row>aapl1</th><td>RF-ReducedFeature   </td><td>AAPL</td><td>21201287</td><td> 5743820</td><td>15507473</td><td> 4592960</td><td>retailvol</td><td>vol</td><td>twtrmentions</td><td>instvol</td><td>retailperc</td></tr>\n",
              "\t<tr><th scope=row>aapl_xgb</th><td>XGB-ReducedFeature  </td><td>AAPL</td><td>21932968</td><td> 6694709</td><td>16162093</td><td> 5517417</td><td>retailvol</td><td>twtrmentions</td><td>vol</td><td>twtrsentiment</td><td>retailperc</td></tr>\n",
              "\t<tr><th scope=row>aapl</th><td>CART-ReducedFeature </td><td>AAPL</td><td>22029959</td><td> 5085829</td><td>16253663</td><td> 4251292</td><td>retailvol</td><td>vol</td><td>instvol</td><td>twtrmentions</td><td>retailperc</td></tr>\n",
              "\t<tr><th scope=row>aapl2</th><td>CART-ExpandedFeature</td><td>AAPL</td><td>22443614</td><td> 7603817</td><td>17036457</td><td> 6339696</td><td>retailvol</td><td>vol</td><td>instvol</td><td>twtrmentions5MA</td><td>twtrmentions</td></tr>\n",
              "\t<tr><th scope=row>naapl</th><td>Naive-MA            </td><td>AAPL</td><td>66400556</td><td>12267754</td><td>61186562</td><td>12501870</td><td>NULL</td><td>NULL</td><td>NULL</td><td>NULL</td><td>NULL</td></tr>\n",
              "</tbody>\n",
              "</table>\n"
            ]
          },
          "metadata": {}
        }
      ]
    },
    {
      "cell_type": "markdown",
      "metadata": {
        "id": "sNbEmRJjYRX2"
      },
      "source": [
        "### **AMZN**"
      ]
    },
    {
      "cell_type": "code",
      "metadata": {
        "colab": {
          "base_uri": "https://localhost:8080/",
          "height": 411
        },
        "id": "uZ2801aWYR-G",
        "outputId": "873b5476-dfd7-48b2-a814-4abf952f39de"
      },
      "source": [
        "summary %>% filter(ticker == \"AMZN\") %>% arrange(RMSE) %>% relocate(model)"
      ],
      "execution_count": 159,
      "outputs": [
        {
          "output_type": "display_data",
          "data": {
            "text/plain": [
              "          model                ticker RMSE      RMSESD   MAE       MAESD   \n",
              "amzn_xgb2 XGB-FullFeature      AMZN    268617.2 229176.6  177374.7 127908.7\n",
              "amzn5     RF-FullFeature       AMZN    293086.6 213449.4  198472.5 124730.5\n",
              "amzn4     CART-FullFeature     AMZN    363045.1 271180.0  243768.3 172565.1\n",
              "amzn_xgb1 XGB-ExpandedFeature  AMZN    545361.5 269694.1  415735.0 187582.2\n",
              "amzn3     RF-ExpandedFeature   AMZN    569377.4 266374.1  439145.4 192374.5\n",
              "amzn      CART-ReducedFeature  AMZN    578427.7 242595.6  432587.4 171089.0\n",
              "amzn_xgb  XGB-ReducedFeature   AMZN    583855.3 310705.6  430219.1 223035.8\n",
              "amzn1     RF-ReducedFeature    AMZN    591472.1 273724.2  446768.4 206014.7\n",
              "amzn2     CART-ExpandedFeature AMZN    593301.3 261461.5  456437.5 182841.7\n",
              "namzn     Naive-MA             AMZN   2268849.9 306187.0 2129738.1 345349.0\n",
              "          dtImp1        dtImp2        dtImp3        dtImp4         \n",
              "amzn_xgb2 retailvollag2 retailvol     retailvollag4 vol            \n",
              "amzn5     retailvollag2 retailvollag4 vol           retailvol      \n",
              "amzn4     retailvollag2 retailvollag4 retailvol     retailvollag1  \n",
              "amzn_xgb1 vol           instvol       retailvol     retailperc     \n",
              "amzn3     vol           retailvol     instvol       twtrmentions5MA\n",
              "amzn      vol           instvol       retailvol     twtrmentions   \n",
              "amzn_xgb  vol           retailvol     instvol       retailperc     \n",
              "amzn1     vol           instvol       retailvol     twtrmentions   \n",
              "amzn2     vol           retailvol     instvol       twtrmentions   \n",
              "namzn     NULL          NULL          NULL          NULL           \n",
              "          dtImp5         \n",
              "amzn_xgb2 retailperc     \n",
              "amzn5     retailvollag1  \n",
              "amzn4     vol            \n",
              "amzn_xgb1 twtrmentions5MA\n",
              "amzn3     retailperc     \n",
              "amzn      newsmentions   \n",
              "amzn_xgb  twtrmentions   \n",
              "amzn1     retailperc     \n",
              "amzn2     twtrmentions5MA\n",
              "namzn     NULL           "
            ],
            "text/latex": "A data.frame: 10 × 11\n\\begin{tabular}{r|lllllllllll}\n  & model & ticker & RMSE & RMSESD & MAE & MAESD & dtImp1 & dtImp2 & dtImp3 & dtImp4 & dtImp5\\\\\n  & <chr> & <named list> & <dbl> & <dbl> & <dbl> & <dbl> & <named list> & <named list> & <named list> & <named list> & <named list>\\\\\n\\hline\n\tamzn\\_xgb2 & XGB-FullFeature      & AMZN &  268617.2 & 229176.6 &  177374.7 & 127908.7 & retailvollag2 & retailvol & retailvollag4 & vol & retailperc\\\\\n\tamzn5 & RF-FullFeature       & AMZN &  293086.6 & 213449.4 &  198472.5 & 124730.5 & retailvollag2 & retailvollag4 & vol & retailvol & retailvollag1\\\\\n\tamzn4 & CART-FullFeature     & AMZN &  363045.1 & 271180.0 &  243768.3 & 172565.1 & retailvollag2 & retailvollag4 & retailvol & retailvollag1 & vol\\\\\n\tamzn\\_xgb1 & XGB-ExpandedFeature  & AMZN &  545361.5 & 269694.1 &  415735.0 & 187582.2 & vol & instvol & retailvol & retailperc & twtrmentions5MA\\\\\n\tamzn3 & RF-ExpandedFeature   & AMZN &  569377.4 & 266374.1 &  439145.4 & 192374.5 & vol & retailvol & instvol & twtrmentions5MA & retailperc\\\\\n\tamzn & CART-ReducedFeature  & AMZN &  578427.7 & 242595.6 &  432587.4 & 171089.0 & vol & instvol & retailvol & twtrmentions & newsmentions\\\\\n\tamzn\\_xgb & XGB-ReducedFeature   & AMZN &  583855.3 & 310705.6 &  430219.1 & 223035.8 & vol & retailvol & instvol & retailperc & twtrmentions\\\\\n\tamzn1 & RF-ReducedFeature    & AMZN &  591472.1 & 273724.2 &  446768.4 & 206014.7 & vol & instvol & retailvol & twtrmentions & retailperc\\\\\n\tamzn2 & CART-ExpandedFeature & AMZN &  593301.3 & 261461.5 &  456437.5 & 182841.7 & vol & retailvol & instvol & twtrmentions & twtrmentions5MA\\\\\n\tnamzn & Naive-MA             & AMZN & 2268849.9 & 306187.0 & 2129738.1 & 345349.0 & NULL & NULL & NULL & NULL & NULL\\\\\n\\end{tabular}\n",
            "text/markdown": "\nA data.frame: 10 × 11\n\n| <!--/--> | model &lt;chr&gt; | ticker &lt;named list&gt; | RMSE &lt;dbl&gt; | RMSESD &lt;dbl&gt; | MAE &lt;dbl&gt; | MAESD &lt;dbl&gt; | dtImp1 &lt;named list&gt; | dtImp2 &lt;named list&gt; | dtImp3 &lt;named list&gt; | dtImp4 &lt;named list&gt; | dtImp5 &lt;named list&gt; |\n|---|---|---|---|---|---|---|---|---|---|---|---|\n| amzn_xgb2 | XGB-FullFeature      | AMZN |  268617.2 | 229176.6 |  177374.7 | 127908.7 | retailvollag2 | retailvol | retailvollag4 | vol | retailperc |\n| amzn5 | RF-FullFeature       | AMZN |  293086.6 | 213449.4 |  198472.5 | 124730.5 | retailvollag2 | retailvollag4 | vol | retailvol | retailvollag1 |\n| amzn4 | CART-FullFeature     | AMZN |  363045.1 | 271180.0 |  243768.3 | 172565.1 | retailvollag2 | retailvollag4 | retailvol | retailvollag1 | vol |\n| amzn_xgb1 | XGB-ExpandedFeature  | AMZN |  545361.5 | 269694.1 |  415735.0 | 187582.2 | vol | instvol | retailvol | retailperc | twtrmentions5MA |\n| amzn3 | RF-ExpandedFeature   | AMZN |  569377.4 | 266374.1 |  439145.4 | 192374.5 | vol | retailvol | instvol | twtrmentions5MA | retailperc |\n| amzn | CART-ReducedFeature  | AMZN |  578427.7 | 242595.6 |  432587.4 | 171089.0 | vol | instvol | retailvol | twtrmentions | newsmentions |\n| amzn_xgb | XGB-ReducedFeature   | AMZN |  583855.3 | 310705.6 |  430219.1 | 223035.8 | vol | retailvol | instvol | retailperc | twtrmentions |\n| amzn1 | RF-ReducedFeature    | AMZN |  591472.1 | 273724.2 |  446768.4 | 206014.7 | vol | instvol | retailvol | twtrmentions | retailperc |\n| amzn2 | CART-ExpandedFeature | AMZN |  593301.3 | 261461.5 |  456437.5 | 182841.7 | vol | retailvol | instvol | twtrmentions | twtrmentions5MA |\n| namzn | Naive-MA             | AMZN | 2268849.9 | 306187.0 | 2129738.1 | 345349.0 | NULL | NULL | NULL | NULL | NULL |\n\n",
            "text/html": [
              "<table class=\"dataframe\">\n",
              "<caption>A data.frame: 10 × 11</caption>\n",
              "<thead>\n",
              "\t<tr><th></th><th scope=col>model</th><th scope=col>ticker</th><th scope=col>RMSE</th><th scope=col>RMSESD</th><th scope=col>MAE</th><th scope=col>MAESD</th><th scope=col>dtImp1</th><th scope=col>dtImp2</th><th scope=col>dtImp3</th><th scope=col>dtImp4</th><th scope=col>dtImp5</th></tr>\n",
              "\t<tr><th></th><th scope=col>&lt;chr&gt;</th><th scope=col>&lt;named list&gt;</th><th scope=col>&lt;dbl&gt;</th><th scope=col>&lt;dbl&gt;</th><th scope=col>&lt;dbl&gt;</th><th scope=col>&lt;dbl&gt;</th><th scope=col>&lt;named list&gt;</th><th scope=col>&lt;named list&gt;</th><th scope=col>&lt;named list&gt;</th><th scope=col>&lt;named list&gt;</th><th scope=col>&lt;named list&gt;</th></tr>\n",
              "</thead>\n",
              "<tbody>\n",
              "\t<tr><th scope=row>amzn_xgb2</th><td>XGB-FullFeature     </td><td>AMZN</td><td> 268617.2</td><td>229176.6</td><td> 177374.7</td><td>127908.7</td><td>retailvollag2</td><td>retailvol</td><td>retailvollag4</td><td>vol</td><td>retailperc</td></tr>\n",
              "\t<tr><th scope=row>amzn5</th><td>RF-FullFeature      </td><td>AMZN</td><td> 293086.6</td><td>213449.4</td><td> 198472.5</td><td>124730.5</td><td>retailvollag2</td><td>retailvollag4</td><td>vol</td><td>retailvol</td><td>retailvollag1</td></tr>\n",
              "\t<tr><th scope=row>amzn4</th><td>CART-FullFeature    </td><td>AMZN</td><td> 363045.1</td><td>271180.0</td><td> 243768.3</td><td>172565.1</td><td>retailvollag2</td><td>retailvollag4</td><td>retailvol</td><td>retailvollag1</td><td>vol</td></tr>\n",
              "\t<tr><th scope=row>amzn_xgb1</th><td>XGB-ExpandedFeature </td><td>AMZN</td><td> 545361.5</td><td>269694.1</td><td> 415735.0</td><td>187582.2</td><td>vol</td><td>instvol</td><td>retailvol</td><td>retailperc</td><td>twtrmentions5MA</td></tr>\n",
              "\t<tr><th scope=row>amzn3</th><td>RF-ExpandedFeature  </td><td>AMZN</td><td> 569377.4</td><td>266374.1</td><td> 439145.4</td><td>192374.5</td><td>vol</td><td>retailvol</td><td>instvol</td><td>twtrmentions5MA</td><td>retailperc</td></tr>\n",
              "\t<tr><th scope=row>amzn</th><td>CART-ReducedFeature </td><td>AMZN</td><td> 578427.7</td><td>242595.6</td><td> 432587.4</td><td>171089.0</td><td>vol</td><td>instvol</td><td>retailvol</td><td>twtrmentions</td><td>newsmentions</td></tr>\n",
              "\t<tr><th scope=row>amzn_xgb</th><td>XGB-ReducedFeature  </td><td>AMZN</td><td> 583855.3</td><td>310705.6</td><td> 430219.1</td><td>223035.8</td><td>vol</td><td>retailvol</td><td>instvol</td><td>retailperc</td><td>twtrmentions</td></tr>\n",
              "\t<tr><th scope=row>amzn1</th><td>RF-ReducedFeature   </td><td>AMZN</td><td> 591472.1</td><td>273724.2</td><td> 446768.4</td><td>206014.7</td><td>vol</td><td>instvol</td><td>retailvol</td><td>twtrmentions</td><td>retailperc</td></tr>\n",
              "\t<tr><th scope=row>amzn2</th><td>CART-ExpandedFeature</td><td>AMZN</td><td> 593301.3</td><td>261461.5</td><td> 456437.5</td><td>182841.7</td><td>vol</td><td>retailvol</td><td>instvol</td><td>twtrmentions</td><td>twtrmentions5MA</td></tr>\n",
              "\t<tr><th scope=row>namzn</th><td>Naive-MA            </td><td>AMZN</td><td>2268849.9</td><td>306187.0</td><td>2129738.1</td><td>345349.0</td><td>NULL</td><td>NULL</td><td>NULL</td><td>NULL</td><td>NULL</td></tr>\n",
              "</tbody>\n",
              "</table>\n"
            ]
          },
          "metadata": {}
        }
      ]
    },
    {
      "cell_type": "markdown",
      "metadata": {
        "id": "RAgjI69vYTRB"
      },
      "source": [
        "### **NFLX**"
      ]
    },
    {
      "cell_type": "code",
      "metadata": {
        "colab": {
          "base_uri": "https://localhost:8080/",
          "height": 446
        },
        "id": "uZDU0xOVYTKu",
        "outputId": "e69f4fc6-a0ef-4eb5-bfb5-fe1178255918"
      },
      "source": [
        "summary %>% filter(ticker == \"NFLX\") %>% arrange(RMSE) %>% relocate(model)"
      ],
      "execution_count": 162,
      "outputs": [
        {
          "output_type": "display_data",
          "data": {
            "text/plain": [
              "          model                ticker RMSE      RMSESD   MAE       MAESD   \n",
              "nflx_xgb2 XGB-FullFeature      NFLX    706347.5 530455.1  416535.8 252120.3\n",
              "nflx5     RF-FullFeature       NFLX    796360.0 564894.9  477807.5 266554.4\n",
              "nflx4     CART-FullFeature     NFLX    881995.0 595823.2  552034.0 300157.7\n",
              "nflx_xgb1 XGB-ExpandedFeature  NFLX   1355053.9 578355.2  948327.4 278613.1\n",
              "nflx3     RF-ExpandedFeature   NFLX   1365957.3 562910.2  987825.7 350844.1\n",
              "nflx1     RF-ReducedFeature    NFLX   1460065.5 597700.9 1023782.9 292645.7\n",
              "nflx_xgb  XGB-ReducedFeature   NFLX   1487622.6 588792.9 1043586.0 309896.1\n",
              "nflx      CART-ReducedFeature  NFLX   1530874.7 608041.3 1020052.1 237164.4\n",
              "nflx2     CART-ExpandedFeature NFLX   1554611.7 562743.4 1089770.8 323673.2\n",
              "nnflx     Naive-MA             NFLX   4696793.1 325684.7 4488460.3 363920.6\n",
              "          dtImp1          dtImp2        dtImp3          dtImp4          \n",
              "nflx_xgb2 retailvollag2   retailvol     twtrmentions5MA retailvollag4   \n",
              "nflx5     retailvollag2   retailvollag4 twtrmentions5MA retailvol       \n",
              "nflx4     retailvollag2   vol           retailvol       retailvollag4   \n",
              "nflx_xgb1 twtrmentions5MA retailvol     newsmentions5MA newsmentions10MA\n",
              "nflx3     twtrmentions5MA retailvol     newsmentions5MA vol             \n",
              "nflx1     retailvol       vol           instvol         twtrmentions    \n",
              "nflx_xgb  retailvol       vol           twtrmentions    retailperc      \n",
              "nflx      retailvol       vol           instvol         twtrmentions    \n",
              "nflx2     twtrmentions5MA vol           newsmentions5MA twtrmentions10MA\n",
              "nnflx     NULL            NULL          NULL            NULL            \n",
              "          dtImp5          \n",
              "nflx_xgb2 twtrmentions    \n",
              "nflx5     retailvollag1   \n",
              "nflx4     retailvollag1   \n",
              "nflx_xgb1 twtrmentions    \n",
              "nflx3     newsmentions10MA\n",
              "nflx1     retailperc      \n",
              "nflx_xgb  newsmentions    \n",
              "nflx      newsmentions    \n",
              "nflx2     twtrmentionslag1\n",
              "nnflx     NULL            "
            ],
            "text/latex": "A data.frame: 10 × 11\n\\begin{tabular}{r|lllllllllll}\n  & model & ticker & RMSE & RMSESD & MAE & MAESD & dtImp1 & dtImp2 & dtImp3 & dtImp4 & dtImp5\\\\\n  & <chr> & <named list> & <dbl> & <dbl> & <dbl> & <dbl> & <named list> & <named list> & <named list> & <named list> & <named list>\\\\\n\\hline\n\tnflx\\_xgb2 & XGB-FullFeature      & NFLX &  706347.5 & 530455.1 &  416535.8 & 252120.3 & retailvollag2 & retailvol & twtrmentions5MA & retailvollag4 & twtrmentions\\\\\n\tnflx5 & RF-FullFeature       & NFLX &  796360.0 & 564894.9 &  477807.5 & 266554.4 & retailvollag2 & retailvollag4 & twtrmentions5MA & retailvol & retailvollag1\\\\\n\tnflx4 & CART-FullFeature     & NFLX &  881995.0 & 595823.2 &  552034.0 & 300157.7 & retailvollag2 & vol & retailvol & retailvollag4 & retailvollag1\\\\\n\tnflx\\_xgb1 & XGB-ExpandedFeature  & NFLX & 1355053.9 & 578355.2 &  948327.4 & 278613.1 & twtrmentions5MA & retailvol & newsmentions5MA & newsmentions10MA & twtrmentions\\\\\n\tnflx3 & RF-ExpandedFeature   & NFLX & 1365957.3 & 562910.2 &  987825.7 & 350844.1 & twtrmentions5MA & retailvol & newsmentions5MA & vol & newsmentions10MA\\\\\n\tnflx1 & RF-ReducedFeature    & NFLX & 1460065.5 & 597700.9 & 1023782.9 & 292645.7 & retailvol & vol & instvol & twtrmentions & retailperc\\\\\n\tnflx\\_xgb & XGB-ReducedFeature   & NFLX & 1487622.6 & 588792.9 & 1043586.0 & 309896.1 & retailvol & vol & twtrmentions & retailperc & newsmentions\\\\\n\tnflx & CART-ReducedFeature  & NFLX & 1530874.7 & 608041.3 & 1020052.1 & 237164.4 & retailvol & vol & instvol & twtrmentions & newsmentions\\\\\n\tnflx2 & CART-ExpandedFeature & NFLX & 1554611.7 & 562743.4 & 1089770.8 & 323673.2 & twtrmentions5MA & vol & newsmentions5MA & twtrmentions10MA & twtrmentionslag1\\\\\n\tnnflx & Naive-MA             & NFLX & 4696793.1 & 325684.7 & 4488460.3 & 363920.6 & NULL & NULL & NULL & NULL & NULL\\\\\n\\end{tabular}\n",
            "text/markdown": "\nA data.frame: 10 × 11\n\n| <!--/--> | model &lt;chr&gt; | ticker &lt;named list&gt; | RMSE &lt;dbl&gt; | RMSESD &lt;dbl&gt; | MAE &lt;dbl&gt; | MAESD &lt;dbl&gt; | dtImp1 &lt;named list&gt; | dtImp2 &lt;named list&gt; | dtImp3 &lt;named list&gt; | dtImp4 &lt;named list&gt; | dtImp5 &lt;named list&gt; |\n|---|---|---|---|---|---|---|---|---|---|---|---|\n| nflx_xgb2 | XGB-FullFeature      | NFLX |  706347.5 | 530455.1 |  416535.8 | 252120.3 | retailvollag2 | retailvol | twtrmentions5MA | retailvollag4 | twtrmentions |\n| nflx5 | RF-FullFeature       | NFLX |  796360.0 | 564894.9 |  477807.5 | 266554.4 | retailvollag2 | retailvollag4 | twtrmentions5MA | retailvol | retailvollag1 |\n| nflx4 | CART-FullFeature     | NFLX |  881995.0 | 595823.2 |  552034.0 | 300157.7 | retailvollag2 | vol | retailvol | retailvollag4 | retailvollag1 |\n| nflx_xgb1 | XGB-ExpandedFeature  | NFLX | 1355053.9 | 578355.2 |  948327.4 | 278613.1 | twtrmentions5MA | retailvol | newsmentions5MA | newsmentions10MA | twtrmentions |\n| nflx3 | RF-ExpandedFeature   | NFLX | 1365957.3 | 562910.2 |  987825.7 | 350844.1 | twtrmentions5MA | retailvol | newsmentions5MA | vol | newsmentions10MA |\n| nflx1 | RF-ReducedFeature    | NFLX | 1460065.5 | 597700.9 | 1023782.9 | 292645.7 | retailvol | vol | instvol | twtrmentions | retailperc |\n| nflx_xgb | XGB-ReducedFeature   | NFLX | 1487622.6 | 588792.9 | 1043586.0 | 309896.1 | retailvol | vol | twtrmentions | retailperc | newsmentions |\n| nflx | CART-ReducedFeature  | NFLX | 1530874.7 | 608041.3 | 1020052.1 | 237164.4 | retailvol | vol | instvol | twtrmentions | newsmentions |\n| nflx2 | CART-ExpandedFeature | NFLX | 1554611.7 | 562743.4 | 1089770.8 | 323673.2 | twtrmentions5MA | vol | newsmentions5MA | twtrmentions10MA | twtrmentionslag1 |\n| nnflx | Naive-MA             | NFLX | 4696793.1 | 325684.7 | 4488460.3 | 363920.6 | NULL | NULL | NULL | NULL | NULL |\n\n",
            "text/html": [
              "<table class=\"dataframe\">\n",
              "<caption>A data.frame: 10 × 11</caption>\n",
              "<thead>\n",
              "\t<tr><th></th><th scope=col>model</th><th scope=col>ticker</th><th scope=col>RMSE</th><th scope=col>RMSESD</th><th scope=col>MAE</th><th scope=col>MAESD</th><th scope=col>dtImp1</th><th scope=col>dtImp2</th><th scope=col>dtImp3</th><th scope=col>dtImp4</th><th scope=col>dtImp5</th></tr>\n",
              "\t<tr><th></th><th scope=col>&lt;chr&gt;</th><th scope=col>&lt;named list&gt;</th><th scope=col>&lt;dbl&gt;</th><th scope=col>&lt;dbl&gt;</th><th scope=col>&lt;dbl&gt;</th><th scope=col>&lt;dbl&gt;</th><th scope=col>&lt;named list&gt;</th><th scope=col>&lt;named list&gt;</th><th scope=col>&lt;named list&gt;</th><th scope=col>&lt;named list&gt;</th><th scope=col>&lt;named list&gt;</th></tr>\n",
              "</thead>\n",
              "<tbody>\n",
              "\t<tr><th scope=row>nflx_xgb2</th><td>XGB-FullFeature     </td><td>NFLX</td><td> 706347.5</td><td>530455.1</td><td> 416535.8</td><td>252120.3</td><td>retailvollag2</td><td>retailvol</td><td>twtrmentions5MA</td><td>retailvollag4</td><td>twtrmentions</td></tr>\n",
              "\t<tr><th scope=row>nflx5</th><td>RF-FullFeature      </td><td>NFLX</td><td> 796360.0</td><td>564894.9</td><td> 477807.5</td><td>266554.4</td><td>retailvollag2</td><td>retailvollag4</td><td>twtrmentions5MA</td><td>retailvol</td><td>retailvollag1</td></tr>\n",
              "\t<tr><th scope=row>nflx4</th><td>CART-FullFeature    </td><td>NFLX</td><td> 881995.0</td><td>595823.2</td><td> 552034.0</td><td>300157.7</td><td>retailvollag2</td><td>vol</td><td>retailvol</td><td>retailvollag4</td><td>retailvollag1</td></tr>\n",
              "\t<tr><th scope=row>nflx_xgb1</th><td>XGB-ExpandedFeature </td><td>NFLX</td><td>1355053.9</td><td>578355.2</td><td> 948327.4</td><td>278613.1</td><td>twtrmentions5MA</td><td>retailvol</td><td>newsmentions5MA</td><td>newsmentions10MA</td><td>twtrmentions</td></tr>\n",
              "\t<tr><th scope=row>nflx3</th><td>RF-ExpandedFeature  </td><td>NFLX</td><td>1365957.3</td><td>562910.2</td><td> 987825.7</td><td>350844.1</td><td>twtrmentions5MA</td><td>retailvol</td><td>newsmentions5MA</td><td>vol</td><td>newsmentions10MA</td></tr>\n",
              "\t<tr><th scope=row>nflx1</th><td>RF-ReducedFeature   </td><td>NFLX</td><td>1460065.5</td><td>597700.9</td><td>1023782.9</td><td>292645.7</td><td>retailvol</td><td>vol</td><td>instvol</td><td>twtrmentions</td><td>retailperc</td></tr>\n",
              "\t<tr><th scope=row>nflx_xgb</th><td>XGB-ReducedFeature  </td><td>NFLX</td><td>1487622.6</td><td>588792.9</td><td>1043586.0</td><td>309896.1</td><td>retailvol</td><td>vol</td><td>twtrmentions</td><td>retailperc</td><td>newsmentions</td></tr>\n",
              "\t<tr><th scope=row>nflx</th><td>CART-ReducedFeature </td><td>NFLX</td><td>1530874.7</td><td>608041.3</td><td>1020052.1</td><td>237164.4</td><td>retailvol</td><td>vol</td><td>instvol</td><td>twtrmentions</td><td>newsmentions</td></tr>\n",
              "\t<tr><th scope=row>nflx2</th><td>CART-ExpandedFeature</td><td>NFLX</td><td>1554611.7</td><td>562743.4</td><td>1089770.8</td><td>323673.2</td><td>twtrmentions5MA</td><td>vol</td><td>newsmentions5MA</td><td>twtrmentions10MA</td><td>twtrmentionslag1</td></tr>\n",
              "\t<tr><th scope=row>nnflx</th><td>Naive-MA            </td><td>NFLX</td><td>4696793.1</td><td>325684.7</td><td>4488460.3</td><td>363920.6</td><td>NULL</td><td>NULL</td><td>NULL</td><td>NULL</td><td>NULL</td></tr>\n",
              "</tbody>\n",
              "</table>\n"
            ]
          },
          "metadata": {}
        }
      ]
    },
    {
      "cell_type": "markdown",
      "metadata": {
        "id": "xY-btO2kYS19"
      },
      "source": [
        "### **GOOGL**"
      ]
    },
    {
      "cell_type": "code",
      "metadata": {
        "colab": {
          "base_uri": "https://localhost:8080/",
          "height": 411
        },
        "id": "ShkcOMeZYStl",
        "outputId": "69241b3c-f354-4286-bf18-2ceacd7c6e82"
      },
      "source": [
        "summary %>% filter(ticker == \"GOOGL\") %>% arrange(RMSE) %>% relocate(model)"
      ],
      "execution_count": 163,
      "outputs": [
        {
          "output_type": "display_data",
          "data": {
            "text/plain": [
              "           model                ticker RMSE       RMSESD    MAE       \n",
              "googl_xgb2 XGB-FullFeature      GOOGL    74027.26  45309.00   50942.04\n",
              "googl5     RF-FullFeature       GOOGL    98709.28  57259.47   67722.07\n",
              "googl4     CART-FullFeature     GOOGL   136557.39  98796.63   94775.24\n",
              "googl_xgb1 XGB-ExpandedFeature  GOOGL   202610.74  74095.64  160103.59\n",
              "googl_xgb  XGB-ReducedFeature   GOOGL   205684.88  83260.81  159558.85\n",
              "googl1     RF-ReducedFeature    GOOGL   214930.60  51935.89  167980.63\n",
              "googl3     RF-ExpandedFeature   GOOGL   218343.10  57913.32  175594.38\n",
              "googl      CART-ReducedFeature  GOOGL   236880.46  92560.64  173677.66\n",
              "googl2     CART-ExpandedFeature GOOGL   239141.86  95509.74  188185.50\n",
              "ngoogl     Naive-MA             GOOGL  1180863.41 226063.69 1139687.19\n",
              "           MAESD     dtImp1        dtImp2        dtImp3       dtImp4       \n",
              "googl_xgb2  32592.22 retailvollag2 retailvol     twtrmentions retailperc   \n",
              "googl5      40860.34 retailvollag2 retailvollag4 twtrmentions retailvollag1\n",
              "googl4      75454.21 retailvollag2 retailvollag4 retailvol    retailvollag1\n",
              "googl_xgb1  67919.39 retailvol     vol           instvol      twtrmentions \n",
              "googl_xgb   74902.63 vol           twtrmentions  retailvol    instvol      \n",
              "googl1      40281.68 vol           retailvol     instvol      twtrmentions \n",
              "googl3      51015.18 vol           retailvol     instvol      twtrmentions \n",
              "googl       73366.24 vol           instvol       retailvol    twtrmentions \n",
              "googl2      86697.91 vol           instvol       retailvol    twtrmentions \n",
              "ngoogl     244152.00 NULL          NULL          NULL         NULL         \n",
              "           dtImp5          \n",
              "googl_xgb2 retailvollag4   \n",
              "googl5     vol             \n",
              "googl4     vol             \n",
              "googl_xgb1 newsmentions5MA \n",
              "googl_xgb  twtrsentiment   \n",
              "googl1     twtrsentiment   \n",
              "googl3     twtrmentions5MA \n",
              "googl      newsmentions    \n",
              "googl2     twtrmentionslag1\n",
              "ngoogl     NULL            "
            ],
            "text/latex": "A data.frame: 10 × 11\n\\begin{tabular}{r|lllllllllll}\n  & model & ticker & RMSE & RMSESD & MAE & MAESD & dtImp1 & dtImp2 & dtImp3 & dtImp4 & dtImp5\\\\\n  & <chr> & <named list> & <dbl> & <dbl> & <dbl> & <dbl> & <named list> & <named list> & <named list> & <named list> & <named list>\\\\\n\\hline\n\tgoogl\\_xgb2 & XGB-FullFeature      & GOOGL &   74027.26 &  45309.00 &   50942.04 &  32592.22 & retailvollag2 & retailvol & twtrmentions & retailperc & retailvollag4\\\\\n\tgoogl5 & RF-FullFeature       & GOOGL &   98709.28 &  57259.47 &   67722.07 &  40860.34 & retailvollag2 & retailvollag4 & twtrmentions & retailvollag1 & vol\\\\\n\tgoogl4 & CART-FullFeature     & GOOGL &  136557.39 &  98796.63 &   94775.24 &  75454.21 & retailvollag2 & retailvollag4 & retailvol & retailvollag1 & vol\\\\\n\tgoogl\\_xgb1 & XGB-ExpandedFeature  & GOOGL &  202610.74 &  74095.64 &  160103.59 &  67919.39 & retailvol & vol & instvol & twtrmentions & newsmentions5MA\\\\\n\tgoogl\\_xgb & XGB-ReducedFeature   & GOOGL &  205684.88 &  83260.81 &  159558.85 &  74902.63 & vol & twtrmentions & retailvol & instvol & twtrsentiment\\\\\n\tgoogl1 & RF-ReducedFeature    & GOOGL &  214930.60 &  51935.89 &  167980.63 &  40281.68 & vol & retailvol & instvol & twtrmentions & twtrsentiment\\\\\n\tgoogl3 & RF-ExpandedFeature   & GOOGL &  218343.10 &  57913.32 &  175594.38 &  51015.18 & vol & retailvol & instvol & twtrmentions & twtrmentions5MA\\\\\n\tgoogl & CART-ReducedFeature  & GOOGL &  236880.46 &  92560.64 &  173677.66 &  73366.24 & vol & instvol & retailvol & twtrmentions & newsmentions\\\\\n\tgoogl2 & CART-ExpandedFeature & GOOGL &  239141.86 &  95509.74 &  188185.50 &  86697.91 & vol & instvol & retailvol & twtrmentions & twtrmentionslag1\\\\\n\tngoogl & Naive-MA             & GOOGL & 1180863.41 & 226063.69 & 1139687.19 & 244152.00 & NULL & NULL & NULL & NULL & NULL\\\\\n\\end{tabular}\n",
            "text/markdown": "\nA data.frame: 10 × 11\n\n| <!--/--> | model &lt;chr&gt; | ticker &lt;named list&gt; | RMSE &lt;dbl&gt; | RMSESD &lt;dbl&gt; | MAE &lt;dbl&gt; | MAESD &lt;dbl&gt; | dtImp1 &lt;named list&gt; | dtImp2 &lt;named list&gt; | dtImp3 &lt;named list&gt; | dtImp4 &lt;named list&gt; | dtImp5 &lt;named list&gt; |\n|---|---|---|---|---|---|---|---|---|---|---|---|\n| googl_xgb2 | XGB-FullFeature      | GOOGL |   74027.26 |  45309.00 |   50942.04 |  32592.22 | retailvollag2 | retailvol | twtrmentions | retailperc | retailvollag4 |\n| googl5 | RF-FullFeature       | GOOGL |   98709.28 |  57259.47 |   67722.07 |  40860.34 | retailvollag2 | retailvollag4 | twtrmentions | retailvollag1 | vol |\n| googl4 | CART-FullFeature     | GOOGL |  136557.39 |  98796.63 |   94775.24 |  75454.21 | retailvollag2 | retailvollag4 | retailvol | retailvollag1 | vol |\n| googl_xgb1 | XGB-ExpandedFeature  | GOOGL |  202610.74 |  74095.64 |  160103.59 |  67919.39 | retailvol | vol | instvol | twtrmentions | newsmentions5MA |\n| googl_xgb | XGB-ReducedFeature   | GOOGL |  205684.88 |  83260.81 |  159558.85 |  74902.63 | vol | twtrmentions | retailvol | instvol | twtrsentiment |\n| googl1 | RF-ReducedFeature    | GOOGL |  214930.60 |  51935.89 |  167980.63 |  40281.68 | vol | retailvol | instvol | twtrmentions | twtrsentiment |\n| googl3 | RF-ExpandedFeature   | GOOGL |  218343.10 |  57913.32 |  175594.38 |  51015.18 | vol | retailvol | instvol | twtrmentions | twtrmentions5MA |\n| googl | CART-ReducedFeature  | GOOGL |  236880.46 |  92560.64 |  173677.66 |  73366.24 | vol | instvol | retailvol | twtrmentions | newsmentions |\n| googl2 | CART-ExpandedFeature | GOOGL |  239141.86 |  95509.74 |  188185.50 |  86697.91 | vol | instvol | retailvol | twtrmentions | twtrmentionslag1 |\n| ngoogl | Naive-MA             | GOOGL | 1180863.41 | 226063.69 | 1139687.19 | 244152.00 | NULL | NULL | NULL | NULL | NULL |\n\n",
            "text/html": [
              "<table class=\"dataframe\">\n",
              "<caption>A data.frame: 10 × 11</caption>\n",
              "<thead>\n",
              "\t<tr><th></th><th scope=col>model</th><th scope=col>ticker</th><th scope=col>RMSE</th><th scope=col>RMSESD</th><th scope=col>MAE</th><th scope=col>MAESD</th><th scope=col>dtImp1</th><th scope=col>dtImp2</th><th scope=col>dtImp3</th><th scope=col>dtImp4</th><th scope=col>dtImp5</th></tr>\n",
              "\t<tr><th></th><th scope=col>&lt;chr&gt;</th><th scope=col>&lt;named list&gt;</th><th scope=col>&lt;dbl&gt;</th><th scope=col>&lt;dbl&gt;</th><th scope=col>&lt;dbl&gt;</th><th scope=col>&lt;dbl&gt;</th><th scope=col>&lt;named list&gt;</th><th scope=col>&lt;named list&gt;</th><th scope=col>&lt;named list&gt;</th><th scope=col>&lt;named list&gt;</th><th scope=col>&lt;named list&gt;</th></tr>\n",
              "</thead>\n",
              "<tbody>\n",
              "\t<tr><th scope=row>googl_xgb2</th><td>XGB-FullFeature     </td><td>GOOGL</td><td>  74027.26</td><td> 45309.00</td><td>  50942.04</td><td> 32592.22</td><td>retailvollag2</td><td>retailvol</td><td>twtrmentions</td><td>retailperc</td><td>retailvollag4</td></tr>\n",
              "\t<tr><th scope=row>googl5</th><td>RF-FullFeature      </td><td>GOOGL</td><td>  98709.28</td><td> 57259.47</td><td>  67722.07</td><td> 40860.34</td><td>retailvollag2</td><td>retailvollag4</td><td>twtrmentions</td><td>retailvollag1</td><td>vol</td></tr>\n",
              "\t<tr><th scope=row>googl4</th><td>CART-FullFeature    </td><td>GOOGL</td><td> 136557.39</td><td> 98796.63</td><td>  94775.24</td><td> 75454.21</td><td>retailvollag2</td><td>retailvollag4</td><td>retailvol</td><td>retailvollag1</td><td>vol</td></tr>\n",
              "\t<tr><th scope=row>googl_xgb1</th><td>XGB-ExpandedFeature </td><td>GOOGL</td><td> 202610.74</td><td> 74095.64</td><td> 160103.59</td><td> 67919.39</td><td>retailvol</td><td>vol</td><td>instvol</td><td>twtrmentions</td><td>newsmentions5MA</td></tr>\n",
              "\t<tr><th scope=row>googl_xgb</th><td>XGB-ReducedFeature  </td><td>GOOGL</td><td> 205684.88</td><td> 83260.81</td><td> 159558.85</td><td> 74902.63</td><td>vol</td><td>twtrmentions</td><td>retailvol</td><td>instvol</td><td>twtrsentiment</td></tr>\n",
              "\t<tr><th scope=row>googl1</th><td>RF-ReducedFeature   </td><td>GOOGL</td><td> 214930.60</td><td> 51935.89</td><td> 167980.63</td><td> 40281.68</td><td>vol</td><td>retailvol</td><td>instvol</td><td>twtrmentions</td><td>twtrsentiment</td></tr>\n",
              "\t<tr><th scope=row>googl3</th><td>RF-ExpandedFeature  </td><td>GOOGL</td><td> 218343.10</td><td> 57913.32</td><td> 175594.38</td><td> 51015.18</td><td>vol</td><td>retailvol</td><td>instvol</td><td>twtrmentions</td><td>twtrmentions5MA</td></tr>\n",
              "\t<tr><th scope=row>googl</th><td>CART-ReducedFeature </td><td>GOOGL</td><td> 236880.46</td><td> 92560.64</td><td> 173677.66</td><td> 73366.24</td><td>vol</td><td>instvol</td><td>retailvol</td><td>twtrmentions</td><td>newsmentions</td></tr>\n",
              "\t<tr><th scope=row>googl2</th><td>CART-ExpandedFeature</td><td>GOOGL</td><td> 239141.86</td><td> 95509.74</td><td> 188185.50</td><td> 86697.91</td><td>vol</td><td>instvol</td><td>retailvol</td><td>twtrmentions</td><td>twtrmentionslag1</td></tr>\n",
              "\t<tr><th scope=row>ngoogl</th><td>Naive-MA            </td><td>GOOGL</td><td>1180863.41</td><td>226063.69</td><td>1139687.19</td><td>244152.00</td><td>NULL</td><td>NULL</td><td>NULL</td><td>NULL</td><td>NULL</td></tr>\n",
              "</tbody>\n",
              "</table>\n"
            ]
          },
          "metadata": {}
        }
      ]
    }
  ]
}