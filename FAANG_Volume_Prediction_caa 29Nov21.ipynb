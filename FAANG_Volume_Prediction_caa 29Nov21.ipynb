{
  "nbformat": 4,
  "nbformat_minor": 0,
  "metadata": {
    "colab": {
      "name": "FAANG Volume Prediction.ipynb",
      "provenance": [],
      "collapsed_sections": [
        "re0kLUG1aPQN"
      ],
      "authorship_tag": "ABX9TyOd/9CKEbmAXltyFF8igDQo",
      "include_colab_link": true
    },
    "kernelspec": {
      "name": "ir",
      "display_name": "R"
    },
    "language_info": {
      "name": "R"
    }
  },
  "cells": [
    {
      "cell_type": "markdown",
      "metadata": {
        "id": "view-in-github",
        "colab_type": "text"
      },
      "source": [
        "<a href=\"https://colab.research.google.com/github/limshaocong/analyticsEdge/blob/main/FAANG_Volume_Prediction_caa%2029Nov21.ipynb\" target=\"_parent\"><img src=\"https://colab.research.google.com/assets/colab-badge.svg\" alt=\"Open In Colab\"/></a>"
      ]
    },
    {
      "cell_type": "markdown",
      "metadata": {
        "id": "FG9fd9ROT2LV"
      },
      "source": [
        "# **Preliminaries**"
      ]
    },
    {
      "cell_type": "code",
      "metadata": {
        "id": "cALQFUXPSRWz",
        "colab": {
          "base_uri": "https://localhost:8080/"
        },
        "outputId": "467cbaa2-8f98-4828-b010-481959e9bb6f"
      },
      "source": [
        "suppressMessages(library(tidyverse)) # generic must have package\n",
        "suppressMessages(library(dplyr))\n",
        "suppressMessages(library(ggplot2)) # plotting package\n",
        "suppressMessages(library(lubridate)) # easy comprehension of dates from string to correct datetime format\n",
        "suppressMessages(library(data.table))\n",
        "suppressMessages(library(purrr)) # reduce\n",
        "if(\"patchwork\" %in% rownames(installed.packages()) == FALSE) {install.packages(\"patchwork\")}\n",
        "suppressMessages(library(patchwork))\n",
        "if(\"caret\" %in% rownames(installed.packages()) == FALSE) {install.packages(\"caret\")}\n",
        "suppressMessages(library(caret))\n",
        "\n",
        "options(repr.plot.width = 10,\n",
        "        repr.plot.height = 9,\n",
        "        repr.plot.pointsize = 20)"
      ],
      "execution_count": 1,
      "outputs": [
        {
          "output_type": "stream",
          "name": "stderr",
          "text": [
            "Warning message in system(\"timedatectl\", intern = TRUE):\n",
            "“running command 'timedatectl' had status 1”\n",
            "Installing package into ‘/usr/local/lib/R/site-library’\n",
            "(as ‘lib’ is unspecified)\n",
            "\n",
            "Installing package into ‘/usr/local/lib/R/site-library’\n",
            "(as ‘lib’ is unspecified)\n",
            "\n",
            "also installing the dependencies ‘listenv’, ‘parallelly’, ‘future’, ‘globals’, ‘future.apply’, ‘progressr’, ‘numDeriv’, ‘SQUAREM’, ‘lava’, ‘prodlim’, ‘proxy’, ‘iterators’, ‘gower’, ‘ipred’, ‘timeDate’, ‘e1071’, ‘foreach’, ‘ModelMetrics’, ‘plyr’, ‘pROC’, ‘recipes’, ‘reshape2’\n",
            "\n",
            "\n"
          ]
        }
      ]
    },
    {
      "cell_type": "markdown",
      "metadata": {
        "id": "kb4Q2CZ2T-Hl"
      },
      "source": [
        "Import data and check for any NA within the file"
      ]
    },
    {
      "cell_type": "code",
      "metadata": {
        "id": "RxrUXYyWScZU",
        "colab": {
          "base_uri": "https://localhost:8080/"
        },
        "outputId": "885031d3-3ace-46c2-d45c-6e2be4556c8a"
      },
      "source": [
        "path = \"https://raw.githubusercontent.com/limshaocong/analyticsEdge/main/Datasets/FAANG/altdata.csv\"\n",
        "df = read.csv(path) %>% mutate(date = ymd(date)) %>% select(- open, - close, - high, - low)\n",
        "\n",
        "if (dim(df)[1] == dim(na.omit(df))[1]) {\n",
        "  print(\"No missing data.\")\n",
        "} else {\n",
        "  print(\"Missing data\")\n",
        "}"
      ],
      "execution_count": 2,
      "outputs": [
        {
          "output_type": "stream",
          "name": "stdout",
          "text": [
            "[1] \"No missing data.\"\n"
          ]
        }
      ]
    },
    {
      "cell_type": "markdown",
      "metadata": {
        "id": "nta6GvSXUg4L"
      },
      "source": [
        "# **Exploratory Analysis**"
      ]
    },
    {
      "cell_type": "markdown",
      "metadata": {
        "id": "RkWg0bVmUEfY"
      },
      "source": [
        "Overview of Data"
      ]
    },
    {
      "cell_type": "code",
      "metadata": {
        "id": "34ebE0sfUJ26",
        "colab": {
          "base_uri": "https://localhost:8080/",
          "height": 361
        },
        "outputId": "d99a3ab5-b994-4b4e-ee3f-a93773e31677"
      },
      "source": [
        "head(df, 5)"
      ],
      "execution_count": 3,
      "outputs": [
        {
          "output_type": "display_data",
          "data": {
            "text/plain": [
              "  date       ticker vol      newssentiment newsmentions twtrmentions\n",
              "1 2019-01-08 FB     26252863 63.0          2            569         \n",
              "2 2019-01-09 FB     22203279 50.0          0            489         \n",
              "3 2019-01-10 FB     16111304 50.5          2            464         \n",
              "4 2019-01-11 FB     12907031 50.0          0            368         \n",
              "5 2019-01-14 FB     20515678 50.0          0            399         \n",
              "  twtrsentiment wsbsentiment wsbmentions retailvol ⋯ twtrmentions5MA\n",
              "1 0.26889279     0.3528667   1           11163579  ⋯ 473.6          \n",
              "2 0.09406953    -0.3818000   1            9658300  ⋯ 461.0          \n",
              "3 0.17456897     0.3246000   1            6779001  ⋯ 457.8          \n",
              "4 0.17663043    -0.0799400   1            5398647  ⋯ 467.2          \n",
              "5 0.23809524    -0.1558800   1            9170878  ⋯ 462.0          \n",
              "  wsbmentions5MA newsmentions5MA twtrmentions10MA wsbmentions10MA\n",
              "1 1              0.8             487.8            1              \n",
              "2 1              0.8             473.5            1              \n",
              "3 1              0.8             469.0            1              \n",
              "4 1              0.4             487.2            1              \n",
              "5 1              0.4             495.3            1              \n",
              "  newsmentions10MA retailvollag1 retailvollag2 retailvollag4 target \n",
              "1 0.6              11163579      10410940      8964350       9658300\n",
              "2 0.4               9658300       8218650      8249882       6779001\n",
              "3 0.5               6779001       6088824      7751706       5398647\n",
              "4 0.6               5398647       7284762      7707233       9170878\n",
              "5 0.6               9170878       9325642      7777200       9480406"
            ],
            "text/latex": "A data.frame: 5 × 40\n\\begin{tabular}{r|lllllllllllllllllllll}\n  & date & ticker & vol & newssentiment & newsmentions & twtrmentions & twtrsentiment & wsbsentiment & wsbmentions & retailvol & ⋯ & twtrmentions5MA & wsbmentions5MA & newsmentions5MA & twtrmentions10MA & wsbmentions10MA & newsmentions10MA & retailvollag1 & retailvollag2 & retailvollag4 & target\\\\\n  & <date> & <chr> & <int> & <dbl> & <int> & <int> & <dbl> & <dbl> & <int> & <int> & ⋯ & <dbl> & <dbl> & <dbl> & <dbl> & <dbl> & <dbl> & <int> & <dbl> & <dbl> & <int>\\\\\n\\hline\n\t1 & 2019-01-08 & FB & 26252863 & 63.0 & 2 & 569 & 0.26889279 &  0.3528667 & 1 & 11163579 & ⋯ & 473.6 & 1 & 0.8 & 487.8 & 1 & 0.6 & 11163579 & 10410940 & 8964350 & 9658300\\\\\n\t2 & 2019-01-09 & FB & 22203279 & 50.0 & 0 & 489 & 0.09406953 & -0.3818000 & 1 &  9658300 & ⋯ & 461.0 & 1 & 0.8 & 473.5 & 1 & 0.4 &  9658300 &  8218650 & 8249882 & 6779001\\\\\n\t3 & 2019-01-10 & FB & 16111304 & 50.5 & 2 & 464 & 0.17456897 &  0.3246000 & 1 &  6779001 & ⋯ & 457.8 & 1 & 0.8 & 469.0 & 1 & 0.5 &  6779001 &  6088824 & 7751706 & 5398647\\\\\n\t4 & 2019-01-11 & FB & 12907031 & 50.0 & 0 & 368 & 0.17663043 & -0.0799400 & 1 &  5398647 & ⋯ & 467.2 & 1 & 0.4 & 487.2 & 1 & 0.6 &  5398647 &  7284762 & 7707233 & 9170878\\\\\n\t5 & 2019-01-14 & FB & 20515678 & 50.0 & 0 & 399 & 0.23809524 & -0.1558800 & 1 &  9170878 & ⋯ & 462.0 & 1 & 0.4 & 495.3 & 1 & 0.6 &  9170878 &  9325642 & 7777200 & 9480406\\\\\n\\end{tabular}\n",
            "text/markdown": "\nA data.frame: 5 × 40\n\n| <!--/--> | date &lt;date&gt; | ticker &lt;chr&gt; | vol &lt;int&gt; | newssentiment &lt;dbl&gt; | newsmentions &lt;int&gt; | twtrmentions &lt;int&gt; | twtrsentiment &lt;dbl&gt; | wsbsentiment &lt;dbl&gt; | wsbmentions &lt;int&gt; | retailvol &lt;int&gt; | ⋯ ⋯ | twtrmentions5MA &lt;dbl&gt; | wsbmentions5MA &lt;dbl&gt; | newsmentions5MA &lt;dbl&gt; | twtrmentions10MA &lt;dbl&gt; | wsbmentions10MA &lt;dbl&gt; | newsmentions10MA &lt;dbl&gt; | retailvollag1 &lt;int&gt; | retailvollag2 &lt;dbl&gt; | retailvollag4 &lt;dbl&gt; | target &lt;int&gt; |\n|---|---|---|---|---|---|---|---|---|---|---|---|---|---|---|---|---|---|---|---|---|---|\n| 1 | 2019-01-08 | FB | 26252863 | 63.0 | 2 | 569 | 0.26889279 |  0.3528667 | 1 | 11163579 | ⋯ | 473.6 | 1 | 0.8 | 487.8 | 1 | 0.6 | 11163579 | 10410940 | 8964350 | 9658300 |\n| 2 | 2019-01-09 | FB | 22203279 | 50.0 | 0 | 489 | 0.09406953 | -0.3818000 | 1 |  9658300 | ⋯ | 461.0 | 1 | 0.8 | 473.5 | 1 | 0.4 |  9658300 |  8218650 | 8249882 | 6779001 |\n| 3 | 2019-01-10 | FB | 16111304 | 50.5 | 2 | 464 | 0.17456897 |  0.3246000 | 1 |  6779001 | ⋯ | 457.8 | 1 | 0.8 | 469.0 | 1 | 0.5 |  6779001 |  6088824 | 7751706 | 5398647 |\n| 4 | 2019-01-11 | FB | 12907031 | 50.0 | 0 | 368 | 0.17663043 | -0.0799400 | 1 |  5398647 | ⋯ | 467.2 | 1 | 0.4 | 487.2 | 1 | 0.6 |  5398647 |  7284762 | 7707233 | 9170878 |\n| 5 | 2019-01-14 | FB | 20515678 | 50.0 | 0 | 399 | 0.23809524 | -0.1558800 | 1 |  9170878 | ⋯ | 462.0 | 1 | 0.4 | 495.3 | 1 | 0.6 |  9170878 |  9325642 | 7777200 | 9480406 |\n\n",
            "text/html": [
              "<table class=\"dataframe\">\n",
              "<caption>A data.frame: 5 × 40</caption>\n",
              "<thead>\n",
              "\t<tr><th></th><th scope=col>date</th><th scope=col>ticker</th><th scope=col>vol</th><th scope=col>newssentiment</th><th scope=col>newsmentions</th><th scope=col>twtrmentions</th><th scope=col>twtrsentiment</th><th scope=col>wsbsentiment</th><th scope=col>wsbmentions</th><th scope=col>retailvol</th><th scope=col>⋯</th><th scope=col>twtrmentions5MA</th><th scope=col>wsbmentions5MA</th><th scope=col>newsmentions5MA</th><th scope=col>twtrmentions10MA</th><th scope=col>wsbmentions10MA</th><th scope=col>newsmentions10MA</th><th scope=col>retailvollag1</th><th scope=col>retailvollag2</th><th scope=col>retailvollag4</th><th scope=col>target</th></tr>\n",
              "\t<tr><th></th><th scope=col>&lt;date&gt;</th><th scope=col>&lt;chr&gt;</th><th scope=col>&lt;int&gt;</th><th scope=col>&lt;dbl&gt;</th><th scope=col>&lt;int&gt;</th><th scope=col>&lt;int&gt;</th><th scope=col>&lt;dbl&gt;</th><th scope=col>&lt;dbl&gt;</th><th scope=col>&lt;int&gt;</th><th scope=col>&lt;int&gt;</th><th scope=col>⋯</th><th scope=col>&lt;dbl&gt;</th><th scope=col>&lt;dbl&gt;</th><th scope=col>&lt;dbl&gt;</th><th scope=col>&lt;dbl&gt;</th><th scope=col>&lt;dbl&gt;</th><th scope=col>&lt;dbl&gt;</th><th scope=col>&lt;int&gt;</th><th scope=col>&lt;dbl&gt;</th><th scope=col>&lt;dbl&gt;</th><th scope=col>&lt;int&gt;</th></tr>\n",
              "</thead>\n",
              "<tbody>\n",
              "\t<tr><th scope=row>1</th><td>2019-01-08</td><td>FB</td><td>26252863</td><td>63.0</td><td>2</td><td>569</td><td>0.26889279</td><td> 0.3528667</td><td>1</td><td>11163579</td><td>⋯</td><td>473.6</td><td>1</td><td>0.8</td><td>487.8</td><td>1</td><td>0.6</td><td>11163579</td><td>10410940</td><td>8964350</td><td>9658300</td></tr>\n",
              "\t<tr><th scope=row>2</th><td>2019-01-09</td><td>FB</td><td>22203279</td><td>50.0</td><td>0</td><td>489</td><td>0.09406953</td><td>-0.3818000</td><td>1</td><td> 9658300</td><td>⋯</td><td>461.0</td><td>1</td><td>0.8</td><td>473.5</td><td>1</td><td>0.4</td><td> 9658300</td><td> 8218650</td><td>8249882</td><td>6779001</td></tr>\n",
              "\t<tr><th scope=row>3</th><td>2019-01-10</td><td>FB</td><td>16111304</td><td>50.5</td><td>2</td><td>464</td><td>0.17456897</td><td> 0.3246000</td><td>1</td><td> 6779001</td><td>⋯</td><td>457.8</td><td>1</td><td>0.8</td><td>469.0</td><td>1</td><td>0.5</td><td> 6779001</td><td> 6088824</td><td>7751706</td><td>5398647</td></tr>\n",
              "\t<tr><th scope=row>4</th><td>2019-01-11</td><td>FB</td><td>12907031</td><td>50.0</td><td>0</td><td>368</td><td>0.17663043</td><td>-0.0799400</td><td>1</td><td> 5398647</td><td>⋯</td><td>467.2</td><td>1</td><td>0.4</td><td>487.2</td><td>1</td><td>0.6</td><td> 5398647</td><td> 7284762</td><td>7707233</td><td>9170878</td></tr>\n",
              "\t<tr><th scope=row>5</th><td>2019-01-14</td><td>FB</td><td>20515678</td><td>50.0</td><td>0</td><td>399</td><td>0.23809524</td><td>-0.1558800</td><td>1</td><td> 9170878</td><td>⋯</td><td>462.0</td><td>1</td><td>0.4</td><td>495.3</td><td>1</td><td>0.6</td><td> 9170878</td><td> 9325642</td><td>7777200</td><td>9480406</td></tr>\n",
              "</tbody>\n",
              "</table>\n"
            ]
          },
          "metadata": {}
        }
      ]
    },
    {
      "cell_type": "code",
      "metadata": {
        "colab": {
          "base_uri": "https://localhost:8080/"
        },
        "id": "umXIuK1pa0kG",
        "outputId": "710433ee-5d41-4e36-fcc7-12741bd20c0e"
      },
      "source": [
        "str(df)"
      ],
      "execution_count": 4,
      "outputs": [
        {
          "output_type": "stream",
          "name": "stdout",
          "text": [
            "'data.frame':\t3310 obs. of  40 variables:\n",
            " $ date             : Date, format: \"2019-01-08\" \"2019-01-09\" ...\n",
            " $ ticker           : chr  \"FB\" \"FB\" \"FB\" \"FB\" ...\n",
            " $ vol              : int  26252863 22203279 16111304 12907031 20515678 24065513 18060414 15787914 32309412 22393694 ...\n",
            " $ newssentiment    : num  63 50 50.5 50 50 50 50 37 40 50 ...\n",
            " $ newsmentions     : int  2 0 2 0 0 0 0 1 1 0 ...\n",
            " $ twtrmentions     : int  569 489 464 368 399 616 463 476 613 496 ...\n",
            " $ twtrsentiment    : num  0.2689 0.0941 0.1746 0.1766 0.2381 ...\n",
            " $ wsbsentiment     : num  0.3529 -0.3818 0.3246 -0.0799 -0.1559 ...\n",
            " $ wsbmentions      : int  1 1 1 1 1 1 1 1 1 1 ...\n",
            " $ retailvol        : int  11163579 9658300 6779001 5398647 9170878 9480406 7058870 5805217 11946377 8903335 ...\n",
            " $ instvol          : int  15100214 12547579 9346003 7509384 11349400 14588416 10966844 9982697 19083235 13475359 ...\n",
            " $ retailperc       : num  0.425 0.435 0.42 0.418 0.447 ...\n",
            " $ newssentimentlag1: num  50 63 50 50.5 50 50 50 50 37 40 ...\n",
            " $ newsmentionslag1 : int  0 2 0 2 0 0 0 0 1 1 ...\n",
            " $ twtrmentionslag1 : int  415 569 489 464 368 399 616 463 476 613 ...\n",
            " $ twtrsentimentlag1: num  0.2024 0.2689 0.0941 0.1746 0.1766 ...\n",
            " $ wsbsentimentlag1 : num  -0.2222 0.3529 -0.3818 0.3246 -0.0799 ...\n",
            " $ wsbmentionslag1  : int  1 1 1 1 1 1 1 1 1 1 ...\n",
            " $ newssentimentlag2: num  50 50 63 50 50.5 50 50 50 50 37 ...\n",
            " $ newsmentionslag2 : int  0 0 2 0 2 0 0 0 0 1 ...\n",
            " $ twtrmentionslag2 : int  431 415 569 489 464 368 399 616 463 476 ...\n",
            " $ twtrsentimentlag2: num  0.058 0.2024 0.2689 0.0941 0.1746 ...\n",
            " $ wsbsentimentlag2 : num  -0.0623 -0.2222 0.3529 -0.3818 0.3246 ...\n",
            " $ wsbmentionslag2  : int  1 1 1 1 1 1 1 1 1 1 ...\n",
            " $ newssentimentlag4: num  50 50 50 50 63 50 50.5 50 50 50 ...\n",
            " $ newsmentionslag4 : int  2 0 0 0 2 0 2 0 0 0 ...\n",
            " $ twtrmentionslag4 : int  606 521 431 415 569 489 464 368 399 616 ...\n",
            " $ twtrsentimentlag4: num  0.1172 0.0307 0.058 0.2024 0.2689 ...\n",
            " $ wsbsentimentlag4 : num  0.1815 -0.1377 -0.0623 -0.2222 0.3529 ...\n",
            " $ wsbmentionslag4  : int  1 1 1 1 1 1 1 1 1 1 ...\n",
            " $ twtrmentions5MA  : num  474 461 458 467 462 ...\n",
            " $ wsbmentions5MA   : num  1 1 1 1 1 1 1 1 1 1 ...\n",
            " $ newsmentions5MA  : num  0.8 0.8 0.8 0.4 0.4 0.2 0.4 0.4 0.6 1.2 ...\n",
            " $ twtrmentions10MA : num  488 474 469 487 495 ...\n",
            " $ wsbmentions10MA  : num  1 1 1 1 1 1 1 1 1 1 ...\n",
            " $ newsmentions10MA : num  0.6 0.4 0.5 0.6 0.6 0.5 0.8 0.6 0.8 1.1 ...\n",
            " $ retailvollag1    : int  11163579 9658300 6779001 5398647 9170878 9480406 7058870 5805217 11946377 8903335 ...\n",
            " $ retailvollag2    : num  10410940 8218650 6088824 7284762 9325642 ...\n",
            " $ retailvollag4    : num  8964350 8249882 7751706 7707233 7777200 ...\n",
            " $ target           : int  9658300 6779001 5398647 9170878 9480406 7058870 5805217 11946377 8903335 7344744 ...\n"
          ]
        }
      ]
    },
    {
      "cell_type": "markdown",
      "metadata": {
        "id": "1wOvv24EUY8F"
      },
      "source": [
        "662 trading days worth of training data from Jan 8, 2019 to Aug 30, 2021."
      ]
    },
    {
      "cell_type": "code",
      "metadata": {
        "id": "Jc7NYXaOUMIZ",
        "colab": {
          "base_uri": "https://localhost:8080/",
          "height": 255
        },
        "outputId": "b04dc697-1066-4e84-d3be-cb1d80fdfe7c"
      },
      "source": [
        "df %>%\n",
        "  group_by(ticker) %>%\n",
        "  summarise(n())"
      ],
      "execution_count": 5,
      "outputs": [
        {
          "output_type": "display_data",
          "data": {
            "text/plain": [
              "  ticker n()\n",
              "1 AAPL   662\n",
              "2 AMZN   662\n",
              "3 FB     662\n",
              "4 GOOGL  662\n",
              "5 NFLX   662"
            ],
            "text/latex": "A tibble: 5 × 2\n\\begin{tabular}{ll}\n ticker & n()\\\\\n <chr> & <int>\\\\\n\\hline\n\t AAPL  & 662\\\\\n\t AMZN  & 662\\\\\n\t FB    & 662\\\\\n\t GOOGL & 662\\\\\n\t NFLX  & 662\\\\\n\\end{tabular}\n",
            "text/markdown": "\nA tibble: 5 × 2\n\n| ticker &lt;chr&gt; | n() &lt;int&gt; |\n|---|---|\n| AAPL  | 662 |\n| AMZN  | 662 |\n| FB    | 662 |\n| GOOGL | 662 |\n| NFLX  | 662 |\n\n",
            "text/html": [
              "<table class=\"dataframe\">\n",
              "<caption>A tibble: 5 × 2</caption>\n",
              "<thead>\n",
              "\t<tr><th scope=col>ticker</th><th scope=col>n()</th></tr>\n",
              "\t<tr><th scope=col>&lt;chr&gt;</th><th scope=col>&lt;int&gt;</th></tr>\n",
              "</thead>\n",
              "<tbody>\n",
              "\t<tr><td>AAPL </td><td>662</td></tr>\n",
              "\t<tr><td>AMZN </td><td>662</td></tr>\n",
              "\t<tr><td>FB   </td><td>662</td></tr>\n",
              "\t<tr><td>GOOGL</td><td>662</td></tr>\n",
              "\t<tr><td>NFLX </td><td>662</td></tr>\n",
              "</tbody>\n",
              "</table>\n"
            ]
          },
          "metadata": {}
        }
      ]
    },
    {
      "cell_type": "markdown",
      "metadata": {
        "id": "re0kLUG1aPQN"
      },
      "source": [
        "# **Data Preparation**"
      ]
    },
    {
      "cell_type": "markdown",
      "metadata": {
        "id": "gz-fVbpKbSe9"
      },
      "source": [
        "Train-test split"
      ]
    },
    {
      "cell_type": "code",
      "metadata": {
        "id": "FzUiyc3naO72",
        "colab": {
          "base_uri": "https://localhost:8080/",
          "height": 0
        },
        "outputId": "036cb9fb-b410-4432-d17a-e903cd99a492"
      },
      "source": [
        "split = as.Date(\"2020-11-24\")\n",
        "\n",
        "# Train-test split\n",
        "train = df %>% filter(date < split)\n",
        "test = df %>% filter(date >= split)\n",
        "\n",
        "train_days = dim(train)[1]/5\n",
        "test_days = dim(test)[1]/5\n",
        "\n",
        "train_prop = train_days / (train_days + test_days)\n",
        "\n",
        "paste0(\"Training data proportion: \", round(train_prop * 100, 1), \"%. Total training days = \", train_days)"
      ],
      "execution_count": 6,
      "outputs": [
        {
          "output_type": "display_data",
          "data": {
            "text/plain": [
              "[1] \"Training data proportion: 71.8%. Total training days = 475\""
            ],
            "text/latex": "'Training data proportion: 71.8\\%. Total training days = 475'",
            "text/markdown": "'Training data proportion: 71.8%. Total training days = 475'",
            "text/html": [
              "'Training data proportion: 71.8%. Total training days = 475'"
            ]
          },
          "metadata": {}
        }
      ]
    },
    {
      "cell_type": "markdown",
      "metadata": {
        "id": "VV8sndrrdZ6R"
      },
      "source": [
        "Train-validate Split - as normal k-fold CV does not work on time series, an expanding window approach is used (see Section 4.3 of https://topepo.github.io/caret/data-splitting.html#time). With these parameters, CV-error will be run on 5 different validation sets."
      ]
    },
    {
      "cell_type": "code",
      "metadata": {
        "id": "E00-DFtJbbxi",
        "colab": {
          "base_uri": "https://localhost:8080/",
          "height": 0
        },
        "outputId": "80404330-4dae-4889-c4c2-cbad96bace32"
      },
      "source": [
        "index = 1:train_days\n",
        "slices = createTimeSlices(index, initialWindow = 230, horizon = 100, fixedWindow = FALSE, skip = 28)\n",
        "\n",
        "trainslices = slices[[1]] # specific slices callable by df[trainslices[[i]],]\n",
        "testslices = slices[[2]]\n",
        "\n",
        "lapply(slices, length)"
      ],
      "execution_count": 7,
      "outputs": [
        {
          "output_type": "display_data",
          "data": {
            "text/plain": [
              "$train\n",
              "[1] 6\n",
              "\n",
              "$test\n",
              "[1] 6\n"
            ],
            "text/latex": "\\begin{description}\n\\item[\\$train] 6\n\\item[\\$test] 6\n\\end{description}\n",
            "text/markdown": "$train\n:   6\n$test\n:   6\n\n\n",
            "text/html": [
              "<dl>\n",
              "\t<dt>$train</dt>\n",
              "\t\t<dd>6</dd>\n",
              "\t<dt>$test</dt>\n",
              "\t\t<dd>6</dd>\n",
              "</dl>\n"
            ]
          },
          "metadata": {}
        }
      ]
    },
    {
      "cell_type": "code",
      "metadata": {
        "colab": {
          "base_uri": "https://localhost:8080/"
        },
        "id": "60-GzaA4Qghx",
        "outputId": "2ef702fe-e1e7-4850-b860-c8f4a5377b59"
      },
      "source": [
        "for (fold in 1:6) {\n",
        "  trainN = length(slices$train[[fold]])\n",
        "  testN = length(slices$test[[fold]])\n",
        "  trainperc = round(trainN / (trainN + testN), 2) * 100\n",
        "\n",
        "  print(paste0(\"Fold \", fold, \": \", trainN, \" train data. 100 test data. \", trainperc, \"%\"))\n",
        "}"
      ],
      "execution_count": 8,
      "outputs": [
        {
          "output_type": "stream",
          "name": "stdout",
          "text": [
            "[1] \"Fold 1: 230 train data. 100 test data. 70%\"\n",
            "[1] \"Fold 2: 259 train data. 100 test data. 72%\"\n",
            "[1] \"Fold 3: 288 train data. 100 test data. 74%\"\n",
            "[1] \"Fold 4: 317 train data. 100 test data. 76%\"\n",
            "[1] \"Fold 5: 346 train data. 100 test data. 78%\"\n",
            "[1] \"Fold 6: 375 train data. 100 test data. 79%\"\n"
          ]
        }
      ]
    },
    {
      "cell_type": "code",
      "metadata": {
        "id": "rlDdwgfEPJ8c"
      },
      "source": [
        "#slices$train\n",
        "#slices$test"
      ],
      "execution_count": 9,
      "outputs": []
    },
    {
      "cell_type": "markdown",
      "metadata": {
        "id": "ak39HF9cf3lu"
      },
      "source": [
        "# **Model Building**"
      ]
    },
    {
      "cell_type": "code",
      "metadata": {
        "id": "ny598aAsf3EB",
        "colab": {
          "base_uri": "https://localhost:8080/"
        },
        "outputId": "71079661-2864-4612-d8e7-b8bb6aea8a6d"
      },
      "source": [
        "if(\"Metrics\" %in% rownames(installed.packages()) == FALSE) {install.packages(\"Metrics\")}\n",
        "suppressMessages(library(Metrics))\n",
        "if(\"randomForest\" %in% rownames(installed.packages()) == FALSE) {install.packages(\"randomForest\")}\n",
        "suppressMessages(library(randomForest))\n",
        "if(\"xgboost\" %in% rownames(installed.packages()) == FALSE) {install.packages(\"xgboost\")}\n",
        "library(xgboost)\n",
        "if(\"zoo\" %in% rownames(installed.packages()) == FALSE) {install.packages(\"zoo\")}\n",
        "library(zoo) # rolling mean"
      ],
      "execution_count": 10,
      "outputs": [
        {
          "output_type": "stream",
          "name": "stderr",
          "text": [
            "Installing package into ‘/usr/local/lib/R/site-library’\n",
            "(as ‘lib’ is unspecified)\n",
            "\n",
            "Installing package into ‘/usr/local/lib/R/site-library’\n",
            "(as ‘lib’ is unspecified)\n",
            "\n",
            "Installing package into ‘/usr/local/lib/R/site-library’\n",
            "(as ‘lib’ is unspecified)\n",
            "\n",
            "\n",
            "Attaching package: ‘xgboost’\n",
            "\n",
            "\n",
            "The following object is masked from ‘package:dplyr’:\n",
            "\n",
            "    slice\n",
            "\n",
            "\n",
            "Installing package into ‘/usr/local/lib/R/site-library’\n",
            "(as ‘lib’ is unspecified)\n",
            "\n",
            "\n",
            "Attaching package: ‘zoo’\n",
            "\n",
            "\n",
            "The following objects are masked from ‘package:base’:\n",
            "\n",
            "    as.Date, as.Date.numeric\n",
            "\n",
            "\n"
          ]
        }
      ]
    },
    {
      "cell_type": "markdown",
      "metadata": {
        "id": "TUTeSnGDT77V"
      },
      "source": [
        "## **Naive Model**"
      ]
    },
    {
      "cell_type": "markdown",
      "metadata": {
        "id": "F6VrkM62H7b1"
      },
      "source": [
        "To assess what is the best naive model to provide a baseline prediction, create a function to test what type of MA performs best."
      ]
    },
    {
      "cell_type": "code",
      "metadata": {
        "id": "uE-qeknbTmue"
      },
      "source": [
        "# Naive model using MA\n",
        "\n",
        "run_naive = function(x, MAdays) {\n",
        "\n",
        "  # Create target variable based on given MA days\n",
        "  naive = df %>%\n",
        "    filter(ticker == x) %>%\n",
        "    mutate(volMA = rollmean(vol, align = \"right\", k = MAdays, fill = NA)) %>%\n",
        "    select(date, ticker, target, volMA)\n",
        "\n",
        "  # Store the errors for each of the 7 folds\n",
        "  cvrmse = list()\n",
        "  cvmae = list()\n",
        "\n",
        "  for (i in 1:6) {\n",
        "    \n",
        "    validate = naive[testslices[[i]],]\n",
        "    cvrmse[i] = rmse(validate$target, validate$volMA)\n",
        "    cvmae[i] = mae(validate$target, validate$volMA)\n",
        "\n",
        "  }\n",
        "\n",
        "  # Compute aggregated statistics\n",
        "  output = list()\n",
        "  output[[\"ticker\"]] = x\n",
        "  output[[\"nRMSE\"]] = mean(unlist(cvrmse))\n",
        "  output[[\"nRMSESD\"]] = sd(unlist(cvrmse))\n",
        "  output[[\"nMAE\"]] = mean(unlist(cvmae))\n",
        "  output[[\"nMAESD\"]] = sd(unlist(cvmae))\n",
        "\n",
        "  output = output\n",
        "\n",
        "}"
      ],
      "execution_count": 11,
      "outputs": []
    },
    {
      "cell_type": "markdown",
      "metadata": {
        "id": "nEQI2Zy6IPjH"
      },
      "source": [
        "The results indicate that using the maximum possible MA of 230 days provides the lowest error."
      ]
    },
    {
      "cell_type": "code",
      "metadata": {
        "colab": {
          "base_uri": "https://localhost:8080/"
        },
        "id": "7FWvzPs0AtUc",
        "outputId": "adfcd03f-b6a3-4b9f-fede-7030d05ae9ce"
      },
      "source": [
        "tickers = list(\"FB\", \"AAPL\", \"AMZN\", \"NFLX\", \"GOOGL\")\n",
        "\n",
        "for (x in tickers) {\n",
        "\n",
        "  n1 = run_naive(x, 1)\n",
        "  n50 = run_naive(x, 50)\n",
        "  n150 = run_naive(x, 150)\n",
        "  n200 = run_naive(x, 200)\n",
        "  n230 = run_naive(x, 230)\n",
        "\n",
        "  ntotal = rbind(n1, n50, n150, n200, n230) \n",
        "\n",
        "  print(ntotal)\n",
        "\n",
        "}"
      ],
      "execution_count": 12,
      "outputs": [
        {
          "output_type": "stream",
          "name": "stdout",
          "text": [
            "     ticker nRMSE    nRMSESD nMAE     nMAESD \n",
            "n1   \"FB\"   15973783 1103528 13552685 1053109\n",
            "n50  \"FB\"   13509548 2119832 12840121 2164882\n",
            "n150 \"FB\"   10747364 2901855 10076131 2911848\n",
            "n200 \"FB\"   9765942  2166245 9118983  2168498\n",
            "n230 \"FB\"   9413647  1697247 8769982  1704406\n",
            "     ticker nRMSE     nRMSESD  nMAE     nMAESD  \n",
            "n1   \"AAPL\" 101912633 12208016 87608934 9790274 \n",
            "n50  \"AAPL\" 95248407  11791089 86847804 11671075\n",
            "n150 \"AAPL\" 78262677  16119361 72656136 17054052\n",
            "n200 \"AAPL\" 70461889  14096086 65074991 14511175\n",
            "n230 \"AAPL\" 66400556  12267754 61186562 12501870\n",
            "     ticker nRMSE   nRMSESD  nMAE    nMAESD  \n",
            "n1   \"AMZN\" 3424935 309839   3021463 195775  \n",
            "n50  \"AMZN\" 3071119 356491.2 2878729 346459.6\n",
            "n150 \"AMZN\" 2585648 564070.1 2447764 610300.2\n",
            "n200 \"AMZN\" 2356100 415677   2216469 457885  \n",
            "n230 \"AMZN\" 2268850 306187   2129738 345349  \n",
            "     ticker nRMSE   nRMSESD  nMAE    nMAESD  \n",
            "n1   \"NFLX\" 5294691 342643.4 4406934 447902.8\n",
            "n50  \"NFLX\" 4827286 403049.5 4576051 380820.1\n",
            "n150 \"NFLX\" 4761975 300216.2 4562725 334638  \n",
            "n200 \"NFLX\" 4699069 289524.2 4504267 325509.2\n",
            "n230 \"NFLX\" 4696793 325684.7 4488460 363920.6\n",
            "     ticker  nRMSE   nRMSESD  nMAE    nMAESD  \n",
            "n1   \"GOOGL\" 1612945 223745.8 1435269 204302.7\n",
            "n50  \"GOOGL\" 1511854 235752.1 1439715 227403.3\n",
            "n150 \"GOOGL\" 1335983 316849.1 1285520 339742.7\n",
            "n200 \"GOOGL\" 1227084 261937.5 1182921 282930.1\n",
            "n230 \"GOOGL\" 1180863 226063.7 1139687 244152  \n"
          ]
        }
      ]
    },
    {
      "cell_type": "markdown",
      "metadata": {
        "id": "62JbM0dHJHHy"
      },
      "source": [
        "Generate the results for all naive predictions based on a 230MA"
      ]
    },
    {
      "cell_type": "code",
      "metadata": {
        "id": "sqHZGG_TIdOK",
        "colab": {
          "base_uri": "https://localhost:8080/",
          "height": 275
        },
        "outputId": "c67c9350-3215-4789-f0fa-ac4f2a3e99a2"
      },
      "source": [
        "nfb = run_naive(\"FB\", 230)\n",
        "naapl = run_naive(\"AAPL\", 230)\n",
        "namzn = run_naive(\"AMZN\", 230)\n",
        "nnflx = run_naive(\"NFLX\", 230)\n",
        "ngoogl = run_naive(\"GOOGL\", 230)\n",
        "\n",
        "n230 = rbind(nfb, naapl, namzn, nnflx, ngoogl)\n",
        "\n",
        "n230"
      ],
      "execution_count": 13,
      "outputs": [
        {
          "output_type": "display_data",
          "data": {
            "text/plain": [
              "       ticker nRMSE    nRMSESD  nMAE     nMAESD  \n",
              "nfb    FB     9413647  1697247  8769982  1704406 \n",
              "naapl  AAPL   66400556 12267754 61186562 12501870\n",
              "namzn  AMZN   2268850  306187   2129738  345349  \n",
              "nnflx  NFLX   4696793  325684.7 4488460  363920.6\n",
              "ngoogl GOOGL  1180863  226063.7 1139687  244152  "
            ],
            "text/latex": "A matrix: 5 × 5\n\\begin{tabular}{r|lllll}\n  & ticker & nRMSE & nRMSESD & nMAE & nMAESD\\\\\n  & <chr> & <chr> & <chr> & <chr> & <chr> & <dbl> & <dbl> & <dbl> & <dbl> & <dbl> & ⋯ & <dbl> & <dbl> & <dbl> & <dbl> & <dbl> & <dbl> & <dbl> & <dbl> & <dbl> & <dbl>\\\\\n\\hline\n\tnfb & FB & 9413647 & 1697247 & 8769982 & 1704406\\\\\n\tnaapl & AAPL & 66400556 & 12267754 & 61186562 & 12501870\\\\\n\tnamzn & AMZN & 2268850 & 306187 & 2129738 & 345349\\\\\n\tnnflx & NFLX & 4696793 & 325684.7 & 4488460 & 363920.6\\\\\n\tngoogl & GOOGL & 1180863 & 226063.7 & 1139687 & 244152\\\\\n\\end{tabular}\n",
            "text/markdown": "\nA matrix: 5 × 5\n\n| <!--/--> | ticker &lt;chr&gt; | nRMSE &lt;chr&gt; | nRMSESD &lt;chr&gt; | nMAE &lt;chr&gt; | nMAESD &lt;chr&gt; | ticker &lt;dbl&gt; | nRMSE &lt;dbl&gt; | nRMSESD &lt;dbl&gt; | nMAE &lt;dbl&gt; | nMAESD &lt;dbl&gt; | ticker ⋯ | nRMSE &lt;dbl&gt; | nRMSESD &lt;dbl&gt; | nMAE &lt;dbl&gt; | nMAESD &lt;dbl&gt; | ticker &lt;dbl&gt; | nRMSE &lt;dbl&gt; | nRMSESD &lt;dbl&gt; | nMAE &lt;dbl&gt; | nMAESD &lt;dbl&gt; | ticker &lt;dbl&gt; |\n|---|---|---|---|---|---|\n| nfb | FB | 9413647 | 1697247 | 8769982 | 1704406 |\n| naapl | AAPL | 66400556 | 12267754 | 61186562 | 12501870 |\n| namzn | AMZN | 2268850 | 306187 | 2129738 | 345349 |\n| nnflx | NFLX | 4696793 | 325684.7 | 4488460 | 363920.6 |\n| ngoogl | GOOGL | 1180863 | 226063.7 | 1139687 | 244152 |\n\n",
            "text/html": [
              "<table class=\"dataframe\">\n",
              "<caption>A matrix: 5 × 5</caption>\n",
              "<thead>\n",
              "\t<tr><th></th><th scope=col>ticker</th><th scope=col>nRMSE</th><th scope=col>nRMSESD</th><th scope=col>nMAE</th><th scope=col>nMAESD</th></tr>\n",
              "\t<tr><th></th><th scope=col>&lt;chr&gt;</th><th scope=col>&lt;chr&gt;</th><th scope=col>&lt;chr&gt;</th><th scope=col>&lt;chr&gt;</th><th scope=col>&lt;chr&gt;</th><th scope=col>&lt;dbl&gt;</th><th scope=col>&lt;dbl&gt;</th><th scope=col>&lt;dbl&gt;</th><th scope=col>&lt;dbl&gt;</th><th scope=col>&lt;dbl&gt;</th><th scope=col>⋯</th><th scope=col>&lt;dbl&gt;</th><th scope=col>&lt;dbl&gt;</th><th scope=col>&lt;dbl&gt;</th><th scope=col>&lt;dbl&gt;</th><th scope=col>&lt;dbl&gt;</th><th scope=col>&lt;dbl&gt;</th><th scope=col>&lt;dbl&gt;</th><th scope=col>&lt;dbl&gt;</th><th scope=col>&lt;dbl&gt;</th><th scope=col>&lt;dbl&gt;</th></tr>\n",
              "</thead>\n",
              "<tbody>\n",
              "\t<tr><th scope=row>nfb</th><td>FB</td><td>9413647</td><td>1697247</td><td>8769982</td><td>1704406</td></tr>\n",
              "\t<tr><th scope=row>naapl</th><td>AAPL</td><td>66400556</td><td>12267754</td><td>61186562</td><td>12501870</td></tr>\n",
              "\t<tr><th scope=row>namzn</th><td>AMZN</td><td>2268850</td><td>306187</td><td>2129738</td><td>345349</td></tr>\n",
              "\t<tr><th scope=row>nnflx</th><td>NFLX</td><td>4696793</td><td>325684.7</td><td>4488460</td><td>363920.6</td></tr>\n",
              "\t<tr><th scope=row>ngoogl</th><td>GOOGL</td><td>1180863</td><td>226063.7</td><td>1139687</td><td>244152</td></tr>\n",
              "</tbody>\n",
              "</table>\n"
            ]
          },
          "metadata": {}
        }
      ]
    },
    {
      "cell_type": "markdown",
      "metadata": {
        "id": "d3AZxOf5UIg3"
      },
      "source": [
        "## **Defining functions to run CART, Random Forest and XGBoost**"
      ]
    },
    {
      "cell_type": "markdown",
      "metadata": {
        "id": "Upl4URzkUO1P"
      },
      "source": [
        "Pre-defining the training control (expanding window), hyperparameter search grid for all models"
      ]
    },
    {
      "cell_type": "code",
      "metadata": {
        "id": "vN70qSkCgT_3"
      },
      "source": [
        "# Function to construct CART tree\n",
        "cart = function(trainX, trainY) {\n",
        "  \n",
        "  train_control = trainControl(method = \"timeslice\",\n",
        "                            initialWindow = 130,\n",
        "                            horizon = 30,\n",
        "                            fixedWindow = FALSE,\n",
        "                            skip = 40,\n",
        "                            savePredictions = TRUE)\n",
        "\n",
        "  # hyperparameters\n",
        "  cp_values = data.frame(.cp = seq(0, 0.02, by = 0.0001))\n",
        "\n",
        "  model = train(x = trainX,\n",
        "                y = trainY,\n",
        "                method = \"rpart\",\n",
        "                trControl = train_control,\n",
        "                tuneGrid = cp_values)\n",
        "\n",
        "}\n",
        "\n",
        "# Function to construct RandomForest\n",
        "randomforest = function(trainX, trainY) {\n",
        "\n",
        "  train_control = trainControl(method = \"timeslice\",\n",
        "                                initialWindow = 130,\n",
        "                                horizon = 30,\n",
        "                                fixedWindow = FALSE,\n",
        "                                skip = 40,\n",
        "                                savePredictions = TRUE)\n",
        "\n",
        "  # hyperparameters\n",
        "  n_pred = dim(trainX)[2]\n",
        "  mtry_low = round(0.4 * n_pred)\n",
        "  mtry_upp = round(0.6 * n_pred)\n",
        "  mtry_grid = data.frame(mtry = seq(mtry_low, mtry_upp, by = 1))\n",
        "      \n",
        "  model = train(x = trainX,\n",
        "                y = trainY,\n",
        "                method = \"rf\",\n",
        "                trControl = train_control,\n",
        "                tuneGrid = mtry_grid,\n",
        "                ntree = 300,\n",
        "                nodesize = 5)\n",
        "\n",
        "}\n",
        "\n",
        "# Function to construct XGBoost\n",
        "xgb = function(trainX, trainY) {\n",
        "  \n",
        "  train_control = trainControl(method = \"timeslice\",\n",
        "                              initialWindow = 130,\n",
        "                              horizon = 30,\n",
        "                              fixedWindow = FALSE,\n",
        "                              skip = 40,\n",
        "                              savePredictions = TRUE,\n",
        "                              allowParallel = TRUE)\n",
        "\n",
        "  # hyperparameters that require further tuning\n",
        "  parm_grid = expand.grid(nrounds = 100, \n",
        "                          max_depth = 6:8, \n",
        "                          eta = seq(0.01, 0.05, by = 0.005),\n",
        "                          gamma = c(0, 0.05),\n",
        "                          colsample_bytree = 1,\n",
        "                          min_child_weight = 1,\n",
        "                          subsample = c(0.3, 0.5))\n",
        "\n",
        "  model = train(x = trainX,\n",
        "                y = trainY,\n",
        "                method = \"xgbTree\",\n",
        "                tuneGrid = parm_grid,\n",
        "                trControl = train_control)\n",
        "\n",
        "}\n",
        "\n",
        "# Function to plot \n",
        "plotlastfold = function(model) {\n",
        "  \n",
        "  train_pred = predict(model$finalModel, newdata = trainX)\n",
        "  \n",
        "  model_df = data.frame(timesteps = seq(1, train_days), predicted = train_pred, actual = trainY)\n",
        "\n",
        "  ggplot(data = model_df, (aes(x = timesteps))) +\n",
        "    geom_line(aes(y = predicted), color = \"blue\") +\n",
        "    geom_line(aes(y = actual), color = \"black\")\n",
        "\n",
        "}\n"
      ],
      "execution_count": 14,
      "outputs": []
    },
    {
      "cell_type": "markdown",
      "metadata": {
        "id": "7FPP8PnkUa7Q"
      },
      "source": [
        "Defining 2 possible feature sets. \n",
        "\n",
        "1.   Reduced feature set - only using t-1 data points\n",
        "2.   Full feature set - expanded with MA and lag features\n",
        "\n",
        "Reduced feature set only accounts for sentiment effects in the preceding trading day.\n",
        "\n",
        "Full feature uses lag and moving average indicators, in addition to the reduced feature set, so as to use sentiment in recent history to predict volume\n",
        "\n"
      ]
    },
    {
      "cell_type": "code",
      "metadata": {
        "id": "afgdIuqpVNNJ"
      },
      "source": [
        "# $ date             : Date, format: \"2019-01-08\" \"2019-01-09\" ...\n",
        "# $ ticker           : chr  \"FB\" \"FB\" \"FB\" \"FB\" ...\n",
        "# $ vol              : int  26252863 22203279 16111304 12907031 20515678 24065513 18060414 15787914 32309412 22393694 ...\n",
        "# $ newssentiment    : num  63 50 50.5 50 50 50 50 37 40 50 ...\n",
        "# $ newsmentions     : int  2 0 2 0 0 0 0 1 1 0 ...\n",
        "# $ twtrmentions     : int  569 489 464 368 399 616 463 476 613 496 ...\n",
        "# $ twtrsentiment    : num  0.2689 0.0941 0.1746 0.1766 0.2381 ...\n",
        "# $ wsbsentiment     : num  0.3529 -0.3818 0.3246 -0.0799 -0.1559 ...\n",
        "# $ wsbmentions      : int  1 1 1 1 1 1 1 1 1 1 ...\n",
        "# $ retailvol        : int  11163579 9658300 6779001 5398647 9170878 9480406 7058870 5805217 11946377 8903335 ...\n",
        "# $ instvol          : int  15100214 12547579 9346003 7509384 11349400 14588416 10966844 9982697 19083235 13475359 ...\n",
        "# $ retailperc       : num  0.425 0.435 0.42 0.418 0.447 ...\n",
        "# $ newssentimentlag1: num  50 63 50 50.5 50 50 50 50 37 40 ...\n",
        "# $ newsmentionslag1 : int  0 2 0 2 0 0 0 0 1 1 ...\n",
        "# $ twtrmentionslag1 : int  415 569 489 464 368 399 616 463 476 613 ...\n",
        "# $ twtrsentimentlag1: num  0.2024 0.2689 0.0941 0.1746 0.1766 ...\n",
        "# $ wsbsentimentlag1 : num  -0.2222 0.3529 -0.3818 0.3246 -0.0799 ...\n",
        "# $ wsbmentionslag1  : int  1 1 1 1 1 1 1 1 1 1 ...\n",
        "# $ newssentimentlag2: num  50 50 63 50 50.5 50 50 50 50 37 ...\n",
        "# $ newsmentionslag2 : int  0 0 2 0 2 0 0 0 0 1 ...\n",
        "# $ twtrmentionslag2 : int  431 415 569 489 464 368 399 616 463 476 ...\n",
        "# $ twtrsentimentlag2: num  0.058 0.2024 0.2689 0.0941 0.1746 ...\n",
        "# $ wsbsentimentlag2 : num  -0.0623 -0.2222 0.3529 -0.3818 0.3246 ...\n",
        "# $ wsbmentionslag2  : int  1 1 1 1 1 1 1 1 1 1 ...\n",
        "# $ newssentimentlag4: num  50 50 50 50 63 50 50.5 50 50 50 ...\n",
        "# $ newsmentionslag4 : int  2 0 0 0 2 0 2 0 0 0 ...\n",
        "# $ twtrmentionslag4 : int  606 521 431 415 569 489 464 368 399 616 ...\n",
        "# $ twtrsentimentlag4: num  0.1172 0.0307 0.058 0.2024 0.2689 ...\n",
        "# $ wsbsentimentlag4 : num  0.1815 -0.1377 -0.0623 -0.2222 0.3529 ...\n",
        "# $ wsbmentionslag4  : int  1 1 1 1 1 1 1 1 1 1 ...\n",
        "# $ twtrmentions5MA  : num  474 461 458 467 462 ...\n",
        "# $ wsbmentions5MA   : num  1 1 1 1 1 1 1 1 1 1 ...\n",
        "# $ newsmentions5MA  : num  0.8 0.8 0.8 0.4 0.4 0.2 0.4 0.4 0.6 1.2 ...\n",
        "# $ twtrmentions10MA : num  488 474 469 487 495 ...\n",
        "# $ wsbmentions10MA  : num  1 1 1 1 1 1 1 1 1 1 ...\n",
        "# $ newsmentions10MA : num  0.6 0.4 0.5 0.6 0.6 0.5 0.8 0.6 0.8 1.1 ...\n",
        "# $ retailvollag1    : int  11163579 9658300 6779001 5398647 9170878 9480406 7058870 5805217 11946377 8903335 ...\n",
        "# $ retailvollag2    : num  10410940 8218650 6088824 7284762 9325642 ...\n",
        "# $ retailvollag4    : num  8964350 8249882 7751706 7707233 7777200 ...\n",
        "# $ target           : int  9658300 6779001 5398647 9170878 9480406 7058870 5805217 11946377 8903335 7344744 ...\n",
        "\n",
        "# Reduced feature set consists of\n",
        "# Sentiment - news, twitter, wsb\n",
        "# Mentions - news, twitter, wsb\n",
        "# Vol - total volume, retail volume, institutional volume\n",
        "# Retail volume as % of total volume\n",
        "reduced_feature = c(3:12)\n",
        "\n",
        "# Full feature includes the entirety of reduced feature set, as well as lag and MA features\n",
        "# Both are intended to determine if sentiment effects can affect volume beyond the next trading day\n",
        "# Sentiment - lagged by 1, 2 and 4 days\n",
        "# Mentions - lagged by 1, 2 and 4 days\n",
        "# Mentions - 5 and 10 day MA\n",
        "# Retail Vol - lagged by 1, 2 and 4 days\n",
        "\n",
        "full_feature = c(3:39)"
      ],
      "execution_count": 15,
      "outputs": []
    },
    {
      "cell_type": "markdown",
      "metadata": {
        "id": "jdcnq2GDUtOg"
      },
      "source": [
        "Wrapping the generation of trainind data for specific stocks together with model training."
      ]
    },
    {
      "cell_type": "code",
      "metadata": {
        "id": "128V5xBT-qX3"
      },
      "source": [
        "run_models = function(x, feature_set) {\n",
        "\n",
        "  output = list() # initialize list to store results\n",
        "  output[[\"ticker\"]] = x # add in ticker\n",
        "\n",
        "  # Create trainX, trainY, testX and testY based on feature_set\n",
        "  trainX = train %>% filter(ticker == x) %>% select(feature_set)\n",
        "  trainY = train %>% filter(ticker == x) %>% select(c(40)) %>% pull()\n",
        "  testX = test %>% filter(ticker == x) %>% select(feature_set)\n",
        "  testY = test %>% filter(ticker == x) %>% select(c(40)) %>% pull()\n",
        "\n",
        "  # Run CART Model\n",
        "  # Extract and record error metrics\n",
        "  tree = cart(trainX, trainY)\n",
        "  output[[\"dtparams\"]] = as.list(tree$bestTune)\n",
        "  output[[\"dtRMSE\"]] = tree$results %>% arrange(RMSE) %>% dplyr::slice(1) %>% select(RMSE) %>% as.double(.)\n",
        "  output[[\"dtRMSESD\"]] = tree$results %>% arrange(RMSE) %>% dplyr::slice(1) %>% select(RMSESD) %>% as.double(.)\n",
        "  output[[\"dtMAE\"]] = tree$results %>% arrange(RMSE) %>% dplyr::slice(1) %>% select(MAE) %>% as.double(.)\n",
        "  output[[\"dtMAESD\"]] = tree$results %>% arrange(RMSE) %>% dplyr::slice(1) %>% select(MAESD) %>% as.double(.)\n",
        "  # Extract top 5 features\n",
        "  output[[\"dtImp1\"]] = names(tree$finalModel$variable.importance)[1]\n",
        "  output[[\"dtImp2\"]] = names(tree$finalModel$variable.importance)[2]\n",
        "  output[[\"dtImp3\"]] = names(tree$finalModel$variable.importance)[3]  \n",
        "  output[[\"dtImp4\"]] = names(tree$finalModel$variable.importance)[4]\n",
        "  output[[\"dtImp5\"]] = names(tree$finalModel$variable.importance)[5]    \n",
        "\n",
        "  # Run RF Model\n",
        "  # Extract and record error metrics\n",
        "  set.seed(15071)\n",
        "  forest = randomforest(trainX, trainY)\n",
        "  output[[\"rfparams\"]] = as.list(forest$bestTune)\n",
        "  output[[\"rfRMSE\"]] = forest$results %>% arrange(RMSE) %>% dplyr::slice(1) %>% select(RMSE) %>% as.double(.)\n",
        "  output[[\"rfRMSESD\"]] = forest$results %>% arrange(RMSE) %>% dplyr::slice(1) %>% select(RMSESD) %>% as.double(.)\n",
        "  output[[\"rfMAE\"]] = forest$results %>% arrange(RMSE) %>% dplyr::slice(1) %>% select(MAE) %>% as.double(.)\n",
        "  output[[\"rfMAESD\"]] = forest$results %>% arrange(RMSE) %>% dplyr::slice(1) %>% select(MAESD) %>% as.double(.)\n",
        "  # Extract top 5 features\n",
        "  forestImp = importance(forest$finalModel) %>% data.frame() %>% \n",
        "    mutate(feature = row.names(.)) %>%\n",
        "    select(feature) %>% as.list()\n",
        "  output[[\"rfImp1\"]] = forestImp[[1]][1]\n",
        "  output[[\"rfImp2\"]] = forestImp[[1]][2]\n",
        "  output[[\"rfImp3\"]] = forestImp[[1]][3]\n",
        "  output[[\"rfImp4\"]] = forestImp[[1]][4]\n",
        "  output[[\"rfImp5\"]] = forestImp[[1]][5]\n",
        "\n",
        "  output = output\n",
        "\n",
        "}\n",
        "\n",
        "run_xgb = function(x, feature_set) {\n",
        "\n",
        "  output = list() # initialize list to store results\n",
        "  output[[\"ticker\"]] = x # add in ticker\n",
        "\n",
        "  # Create trainX, trainY, testX and testY based on feature_set\n",
        "  trainX = train %>% filter(ticker == x) %>% select(feature_set)\n",
        "  trainY = train %>% filter(ticker == x) %>% select(c(40)) %>% pull()\n",
        "  testX = test %>% filter(ticker == x) %>% select(feature_set)\n",
        "  testY = test %>% filter(ticker == x) %>% select(c(40)) %>% pull()\n",
        "\n",
        "  # Run xgb Model\n",
        "  # Extract and record parameters and error metrics\n",
        "  set.seed(15071)\n",
        "  boost = xgb(trainX, trainY)\n",
        "  xgbparams = as.list(boost$bestTune)\n",
        "  output[[\"xgbmaxdepth\"]] = xgbparams$max_depth\n",
        "  output[[\"xgbgamma\"]] = xgbparams$gamma\n",
        "  output[[\"xgbeta\"]] = xgbparams$eta\n",
        "  output[[\"xgbsubsample\"]] = xgbparams$subsample\n",
        "  output[[\"xgbRMSE\"]] = boost$results %>% arrange(RMSE) %>% dplyr::slice(1) %>% select(RMSE) %>% as.double(.)\n",
        "  output[[\"xgbRMSESD\"]] = boost$results %>% arrange(RMSE) %>% dplyr::slice(1) %>% select(RMSESD) %>% as.double(.)\n",
        "  output[[\"xgbMAE\"]] = boost$results %>% arrange(RMSE) %>% dplyr::slice(1) %>% select(MAE) %>% as.double(.)\n",
        "  output[[\"xgbMAESD\"]] = boost$results %>% arrange(RMSE) %>% dplyr::slice(1) %>% select(MAESD) %>% as.double(.)\n",
        "  # Extract top 5 features\n",
        "  xgbImp = varImp(boost)\n",
        "  xgbImpl = xgbImp[[1]] %>% mutate(feature = row.names(.)) %>% select(feature) %>% as.list()\n",
        "  output[[\"xgbImp1\"]] = xgbImpl[[1]][1]\n",
        "  output[[\"xgbImp2\"]] = xgbImpl[[1]][2]\n",
        "  output[[\"xgbImp3\"]] = xgbImpl[[1]][3]\n",
        "  output[[\"xgbImp4\"]] = xgbImpl[[1]][4]\n",
        "  output[[\"xgbImp5\"]] = xgbImpl[[1]][5]\n",
        "\n",
        "  output = output\n",
        "\n",
        "}"
      ],
      "execution_count": 16,
      "outputs": []
    },
    {
      "cell_type": "markdown",
      "metadata": {
        "id": "gQzxExEshUrm"
      },
      "source": [
        "## **Set 1: Reduced Feature Set**\n",
        "\n"
      ]
    },
    {
      "cell_type": "code",
      "metadata": {
        "id": "a5D9UwLKO8Hs",
        "colab": {
          "base_uri": "https://localhost:8080/",
          "height": 327
        },
        "outputId": "f28dba94-f0b9-4a20-c0d5-b50fa37a86eb"
      },
      "source": [
        "fb = run_models(\"FB\", reduced_feature)\n",
        "aapl = run_models(\"AAPL\", reduced_feature)\n",
        "amzn = run_models(\"AMZN\", reduced_feature)\n",
        "nflx = run_models(\"NFLX\", reduced_feature)\n",
        "googl = run_models(\"GOOGL\", reduced_feature)\n",
        "\n",
        "reducedfeature = rbind(fb, aapl, amzn, nflx, googl)\n",
        "\n",
        "reducedfeature"
      ],
      "execution_count": 21,
      "outputs": [
        {
          "output_type": "stream",
          "name": "stderr",
          "text": [
            "Warning message in nominalTrainWorkflow(x = x, y = y, wts = weights, info = trainInfo, :\n",
            "“There were missing values in resampled performance measures.”\n"
          ]
        },
        {
          "output_type": "display_data",
          "data": {
            "text/plain": [
              "      ticker dtparams dtRMSE   dtRMSESD dtMAE    dtMAESD  dtImp1    dtImp2 \n",
              "fb    FB     0.0124   3406178  1462228  2496447  973412.4 vol       instvol\n",
              "aapl  AAPL   0.0122   22029959 5085829  16253663 4251292  retailvol vol    \n",
              "amzn  AMZN   0.0198   578427.7 242595.6 432587.4 171089   vol       instvol\n",
              "nflx  NFLX   0.0186   1530875  608041.3 1020052  237164.4 retailvol vol    \n",
              "googl GOOGL  0.02     236880.5 92560.64 173677.7 73366.24 vol       instvol\n",
              "      dtImp3    dtImp4       ⋯ rfparams rfRMSE   rfRMSESD rfMAE    rfMAESD \n",
              "fb    retailvol twtrmentions ⋯ 5        3195502  1428588  2249769  742313.6\n",
              "aapl  instvol   twtrmentions ⋯ 5        21201287 5743820  15507473 4592960 \n",
              "amzn  retailvol twtrmentions ⋯ 4        591472.1 273724.2 446768.4 206014.7\n",
              "nflx  instvol   twtrmentions ⋯ 4        1460066  597700.9 1023783  292645.7\n",
              "googl retailvol twtrmentions ⋯ 4        214930.6 51935.89 167980.6 40281.68\n",
              "      rfImp1 rfImp2        rfImp3       rfImp4       rfImp5       \n",
              "fb    vol    newssentiment newsmentions twtrmentions twtrsentiment\n",
              "aapl  vol    newssentiment newsmentions twtrmentions twtrsentiment\n",
              "amzn  vol    newssentiment newsmentions twtrmentions twtrsentiment\n",
              "nflx  vol    newssentiment newsmentions twtrmentions twtrsentiment\n",
              "googl vol    newssentiment newsmentions twtrmentions twtrsentiment"
            ],
            "text/latex": "A matrix: 5 × 21\n\\begin{tabular}{r|lllllllllllllllllllll}\n  & ticker & dtparams & dtRMSE & dtRMSESD & dtMAE & dtMAESD & dtImp1 & dtImp2 & dtImp3 & dtImp4 & ⋯ & rfparams & rfRMSE & rfRMSESD & rfMAE & rfMAESD & rfImp1 & rfImp2 & rfImp3 & rfImp4 & rfImp5\\\\\n  & <chr> & <chr> & <chr> & <chr> & <chr> & <named list> & <named list> & <named list> & <named list> & <named list> & ⋯ & <chr> & <chr> & <chr> & <chr> & <chr> & <chr> & <chr> & <chr> & <chr> & <chr>\\\\\n\\hline\n\tfb & FB & 0.0124 & 3406178 & 1462228 & 2496447 & 973412.4 & vol & instvol & retailvol & twtrmentions & ⋯ & 5 & 3195502 & 1428588 & 2249769 & 742313.6 & vol & newssentiment & newsmentions & twtrmentions & twtrsentiment\\\\\n\taapl & AAPL & 0.0122 & 22029959 & 5085829 & 16253663 & 4251292 & retailvol & vol & instvol & twtrmentions & ⋯ & 5 & 21201287 & 5743820 & 15507473 & 4592960 & vol & newssentiment & newsmentions & twtrmentions & twtrsentiment\\\\\n\tamzn & AMZN & 0.0198 & 578427.7 & 242595.6 & 432587.4 & 171089 & vol & instvol & retailvol & twtrmentions & ⋯ & 4 & 591472.1 & 273724.2 & 446768.4 & 206014.7 & vol & newssentiment & newsmentions & twtrmentions & twtrsentiment\\\\\n\tnflx & NFLX & 0.0186 & 1530875 & 608041.3 & 1020052 & 237164.4 & retailvol & vol & instvol & twtrmentions & ⋯ & 4 & 1460066 & 597700.9 & 1023783 & 292645.7 & vol & newssentiment & newsmentions & twtrmentions & twtrsentiment\\\\\n\tgoogl & GOOGL & 0.02 & 236880.5 & 92560.64 & 173677.7 & 73366.24 & vol & instvol & retailvol & twtrmentions & ⋯ & 4 & 214930.6 & 51935.89 & 167980.6 & 40281.68 & vol & newssentiment & newsmentions & twtrmentions & twtrsentiment\\\\\n\\end{tabular}\n",
            "text/markdown": "\nA matrix: 5 × 21\n\n| <!--/--> | ticker &lt;chr&gt; | dtparams &lt;chr&gt; | dtRMSE &lt;chr&gt; | dtRMSESD &lt;chr&gt; | dtMAE &lt;chr&gt; | dtMAESD &lt;named list&gt; | dtImp1 &lt;named list&gt; | dtImp2 &lt;named list&gt; | dtImp3 &lt;named list&gt; | dtImp4 &lt;named list&gt; | ⋯ ⋯ | rfparams &lt;chr&gt; | rfRMSE &lt;chr&gt; | rfRMSESD &lt;chr&gt; | rfMAE &lt;chr&gt; | rfMAESD &lt;chr&gt; | rfImp1 &lt;chr&gt; | rfImp2 &lt;chr&gt; | rfImp3 &lt;chr&gt; | rfImp4 &lt;chr&gt; | rfImp5 &lt;chr&gt; |\n|---|---|---|---|---|---|---|---|---|---|---|---|---|---|---|---|---|---|---|---|---|---|\n| fb | FB | 0.0124 | 3406178 | 1462228 | 2496447 | 973412.4 | vol | instvol | retailvol | twtrmentions | ⋯ | 5 | 3195502 | 1428588 | 2249769 | 742313.6 | vol | newssentiment | newsmentions | twtrmentions | twtrsentiment |\n| aapl | AAPL | 0.0122 | 22029959 | 5085829 | 16253663 | 4251292 | retailvol | vol | instvol | twtrmentions | ⋯ | 5 | 21201287 | 5743820 | 15507473 | 4592960 | vol | newssentiment | newsmentions | twtrmentions | twtrsentiment |\n| amzn | AMZN | 0.0198 | 578427.7 | 242595.6 | 432587.4 | 171089 | vol | instvol | retailvol | twtrmentions | ⋯ | 4 | 591472.1 | 273724.2 | 446768.4 | 206014.7 | vol | newssentiment | newsmentions | twtrmentions | twtrsentiment |\n| nflx | NFLX | 0.0186 | 1530875 | 608041.3 | 1020052 | 237164.4 | retailvol | vol | instvol | twtrmentions | ⋯ | 4 | 1460066 | 597700.9 | 1023783 | 292645.7 | vol | newssentiment | newsmentions | twtrmentions | twtrsentiment |\n| googl | GOOGL | 0.02 | 236880.5 | 92560.64 | 173677.7 | 73366.24 | vol | instvol | retailvol | twtrmentions | ⋯ | 4 | 214930.6 | 51935.89 | 167980.6 | 40281.68 | vol | newssentiment | newsmentions | twtrmentions | twtrsentiment |\n\n",
            "text/html": [
              "<table class=\"dataframe\">\n",
              "<caption>A matrix: 5 × 21</caption>\n",
              "<thead>\n",
              "\t<tr><th></th><th scope=col>ticker</th><th scope=col>dtparams</th><th scope=col>dtRMSE</th><th scope=col>dtRMSESD</th><th scope=col>dtMAE</th><th scope=col>dtMAESD</th><th scope=col>dtImp1</th><th scope=col>dtImp2</th><th scope=col>dtImp3</th><th scope=col>dtImp4</th><th scope=col>⋯</th><th scope=col>rfparams</th><th scope=col>rfRMSE</th><th scope=col>rfRMSESD</th><th scope=col>rfMAE</th><th scope=col>rfMAESD</th><th scope=col>rfImp1</th><th scope=col>rfImp2</th><th scope=col>rfImp3</th><th scope=col>rfImp4</th><th scope=col>rfImp5</th></tr>\n",
              "\t<tr><th></th><th scope=col>&lt;chr&gt;</th><th scope=col>&lt;chr&gt;</th><th scope=col>&lt;chr&gt;</th><th scope=col>&lt;chr&gt;</th><th scope=col>&lt;chr&gt;</th><th scope=col>&lt;named list&gt;</th><th scope=col>&lt;named list&gt;</th><th scope=col>&lt;named list&gt;</th><th scope=col>&lt;named list&gt;</th><th scope=col>&lt;named list&gt;</th><th scope=col>⋯</th><th scope=col>&lt;chr&gt;</th><th scope=col>&lt;chr&gt;</th><th scope=col>&lt;chr&gt;</th><th scope=col>&lt;chr&gt;</th><th scope=col>&lt;chr&gt;</th><th scope=col>&lt;chr&gt;</th><th scope=col>&lt;chr&gt;</th><th scope=col>&lt;chr&gt;</th><th scope=col>&lt;chr&gt;</th><th scope=col>&lt;chr&gt;</th></tr>\n",
              "</thead>\n",
              "<tbody>\n",
              "\t<tr><th scope=row>fb</th><td>FB</td><td>0.0124</td><td>3406178</td><td>1462228</td><td>2496447</td><td>973412.4</td><td>vol</td><td>instvol</td><td>retailvol</td><td>twtrmentions</td><td>⋯</td><td>5</td><td>3195502</td><td>1428588</td><td>2249769</td><td>742313.6</td><td>vol</td><td>newssentiment</td><td>newsmentions</td><td>twtrmentions</td><td>twtrsentiment</td></tr>\n",
              "\t<tr><th scope=row>aapl</th><td>AAPL</td><td>0.0122</td><td>22029959</td><td>5085829</td><td>16253663</td><td>4251292</td><td>retailvol</td><td>vol</td><td>instvol</td><td>twtrmentions</td><td>⋯</td><td>5</td><td>21201287</td><td>5743820</td><td>15507473</td><td>4592960</td><td>vol</td><td>newssentiment</td><td>newsmentions</td><td>twtrmentions</td><td>twtrsentiment</td></tr>\n",
              "\t<tr><th scope=row>amzn</th><td>AMZN</td><td>0.0198</td><td>578427.7</td><td>242595.6</td><td>432587.4</td><td>171089</td><td>vol</td><td>instvol</td><td>retailvol</td><td>twtrmentions</td><td>⋯</td><td>4</td><td>591472.1</td><td>273724.2</td><td>446768.4</td><td>206014.7</td><td>vol</td><td>newssentiment</td><td>newsmentions</td><td>twtrmentions</td><td>twtrsentiment</td></tr>\n",
              "\t<tr><th scope=row>nflx</th><td>NFLX</td><td>0.0186</td><td>1530875</td><td>608041.3</td><td>1020052</td><td>237164.4</td><td>retailvol</td><td>vol</td><td>instvol</td><td>twtrmentions</td><td>⋯</td><td>4</td><td>1460066</td><td>597700.9</td><td>1023783</td><td>292645.7</td><td>vol</td><td>newssentiment</td><td>newsmentions</td><td>twtrmentions</td><td>twtrsentiment</td></tr>\n",
              "\t<tr><th scope=row>googl</th><td>GOOGL</td><td>0.02</td><td>236880.5</td><td>92560.64</td><td>173677.7</td><td>73366.24</td><td>vol</td><td>instvol</td><td>retailvol</td><td>twtrmentions</td><td>⋯</td><td>4</td><td>214930.6</td><td>51935.89</td><td>167980.6</td><td>40281.68</td><td>vol</td><td>newssentiment</td><td>newsmentions</td><td>twtrmentions</td><td>twtrsentiment</td></tr>\n",
              "</tbody>\n",
              "</table>\n"
            ]
          },
          "metadata": {}
        }
      ]
    },
    {
      "cell_type": "code",
      "metadata": {
        "id": "9THqznqASIqD",
        "outputId": "0219cdc9-8efe-44e4-a26f-cb80c8c37ff3",
        "colab": {
          "base_uri": "https://localhost:8080/",
          "height": 275
        }
      },
      "source": [
        "fb_xgb = run_xgb(\"FB\", reduced_feature)\n",
        "aapl_xgb = run_xgb(\"AAPL\", reduced_feature)\n",
        "amzn_xgb = run_xgb(\"AMZN\", reduced_feature)\n",
        "nflx_xgb = run_xgb(\"NFLX\", reduced_feature)\n",
        "googl_xgb = run_xgb(\"GOOGL\", reduced_feature)\n",
        "\n",
        "reducedfeature_xgb = rbind(fb_xgb, aapl_xgb, amzn_xgb, nflx_xgb, googl_xgb)\n",
        "\n",
        "reducedfeature_xgb"
      ],
      "execution_count": 18,
      "outputs": [
        {
          "output_type": "display_data",
          "data": {
            "text/plain": [
              "          ticker xgbmaxdepth xgbgamma xgbeta xgbsubsample xgbRMSE  xgbRMSESD\n",
              "fb_xgb    FB     6           0        0.04   0.5          3222802  1381695  \n",
              "aapl_xgb  AAPL   7           0.05     0.05   0.5          21932968 6694709  \n",
              "amzn_xgb  AMZN   6           0.05     0.035  0.5          583855.3 310705.6 \n",
              "nflx_xgb  NFLX   7           0        0.05   0.5          1487623  588792.9 \n",
              "googl_xgb GOOGL  6           0.05     0.03   0.5          205684.9 83260.81 \n",
              "          xgbMAE   xgbMAESD xgbImp1      xgbImp2      xgbImp3     \n",
              "fb_xgb    2322226  798641.5 twtrmentions vol          retailvol   \n",
              "aapl_xgb  16162093 5517417  retailvol    twtrmentions vol         \n",
              "amzn_xgb  430219.1 223035.8 vol          retailvol    instvol     \n",
              "nflx_xgb  1043586  309896.1 retailvol    vol          twtrmentions\n",
              "googl_xgb 159558.9 74902.63 vol          twtrmentions retailvol   \n",
              "          xgbImp4       xgbImp5      \n",
              "fb_xgb    newssentiment twtrsentiment\n",
              "aapl_xgb  twtrsentiment retailperc   \n",
              "amzn_xgb  retailperc    twtrmentions \n",
              "nflx_xgb  retailperc    newsmentions \n",
              "googl_xgb instvol       twtrsentiment"
            ],
            "text/latex": "A matrix: 5 × 14\n\\begin{tabular}{r|llllllllllllll}\n  & ticker & xgbmaxdepth & xgbgamma & xgbeta & xgbsubsample & xgbRMSE & xgbRMSESD & xgbMAE & xgbMAESD & xgbImp1 & xgbImp2 & xgbImp3 & xgbImp4 & xgbImp5\\\\\n  & <chr> & <chr> & <chr> & <chr> & <chr> & <int> & <int> & <int> & <int> & <int> & ⋯ & <chr> & <chr> & <chr> & <chr> & <chr> & <chr> & <chr> & <chr> & <chr> & <chr>\\\\\n\\hline\n\tfb\\_xgb & FB & 6 & 0 & 0.04 & 0.5 & 3222802 & 1381695 & 2322226 & 798641.5 & twtrmentions & vol & retailvol & newssentiment & twtrsentiment\\\\\n\taapl\\_xgb & AAPL & 7 & 0.05 & 0.05 & 0.5 & 21932968 & 6694709 & 16162093 & 5517417 & retailvol & twtrmentions & vol & twtrsentiment & retailperc\\\\\n\tamzn\\_xgb & AMZN & 6 & 0.05 & 0.035 & 0.5 & 583855.3 & 310705.6 & 430219.1 & 223035.8 & vol & retailvol & instvol & retailperc & twtrmentions\\\\\n\tnflx\\_xgb & NFLX & 7 & 0 & 0.05 & 0.5 & 1487623 & 588792.9 & 1043586 & 309896.1 & retailvol & vol & twtrmentions & retailperc & newsmentions\\\\\n\tgoogl\\_xgb & GOOGL & 6 & 0.05 & 0.03 & 0.5 & 205684.9 & 83260.81 & 159558.9 & 74902.63 & vol & twtrmentions & retailvol & instvol & twtrsentiment\\\\\n\\end{tabular}\n",
            "text/markdown": "\nA matrix: 5 × 14\n\n| <!--/--> | ticker &lt;chr&gt; | xgbmaxdepth &lt;chr&gt; | xgbgamma &lt;chr&gt; | xgbeta &lt;chr&gt; | xgbsubsample &lt;chr&gt; | xgbRMSE &lt;int&gt; | xgbRMSESD &lt;int&gt; | xgbMAE &lt;int&gt; | xgbMAESD &lt;int&gt; | xgbImp1 &lt;int&gt; | xgbImp2 ⋯ | xgbImp3 &lt;chr&gt; | xgbImp4 &lt;chr&gt; | xgbImp5 &lt;chr&gt; | ticker &lt;chr&gt; | xgbmaxdepth &lt;chr&gt; | xgbgamma &lt;chr&gt; | xgbeta &lt;chr&gt; | xgbsubsample &lt;chr&gt; | xgbRMSE &lt;chr&gt; | xgbRMSESD &lt;chr&gt; |\n|---|---|---|---|---|---|---|---|---|---|---|---|---|---|---|\n| fb_xgb | FB | 6 | 0 | 0.04 | 0.5 | 3222802 | 1381695 | 2322226 | 798641.5 | twtrmentions | vol | retailvol | newssentiment | twtrsentiment |\n| aapl_xgb | AAPL | 7 | 0.05 | 0.05 | 0.5 | 21932968 | 6694709 | 16162093 | 5517417 | retailvol | twtrmentions | vol | twtrsentiment | retailperc |\n| amzn_xgb | AMZN | 6 | 0.05 | 0.035 | 0.5 | 583855.3 | 310705.6 | 430219.1 | 223035.8 | vol | retailvol | instvol | retailperc | twtrmentions |\n| nflx_xgb | NFLX | 7 | 0 | 0.05 | 0.5 | 1487623 | 588792.9 | 1043586 | 309896.1 | retailvol | vol | twtrmentions | retailperc | newsmentions |\n| googl_xgb | GOOGL | 6 | 0.05 | 0.03 | 0.5 | 205684.9 | 83260.81 | 159558.9 | 74902.63 | vol | twtrmentions | retailvol | instvol | twtrsentiment |\n\n",
            "text/html": [
              "<table class=\"dataframe\">\n",
              "<caption>A matrix: 5 × 14</caption>\n",
              "<thead>\n",
              "\t<tr><th></th><th scope=col>ticker</th><th scope=col>xgbmaxdepth</th><th scope=col>xgbgamma</th><th scope=col>xgbeta</th><th scope=col>xgbsubsample</th><th scope=col>xgbRMSE</th><th scope=col>xgbRMSESD</th><th scope=col>xgbMAE</th><th scope=col>xgbMAESD</th><th scope=col>xgbImp1</th><th scope=col>xgbImp2</th><th scope=col>xgbImp3</th><th scope=col>xgbImp4</th><th scope=col>xgbImp5</th></tr>\n",
              "\t<tr><th></th><th scope=col>&lt;chr&gt;</th><th scope=col>&lt;chr&gt;</th><th scope=col>&lt;chr&gt;</th><th scope=col>&lt;chr&gt;</th><th scope=col>&lt;chr&gt;</th><th scope=col>&lt;int&gt;</th><th scope=col>&lt;int&gt;</th><th scope=col>&lt;int&gt;</th><th scope=col>&lt;int&gt;</th><th scope=col>&lt;int&gt;</th><th scope=col>⋯</th><th scope=col>&lt;chr&gt;</th><th scope=col>&lt;chr&gt;</th><th scope=col>&lt;chr&gt;</th><th scope=col>&lt;chr&gt;</th><th scope=col>&lt;chr&gt;</th><th scope=col>&lt;chr&gt;</th><th scope=col>&lt;chr&gt;</th><th scope=col>&lt;chr&gt;</th><th scope=col>&lt;chr&gt;</th><th scope=col>&lt;chr&gt;</th></tr>\n",
              "</thead>\n",
              "<tbody>\n",
              "\t<tr><th scope=row>fb_xgb</th><td>FB</td><td>6</td><td>0</td><td>0.04</td><td>0.5</td><td>3222802</td><td>1381695</td><td>2322226</td><td>798641.5</td><td>twtrmentions</td><td>vol</td><td>retailvol</td><td>newssentiment</td><td>twtrsentiment</td></tr>\n",
              "\t<tr><th scope=row>aapl_xgb</th><td>AAPL</td><td>7</td><td>0.05</td><td>0.05</td><td>0.5</td><td>21932968</td><td>6694709</td><td>16162093</td><td>5517417</td><td>retailvol</td><td>twtrmentions</td><td>vol</td><td>twtrsentiment</td><td>retailperc</td></tr>\n",
              "\t<tr><th scope=row>amzn_xgb</th><td>AMZN</td><td>6</td><td>0.05</td><td>0.035</td><td>0.5</td><td>583855.3</td><td>310705.6</td><td>430219.1</td><td>223035.8</td><td>vol</td><td>retailvol</td><td>instvol</td><td>retailperc</td><td>twtrmentions</td></tr>\n",
              "\t<tr><th scope=row>nflx_xgb</th><td>NFLX</td><td>7</td><td>0</td><td>0.05</td><td>0.5</td><td>1487623</td><td>588792.9</td><td>1043586</td><td>309896.1</td><td>retailvol</td><td>vol</td><td>twtrmentions</td><td>retailperc</td><td>newsmentions</td></tr>\n",
              "\t<tr><th scope=row>googl_xgb</th><td>GOOGL</td><td>6</td><td>0.05</td><td>0.03</td><td>0.5</td><td>205684.9</td><td>83260.81</td><td>159558.9</td><td>74902.63</td><td>vol</td><td>twtrmentions</td><td>retailvol</td><td>instvol</td><td>twtrsentiment</td></tr>\n",
              "</tbody>\n",
              "</table>\n"
            ]
          },
          "metadata": {}
        }
      ]
    },
    {
      "cell_type": "code",
      "metadata": {
        "id": "aeyaeMHwp-FQ"
      },
      "source": [
        "reducedfeature %>% write.csv(\"reducedfeature_dtrf.csv\")\n",
        "reducedfeature_xgb %>% write.csv(\"reducedfeature_xgb.csv\")"
      ],
      "execution_count": 26,
      "outputs": []
    },
    {
      "cell_type": "markdown",
      "metadata": {
        "id": "jqpl4k_DWBNp"
      },
      "source": [
        "## **Set 2: Full Feature Set**\n"
      ]
    },
    {
      "cell_type": "code",
      "metadata": {
        "id": "0GqrkuEzh3CT",
        "colab": {
          "base_uri": "https://localhost:8080/",
          "height": 292
        },
        "outputId": "a7d57ec4-d7e1-4c4e-a76f-f9c772790774"
      },
      "source": [
        "fb = run_models(\"FB\", full_feature)\n",
        "aapl = run_models(\"AAPL\", full_feature)\n",
        "amzn = run_models(\"AMZN\", full_feature)\n",
        "nflx = run_models(\"NFLX\", full_feature)\n",
        "googl = run_models(\"GOOGL\", full_feature)\n",
        "\n",
        "fullfeature = rbind(fb, aapl, amzn, nflx, googl)\n",
        "\n",
        "fullfeature"
      ],
      "execution_count": 22,
      "outputs": [
        {
          "output_type": "display_data",
          "data": {
            "text/plain": [
              "      ticker dtparams dtRMSE   dtRMSESD dtMAE    dtMAESD  dtImp1       \n",
              "fb    FB     6e-04    2238791  1441865  1430356  770896.2 retailvollag2\n",
              "aapl  AAPL   0.0089   13117914 4022277  9777528  3470345  retailvollag2\n",
              "amzn  AMZN   2e-04    363045.1 271180   243768.3 172565.1 retailvollag2\n",
              "nflx  NFLX   1e-04    881995   595823.2 552034   300157.7 retailvollag2\n",
              "googl GOOGL  0        136557.4 98796.63 94775.24 75454.21 retailvollag2\n",
              "      dtImp2        dtImp3        dtImp4        ⋯ rfparams rfRMSE   rfRMSESD\n",
              "fb    retailvol     retailvollag1 vol           ⋯ 22       1711305  1033694 \n",
              "aapl  retailvollag4 retailvol     retailvollag1 ⋯ 22       10764567 3867481 \n",
              "amzn  retailvollag4 retailvol     retailvollag1 ⋯ 22       293086.6 213449.4\n",
              "nflx  vol           retailvol     retailvollag4 ⋯ 22       796360   564894.9\n",
              "googl retailvollag4 retailvol     retailvollag1 ⋯ 22       98709.28 57259.47\n",
              "      rfMAE    rfMAESD  rfImp1 rfImp2        rfImp3       rfImp4      \n",
              "fb    1059662  468620.6 vol    newssentiment newsmentions twtrmentions\n",
              "aapl  7589728  2757691  vol    newssentiment newsmentions twtrmentions\n",
              "amzn  198472.5 124730.5 vol    newssentiment newsmentions twtrmentions\n",
              "nflx  477807.5 266554.4 vol    newssentiment newsmentions twtrmentions\n",
              "googl 67722.07 40860.34 vol    newssentiment newsmentions twtrmentions\n",
              "      rfImp5       \n",
              "fb    twtrsentiment\n",
              "aapl  twtrsentiment\n",
              "amzn  twtrsentiment\n",
              "nflx  twtrsentiment\n",
              "googl twtrsentiment"
            ],
            "text/latex": "A matrix: 5 × 21\n\\begin{tabular}{r|lllllllllllllllllllll}\n  & ticker & dtparams & dtRMSE & dtRMSESD & dtMAE & dtMAESD & dtImp1 & dtImp2 & dtImp3 & dtImp4 & ⋯ & rfparams & rfRMSE & rfRMSESD & rfMAE & rfMAESD & rfImp1 & rfImp2 & rfImp3 & rfImp4 & rfImp5\\\\\n  & <chr> & <chr> & <chr> & <chr> & <chr> & <named list> & <named list> & <named list> & <named list> & <named list> & ⋯ & <chr> & <chr> & <chr> & <chr> & <chr> & <chr> & <chr> & <chr> & <chr> & <chr>\\\\\n\\hline\n\tfb & FB & 6e-04 & 2238791 & 1441865 & 1430356 & 770896.2 & retailvollag2 & retailvol & retailvollag1 & vol & ⋯ & 22 & 1711305 & 1033694 & 1059662 & 468620.6 & vol & newssentiment & newsmentions & twtrmentions & twtrsentiment\\\\\n\taapl & AAPL & 0.0089 & 13117914 & 4022277 & 9777528 & 3470345 & retailvollag2 & retailvollag4 & retailvol & retailvollag1 & ⋯ & 22 & 10764567 & 3867481 & 7589728 & 2757691 & vol & newssentiment & newsmentions & twtrmentions & twtrsentiment\\\\\n\tamzn & AMZN & 2e-04 & 363045.1 & 271180 & 243768.3 & 172565.1 & retailvollag2 & retailvollag4 & retailvol & retailvollag1 & ⋯ & 22 & 293086.6 & 213449.4 & 198472.5 & 124730.5 & vol & newssentiment & newsmentions & twtrmentions & twtrsentiment\\\\\n\tnflx & NFLX & 1e-04 & 881995 & 595823.2 & 552034 & 300157.7 & retailvollag2 & vol & retailvol & retailvollag4 & ⋯ & 22 & 796360 & 564894.9 & 477807.5 & 266554.4 & vol & newssentiment & newsmentions & twtrmentions & twtrsentiment\\\\\n\tgoogl & GOOGL & 0 & 136557.4 & 98796.63 & 94775.24 & 75454.21 & retailvollag2 & retailvollag4 & retailvol & retailvollag1 & ⋯ & 22 & 98709.28 & 57259.47 & 67722.07 & 40860.34 & vol & newssentiment & newsmentions & twtrmentions & twtrsentiment\\\\\n\\end{tabular}\n",
            "text/markdown": "\nA matrix: 5 × 21\n\n| <!--/--> | ticker &lt;chr&gt; | dtparams &lt;chr&gt; | dtRMSE &lt;chr&gt; | dtRMSESD &lt;chr&gt; | dtMAE &lt;chr&gt; | dtMAESD &lt;named list&gt; | dtImp1 &lt;named list&gt; | dtImp2 &lt;named list&gt; | dtImp3 &lt;named list&gt; | dtImp4 &lt;named list&gt; | ⋯ ⋯ | rfparams &lt;chr&gt; | rfRMSE &lt;chr&gt; | rfRMSESD &lt;chr&gt; | rfMAE &lt;chr&gt; | rfMAESD &lt;chr&gt; | rfImp1 &lt;chr&gt; | rfImp2 &lt;chr&gt; | rfImp3 &lt;chr&gt; | rfImp4 &lt;chr&gt; | rfImp5 &lt;chr&gt; |\n|---|---|---|---|---|---|---|---|---|---|---|---|---|---|---|---|---|---|---|---|---|---|\n| fb | FB | 6e-04 | 2238791 | 1441865 | 1430356 | 770896.2 | retailvollag2 | retailvol | retailvollag1 | vol | ⋯ | 22 | 1711305 | 1033694 | 1059662 | 468620.6 | vol | newssentiment | newsmentions | twtrmentions | twtrsentiment |\n| aapl | AAPL | 0.0089 | 13117914 | 4022277 | 9777528 | 3470345 | retailvollag2 | retailvollag4 | retailvol | retailvollag1 | ⋯ | 22 | 10764567 | 3867481 | 7589728 | 2757691 | vol | newssentiment | newsmentions | twtrmentions | twtrsentiment |\n| amzn | AMZN | 2e-04 | 363045.1 | 271180 | 243768.3 | 172565.1 | retailvollag2 | retailvollag4 | retailvol | retailvollag1 | ⋯ | 22 | 293086.6 | 213449.4 | 198472.5 | 124730.5 | vol | newssentiment | newsmentions | twtrmentions | twtrsentiment |\n| nflx | NFLX | 1e-04 | 881995 | 595823.2 | 552034 | 300157.7 | retailvollag2 | vol | retailvol | retailvollag4 | ⋯ | 22 | 796360 | 564894.9 | 477807.5 | 266554.4 | vol | newssentiment | newsmentions | twtrmentions | twtrsentiment |\n| googl | GOOGL | 0 | 136557.4 | 98796.63 | 94775.24 | 75454.21 | retailvollag2 | retailvollag4 | retailvol | retailvollag1 | ⋯ | 22 | 98709.28 | 57259.47 | 67722.07 | 40860.34 | vol | newssentiment | newsmentions | twtrmentions | twtrsentiment |\n\n",
            "text/html": [
              "<table class=\"dataframe\">\n",
              "<caption>A matrix: 5 × 21</caption>\n",
              "<thead>\n",
              "\t<tr><th></th><th scope=col>ticker</th><th scope=col>dtparams</th><th scope=col>dtRMSE</th><th scope=col>dtRMSESD</th><th scope=col>dtMAE</th><th scope=col>dtMAESD</th><th scope=col>dtImp1</th><th scope=col>dtImp2</th><th scope=col>dtImp3</th><th scope=col>dtImp4</th><th scope=col>⋯</th><th scope=col>rfparams</th><th scope=col>rfRMSE</th><th scope=col>rfRMSESD</th><th scope=col>rfMAE</th><th scope=col>rfMAESD</th><th scope=col>rfImp1</th><th scope=col>rfImp2</th><th scope=col>rfImp3</th><th scope=col>rfImp4</th><th scope=col>rfImp5</th></tr>\n",
              "\t<tr><th></th><th scope=col>&lt;chr&gt;</th><th scope=col>&lt;chr&gt;</th><th scope=col>&lt;chr&gt;</th><th scope=col>&lt;chr&gt;</th><th scope=col>&lt;chr&gt;</th><th scope=col>&lt;named list&gt;</th><th scope=col>&lt;named list&gt;</th><th scope=col>&lt;named list&gt;</th><th scope=col>&lt;named list&gt;</th><th scope=col>&lt;named list&gt;</th><th scope=col>⋯</th><th scope=col>&lt;chr&gt;</th><th scope=col>&lt;chr&gt;</th><th scope=col>&lt;chr&gt;</th><th scope=col>&lt;chr&gt;</th><th scope=col>&lt;chr&gt;</th><th scope=col>&lt;chr&gt;</th><th scope=col>&lt;chr&gt;</th><th scope=col>&lt;chr&gt;</th><th scope=col>&lt;chr&gt;</th><th scope=col>&lt;chr&gt;</th></tr>\n",
              "</thead>\n",
              "<tbody>\n",
              "\t<tr><th scope=row>fb</th><td>FB</td><td>6e-04</td><td>2238791</td><td>1441865</td><td>1430356</td><td>770896.2</td><td>retailvollag2</td><td>retailvol</td><td>retailvollag1</td><td>vol</td><td>⋯</td><td>22</td><td>1711305</td><td>1033694</td><td>1059662</td><td>468620.6</td><td>vol</td><td>newssentiment</td><td>newsmentions</td><td>twtrmentions</td><td>twtrsentiment</td></tr>\n",
              "\t<tr><th scope=row>aapl</th><td>AAPL</td><td>0.0089</td><td>13117914</td><td>4022277</td><td>9777528</td><td>3470345</td><td>retailvollag2</td><td>retailvollag4</td><td>retailvol</td><td>retailvollag1</td><td>⋯</td><td>22</td><td>10764567</td><td>3867481</td><td>7589728</td><td>2757691</td><td>vol</td><td>newssentiment</td><td>newsmentions</td><td>twtrmentions</td><td>twtrsentiment</td></tr>\n",
              "\t<tr><th scope=row>amzn</th><td>AMZN</td><td>2e-04</td><td>363045.1</td><td>271180</td><td>243768.3</td><td>172565.1</td><td>retailvollag2</td><td>retailvollag4</td><td>retailvol</td><td>retailvollag1</td><td>⋯</td><td>22</td><td>293086.6</td><td>213449.4</td><td>198472.5</td><td>124730.5</td><td>vol</td><td>newssentiment</td><td>newsmentions</td><td>twtrmentions</td><td>twtrsentiment</td></tr>\n",
              "\t<tr><th scope=row>nflx</th><td>NFLX</td><td>1e-04</td><td>881995</td><td>595823.2</td><td>552034</td><td>300157.7</td><td>retailvollag2</td><td>vol</td><td>retailvol</td><td>retailvollag4</td><td>⋯</td><td>22</td><td>796360</td><td>564894.9</td><td>477807.5</td><td>266554.4</td><td>vol</td><td>newssentiment</td><td>newsmentions</td><td>twtrmentions</td><td>twtrsentiment</td></tr>\n",
              "\t<tr><th scope=row>googl</th><td>GOOGL</td><td>0</td><td>136557.4</td><td>98796.63</td><td>94775.24</td><td>75454.21</td><td>retailvollag2</td><td>retailvollag4</td><td>retailvol</td><td>retailvollag1</td><td>⋯</td><td>22</td><td>98709.28</td><td>57259.47</td><td>67722.07</td><td>40860.34</td><td>vol</td><td>newssentiment</td><td>newsmentions</td><td>twtrmentions</td><td>twtrsentiment</td></tr>\n",
              "</tbody>\n",
              "</table>\n"
            ]
          },
          "metadata": {}
        }
      ]
    },
    {
      "cell_type": "code",
      "metadata": {
        "id": "d-LERqyNYPsd",
        "colab": {
          "base_uri": "https://localhost:8080/",
          "height": 275
        },
        "outputId": "c3444fd3-200f-4c88-e29c-6b81c390152f"
      },
      "source": [
        "fb_xgb = run_xgb(\"FB\", full_feature)\n",
        "aapl_xgb = run_xgb(\"AAPL\", full_feature)\n",
        "amzn_xgb = run_xgb(\"AMZN\", full_feature)\n",
        "nflx_xgb = run_xgb(\"NFLX\", full_feature)\n",
        "googl_xgb = run_xgb(\"GOOGL\", full_feature)\n",
        "\n",
        "fullfeature_xgb = rbind(fb_xgb, aapl_xgb, amzn_xgb, nflx_xgb, googl_xgb)\n",
        "\n",
        "fullfeature_xgb"
      ],
      "execution_count": 19,
      "outputs": [
        {
          "output_type": "display_data",
          "data": {
            "text/plain": [
              "          ticker xgbmaxdepth xgbgamma xgbeta xgbsubsample xgbRMSE  xgbRMSESD\n",
              "fb_xgb    FB     7           0        0.05   0.5          1419172  917944.2 \n",
              "aapl_xgb  AAPL   6           0.05     0.05   0.5          9940415  3835115  \n",
              "amzn_xgb  AMZN   6           0        0.05   0.5          268617.2 229176.6 \n",
              "nflx_xgb  NFLX   6           0        0.05   0.5          706347.5 530455.1 \n",
              "googl_xgb GOOGL  7           0.05     0.05   0.5          74027.26 45309    \n",
              "          xgbMAE   xgbMAESD xgbImp1       xgbImp2       xgbImp3         \n",
              "fb_xgb    844184.9 340236.2 retailvollag2 retailvollag4 twtrmentionslag1\n",
              "aapl_xgb  6604849  2525869  retailvollag2 retailvollag4 retailvol       \n",
              "amzn_xgb  177374.7 127908.7 retailvollag2 retailvol     retailvollag4   \n",
              "nflx_xgb  416535.8 252120.3 retailvollag2 retailvol     twtrmentions5MA \n",
              "googl_xgb 50942.04 32592.22 retailvollag2 retailvol     twtrmentions    \n",
              "          xgbImp4       xgbImp5      \n",
              "fb_xgb    retailvol     vol          \n",
              "aapl_xgb  twtrmentions  vol          \n",
              "amzn_xgb  vol           retailperc   \n",
              "nflx_xgb  retailvollag4 twtrmentions \n",
              "googl_xgb retailperc    retailvollag4"
            ],
            "text/latex": "A matrix: 5 × 14\n\\begin{tabular}{r|llllllllllllll}\n  & ticker & xgbmaxdepth & xgbgamma & xgbeta & xgbsubsample & xgbRMSE & xgbRMSESD & xgbMAE & xgbMAESD & xgbImp1 & xgbImp2 & xgbImp3 & xgbImp4 & xgbImp5\\\\\n  & <chr> & <chr> & <chr> & <chr> & <chr> & <int> & <int> & <int> & <int> & <int> & ⋯ & <chr> & <chr> & <chr> & <chr> & <chr> & <chr> & <chr> & <chr> & <chr> & <chr>\\\\\n\\hline\n\tfb\\_xgb & FB & 7 & 0 & 0.05 & 0.5 & 1419172 & 917944.2 & 844184.9 & 340236.2 & retailvollag2 & retailvollag4 & twtrmentionslag1 & retailvol & vol\\\\\n\taapl\\_xgb & AAPL & 6 & 0.05 & 0.05 & 0.5 & 9940415 & 3835115 & 6604849 & 2525869 & retailvollag2 & retailvollag4 & retailvol & twtrmentions & vol\\\\\n\tamzn\\_xgb & AMZN & 6 & 0 & 0.05 & 0.5 & 268617.2 & 229176.6 & 177374.7 & 127908.7 & retailvollag2 & retailvol & retailvollag4 & vol & retailperc\\\\\n\tnflx\\_xgb & NFLX & 6 & 0 & 0.05 & 0.5 & 706347.5 & 530455.1 & 416535.8 & 252120.3 & retailvollag2 & retailvol & twtrmentions5MA & retailvollag4 & twtrmentions\\\\\n\tgoogl\\_xgb & GOOGL & 7 & 0.05 & 0.05 & 0.5 & 74027.26 & 45309 & 50942.04 & 32592.22 & retailvollag2 & retailvol & twtrmentions & retailperc & retailvollag4\\\\\n\\end{tabular}\n",
            "text/markdown": "\nA matrix: 5 × 14\n\n| <!--/--> | ticker &lt;chr&gt; | xgbmaxdepth &lt;chr&gt; | xgbgamma &lt;chr&gt; | xgbeta &lt;chr&gt; | xgbsubsample &lt;chr&gt; | xgbRMSE &lt;int&gt; | xgbRMSESD &lt;int&gt; | xgbMAE &lt;int&gt; | xgbMAESD &lt;int&gt; | xgbImp1 &lt;int&gt; | xgbImp2 ⋯ | xgbImp3 &lt;chr&gt; | xgbImp4 &lt;chr&gt; | xgbImp5 &lt;chr&gt; | ticker &lt;chr&gt; | xgbmaxdepth &lt;chr&gt; | xgbgamma &lt;chr&gt; | xgbeta &lt;chr&gt; | xgbsubsample &lt;chr&gt; | xgbRMSE &lt;chr&gt; | xgbRMSESD &lt;chr&gt; |\n|---|---|---|---|---|---|---|---|---|---|---|---|---|---|---|\n| fb_xgb | FB | 7 | 0 | 0.05 | 0.5 | 1419172 | 917944.2 | 844184.9 | 340236.2 | retailvollag2 | retailvollag4 | twtrmentionslag1 | retailvol | vol |\n| aapl_xgb | AAPL | 6 | 0.05 | 0.05 | 0.5 | 9940415 | 3835115 | 6604849 | 2525869 | retailvollag2 | retailvollag4 | retailvol | twtrmentions | vol |\n| amzn_xgb | AMZN | 6 | 0 | 0.05 | 0.5 | 268617.2 | 229176.6 | 177374.7 | 127908.7 | retailvollag2 | retailvol | retailvollag4 | vol | retailperc |\n| nflx_xgb | NFLX | 6 | 0 | 0.05 | 0.5 | 706347.5 | 530455.1 | 416535.8 | 252120.3 | retailvollag2 | retailvol | twtrmentions5MA | retailvollag4 | twtrmentions |\n| googl_xgb | GOOGL | 7 | 0.05 | 0.05 | 0.5 | 74027.26 | 45309 | 50942.04 | 32592.22 | retailvollag2 | retailvol | twtrmentions | retailperc | retailvollag4 |\n\n",
            "text/html": [
              "<table class=\"dataframe\">\n",
              "<caption>A matrix: 5 × 14</caption>\n",
              "<thead>\n",
              "\t<tr><th></th><th scope=col>ticker</th><th scope=col>xgbmaxdepth</th><th scope=col>xgbgamma</th><th scope=col>xgbeta</th><th scope=col>xgbsubsample</th><th scope=col>xgbRMSE</th><th scope=col>xgbRMSESD</th><th scope=col>xgbMAE</th><th scope=col>xgbMAESD</th><th scope=col>xgbImp1</th><th scope=col>xgbImp2</th><th scope=col>xgbImp3</th><th scope=col>xgbImp4</th><th scope=col>xgbImp5</th></tr>\n",
              "\t<tr><th></th><th scope=col>&lt;chr&gt;</th><th scope=col>&lt;chr&gt;</th><th scope=col>&lt;chr&gt;</th><th scope=col>&lt;chr&gt;</th><th scope=col>&lt;chr&gt;</th><th scope=col>&lt;int&gt;</th><th scope=col>&lt;int&gt;</th><th scope=col>&lt;int&gt;</th><th scope=col>&lt;int&gt;</th><th scope=col>&lt;int&gt;</th><th scope=col>⋯</th><th scope=col>&lt;chr&gt;</th><th scope=col>&lt;chr&gt;</th><th scope=col>&lt;chr&gt;</th><th scope=col>&lt;chr&gt;</th><th scope=col>&lt;chr&gt;</th><th scope=col>&lt;chr&gt;</th><th scope=col>&lt;chr&gt;</th><th scope=col>&lt;chr&gt;</th><th scope=col>&lt;chr&gt;</th><th scope=col>&lt;chr&gt;</th></tr>\n",
              "</thead>\n",
              "<tbody>\n",
              "\t<tr><th scope=row>fb_xgb</th><td>FB</td><td>7</td><td>0</td><td>0.05</td><td>0.5</td><td>1419172</td><td>917944.2</td><td>844184.9</td><td>340236.2</td><td>retailvollag2</td><td>retailvollag4</td><td>twtrmentionslag1</td><td>retailvol</td><td>vol</td></tr>\n",
              "\t<tr><th scope=row>aapl_xgb</th><td>AAPL</td><td>6</td><td>0.05</td><td>0.05</td><td>0.5</td><td>9940415</td><td>3835115</td><td>6604849</td><td>2525869</td><td>retailvollag2</td><td>retailvollag4</td><td>retailvol</td><td>twtrmentions</td><td>vol</td></tr>\n",
              "\t<tr><th scope=row>amzn_xgb</th><td>AMZN</td><td>6</td><td>0</td><td>0.05</td><td>0.5</td><td>268617.2</td><td>229176.6</td><td>177374.7</td><td>127908.7</td><td>retailvollag2</td><td>retailvol</td><td>retailvollag4</td><td>vol</td><td>retailperc</td></tr>\n",
              "\t<tr><th scope=row>nflx_xgb</th><td>NFLX</td><td>6</td><td>0</td><td>0.05</td><td>0.5</td><td>706347.5</td><td>530455.1</td><td>416535.8</td><td>252120.3</td><td>retailvollag2</td><td>retailvol</td><td>twtrmentions5MA</td><td>retailvollag4</td><td>twtrmentions</td></tr>\n",
              "\t<tr><th scope=row>googl_xgb</th><td>GOOGL</td><td>7</td><td>0.05</td><td>0.05</td><td>0.5</td><td>74027.26</td><td>45309</td><td>50942.04</td><td>32592.22</td><td>retailvollag2</td><td>retailvol</td><td>twtrmentions</td><td>retailperc</td><td>retailvollag4</td></tr>\n",
              "</tbody>\n",
              "</table>\n"
            ]
          },
          "metadata": {}
        }
      ]
    },
    {
      "cell_type": "code",
      "metadata": {
        "id": "MPCc6ss9qubU"
      },
      "source": [
        "fullfeature %>% write.csv(\"fullfeature_dtrf.csv\")\n",
        "fullfeature_xgb %>% write.csv(\"fullfeature_xgb.csv\")"
      ],
      "execution_count": 25,
      "outputs": []
    }
  ]
}