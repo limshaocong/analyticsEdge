{
  "nbformat": 4,
  "nbformat_minor": 0,
  "metadata": {
    "colab": {
      "name": "WRDS Data Collection.ipynb",
      "provenance": [],
      "collapsed_sections": [],
      "authorship_tag": "ABX9TyONZQbIWHyHK/nHgpO+ecAE",
      "include_colab_link": true
    },
    "kernelspec": {
      "name": "python3",
      "display_name": "Python 3"
    },
    "language_info": {
      "name": "python"
    }
  },
  "cells": [
    {
      "cell_type": "markdown",
      "metadata": {
        "id": "view-in-github",
        "colab_type": "text"
      },
      "source": [
        "<a href=\"https://colab.research.google.com/github/limshaocong/analyticsEdge/blob/main/WRDS_Data_Collection.ipynb\" target=\"_parent\"><img src=\"https://colab.research.google.com/assets/colab-badge.svg\" alt=\"Open In Colab\"/></a>"
      ]
    },
    {
      "cell_type": "code",
      "metadata": {
        "colab": {
          "base_uri": "https://localhost:8080/"
        },
        "id": "8w9RDiH0eYN_",
        "outputId": "75d48f5c-dd7c-48b7-dcb7-c845b91ec785"
      },
      "source": [
        "!pip install wrds"
      ],
      "execution_count": null,
      "outputs": [
        {
          "output_type": "stream",
          "name": "stdout",
          "text": [
            "Collecting wrds\n",
            "  Downloading wrds-3.1.1-py3-none-any.whl (12 kB)\n",
            "Requirement already satisfied: pandas in /usr/local/lib/python3.7/dist-packages (from wrds) (1.1.5)\n",
            "Collecting psycopg2-binary\n",
            "  Downloading psycopg2_binary-2.9.1-cp37-cp37m-manylinux_2_17_x86_64.manylinux2014_x86_64.whl (3.4 MB)\n",
            "\u001b[K     |████████████████████████████████| 3.4 MB 39.2 MB/s \n",
            "\u001b[?25hRequirement already satisfied: numpy in /usr/local/lib/python3.7/dist-packages (from wrds) (1.19.5)\n",
            "Collecting mock\n",
            "  Downloading mock-4.0.3-py3-none-any.whl (28 kB)\n",
            "Requirement already satisfied: sqlalchemy in /usr/local/lib/python3.7/dist-packages (from wrds) (1.4.26)\n",
            "Requirement already satisfied: python-dateutil>=2.7.3 in /usr/local/lib/python3.7/dist-packages (from pandas->wrds) (2.8.2)\n",
            "Requirement already satisfied: pytz>=2017.2 in /usr/local/lib/python3.7/dist-packages (from pandas->wrds) (2018.9)\n",
            "Requirement already satisfied: six>=1.5 in /usr/local/lib/python3.7/dist-packages (from python-dateutil>=2.7.3->pandas->wrds) (1.15.0)\n",
            "Requirement already satisfied: greenlet!=0.4.17 in /usr/local/lib/python3.7/dist-packages (from sqlalchemy->wrds) (1.1.2)\n",
            "Requirement already satisfied: importlib-metadata in /usr/local/lib/python3.7/dist-packages (from sqlalchemy->wrds) (4.8.1)\n",
            "Requirement already satisfied: zipp>=0.5 in /usr/local/lib/python3.7/dist-packages (from importlib-metadata->sqlalchemy->wrds) (3.6.0)\n",
            "Requirement already satisfied: typing-extensions>=3.6.4 in /usr/local/lib/python3.7/dist-packages (from importlib-metadata->sqlalchemy->wrds) (3.10.0.2)\n",
            "Installing collected packages: psycopg2-binary, mock, wrds\n",
            "Successfully installed mock-4.0.3 psycopg2-binary-2.9.1 wrds-3.1.1\n"
          ]
        }
      ]
    },
    {
      "cell_type": "code",
      "metadata": {
        "colab": {
          "base_uri": "https://localhost:8080/"
        },
        "id": "6yiJf11KlhzI",
        "outputId": "e4a95bee-0319-4639-8a6f-59355f19fd8c"
      },
      "source": [
        "import wrds\n",
        "db = wrds.Connection(wrds_username = \"limsc\")\n",
        "db.create_pgpass_file()"
      ],
      "execution_count": null,
      "outputs": [
        {
          "output_type": "stream",
          "name": "stdout",
          "text": [
            "Enter your WRDS username [limsc]:limsc\n",
            "Enter your password:··········\n",
            "WRDS recommends setting up a .pgpass file.\n",
            "Create .pgpass file now [y/n]?: y\n",
            "Created .pgpass file successfully.\n",
            "Loading library list...\n",
            "Done\n"
          ]
        }
      ]
    },
    {
      "cell_type": "code",
      "metadata": {
        "colab": {
          "base_uri": "https://localhost:8080/"
        },
        "id": "ctyBYipOp0Ib",
        "outputId": "f5a752f8-1dec-4084-db60-7b6975bbab46"
      },
      "source": [
        "import pandas as pd\n",
        "tickers = pd.read_csv(\"Russell 3000 Tickers.csv\", dtype = str)\n",
        "tickers = tickers[\"Ticker\"].tolist()\n",
        "len(tickers)"
      ],
      "execution_count": null,
      "outputs": [
        {
          "output_type": "execute_result",
          "data": {
            "text/plain": [
              "2958"
            ]
          },
          "metadata": {},
          "execution_count": 5
        }
      ]
    },
    {
      "cell_type": "code",
      "metadata": {
        "id": "PlOXIKESmDxe"
      },
      "source": [
        "db.list_libraries()\n",
        "libs = [\"ravenpack_common\", \"ravenpack_dj\", \"ravenpack_pr\"]"
      ],
      "execution_count": null,
      "outputs": []
    },
    {
      "cell_type": "code",
      "metadata": {
        "id": "QJk1r3SbvbJG"
      },
      "source": [
        "company_mapping = db.get_table(library = \"ravenpack_common\",\n",
        "                               table = \"wrds_company_mapping\")"
      ],
      "execution_count": null,
      "outputs": []
    },
    {
      "cell_type": "code",
      "metadata": {
        "id": "9PCR9hcRniJi"
      },
      "source": [
        "company_mapping[\"ticker\"] = company_mapping[\"ticker\"].astype(str)\n",
        "company_mapping[\"country\"] = company_mapping[\"isin\"].str[:2]\n",
        "company_mapping = company_mapping[company_mapping[\"ticker\"].isin(tickers) &\n",
        "                                  company_mapping[\"country\"].isin([\"US\"])]\n",
        "\n",
        "ravenpack_entityIDs = set(company_mapping[\"rp_entity_id\"])"
      ],
      "execution_count": null,
      "outputs": []
    },
    {
      "cell_type": "code",
      "metadata": {
        "colab": {
          "base_uri": "https://localhost:8080/"
        },
        "id": "52z1BpqF3dS_",
        "outputId": "295fd190-e692-408b-d4cb-62c6e154da74"
      },
      "source": [
        "rp_dj_tables = db.list_tables(library = \"ravenpack_dj\")[18:22]\n",
        "rp_dj_tables"
      ],
      "execution_count": null,
      "outputs": [
        {
          "output_type": "execute_result",
          "data": {
            "text/plain": [
              "['dj_equities_2018',\n",
              " 'dj_equities_2019',\n",
              " 'dj_equities_2020',\n",
              " 'dj_equities_2021']"
            ]
          },
          "metadata": {},
          "execution_count": 9
        }
      ]
    },
    {
      "cell_type": "code",
      "metadata": {
        "colab": {
          "base_uri": "https://localhost:8080/"
        },
        "id": "086fdG1T06gU",
        "outputId": "92b96606-01cd-4e3d-d30a-d80dd7f05641"
      },
      "source": [
        "\"\"\"\n",
        "LONG EXECUTION TIME\n",
        "\"\"\"\n",
        "\n",
        "yr = 2018\n",
        "\n",
        "for i in range(4):\n",
        "  raw = db.get_table(library = \"ravenpack_dj\",\n",
        "                     table = rp_dj_tables[i],\n",
        "                     columns = [\"rp_entity_id\", \"entity_name\", \"category\", \"relevance\", \"ess\", \"rpna_date_utc\", \"timestamp_utc\"])\n",
        "  \n",
        "  clean = raw[raw[\"rp_entity_id\"].isin(ravenpack_entityIDs) &\n",
        "              raw[\"ess\"] > 0]\n",
        "  \n",
        "  name = \"dj_rp_\" + str(yr) + \".csv\"\n",
        "  clean.to_csv(name)\n",
        "  yr = yr + 1\n",
        "  print(name)"
      ],
      "execution_count": null,
      "outputs": [
        {
          "output_type": "stream",
          "name": "stdout",
          "text": [
            "dj_rp_2018.csv\n",
            "dj_rp_2019.csv\n",
            "dj_rp_2020.csv\n",
            "dj_rp_2021.csv\n"
          ]
        }
      ]
    }
  ]
}